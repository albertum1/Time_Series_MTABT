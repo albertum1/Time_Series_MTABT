{
 "cells": [
  {
   "cell_type": "markdown",
   "metadata": {},
   "source": [
    "# Model Notebook\n",
    "Feature Engineering:\n",
    " - Datetime extraction\n",
    " - Introduce Phases\n",
    " - Use predicted average daily temperature to help fit model.\n",
    "\n",
    "I have decided to implement 3 different models. The model that returns the best average(weighted) of mean percentage errors(per crossing) will get to predict the future.\n",
    "1. SARIMAX\n",
    "2. FBProphet\n",
    "3. LightGBM"
   ]
  },
  {
   "cell_type": "code",
   "execution_count": 1,
   "metadata": {},
   "outputs": [],
   "source": [
    "import datetime\n",
    "import pandas as pd\n",
    "import numpy as np\n",
    "import matplotlib.pyplot as plt\n",
    "import seaborn as sns\n",
    "%matplotlib inline\n",
    "import holidays\n",
    "\n",
    "# For SARIMAX\n",
    "from tqdm import tqdm\n",
    "from pmdarima import auto_arima\n",
    "from statsmodels.tsa.statespace.sarimax import SARIMAX\n",
    "import statsmodels.api as sm\n",
    "from sklearn.metrics import mean_squared_error\n",
    "from sklearn.preprocessing import OneHotEncoder, LabelEncoder\n",
    "\n",
    "# For FBProphet\n",
    "from fbprophet import Prophet\n",
    "\n",
    "# For LightGBM\n",
    "import lightgbm as lgb\n",
    "from sklearn.model_selection import train_test_split\n",
    "import optuna"
   ]
  },
  {
   "cell_type": "markdown",
   "metadata": {},
   "source": [
    "### Data Preprocessing\n",
    "The original dataset can be found from data.ny.gov and time ranges from 2010-2020. <br>\n",
    "https://data.ny.gov/Transportation/Hourly-Traffic-on-Metropolitan-Transportation-Auth/qzve-kjga <br>\n",
    "The counts are in hourly form and need to be resampled to Daily.\n",
    "In addition, the bridges('plaza_id') are coded numerically and need to be renamed. <br>\n",
    "Please note: I have combined Triboro Manhattan and Triboro Bronx into Triboro.\n",
    "\n",
    "On 2017, NYC finished installing cashless tolls. I will, therefore, use data from 2018 and on because data was collected differently prior to 2017."
   ]
  },
  {
   "cell_type": "code",
   "execution_count": null,
   "metadata": {},
   "outputs": [],
   "source": []
  },
  {
   "cell_type": "code",
   "execution_count": null,
   "metadata": {},
   "outputs": [],
   "source": []
  },
  {
   "cell_type": "code",
   "execution_count": 4,
   "metadata": {},
   "outputs": [],
   "source": [
    "df = return_series('mta.csv')\n"
   ]
  },
  {
   "cell_type": "code",
   "execution_count": null,
   "metadata": {},
   "outputs": [],
   "source": []
  },
  {
   "cell_type": "code",
   "execution_count": null,
   "metadata": {},
   "outputs": [],
   "source": []
  },
  {
   "cell_type": "code",
   "execution_count": null,
   "metadata": {},
   "outputs": [],
   "source": []
  },
  {
   "cell_type": "code",
   "execution_count": null,
   "metadata": {},
   "outputs": [],
   "source": []
  },
  {
   "cell_type": "code",
   "execution_count": null,
   "metadata": {},
   "outputs": [],
   "source": []
  },
  {
   "cell_type": "code",
   "execution_count": null,
   "metadata": {},
   "outputs": [],
   "source": []
  },
  {
   "cell_type": "code",
   "execution_count": null,
   "metadata": {},
   "outputs": [],
   "source": []
  },
  {
   "cell_type": "markdown",
   "metadata": {},
   "source": [
    "### 9 Toll Bridges in NYC\n",
    "\n",
    "There are some days when there were 0 crossings over bridges. (missing values). <br> For this project, I have decided to fill the missing values with the previous day count. <br>\n",
    "\n",
    "\n",
    "\n"
   ]
  },
  {
   "cell_type": "code",
   "execution_count": 8,
   "metadata": {},
   "outputs": [],
   "source": [
    "\n",
    "_df = df['2018':].copy()\n",
    "for i in _df.columns:\n",
    "    _df[i] = _df[i].replace(to_replace=0, method='ffill')"
   ]
  },
  {
   "cell_type": "code",
   "execution_count": 9,
   "metadata": {},
   "outputs": [
    {
     "data": {
      "text/html": [
       "<div>\n",
       "<style scoped>\n",
       "    .dataframe tbody tr th:only-of-type {\n",
       "        vertical-align: middle;\n",
       "    }\n",
       "\n",
       "    .dataframe tbody tr th {\n",
       "        vertical-align: top;\n",
       "    }\n",
       "\n",
       "    .dataframe thead tr th {\n",
       "        text-align: left;\n",
       "    }\n",
       "\n",
       "    .dataframe thead tr:last-of-type th {\n",
       "        text-align: right;\n",
       "    }\n",
       "</style>\n",
       "<table border=\"1\" class=\"dataframe\">\n",
       "  <thead>\n",
       "    <tr>\n",
       "      <th>plaza_id</th>\n",
       "      <th colspan=\"2\" halign=\"left\">Brooklyn Battery</th>\n",
       "      <th colspan=\"2\" halign=\"left\">Cross Bay</th>\n",
       "      <th colspan=\"2\" halign=\"left\">Henry Hudson</th>\n",
       "      <th colspan=\"2\" halign=\"left\">Marine Parkway</th>\n",
       "      <th colspan=\"2\" halign=\"left\">Queens Midtown</th>\n",
       "      <th colspan=\"2\" halign=\"left\">Throgs Neck</th>\n",
       "      <th colspan=\"2\" halign=\"left\">Triboro</th>\n",
       "      <th colspan=\"2\" halign=\"left\">Verrazano</th>\n",
       "      <th colspan=\"2\" halign=\"left\">Whitestone</th>\n",
       "    </tr>\n",
       "    <tr>\n",
       "      <th>variable</th>\n",
       "      <th>cash</th>\n",
       "      <th>ezpass</th>\n",
       "      <th>cash</th>\n",
       "      <th>ezpass</th>\n",
       "      <th>cash</th>\n",
       "      <th>ezpass</th>\n",
       "      <th>cash</th>\n",
       "      <th>ezpass</th>\n",
       "      <th>cash</th>\n",
       "      <th>ezpass</th>\n",
       "      <th>cash</th>\n",
       "      <th>ezpass</th>\n",
       "      <th>cash</th>\n",
       "      <th>ezpass</th>\n",
       "      <th>cash</th>\n",
       "      <th>ezpass</th>\n",
       "      <th>cash</th>\n",
       "      <th>ezpass</th>\n",
       "    </tr>\n",
       "    <tr>\n",
       "      <th>datetime</th>\n",
       "      <th></th>\n",
       "      <th></th>\n",
       "      <th></th>\n",
       "      <th></th>\n",
       "      <th></th>\n",
       "      <th></th>\n",
       "      <th></th>\n",
       "      <th></th>\n",
       "      <th></th>\n",
       "      <th></th>\n",
       "      <th></th>\n",
       "      <th></th>\n",
       "      <th></th>\n",
       "      <th></th>\n",
       "      <th></th>\n",
       "      <th></th>\n",
       "      <th></th>\n",
       "      <th></th>\n",
       "    </tr>\n",
       "  </thead>\n",
       "  <tbody>\n",
       "    <tr>\n",
       "      <th>2018-01-01</th>\n",
       "      <td>3527</td>\n",
       "      <td>25636</td>\n",
       "      <td>1876</td>\n",
       "      <td>11829</td>\n",
       "      <td>5523</td>\n",
       "      <td>41017</td>\n",
       "      <td>1096</td>\n",
       "      <td>11022</td>\n",
       "      <td>7338</td>\n",
       "      <td>47569</td>\n",
       "      <td>16177</td>\n",
       "      <td>82169</td>\n",
       "      <td>22395</td>\n",
       "      <td>118380</td>\n",
       "      <td>11583</td>\n",
       "      <td>70340</td>\n",
       "      <td>18818</td>\n",
       "      <td>90468</td>\n",
       "    </tr>\n",
       "    <tr>\n",
       "      <th>2018-01-02</th>\n",
       "      <td>4099</td>\n",
       "      <td>43061</td>\n",
       "      <td>2336</td>\n",
       "      <td>19539</td>\n",
       "      <td>5983</td>\n",
       "      <td>54627</td>\n",
       "      <td>1517</td>\n",
       "      <td>18370</td>\n",
       "      <td>6554</td>\n",
       "      <td>60446</td>\n",
       "      <td>12971</td>\n",
       "      <td>93293</td>\n",
       "      <td>20751</td>\n",
       "      <td>144179</td>\n",
       "      <td>9319</td>\n",
       "      <td>86330</td>\n",
       "      <td>14843</td>\n",
       "      <td>102368</td>\n",
       "    </tr>\n",
       "    <tr>\n",
       "      <th>2018-01-03</th>\n",
       "      <td>4326</td>\n",
       "      <td>49679</td>\n",
       "      <td>2593</td>\n",
       "      <td>22014</td>\n",
       "      <td>6113</td>\n",
       "      <td>61870</td>\n",
       "      <td>1635</td>\n",
       "      <td>20432</td>\n",
       "      <td>7071</td>\n",
       "      <td>64654</td>\n",
       "      <td>13045</td>\n",
       "      <td>102907</td>\n",
       "      <td>21182</td>\n",
       "      <td>153968</td>\n",
       "      <td>9110</td>\n",
       "      <td>94396</td>\n",
       "      <td>15263</td>\n",
       "      <td>108711</td>\n",
       "    </tr>\n",
       "    <tr>\n",
       "      <th>2018-01-04</th>\n",
       "      <td>1552</td>\n",
       "      <td>18932</td>\n",
       "      <td>1092</td>\n",
       "      <td>7211</td>\n",
       "      <td>1519</td>\n",
       "      <td>12983</td>\n",
       "      <td>571</td>\n",
       "      <td>5596</td>\n",
       "      <td>2687</td>\n",
       "      <td>23938</td>\n",
       "      <td>3518</td>\n",
       "      <td>24888</td>\n",
       "      <td>7787</td>\n",
       "      <td>56350</td>\n",
       "      <td>3319</td>\n",
       "      <td>34501</td>\n",
       "      <td>4855</td>\n",
       "      <td>33259</td>\n",
       "    </tr>\n",
       "    <tr>\n",
       "      <th>2018-01-05</th>\n",
       "      <td>3103</td>\n",
       "      <td>34904</td>\n",
       "      <td>1900</td>\n",
       "      <td>14939</td>\n",
       "      <td>4700</td>\n",
       "      <td>45150</td>\n",
       "      <td>1102</td>\n",
       "      <td>12827</td>\n",
       "      <td>5465</td>\n",
       "      <td>49688</td>\n",
       "      <td>9585</td>\n",
       "      <td>70892</td>\n",
       "      <td>16429</td>\n",
       "      <td>118824</td>\n",
       "      <td>6841</td>\n",
       "      <td>67534</td>\n",
       "      <td>11586</td>\n",
       "      <td>79643</td>\n",
       "    </tr>\n",
       "    <tr>\n",
       "      <th>...</th>\n",
       "      <td>...</td>\n",
       "      <td>...</td>\n",
       "      <td>...</td>\n",
       "      <td>...</td>\n",
       "      <td>...</td>\n",
       "      <td>...</td>\n",
       "      <td>...</td>\n",
       "      <td>...</td>\n",
       "      <td>...</td>\n",
       "      <td>...</td>\n",
       "      <td>...</td>\n",
       "      <td>...</td>\n",
       "      <td>...</td>\n",
       "      <td>...</td>\n",
       "      <td>...</td>\n",
       "      <td>...</td>\n",
       "      <td>...</td>\n",
       "      <td>...</td>\n",
       "    </tr>\n",
       "    <tr>\n",
       "      <th>2020-10-06</th>\n",
       "      <td>7093</td>\n",
       "      <td>48860</td>\n",
       "      <td>3385</td>\n",
       "      <td>18802</td>\n",
       "      <td>7695</td>\n",
       "      <td>52157</td>\n",
       "      <td>2518</td>\n",
       "      <td>18667</td>\n",
       "      <td>10831</td>\n",
       "      <td>52764</td>\n",
       "      <td>14178</td>\n",
       "      <td>83961</td>\n",
       "      <td>26219</td>\n",
       "      <td>130693</td>\n",
       "      <td>11193</td>\n",
       "      <td>86130</td>\n",
       "      <td>20675</td>\n",
       "      <td>101180</td>\n",
       "    </tr>\n",
       "    <tr>\n",
       "      <th>2020-10-07</th>\n",
       "      <td>7090</td>\n",
       "      <td>48514</td>\n",
       "      <td>3227</td>\n",
       "      <td>18876</td>\n",
       "      <td>8126</td>\n",
       "      <td>53803</td>\n",
       "      <td>2476</td>\n",
       "      <td>17918</td>\n",
       "      <td>11425</td>\n",
       "      <td>56360</td>\n",
       "      <td>14752</td>\n",
       "      <td>86849</td>\n",
       "      <td>26443</td>\n",
       "      <td>134036</td>\n",
       "      <td>11166</td>\n",
       "      <td>86913</td>\n",
       "      <td>20208</td>\n",
       "      <td>99960</td>\n",
       "    </tr>\n",
       "    <tr>\n",
       "      <th>2020-10-08</th>\n",
       "      <td>7313</td>\n",
       "      <td>49405</td>\n",
       "      <td>3313</td>\n",
       "      <td>19392</td>\n",
       "      <td>8370</td>\n",
       "      <td>55294</td>\n",
       "      <td>2559</td>\n",
       "      <td>18748</td>\n",
       "      <td>11800</td>\n",
       "      <td>58204</td>\n",
       "      <td>15760</td>\n",
       "      <td>90958</td>\n",
       "      <td>28160</td>\n",
       "      <td>140175</td>\n",
       "      <td>11907</td>\n",
       "      <td>88834</td>\n",
       "      <td>21469</td>\n",
       "      <td>104514</td>\n",
       "    </tr>\n",
       "    <tr>\n",
       "      <th>2020-10-09</th>\n",
       "      <td>7540</td>\n",
       "      <td>46132</td>\n",
       "      <td>3402</td>\n",
       "      <td>19839</td>\n",
       "      <td>10035</td>\n",
       "      <td>60207</td>\n",
       "      <td>2531</td>\n",
       "      <td>17999</td>\n",
       "      <td>13433</td>\n",
       "      <td>61760</td>\n",
       "      <td>17321</td>\n",
       "      <td>95125</td>\n",
       "      <td>30816</td>\n",
       "      <td>142961</td>\n",
       "      <td>13464</td>\n",
       "      <td>93085</td>\n",
       "      <td>25545</td>\n",
       "      <td>119287</td>\n",
       "    </tr>\n",
       "    <tr>\n",
       "      <th>2020-10-10</th>\n",
       "      <td>6316</td>\n",
       "      <td>34818</td>\n",
       "      <td>3177</td>\n",
       "      <td>16757</td>\n",
       "      <td>10105</td>\n",
       "      <td>51852</td>\n",
       "      <td>2605</td>\n",
       "      <td>16447</td>\n",
       "      <td>12107</td>\n",
       "      <td>48178</td>\n",
       "      <td>19018</td>\n",
       "      <td>91976</td>\n",
       "      <td>32227</td>\n",
       "      <td>132258</td>\n",
       "      <td>14218</td>\n",
       "      <td>85350</td>\n",
       "      <td>26894</td>\n",
       "      <td>111136</td>\n",
       "    </tr>\n",
       "  </tbody>\n",
       "</table>\n",
       "<p>1014 rows × 18 columns</p>\n",
       "</div>"
      ],
      "text/plain": [
       "plaza_id   Brooklyn Battery        Cross Bay        Henry Hudson         \\\n",
       "variable               cash ezpass      cash ezpass         cash ezpass   \n",
       "datetime                                                                  \n",
       "2018-01-01             3527  25636      1876  11829         5523  41017   \n",
       "2018-01-02             4099  43061      2336  19539         5983  54627   \n",
       "2018-01-03             4326  49679      2593  22014         6113  61870   \n",
       "2018-01-04             1552  18932      1092   7211         1519  12983   \n",
       "2018-01-05             3103  34904      1900  14939         4700  45150   \n",
       "...                     ...    ...       ...    ...          ...    ...   \n",
       "2020-10-06             7093  48860      3385  18802         7695  52157   \n",
       "2020-10-07             7090  48514      3227  18876         8126  53803   \n",
       "2020-10-08             7313  49405      3313  19392         8370  55294   \n",
       "2020-10-09             7540  46132      3402  19839        10035  60207   \n",
       "2020-10-10             6316  34818      3177  16757        10105  51852   \n",
       "\n",
       "plaza_id   Marine Parkway        Queens Midtown        Throgs Neck          \\\n",
       "variable             cash ezpass           cash ezpass        cash  ezpass   \n",
       "datetime                                                                     \n",
       "2018-01-01           1096  11022           7338  47569       16177   82169   \n",
       "2018-01-02           1517  18370           6554  60446       12971   93293   \n",
       "2018-01-03           1635  20432           7071  64654       13045  102907   \n",
       "2018-01-04            571   5596           2687  23938        3518   24888   \n",
       "2018-01-05           1102  12827           5465  49688        9585   70892   \n",
       "...                   ...    ...            ...    ...         ...     ...   \n",
       "2020-10-06           2518  18667          10831  52764       14178   83961   \n",
       "2020-10-07           2476  17918          11425  56360       14752   86849   \n",
       "2020-10-08           2559  18748          11800  58204       15760   90958   \n",
       "2020-10-09           2531  17999          13433  61760       17321   95125   \n",
       "2020-10-10           2605  16447          12107  48178       19018   91976   \n",
       "\n",
       "plaza_id   Triboro         Verrazano        Whitestone          \n",
       "variable      cash  ezpass      cash ezpass       cash  ezpass  \n",
       "datetime                                                        \n",
       "2018-01-01   22395  118380     11583  70340      18818   90468  \n",
       "2018-01-02   20751  144179      9319  86330      14843  102368  \n",
       "2018-01-03   21182  153968      9110  94396      15263  108711  \n",
       "2018-01-04    7787   56350      3319  34501       4855   33259  \n",
       "2018-01-05   16429  118824      6841  67534      11586   79643  \n",
       "...            ...     ...       ...    ...        ...     ...  \n",
       "2020-10-06   26219  130693     11193  86130      20675  101180  \n",
       "2020-10-07   26443  134036     11166  86913      20208   99960  \n",
       "2020-10-08   28160  140175     11907  88834      21469  104514  \n",
       "2020-10-09   30816  142961     13464  93085      25545  119287  \n",
       "2020-10-10   32227  132258     14218  85350      26894  111136  \n",
       "\n",
       "[1014 rows x 18 columns]"
      ]
     },
     "execution_count": 9,
     "metadata": {},
     "output_type": "execute_result"
    }
   ],
   "source": [
    "_df"
   ]
  },
  {
   "cell_type": "markdown",
   "metadata": {},
   "source": [
    "### Feature Engineering: Holidays\n",
    "Holidays will be an important feature in determining daily toll traffic. I created a list of all the holidays from 2018-2021."
   ]
  },
  {
   "cell_type": "code",
   "execution_count": 10,
   "metadata": {},
   "outputs": [],
   "source": [
    "holidays_2018_2020 = []\n",
    "for year in [2018, 2019, 2020, 2021]:\n",
    "    for date in holidays.UnitedStates(years=year).items():\n",
    "        holidays_2018_2020.append(date[0])\n",
    "        \n",
    "crossing_rates = {('Brooklyn Battery', 'cash'):9.50,\n",
    "                 ('Brooklyn Battery', 'ezpass'):6.12,\n",
    "                 ('Cross Bay', 'cash'):4.75,\n",
    "                 ('Cross Bay', 'ezpass'):2.29,\n",
    "                 ('Henry Hudson','cash'):7.00,\n",
    "                 ('Henry Hudson','ezpass'):2.80,\n",
    "                 ('Marine Parkway','cash'):4.75,\n",
    "                 ('Marine Parkway','ezpass'):2.29,\n",
    "                 ('Queens Midtown','cash'):9.50,\n",
    "                 ('Queens Midtown','ezpass'):6.12,\n",
    "                 ('Throgs Neck','cash'): 9.50,\n",
    "                 ('Throgs Neck','ezpass'): 6.12,\n",
    "                 ('Triboro','cash'): 9.50,\n",
    "                 ('Triboro','ezpass'):6.12,\n",
    "                 ('Verrazano','cash'):19.00,\n",
    "                 ('Verrazano','ezpass'):12.24,\n",
    "                 ('Whitestone','cash'):9.50,\n",
    "                 ('Whitestone','ezpass'):6.12}"
   ]
  },
  {
   "cell_type": "code",
   "execution_count": 11,
   "metadata": {},
   "outputs": [
    {
     "data": {
      "text/plain": [
       "MultiIndex([('Brooklyn Battery',   'cash'),\n",
       "            ('Brooklyn Battery', 'ezpass'),\n",
       "            (       'Cross Bay',   'cash'),\n",
       "            (       'Cross Bay', 'ezpass'),\n",
       "            (    'Henry Hudson',   'cash'),\n",
       "            (    'Henry Hudson', 'ezpass'),\n",
       "            (  'Marine Parkway',   'cash'),\n",
       "            (  'Marine Parkway', 'ezpass'),\n",
       "            (  'Queens Midtown',   'cash'),\n",
       "            (  'Queens Midtown', 'ezpass'),\n",
       "            (     'Throgs Neck',   'cash'),\n",
       "            (     'Throgs Neck', 'ezpass'),\n",
       "            (         'Triboro',   'cash'),\n",
       "            (         'Triboro', 'ezpass'),\n",
       "            (       'Verrazano',   'cash'),\n",
       "            (       'Verrazano', 'ezpass'),\n",
       "            (      'Whitestone',   'cash'),\n",
       "            (      'Whitestone', 'ezpass')],\n",
       "           names=['plaza_id', 'variable'])"
      ]
     },
     "execution_count": 11,
     "metadata": {},
     "output_type": "execute_result"
    }
   ],
   "source": [
    "_df.columns"
   ]
  },
  {
   "cell_type": "markdown",
   "metadata": {},
   "source": [
    "### Feature Engineering: Date Features\n",
    "From datetime, I extract the month, day of the week, year, weekend... etc. <br> In addition, I have included the 8 events that occurred in **2020**\n",
    "0. March 12 - Events with more than 500 people cancelled\n",
    "1. March 22 - NYS Pause Program begins, all non-essential workers must stay home\n",
    "2. April 16 - Governor Cuomo extendes the stay-at-home order and school closures to May 15\n",
    "3. May 15 - Governor Cuomo extends PAUSE to May 28\n",
    "4. June 8 - NYC begins Phase 1 opening\n",
    "5. June 22 - NYC begins Phase 2 opening\n",
    "6. July 7 - NYC begins Phase 3 opening\n",
    "7. July 19 - NYC begins Phase 4 opening\n",
    "\n",
    "The timeline was extracted from investopedia. <br>\n",
    "https://www.investopedia.com/historical-timeline-of-covid-19-in-new-york-city-5071986"
   ]
  },
  {
   "cell_type": "code",
   "execution_count": 12,
   "metadata": {},
   "outputs": [],
   "source": [
    "def date_features(_df):\n",
    "    _df['month'] = _df.index.month\n",
    "    _df['dayofweek'] = _df.index.dayofweek\n",
    "    _df['year'] = _df.index.year\n",
    "    _df['week'] = _df.index.isocalendar().week\n",
    "    _df['day'] = _df.index.day\n",
    "    _df['quarter'] = _df.index.quarter\n",
    "    _df['dayofyear'] = _df.index.dayofyear\n",
    "\n",
    "\n",
    "    conditions = [\n",
    "        (_df.index >= '2020-03-12') & (_df.index < '2020-03-22'),\n",
    "        (_df.index >= '2020-03-22') & (_df.index < '2020-04-16'),\n",
    "        (_df.index >= '2020-04-16') & (_df.index < '2020-05-15'),\n",
    "        (_df.index >= '2020-05-15') & (_df.index < '2020-06-08'),\n",
    "        (_df.index >= '2020-06-08') & (_df.index < '2020-06-22'),\n",
    "        (_df.index >= '2020-06-22') & (_df.index < '2020-07-06'),\n",
    "        (_df.index >= '2020-07-06') & (_df.index < '2020-07-19'),\n",
    "        (_df.index >= '2020-07-19')\n",
    "    ]\n",
    "\n",
    "    choices = [\n",
    "        0,\n",
    "        1,\n",
    "        2,\n",
    "        3,\n",
    "        4,\n",
    "        5,\n",
    "        6,\n",
    "        7,\n",
    "    ]\n",
    "\n",
    "    _df['Phase'] = np.select(conditions, choices, -1)\n",
    "    \n",
    "    _df['weekend'] = (_df.index.dayofweek>4).astype(int)\n",
    "    _df['holiday'] = np.where(_df.index.isin(holidays_2018_2020), 1, 0)\n",
    "    return _df\n",
    "\n"
   ]
  },
  {
   "cell_type": "code",
   "execution_count": 13,
   "metadata": {},
   "outputs": [
    {
     "name": "stdout",
     "output_type": "stream",
     "text": [
      "(1014, 28)\n"
     ]
    },
    {
     "data": {
      "text/html": [
       "<div>\n",
       "<style scoped>\n",
       "    .dataframe tbody tr th:only-of-type {\n",
       "        vertical-align: middle;\n",
       "    }\n",
       "\n",
       "    .dataframe tbody tr th {\n",
       "        vertical-align: top;\n",
       "    }\n",
       "\n",
       "    .dataframe thead tr th {\n",
       "        text-align: left;\n",
       "    }\n",
       "\n",
       "    .dataframe thead tr:last-of-type th {\n",
       "        text-align: right;\n",
       "    }\n",
       "</style>\n",
       "<table border=\"1\" class=\"dataframe\">\n",
       "  <thead>\n",
       "    <tr>\n",
       "      <th>plaza_id</th>\n",
       "      <th colspan=\"2\" halign=\"left\">Brooklyn Battery</th>\n",
       "      <th colspan=\"2\" halign=\"left\">Cross Bay</th>\n",
       "      <th colspan=\"2\" halign=\"left\">Henry Hudson</th>\n",
       "      <th colspan=\"2\" halign=\"left\">Marine Parkway</th>\n",
       "      <th colspan=\"2\" halign=\"left\">Queens Midtown</th>\n",
       "      <th>...</th>\n",
       "      <th>month</th>\n",
       "      <th>dayofweek</th>\n",
       "      <th>year</th>\n",
       "      <th>week</th>\n",
       "      <th>day</th>\n",
       "      <th>quarter</th>\n",
       "      <th>dayofyear</th>\n",
       "      <th>Phase</th>\n",
       "      <th>weekend</th>\n",
       "      <th>holiday</th>\n",
       "    </tr>\n",
       "    <tr>\n",
       "      <th>variable</th>\n",
       "      <th>cash</th>\n",
       "      <th>ezpass</th>\n",
       "      <th>cash</th>\n",
       "      <th>ezpass</th>\n",
       "      <th>cash</th>\n",
       "      <th>ezpass</th>\n",
       "      <th>cash</th>\n",
       "      <th>ezpass</th>\n",
       "      <th>cash</th>\n",
       "      <th>ezpass</th>\n",
       "      <th>...</th>\n",
       "      <th></th>\n",
       "      <th></th>\n",
       "      <th></th>\n",
       "      <th></th>\n",
       "      <th></th>\n",
       "      <th></th>\n",
       "      <th></th>\n",
       "      <th></th>\n",
       "      <th></th>\n",
       "      <th></th>\n",
       "    </tr>\n",
       "    <tr>\n",
       "      <th>datetime</th>\n",
       "      <th></th>\n",
       "      <th></th>\n",
       "      <th></th>\n",
       "      <th></th>\n",
       "      <th></th>\n",
       "      <th></th>\n",
       "      <th></th>\n",
       "      <th></th>\n",
       "      <th></th>\n",
       "      <th></th>\n",
       "      <th></th>\n",
       "      <th></th>\n",
       "      <th></th>\n",
       "      <th></th>\n",
       "      <th></th>\n",
       "      <th></th>\n",
       "      <th></th>\n",
       "      <th></th>\n",
       "      <th></th>\n",
       "      <th></th>\n",
       "      <th></th>\n",
       "    </tr>\n",
       "  </thead>\n",
       "  <tbody>\n",
       "    <tr>\n",
       "      <th>2018-01-01</th>\n",
       "      <td>3527</td>\n",
       "      <td>25636</td>\n",
       "      <td>1876</td>\n",
       "      <td>11829</td>\n",
       "      <td>5523</td>\n",
       "      <td>41017</td>\n",
       "      <td>1096</td>\n",
       "      <td>11022</td>\n",
       "      <td>7338</td>\n",
       "      <td>47569</td>\n",
       "      <td>...</td>\n",
       "      <td>1</td>\n",
       "      <td>0</td>\n",
       "      <td>2018</td>\n",
       "      <td>1</td>\n",
       "      <td>1</td>\n",
       "      <td>1</td>\n",
       "      <td>1</td>\n",
       "      <td>-1</td>\n",
       "      <td>0</td>\n",
       "      <td>1</td>\n",
       "    </tr>\n",
       "    <tr>\n",
       "      <th>2018-01-02</th>\n",
       "      <td>4099</td>\n",
       "      <td>43061</td>\n",
       "      <td>2336</td>\n",
       "      <td>19539</td>\n",
       "      <td>5983</td>\n",
       "      <td>54627</td>\n",
       "      <td>1517</td>\n",
       "      <td>18370</td>\n",
       "      <td>6554</td>\n",
       "      <td>60446</td>\n",
       "      <td>...</td>\n",
       "      <td>1</td>\n",
       "      <td>1</td>\n",
       "      <td>2018</td>\n",
       "      <td>1</td>\n",
       "      <td>2</td>\n",
       "      <td>1</td>\n",
       "      <td>2</td>\n",
       "      <td>-1</td>\n",
       "      <td>0</td>\n",
       "      <td>0</td>\n",
       "    </tr>\n",
       "    <tr>\n",
       "      <th>2018-01-03</th>\n",
       "      <td>4326</td>\n",
       "      <td>49679</td>\n",
       "      <td>2593</td>\n",
       "      <td>22014</td>\n",
       "      <td>6113</td>\n",
       "      <td>61870</td>\n",
       "      <td>1635</td>\n",
       "      <td>20432</td>\n",
       "      <td>7071</td>\n",
       "      <td>64654</td>\n",
       "      <td>...</td>\n",
       "      <td>1</td>\n",
       "      <td>2</td>\n",
       "      <td>2018</td>\n",
       "      <td>1</td>\n",
       "      <td>3</td>\n",
       "      <td>1</td>\n",
       "      <td>3</td>\n",
       "      <td>-1</td>\n",
       "      <td>0</td>\n",
       "      <td>0</td>\n",
       "    </tr>\n",
       "    <tr>\n",
       "      <th>2018-01-04</th>\n",
       "      <td>1552</td>\n",
       "      <td>18932</td>\n",
       "      <td>1092</td>\n",
       "      <td>7211</td>\n",
       "      <td>1519</td>\n",
       "      <td>12983</td>\n",
       "      <td>571</td>\n",
       "      <td>5596</td>\n",
       "      <td>2687</td>\n",
       "      <td>23938</td>\n",
       "      <td>...</td>\n",
       "      <td>1</td>\n",
       "      <td>3</td>\n",
       "      <td>2018</td>\n",
       "      <td>1</td>\n",
       "      <td>4</td>\n",
       "      <td>1</td>\n",
       "      <td>4</td>\n",
       "      <td>-1</td>\n",
       "      <td>0</td>\n",
       "      <td>0</td>\n",
       "    </tr>\n",
       "    <tr>\n",
       "      <th>2018-01-05</th>\n",
       "      <td>3103</td>\n",
       "      <td>34904</td>\n",
       "      <td>1900</td>\n",
       "      <td>14939</td>\n",
       "      <td>4700</td>\n",
       "      <td>45150</td>\n",
       "      <td>1102</td>\n",
       "      <td>12827</td>\n",
       "      <td>5465</td>\n",
       "      <td>49688</td>\n",
       "      <td>...</td>\n",
       "      <td>1</td>\n",
       "      <td>4</td>\n",
       "      <td>2018</td>\n",
       "      <td>1</td>\n",
       "      <td>5</td>\n",
       "      <td>1</td>\n",
       "      <td>5</td>\n",
       "      <td>-1</td>\n",
       "      <td>0</td>\n",
       "      <td>0</td>\n",
       "    </tr>\n",
       "  </tbody>\n",
       "</table>\n",
       "<p>5 rows × 28 columns</p>\n",
       "</div>"
      ],
      "text/plain": [
       "plaza_id   Brooklyn Battery        Cross Bay        Henry Hudson         \\\n",
       "variable               cash ezpass      cash ezpass         cash ezpass   \n",
       "datetime                                                                  \n",
       "2018-01-01             3527  25636      1876  11829         5523  41017   \n",
       "2018-01-02             4099  43061      2336  19539         5983  54627   \n",
       "2018-01-03             4326  49679      2593  22014         6113  61870   \n",
       "2018-01-04             1552  18932      1092   7211         1519  12983   \n",
       "2018-01-05             3103  34904      1900  14939         4700  45150   \n",
       "\n",
       "plaza_id   Marine Parkway        Queens Midtown         ... month dayofweek  \\\n",
       "variable             cash ezpass           cash ezpass  ...                   \n",
       "datetime                                                ...                   \n",
       "2018-01-01           1096  11022           7338  47569  ...     1         0   \n",
       "2018-01-02           1517  18370           6554  60446  ...     1         1   \n",
       "2018-01-03           1635  20432           7071  64654  ...     1         2   \n",
       "2018-01-04            571   5596           2687  23938  ...     1         3   \n",
       "2018-01-05           1102  12827           5465  49688  ...     1         4   \n",
       "\n",
       "plaza_id    year week day quarter dayofyear Phase weekend holiday  \n",
       "variable                                                           \n",
       "datetime                                                           \n",
       "2018-01-01  2018    1   1       1         1    -1       0       1  \n",
       "2018-01-02  2018    1   2       1         2    -1       0       0  \n",
       "2018-01-03  2018    1   3       1         3    -1       0       0  \n",
       "2018-01-04  2018    1   4       1         4    -1       0       0  \n",
       "2018-01-05  2018    1   5       1         5    -1       0       0  \n",
       "\n",
       "[5 rows x 28 columns]"
      ]
     },
     "execution_count": 13,
     "metadata": {},
     "output_type": "execute_result"
    }
   ],
   "source": [
    "_df = date_features(_df)\n",
    "print(_df.shape)\n",
    "_df.head()"
   ]
  },
  {
   "cell_type": "markdown",
   "metadata": {},
   "source": [
    "### Feature Engineer: Average Daily Temperatures\n",
    "I will predict the average daily temperature from 2018 to current and use the y_hat values as a feature. The temperature data will train from 2010 to 2018.\n",
    "\n",
    "The dataset comes from https://w2.weather.gov/climate/xmacis.php?wfo=okx with JFK, NY selected.\n",
    "It ranges from 2010-2020. I will be only taking temp_average of each day.\n",
    "The dataset will be made applicable via kaggle.\n"
   ]
  },
  {
   "cell_type": "code",
   "execution_count": 14,
   "metadata": {},
   "outputs": [
    {
     "data": {
      "image/png": "[encoded data removed]",
      "text/plain": [
       "<Figure size 432x288 with 1 Axes>"
      ]
     },
     "metadata": {
      "needs_background": "light"
     },
     "output_type": "display_data"
    }
   ],
   "source": [
    "temperature = pd.read_csv('weather.csv', sep ='\\t', engine ='python')\n",
    "temperature['datetime'] = pd.to_datetime(temperature['datetime'])\n",
    "plt.plot(temperature['datetime'], temperature['temp_average'])\n",
    "plt.title('Average Daily Temperature for JFK, NY');\n",
    "plt.ylabel('in Farenheits');"
   ]
  },
  {
   "cell_type": "markdown",
   "metadata": {},
   "source": [
    "I'll do a quick forecasting on average daily temperature using FBProphet. <br>\n",
    "Training set was 2010-2017, Testing set: 2018-2020"
   ]
  },
  {
   "cell_type": "code",
   "execution_count": 15,
   "metadata": {},
   "outputs": [
    {
     "data": {
      "text/html": [
       "<div>\n",
       "<style scoped>\n",
       "    .dataframe tbody tr th:only-of-type {\n",
       "        vertical-align: middle;\n",
       "    }\n",
       "\n",
       "    .dataframe tbody tr th {\n",
       "        vertical-align: top;\n",
       "    }\n",
       "\n",
       "    .dataframe thead th {\n",
       "        text-align: right;\n",
       "    }\n",
       "</style>\n",
       "<table border=\"1\" class=\"dataframe\">\n",
       "  <thead>\n",
       "    <tr style=\"text-align: right;\">\n",
       "      <th></th>\n",
       "      <th>ds</th>\n",
       "      <th>y</th>\n",
       "    </tr>\n",
       "  </thead>\n",
       "  <tbody>\n",
       "    <tr>\n",
       "      <th>0</th>\n",
       "      <td>2010-01-01</td>\n",
       "      <td>36.5</td>\n",
       "    </tr>\n",
       "    <tr>\n",
       "      <th>1</th>\n",
       "      <td>2010-01-02</td>\n",
       "      <td>25.0</td>\n",
       "    </tr>\n",
       "    <tr>\n",
       "      <th>2</th>\n",
       "      <td>2010-01-03</td>\n",
       "      <td>21.0</td>\n",
       "    </tr>\n",
       "    <tr>\n",
       "      <th>3</th>\n",
       "      <td>2010-01-04</td>\n",
       "      <td>26.0</td>\n",
       "    </tr>\n",
       "    <tr>\n",
       "      <th>4</th>\n",
       "      <td>2010-01-05</td>\n",
       "      <td>26.5</td>\n",
       "    </tr>\n",
       "  </tbody>\n",
       "</table>\n",
       "</div>"
      ],
      "text/plain": [
       "          ds     y\n",
       "0 2010-01-01  36.5\n",
       "1 2010-01-02  25.0\n",
       "2 2010-01-03  21.0\n",
       "3 2010-01-04  26.0\n",
       "4 2010-01-05  26.5"
      ]
     },
     "execution_count": 15,
     "metadata": {},
     "output_type": "execute_result"
    }
   ],
   "source": [
    "_temperature = date_features(temperature.set_index('datetime')[['temp_average']])\n",
    "_fb_weather = _temperature.reset_index()[['datetime', 'temp_average']]\n",
    "_fb_weather.columns = ['ds', 'y']\n",
    "_fb_weather.head()"
   ]
  },
  {
   "cell_type": "code",
   "execution_count": 16,
   "metadata": {},
   "outputs": [
    {
     "data": {
      "text/plain": [
       "<fbprophet.forecaster.Prophet at 0x25ffb288>"
      ]
     },
     "execution_count": 16,
     "metadata": {},
     "output_type": "execute_result"
    }
   ],
   "source": [
    "m = Prophet(\n",
    "           changepoint_prior_scale= 0.1,\n",
    "                      holidays_prior_scale = 0.1,\n",
    "                      n_changepoints = 300,\n",
    "                      seasonality_mode = 'additive',\n",
    "                      weekly_seasonality=True,\n",
    "                      daily_seasonality = True,\n",
    "                      yearly_seasonality = True,\n",
    "                      interval_width=0.95)\n",
    "m.fit(_fb_weather)"
   ]
  },
  {
   "cell_type": "code",
   "execution_count": 17,
   "metadata": {},
   "outputs": [],
   "source": [
    "future = m.make_future_dataframe(periods = 365*2)\n",
    "forecast = m.predict(future)"
   ]
  },
  {
   "cell_type": "code",
   "execution_count": 18,
   "metadata": {},
   "outputs": [
    {
     "data": {
      "image/png": "[encoded data removed]",
      "text/plain": [
       "<Figure size 720x432 with 1 Axes>"
      ]
     },
     "metadata": {},
     "output_type": "display_data"
    }
   ],
   "source": [
    "fig1 = m.plot(forecast)"
   ]
  },
  {
   "cell_type": "code",
   "execution_count": 19,
   "metadata": {},
   "outputs": [],
   "source": [
    "sliced_forecast = forecast.loc[forecast['ds'].isin(pd.date_range(start='2018-01-01', end='2020-10-10'))]\n",
    "sliced_forecast.reset_index(drop=True, inplace=True)"
   ]
  },
  {
   "cell_type": "code",
   "execution_count": 20,
   "metadata": {},
   "outputs": [
    {
     "data": {
      "text/html": [
       "<div>\n",
       "<style scoped>\n",
       "    .dataframe tbody tr th:only-of-type {\n",
       "        vertical-align: middle;\n",
       "    }\n",
       "\n",
       "    .dataframe tbody tr th {\n",
       "        vertical-align: top;\n",
       "    }\n",
       "\n",
       "    .dataframe thead th {\n",
       "        text-align: right;\n",
       "    }\n",
       "</style>\n",
       "<table border=\"1\" class=\"dataframe\">\n",
       "  <thead>\n",
       "    <tr style=\"text-align: right;\">\n",
       "      <th></th>\n",
       "      <th>temp_average</th>\n",
       "    </tr>\n",
       "    <tr>\n",
       "      <th>datetime</th>\n",
       "      <th></th>\n",
       "    </tr>\n",
       "  </thead>\n",
       "  <tbody>\n",
       "    <tr>\n",
       "      <th>2018-01-01</th>\n",
       "      <td>34.744700</td>\n",
       "    </tr>\n",
       "    <tr>\n",
       "      <th>2018-01-02</th>\n",
       "      <td>35.134029</td>\n",
       "    </tr>\n",
       "    <tr>\n",
       "      <th>2018-01-03</th>\n",
       "      <td>34.775099</td>\n",
       "    </tr>\n",
       "    <tr>\n",
       "      <th>2018-01-04</th>\n",
       "      <td>34.159110</td>\n",
       "    </tr>\n",
       "    <tr>\n",
       "      <th>2018-01-05</th>\n",
       "      <td>33.598794</td>\n",
       "    </tr>\n",
       "  </tbody>\n",
       "</table>\n",
       "</div>"
      ],
      "text/plain": [
       "            temp_average\n",
       "datetime                \n",
       "2018-01-01     34.744700\n",
       "2018-01-02     35.134029\n",
       "2018-01-03     34.775099\n",
       "2018-01-04     34.159110\n",
       "2018-01-05     33.598794"
      ]
     },
     "execution_count": 20,
     "metadata": {},
     "output_type": "execute_result"
    }
   ],
   "source": [
    "sliced_forecast = sliced_forecast[['ds', 'yhat']]\n",
    "sliced_forecast.columns = ['datetime', 'temp_average']\n",
    "sliced_forecast.set_index('datetime', inplace=True)\n",
    "sliced_forecast.head()"
   ]
  },
  {
   "cell_type": "code",
   "execution_count": 21,
   "metadata": {},
   "outputs": [],
   "source": [
    "_df['temp_average'] = sliced_forecast['temp_average']"
   ]
  },
  {
   "cell_type": "code",
   "execution_count": 22,
   "metadata": {},
   "outputs": [
    {
     "data": {
      "text/html": [
       "<div>\n",
       "<style scoped>\n",
       "    .dataframe tbody tr th:only-of-type {\n",
       "        vertical-align: middle;\n",
       "    }\n",
       "\n",
       "    .dataframe tbody tr th {\n",
       "        vertical-align: top;\n",
       "    }\n",
       "\n",
       "    .dataframe thead tr th {\n",
       "        text-align: left;\n",
       "    }\n",
       "\n",
       "    .dataframe thead tr:last-of-type th {\n",
       "        text-align: right;\n",
       "    }\n",
       "</style>\n",
       "<table border=\"1\" class=\"dataframe\">\n",
       "  <thead>\n",
       "    <tr>\n",
       "      <th>plaza_id</th>\n",
       "      <th colspan=\"2\" halign=\"left\">Brooklyn Battery</th>\n",
       "      <th colspan=\"2\" halign=\"left\">Cross Bay</th>\n",
       "      <th colspan=\"2\" halign=\"left\">Henry Hudson</th>\n",
       "      <th colspan=\"2\" halign=\"left\">Marine Parkway</th>\n",
       "      <th colspan=\"2\" halign=\"left\">Queens Midtown</th>\n",
       "      <th>...</th>\n",
       "      <th>dayofweek</th>\n",
       "      <th>year</th>\n",
       "      <th>week</th>\n",
       "      <th>day</th>\n",
       "      <th>quarter</th>\n",
       "      <th>dayofyear</th>\n",
       "      <th>Phase</th>\n",
       "      <th>weekend</th>\n",
       "      <th>holiday</th>\n",
       "      <th>temp_average</th>\n",
       "    </tr>\n",
       "    <tr>\n",
       "      <th>variable</th>\n",
       "      <th>cash</th>\n",
       "      <th>ezpass</th>\n",
       "      <th>cash</th>\n",
       "      <th>ezpass</th>\n",
       "      <th>cash</th>\n",
       "      <th>ezpass</th>\n",
       "      <th>cash</th>\n",
       "      <th>ezpass</th>\n",
       "      <th>cash</th>\n",
       "      <th>ezpass</th>\n",
       "      <th>...</th>\n",
       "      <th></th>\n",
       "      <th></th>\n",
       "      <th></th>\n",
       "      <th></th>\n",
       "      <th></th>\n",
       "      <th></th>\n",
       "      <th></th>\n",
       "      <th></th>\n",
       "      <th></th>\n",
       "      <th></th>\n",
       "    </tr>\n",
       "    <tr>\n",
       "      <th>datetime</th>\n",
       "      <th></th>\n",
       "      <th></th>\n",
       "      <th></th>\n",
       "      <th></th>\n",
       "      <th></th>\n",
       "      <th></th>\n",
       "      <th></th>\n",
       "      <th></th>\n",
       "      <th></th>\n",
       "      <th></th>\n",
       "      <th></th>\n",
       "      <th></th>\n",
       "      <th></th>\n",
       "      <th></th>\n",
       "      <th></th>\n",
       "      <th></th>\n",
       "      <th></th>\n",
       "      <th></th>\n",
       "      <th></th>\n",
       "      <th></th>\n",
       "      <th></th>\n",
       "    </tr>\n",
       "  </thead>\n",
       "  <tbody>\n",
       "    <tr>\n",
       "      <th>2018-01-01</th>\n",
       "      <td>3527</td>\n",
       "      <td>25636</td>\n",
       "      <td>1876</td>\n",
       "      <td>11829</td>\n",
       "      <td>5523</td>\n",
       "      <td>41017</td>\n",
       "      <td>1096</td>\n",
       "      <td>11022</td>\n",
       "      <td>7338</td>\n",
       "      <td>47569</td>\n",
       "      <td>...</td>\n",
       "      <td>0</td>\n",
       "      <td>2018</td>\n",
       "      <td>1</td>\n",
       "      <td>1</td>\n",
       "      <td>1</td>\n",
       "      <td>1</td>\n",
       "      <td>-1</td>\n",
       "      <td>0</td>\n",
       "      <td>1</td>\n",
       "      <td>34.744700</td>\n",
       "    </tr>\n",
       "    <tr>\n",
       "      <th>2018-01-02</th>\n",
       "      <td>4099</td>\n",
       "      <td>43061</td>\n",
       "      <td>2336</td>\n",
       "      <td>19539</td>\n",
       "      <td>5983</td>\n",
       "      <td>54627</td>\n",
       "      <td>1517</td>\n",
       "      <td>18370</td>\n",
       "      <td>6554</td>\n",
       "      <td>60446</td>\n",
       "      <td>...</td>\n",
       "      <td>1</td>\n",
       "      <td>2018</td>\n",
       "      <td>1</td>\n",
       "      <td>2</td>\n",
       "      <td>1</td>\n",
       "      <td>2</td>\n",
       "      <td>-1</td>\n",
       "      <td>0</td>\n",
       "      <td>0</td>\n",
       "      <td>35.134029</td>\n",
       "    </tr>\n",
       "    <tr>\n",
       "      <th>2018-01-03</th>\n",
       "      <td>4326</td>\n",
       "      <td>49679</td>\n",
       "      <td>2593</td>\n",
       "      <td>22014</td>\n",
       "      <td>6113</td>\n",
       "      <td>61870</td>\n",
       "      <td>1635</td>\n",
       "      <td>20432</td>\n",
       "      <td>7071</td>\n",
       "      <td>64654</td>\n",
       "      <td>...</td>\n",
       "      <td>2</td>\n",
       "      <td>2018</td>\n",
       "      <td>1</td>\n",
       "      <td>3</td>\n",
       "      <td>1</td>\n",
       "      <td>3</td>\n",
       "      <td>-1</td>\n",
       "      <td>0</td>\n",
       "      <td>0</td>\n",
       "      <td>34.775099</td>\n",
       "    </tr>\n",
       "    <tr>\n",
       "      <th>2018-01-04</th>\n",
       "      <td>1552</td>\n",
       "      <td>18932</td>\n",
       "      <td>1092</td>\n",
       "      <td>7211</td>\n",
       "      <td>1519</td>\n",
       "      <td>12983</td>\n",
       "      <td>571</td>\n",
       "      <td>5596</td>\n",
       "      <td>2687</td>\n",
       "      <td>23938</td>\n",
       "      <td>...</td>\n",
       "      <td>3</td>\n",
       "      <td>2018</td>\n",
       "      <td>1</td>\n",
       "      <td>4</td>\n",
       "      <td>1</td>\n",
       "      <td>4</td>\n",
       "      <td>-1</td>\n",
       "      <td>0</td>\n",
       "      <td>0</td>\n",
       "      <td>34.159110</td>\n",
       "    </tr>\n",
       "    <tr>\n",
       "      <th>2018-01-05</th>\n",
       "      <td>3103</td>\n",
       "      <td>34904</td>\n",
       "      <td>1900</td>\n",
       "      <td>14939</td>\n",
       "      <td>4700</td>\n",
       "      <td>45150</td>\n",
       "      <td>1102</td>\n",
       "      <td>12827</td>\n",
       "      <td>5465</td>\n",
       "      <td>49688</td>\n",
       "      <td>...</td>\n",
       "      <td>4</td>\n",
       "      <td>2018</td>\n",
       "      <td>1</td>\n",
       "      <td>5</td>\n",
       "      <td>1</td>\n",
       "      <td>5</td>\n",
       "      <td>-1</td>\n",
       "      <td>0</td>\n",
       "      <td>0</td>\n",
       "      <td>33.598794</td>\n",
       "    </tr>\n",
       "    <tr>\n",
       "      <th>...</th>\n",
       "      <td>...</td>\n",
       "      <td>...</td>\n",
       "      <td>...</td>\n",
       "      <td>...</td>\n",
       "      <td>...</td>\n",
       "      <td>...</td>\n",
       "      <td>...</td>\n",
       "      <td>...</td>\n",
       "      <td>...</td>\n",
       "      <td>...</td>\n",
       "      <td>...</td>\n",
       "      <td>...</td>\n",
       "      <td>...</td>\n",
       "      <td>...</td>\n",
       "      <td>...</td>\n",
       "      <td>...</td>\n",
       "      <td>...</td>\n",
       "      <td>...</td>\n",
       "      <td>...</td>\n",
       "      <td>...</td>\n",
       "      <td>...</td>\n",
       "    </tr>\n",
       "    <tr>\n",
       "      <th>2020-10-06</th>\n",
       "      <td>7093</td>\n",
       "      <td>48860</td>\n",
       "      <td>3385</td>\n",
       "      <td>18802</td>\n",
       "      <td>7695</td>\n",
       "      <td>52157</td>\n",
       "      <td>2518</td>\n",
       "      <td>18667</td>\n",
       "      <td>10831</td>\n",
       "      <td>52764</td>\n",
       "      <td>...</td>\n",
       "      <td>1</td>\n",
       "      <td>2020</td>\n",
       "      <td>41</td>\n",
       "      <td>6</td>\n",
       "      <td>4</td>\n",
       "      <td>280</td>\n",
       "      <td>7</td>\n",
       "      <td>0</td>\n",
       "      <td>0</td>\n",
       "      <td>64.022413</td>\n",
       "    </tr>\n",
       "    <tr>\n",
       "      <th>2020-10-07</th>\n",
       "      <td>7090</td>\n",
       "      <td>48514</td>\n",
       "      <td>3227</td>\n",
       "      <td>18876</td>\n",
       "      <td>8126</td>\n",
       "      <td>53803</td>\n",
       "      <td>2476</td>\n",
       "      <td>17918</td>\n",
       "      <td>11425</td>\n",
       "      <td>56360</td>\n",
       "      <td>...</td>\n",
       "      <td>2</td>\n",
       "      <td>2020</td>\n",
       "      <td>41</td>\n",
       "      <td>7</td>\n",
       "      <td>4</td>\n",
       "      <td>281</td>\n",
       "      <td>7</td>\n",
       "      <td>0</td>\n",
       "      <td>0</td>\n",
       "      <td>63.618630</td>\n",
       "    </tr>\n",
       "    <tr>\n",
       "      <th>2020-10-08</th>\n",
       "      <td>7313</td>\n",
       "      <td>49405</td>\n",
       "      <td>3313</td>\n",
       "      <td>19392</td>\n",
       "      <td>8370</td>\n",
       "      <td>55294</td>\n",
       "      <td>2559</td>\n",
       "      <td>18748</td>\n",
       "      <td>11800</td>\n",
       "      <td>58204</td>\n",
       "      <td>...</td>\n",
       "      <td>3</td>\n",
       "      <td>2020</td>\n",
       "      <td>41</td>\n",
       "      <td>8</td>\n",
       "      <td>4</td>\n",
       "      <td>282</td>\n",
       "      <td>7</td>\n",
       "      <td>0</td>\n",
       "      <td>0</td>\n",
       "      <td>62.928621</td>\n",
       "    </tr>\n",
       "    <tr>\n",
       "      <th>2020-10-09</th>\n",
       "      <td>7540</td>\n",
       "      <td>46132</td>\n",
       "      <td>3402</td>\n",
       "      <td>19839</td>\n",
       "      <td>10035</td>\n",
       "      <td>60207</td>\n",
       "      <td>2531</td>\n",
       "      <td>17999</td>\n",
       "      <td>13433</td>\n",
       "      <td>61760</td>\n",
       "      <td>...</td>\n",
       "      <td>4</td>\n",
       "      <td>2020</td>\n",
       "      <td>41</td>\n",
       "      <td>9</td>\n",
       "      <td>4</td>\n",
       "      <td>283</td>\n",
       "      <td>7</td>\n",
       "      <td>0</td>\n",
       "      <td>0</td>\n",
       "      <td>62.261273</td>\n",
       "    </tr>\n",
       "    <tr>\n",
       "      <th>2020-10-10</th>\n",
       "      <td>6316</td>\n",
       "      <td>34818</td>\n",
       "      <td>3177</td>\n",
       "      <td>16757</td>\n",
       "      <td>10105</td>\n",
       "      <td>51852</td>\n",
       "      <td>2605</td>\n",
       "      <td>16447</td>\n",
       "      <td>12107</td>\n",
       "      <td>48178</td>\n",
       "      <td>...</td>\n",
       "      <td>5</td>\n",
       "      <td>2020</td>\n",
       "      <td>41</td>\n",
       "      <td>10</td>\n",
       "      <td>4</td>\n",
       "      <td>284</td>\n",
       "      <td>7</td>\n",
       "      <td>1</td>\n",
       "      <td>0</td>\n",
       "      <td>61.682719</td>\n",
       "    </tr>\n",
       "  </tbody>\n",
       "</table>\n",
       "<p>1014 rows × 29 columns</p>\n",
       "</div>"
      ],
      "text/plain": [
       "plaza_id   Brooklyn Battery        Cross Bay        Henry Hudson         \\\n",
       "variable               cash ezpass      cash ezpass         cash ezpass   \n",
       "datetime                                                                  \n",
       "2018-01-01             3527  25636      1876  11829         5523  41017   \n",
       "2018-01-02             4099  43061      2336  19539         5983  54627   \n",
       "2018-01-03             4326  49679      2593  22014         6113  61870   \n",
       "2018-01-04             1552  18932      1092   7211         1519  12983   \n",
       "2018-01-05             3103  34904      1900  14939         4700  45150   \n",
       "...                     ...    ...       ...    ...          ...    ...   \n",
       "2020-10-06             7093  48860      3385  18802         7695  52157   \n",
       "2020-10-07             7090  48514      3227  18876         8126  53803   \n",
       "2020-10-08             7313  49405      3313  19392         8370  55294   \n",
       "2020-10-09             7540  46132      3402  19839        10035  60207   \n",
       "2020-10-10             6316  34818      3177  16757        10105  51852   \n",
       "\n",
       "plaza_id   Marine Parkway        Queens Midtown         ... dayofweek  year  \\\n",
       "variable             cash ezpass           cash ezpass  ...                   \n",
       "datetime                                                ...                   \n",
       "2018-01-01           1096  11022           7338  47569  ...         0  2018   \n",
       "2018-01-02           1517  18370           6554  60446  ...         1  2018   \n",
       "2018-01-03           1635  20432           7071  64654  ...         2  2018   \n",
       "2018-01-04            571   5596           2687  23938  ...         3  2018   \n",
       "2018-01-05           1102  12827           5465  49688  ...         4  2018   \n",
       "...                   ...    ...            ...    ...  ...       ...   ...   \n",
       "2020-10-06           2518  18667          10831  52764  ...         1  2020   \n",
       "2020-10-07           2476  17918          11425  56360  ...         2  2020   \n",
       "2020-10-08           2559  18748          11800  58204  ...         3  2020   \n",
       "2020-10-09           2531  17999          13433  61760  ...         4  2020   \n",
       "2020-10-10           2605  16447          12107  48178  ...         5  2020   \n",
       "\n",
       "plaza_id   week day quarter dayofyear Phase weekend holiday temp_average  \n",
       "variable                                                                  \n",
       "datetime                                                                  \n",
       "2018-01-01    1   1       1         1    -1       0       1    34.744700  \n",
       "2018-01-02    1   2       1         2    -1       0       0    35.134029  \n",
       "2018-01-03    1   3       1         3    -1       0       0    34.775099  \n",
       "2018-01-04    1   4       1         4    -1       0       0    34.159110  \n",
       "2018-01-05    1   5       1         5    -1       0       0    33.598794  \n",
       "...         ...  ..     ...       ...   ...     ...     ...          ...  \n",
       "2020-10-06   41   6       4       280     7       0       0    64.022413  \n",
       "2020-10-07   41   7       4       281     7       0       0    63.618630  \n",
       "2020-10-08   41   8       4       282     7       0       0    62.928621  \n",
       "2020-10-09   41   9       4       283     7       0       0    62.261273  \n",
       "2020-10-10   41  10       4       284     7       1       0    61.682719  \n",
       "\n",
       "[1014 rows x 29 columns]"
      ]
     },
     "execution_count": 22,
     "metadata": {},
     "output_type": "execute_result"
    }
   ],
   "source": [
    "_df"
   ]
  },
  {
   "cell_type": "markdown",
   "metadata": {},
   "source": [
    "## Models"
   ]
  },
  {
   "cell_type": "markdown",
   "metadata": {},
   "source": [
    "### Dummy Regressor\n",
    "My baseline will be the average of the last 7 days for each bridge.\n",
    "The sum of the 9 rmse (for each bridge) will be my metric.\n",
    "I have chosen to use root mean squared error because it is more sensitive to larger errors than MAE(mean absolute error) or MAPE(mean absolute percentage error)"
   ]
  },
  {
   "cell_type": "code",
   "execution_count": 23,
   "metadata": {},
   "outputs": [
    {
     "name": "stdout",
     "output_type": "stream",
     "text": [
      "Total Revenue from 09-06-2020 to 10-10-2020:  173780402.32\n"
     ]
    }
   ],
   "source": [
    "tr_start,tr_end = '2018-01-01','2020-09-05'\n",
    "te_start,te_end = '2020-09-06','2020-10-10'\n",
    "_total_dollars = 0\n",
    "_total_dollar_values = []\n",
    "for crossing,rate in crossing_rates.items():\n",
    "    _total_dollars += _df[te_start:te_end][crossing].sum() * rate\n",
    "    _total_dollar_values.append(_df[te_start:te_end][crossing].sum() * rate)\n",
    "\n",
    "    \n",
    "print('Total Revenue from 09-06-2020 to 10-10-2020: ',_total_dollars)"
   ]
  },
  {
   "cell_type": "code",
   "execution_count": 34,
   "metadata": {},
   "outputs": [],
   "source": [
    "def mean_percentage_error(actual, yhat):\n",
    "    \"\"\"\n",
    "    actual, yhat: list or numpy array\n",
    "    length of listlike arrays must be same\n",
    "    \n",
    "    returns the mean percentage error\n",
    "    \"\"\"\n",
    "    # converting list to array\n",
    "    if type(actual) == 'list':\n",
    "        actual = np.array(actual)\n",
    "    if type(yhat) == 'list':\n",
    "        yhat = np.array(yhat)\n",
    "        \n",
    "        \n",
    "    _mean = (actual - yhat)/actual\n",
    "    \n",
    "    return _mean.sum()/len(_mean)\n",
    "    \n",
    "    "
   ]
  },
  {
   "cell_type": "code",
   "execution_count": 31,
   "metadata": {},
   "outputs": [],
   "source": [
    "a1 = [1,2,3,4,5]\n",
    "b1 = [1,2,5,3,4]\n",
    "_a1_array = np.array(a1)\n",
    "_b1_array = np.array(b1)"
   ]
  },
  {
   "cell_type": "code",
   "execution_count": 32,
   "metadata": {},
   "outputs": [
    {
     "data": {
      "text/plain": [
       "-0.04333333333333332"
      ]
     },
     "execution_count": 32,
     "metadata": {},
     "output_type": "execute_result"
    }
   ],
   "source": [
    "_mean = (_a1_array - _b1_array)/_a1_array\n",
    "_mean.sum()/len(_mean)"
   ]
  },
  {
   "cell_type": "code",
   "execution_count": 33,
   "metadata": {},
   "outputs": [
    {
     "data": {
      "text/plain": [
       "list"
      ]
     },
     "execution_count": 33,
     "metadata": {},
     "output_type": "execute_result"
    }
   ],
   "source": [
    "type(a1)"
   ]
  },
  {
   "cell_type": "code",
   "execution_count": 35,
   "metadata": {},
   "outputs": [
    {
     "data": {
      "text/plain": [
       "-0.04333333333333332"
      ]
     },
     "execution_count": 35,
     "metadata": {},
     "output_type": "execute_result"
    }
   ],
   "source": [
    "mean_percentage_error(_a1_array, _b1_array)"
   ]
  },
  {
   "cell_type": "code",
   "execution_count": null,
   "metadata": {},
   "outputs": [],
   "source": []
  },
  {
   "cell_type": "code",
   "execution_count": null,
   "metadata": {},
   "outputs": [],
   "source": []
  },
  {
   "cell_type": "code",
   "execution_count": 46,
   "metadata": {},
   "outputs": [
    {
     "name": "stdout",
     "output_type": "stream",
     "text": [
      "Total Revenue from 09-06-2020 to 10-10-2020:  173780402.32\n"
     ]
    }
   ],
   "source": [
    "tr_start,tr_end = '2018-01-01','2020-09-05'\n",
    "te_start,te_end = '2020-09-06','2020-10-10'\n",
    "_total_dollars = 0\n",
    "_total_dollar_values = []\n",
    "for crossing,rate in crossing_rates.items():\n",
    "    _total_dollars += _df[te_start:te_end][crossing].sum() * rate\n",
    "    _total_dollar_values.append(_df[te_start:te_end][crossing].sum() * rate)\n",
    "\n",
    "    \n",
    "print('Total Revenue from 09-06-2020 to 10-10-2020: ',_total_dollars)"
   ]
  },
  {
   "cell_type": "code",
   "execution_count": 36,
   "metadata": {},
   "outputs": [
    {
     "data": {
      "text/html": [
       "<div>\n",
       "<style scoped>\n",
       "    .dataframe tbody tr th:only-of-type {\n",
       "        vertical-align: middle;\n",
       "    }\n",
       "\n",
       "    .dataframe tbody tr th {\n",
       "        vertical-align: top;\n",
       "    }\n",
       "\n",
       "    .dataframe thead th {\n",
       "        text-align: right;\n",
       "    }\n",
       "</style>\n",
       "<table border=\"1\" class=\"dataframe\">\n",
       "  <thead>\n",
       "    <tr style=\"text-align: right;\">\n",
       "      <th></th>\n",
       "      <th>bridges</th>\n",
       "      <th>Actual_Dollars</th>\n",
       "    </tr>\n",
       "  </thead>\n",
       "  <tbody>\n",
       "    <tr>\n",
       "      <th>0</th>\n",
       "      <td>(Brooklyn Battery, cash)</td>\n",
       "      <td>2281852.50</td>\n",
       "    </tr>\n",
       "    <tr>\n",
       "      <th>1</th>\n",
       "      <td>(Brooklyn Battery, ezpass)</td>\n",
       "      <td>9145011.96</td>\n",
       "    </tr>\n",
       "    <tr>\n",
       "      <th>2</th>\n",
       "      <td>(Cross Bay, cash)</td>\n",
       "      <td>553769.25</td>\n",
       "    </tr>\n",
       "    <tr>\n",
       "      <th>3</th>\n",
       "      <td>(Cross Bay, ezpass)</td>\n",
       "      <td>1491600.66</td>\n",
       "    </tr>\n",
       "    <tr>\n",
       "      <th>4</th>\n",
       "      <td>(Henry Hudson, cash)</td>\n",
       "      <td>2100210.00</td>\n",
       "    </tr>\n",
       "    <tr>\n",
       "      <th>5</th>\n",
       "      <td>(Henry Hudson, ezpass)</td>\n",
       "      <td>5092189.20</td>\n",
       "    </tr>\n",
       "    <tr>\n",
       "      <th>6</th>\n",
       "      <td>(Marine Parkway, cash)</td>\n",
       "      <td>464018.00</td>\n",
       "    </tr>\n",
       "    <tr>\n",
       "      <th>7</th>\n",
       "      <td>(Marine Parkway, ezpass)</td>\n",
       "      <td>1495395.19</td>\n",
       "    </tr>\n",
       "    <tr>\n",
       "      <th>8</th>\n",
       "      <td>(Queens Midtown, cash)</td>\n",
       "      <td>3810678.00</td>\n",
       "    </tr>\n",
       "    <tr>\n",
       "      <th>9</th>\n",
       "      <td>(Queens Midtown, ezpass)</td>\n",
       "      <td>11176191.00</td>\n",
       "    </tr>\n",
       "    <tr>\n",
       "      <th>10</th>\n",
       "      <td>(Throgs Neck, cash)</td>\n",
       "      <td>5524449.50</td>\n",
       "    </tr>\n",
       "    <tr>\n",
       "      <th>11</th>\n",
       "      <td>(Throgs Neck, ezpass)</td>\n",
       "      <td>19041670.08</td>\n",
       "    </tr>\n",
       "    <tr>\n",
       "      <th>12</th>\n",
       "      <td>(Triboro, cash)</td>\n",
       "      <td>9379787.00</td>\n",
       "    </tr>\n",
       "    <tr>\n",
       "      <th>13</th>\n",
       "      <td>(Triboro, ezpass)</td>\n",
       "      <td>28147477.32</td>\n",
       "    </tr>\n",
       "    <tr>\n",
       "      <th>14</th>\n",
       "      <td>(Verrazano, cash)</td>\n",
       "      <td>8283031.00</td>\n",
       "    </tr>\n",
       "    <tr>\n",
       "      <th>15</th>\n",
       "      <td>(Verrazano, ezpass)</td>\n",
       "      <td>36347561.28</td>\n",
       "    </tr>\n",
       "    <tr>\n",
       "      <th>16</th>\n",
       "      <td>(Whitestone, cash)</td>\n",
       "      <td>7528113.50</td>\n",
       "    </tr>\n",
       "    <tr>\n",
       "      <th>17</th>\n",
       "      <td>(Whitestone, ezpass)</td>\n",
       "      <td>21917396.88</td>\n",
       "    </tr>\n",
       "  </tbody>\n",
       "</table>\n",
       "</div>"
      ],
      "text/plain": [
       "                       bridges  Actual_Dollars\n",
       "0     (Brooklyn Battery, cash)      2281852.50\n",
       "1   (Brooklyn Battery, ezpass)      9145011.96\n",
       "2            (Cross Bay, cash)       553769.25\n",
       "3          (Cross Bay, ezpass)      1491600.66\n",
       "4         (Henry Hudson, cash)      2100210.00\n",
       "5       (Henry Hudson, ezpass)      5092189.20\n",
       "6       (Marine Parkway, cash)       464018.00\n",
       "7     (Marine Parkway, ezpass)      1495395.19\n",
       "8       (Queens Midtown, cash)      3810678.00\n",
       "9     (Queens Midtown, ezpass)     11176191.00\n",
       "10         (Throgs Neck, cash)      5524449.50\n",
       "11       (Throgs Neck, ezpass)     19041670.08\n",
       "12             (Triboro, cash)      9379787.00\n",
       "13           (Triboro, ezpass)     28147477.32\n",
       "14           (Verrazano, cash)      8283031.00\n",
       "15         (Verrazano, ezpass)     36347561.28\n",
       "16          (Whitestone, cash)      7528113.50\n",
       "17        (Whitestone, ezpass)     21917396.88"
      ]
     },
     "execution_count": 36,
     "metadata": {},
     "output_type": "execute_result"
    }
   ],
   "source": [
    "_results_df = pd.DataFrame()\n",
    "_results_df['bridges'] = list(crossing_rates.keys())\n",
    "# _results_df['dummy_MA7'] = dummy_MA7\n",
    "_results_df['Actual_Dollars'] = _total_dollar_values\n",
    "_results_df"
   ]
  },
  {
   "cell_type": "code",
   "execution_count": 46,
   "metadata": {},
   "outputs": [],
   "source": [
    "tr_start,tr_end = '2018-01-01','2020-09-05'\n",
    "te_start,te_end = '2020-09-06','2020-10-10'\n",
    "\n",
    "\n",
    "dummy_MA7 = []\n",
    "_dummy_dollars = 0\n",
    "for crossing,rate in crossing_rates.items():\n",
    "    tes = _df[te_start:te_end][crossing]\n",
    "    tra = _df[tr_start:tr_end][crossing]\n",
    "    _dummy = pd.DataFrame()\n",
    "    _dummy['datetime'] = pd.date_range(start='2020-09-06', end='2020-10-10')\n",
    "    _dummy.set_index('datetime', inplace=True)\n",
    "    _dummy[crossing] = tra.tail(7).mean()\n",
    "    \n",
    "    \n",
    "    \n",
    "    \n",
    "    dummy_MA7.append(mean_percentage_error(tes, _dummy[crossing]))\n",
    "#     _dummy_dollars += _dummy[crossing].sum() * rate\n",
    "\n",
    "# print('Error on Dollars forecast(test) for Dummy: ', _dummy_dollars - _total_dollars)"
   ]
  },
  {
   "cell_type": "code",
   "execution_count": 47,
   "metadata": {},
   "outputs": [
    {
     "data": {
      "text/plain": [
       "bridges           Brooklyn Battery\n",
       "Actual_Dollars          1.7378e+08\n",
       "Dummy_Avg7                -1.60936\n",
       "dtype: object"
      ]
     },
     "execution_count": 47,
     "metadata": {},
     "output_type": "execute_result"
    }
   ],
   "source": [
    "_results_df['Dummy_Avg7'] = dummy_MA7\n",
    "_results_df.sum(axis=0)"
   ]
  },
  {
   "cell_type": "code",
   "execution_count": null,
   "metadata": {},
   "outputs": [],
   "source": []
  },
  {
   "cell_type": "code",
   "execution_count": 49,
   "metadata": {},
   "outputs": [
    {
     "data": {
      "text/html": [
       "<div>\n",
       "<style scoped>\n",
       "    .dataframe tbody tr th:only-of-type {\n",
       "        vertical-align: middle;\n",
       "    }\n",
       "\n",
       "    .dataframe tbody tr th {\n",
       "        vertical-align: top;\n",
       "    }\n",
       "\n",
       "    .dataframe thead th {\n",
       "        text-align: right;\n",
       "    }\n",
       "</style>\n",
       "<table border=\"1\" class=\"dataframe\">\n",
       "  <thead>\n",
       "    <tr style=\"text-align: right;\">\n",
       "      <th></th>\n",
       "      <th>bridges</th>\n",
       "      <th>Actual_Dollars</th>\n",
       "      <th>Dummy_Avg7</th>\n",
       "    </tr>\n",
       "  </thead>\n",
       "  <tbody>\n",
       "    <tr>\n",
       "      <th>0</th>\n",
       "      <td>(Brooklyn Battery, cash)</td>\n",
       "      <td>2281852.50</td>\n",
       "      <td>-0.057684</td>\n",
       "    </tr>\n",
       "    <tr>\n",
       "      <th>1</th>\n",
       "      <td>(Brooklyn Battery, ezpass)</td>\n",
       "      <td>9145011.96</td>\n",
       "      <td>-0.066757</td>\n",
       "    </tr>\n",
       "    <tr>\n",
       "      <th>2</th>\n",
       "      <td>(Cross Bay, cash)</td>\n",
       "      <td>553769.25</td>\n",
       "      <td>-0.219075</td>\n",
       "    </tr>\n",
       "    <tr>\n",
       "      <th>3</th>\n",
       "      <td>(Cross Bay, ezpass)</td>\n",
       "      <td>1491600.66</td>\n",
       "      <td>-0.134245</td>\n",
       "    </tr>\n",
       "    <tr>\n",
       "      <th>4</th>\n",
       "      <td>(Henry Hudson, cash)</td>\n",
       "      <td>2100210.00</td>\n",
       "      <td>-0.047837</td>\n",
       "    </tr>\n",
       "    <tr>\n",
       "      <th>5</th>\n",
       "      <td>(Henry Hudson, ezpass)</td>\n",
       "      <td>5092189.20</td>\n",
       "      <td>-0.004591</td>\n",
       "    </tr>\n",
       "    <tr>\n",
       "      <th>6</th>\n",
       "      <td>(Marine Parkway, cash)</td>\n",
       "      <td>464018.00</td>\n",
       "      <td>-0.418440</td>\n",
       "    </tr>\n",
       "    <tr>\n",
       "      <th>7</th>\n",
       "      <td>(Marine Parkway, ezpass)</td>\n",
       "      <td>1495395.19</td>\n",
       "      <td>-0.224168</td>\n",
       "    </tr>\n",
       "    <tr>\n",
       "      <th>8</th>\n",
       "      <td>(Queens Midtown, cash)</td>\n",
       "      <td>3810678.00</td>\n",
       "      <td>-0.034336</td>\n",
       "    </tr>\n",
       "    <tr>\n",
       "      <th>9</th>\n",
       "      <td>(Queens Midtown, ezpass)</td>\n",
       "      <td>11176191.00</td>\n",
       "      <td>-0.016810</td>\n",
       "    </tr>\n",
       "    <tr>\n",
       "      <th>10</th>\n",
       "      <td>(Throgs Neck, cash)</td>\n",
       "      <td>5524449.50</td>\n",
       "      <td>-0.103390</td>\n",
       "    </tr>\n",
       "    <tr>\n",
       "      <th>11</th>\n",
       "      <td>(Throgs Neck, ezpass)</td>\n",
       "      <td>19041670.08</td>\n",
       "      <td>-0.058726</td>\n",
       "    </tr>\n",
       "    <tr>\n",
       "      <th>12</th>\n",
       "      <td>(Triboro, cash)</td>\n",
       "      <td>9379787.00</td>\n",
       "      <td>-0.026233</td>\n",
       "    </tr>\n",
       "    <tr>\n",
       "      <th>13</th>\n",
       "      <td>(Triboro, ezpass)</td>\n",
       "      <td>28147477.32</td>\n",
       "      <td>-0.008533</td>\n",
       "    </tr>\n",
       "    <tr>\n",
       "      <th>14</th>\n",
       "      <td>(Verrazano, cash)</td>\n",
       "      <td>8283031.00</td>\n",
       "      <td>-0.077210</td>\n",
       "    </tr>\n",
       "    <tr>\n",
       "      <th>15</th>\n",
       "      <td>(Verrazano, ezpass)</td>\n",
       "      <td>36347561.28</td>\n",
       "      <td>-0.030882</td>\n",
       "    </tr>\n",
       "    <tr>\n",
       "      <th>16</th>\n",
       "      <td>(Whitestone, cash)</td>\n",
       "      <td>7528113.50</td>\n",
       "      <td>-0.052903</td>\n",
       "    </tr>\n",
       "    <tr>\n",
       "      <th>17</th>\n",
       "      <td>(Whitestone, ezpass)</td>\n",
       "      <td>21917396.88</td>\n",
       "      <td>-0.027544</td>\n",
       "    </tr>\n",
       "  </tbody>\n",
       "</table>\n",
       "</div>"
      ],
      "text/plain": [
       "                       bridges  Actual_Dollars  Dummy_Avg7\n",
       "0     (Brooklyn Battery, cash)      2281852.50   -0.057684\n",
       "1   (Brooklyn Battery, ezpass)      9145011.96   -0.066757\n",
       "2            (Cross Bay, cash)       553769.25   -0.219075\n",
       "3          (Cross Bay, ezpass)      1491600.66   -0.134245\n",
       "4         (Henry Hudson, cash)      2100210.00   -0.047837\n",
       "5       (Henry Hudson, ezpass)      5092189.20   -0.004591\n",
       "6       (Marine Parkway, cash)       464018.00   -0.418440\n",
       "7     (Marine Parkway, ezpass)      1495395.19   -0.224168\n",
       "8       (Queens Midtown, cash)      3810678.00   -0.034336\n",
       "9     (Queens Midtown, ezpass)     11176191.00   -0.016810\n",
       "10         (Throgs Neck, cash)      5524449.50   -0.103390\n",
       "11       (Throgs Neck, ezpass)     19041670.08   -0.058726\n",
       "12             (Triboro, cash)      9379787.00   -0.026233\n",
       "13           (Triboro, ezpass)     28147477.32   -0.008533\n",
       "14           (Verrazano, cash)      8283031.00   -0.077210\n",
       "15         (Verrazano, ezpass)     36347561.28   -0.030882\n",
       "16          (Whitestone, cash)      7528113.50   -0.052903\n",
       "17        (Whitestone, ezpass)     21917396.88   -0.027544"
      ]
     },
     "execution_count": 49,
     "metadata": {},
     "output_type": "execute_result"
    }
   ],
   "source": [
    "_results_df"
   ]
  },
  {
   "cell_type": "code",
   "execution_count": 50,
   "metadata": {},
   "outputs": [
    {
     "data": {
      "text/plain": [
       "Actual_Dollars    9.654467e+06\n",
       "Dummy_Avg7       -8.940915e-02\n",
       "dtype: float64"
      ]
     },
     "execution_count": 50,
     "metadata": {},
     "output_type": "execute_result"
    }
   ],
   "source": [
    "_results_df.mean(axis=0)"
   ]
  },
  {
   "cell_type": "code",
   "execution_count": null,
   "metadata": {},
   "outputs": [],
   "source": []
  },
  {
   "cell_type": "code",
   "execution_count": null,
   "metadata": {},
   "outputs": [],
   "source": []
  },
  {
   "cell_type": "markdown",
   "metadata": {},
   "source": [
    "### SARIMAX\n",
    "I will use the features created from above as my independent exogenous variables. <br>\n",
    "the values (p,d,q)x(P,D,Q,m), and trend was found through grid searching. <br>\n",
    "\n",
    "I have used m=7 because the data points are daily."
   ]
  },
  {
   "cell_type": "markdown",
   "metadata": {},
   "source": [
    "### One Hot Encoder\n",
    "After all features have been created, I will need to dummify the categorical features for SARIMAX."
   ]
  },
  {
   "cell_type": "code",
   "execution_count": 51,
   "metadata": {},
   "outputs": [
    {
     "name": "stderr",
     "output_type": "stream",
     "text": [
      "C:\\Users\\albert\\Anaconda3\\lib\\site-packages\\pandas\\core\\reshape\\merge.py:643: UserWarning:\n",
      "\n",
      "merging between different levels can give an unintended result (2 levels on the left,1 on the right)\n",
      "\n"
     ]
    },
    {
     "data": {
      "text/plain": [
       "(1014, 31)"
      ]
     },
     "execution_count": 51,
     "metadata": {},
     "output_type": "execute_result"
    }
   ],
   "source": [
    "ohe = OneHotEncoder(drop='first')\n",
    "categorical_columns = ['month', 'dayofweek', 'quarter', 'Phase']\n",
    "_df_ohe = ohe.fit_transform(_df[categorical_columns]).toarray()\n",
    "_df_ohe_df = pd.DataFrame(data = _df_ohe,\n",
    "                           index = _df.index,\n",
    "                          columns = ohe.get_feature_names(categorical_columns))\n",
    "\n",
    "_df_merged = _df.merge(_df_ohe_df, left_index=True, right_index=True)\n",
    "_df_ohe_df['weekend'] = _df['weekend']\n",
    "_df_ohe_df['holiday'] = _df['holiday']\n",
    "_df_ohe_df['temp_average'] = _df['temp_average']\n",
    "_df_ohe_df.shape"
   ]
  },
  {
   "cell_type": "code",
   "execution_count": 52,
   "metadata": {},
   "outputs": [
    {
     "data": {
      "text/plain": [
       "Index([  ('Brooklyn Battery', 'cash'), ('Brooklyn Battery', 'ezpass'),\n",
       "                ('Cross Bay', 'cash'),        ('Cross Bay', 'ezpass'),\n",
       "             ('Henry Hudson', 'cash'),     ('Henry Hudson', 'ezpass'),\n",
       "           ('Marine Parkway', 'cash'),   ('Marine Parkway', 'ezpass'),\n",
       "           ('Queens Midtown', 'cash'),   ('Queens Midtown', 'ezpass'),\n",
       "              ('Throgs Neck', 'cash'),      ('Throgs Neck', 'ezpass'),\n",
       "                  ('Triboro', 'cash'),          ('Triboro', 'ezpass'),\n",
       "                ('Verrazano', 'cash'),        ('Verrazano', 'ezpass'),\n",
       "               ('Whitestone', 'cash'),       ('Whitestone', 'ezpass'),\n",
       "                        ('month', ''),              ('dayofweek', ''),\n",
       "                         ('year', ''),                   ('week', ''),\n",
       "                          ('day', ''),                ('quarter', ''),\n",
       "                    ('dayofyear', ''),                  ('Phase', ''),\n",
       "                      ('weekend', ''),                ('holiday', ''),\n",
       "                 ('temp_average', ''),                      'month_2',\n",
       "                            'month_3',                      'month_4',\n",
       "                            'month_5',                      'month_6',\n",
       "                            'month_7',                      'month_8',\n",
       "                            'month_9',                     'month_10',\n",
       "                           'month_11',                     'month_12',\n",
       "                        'dayofweek_1',                  'dayofweek_2',\n",
       "                        'dayofweek_3',                  'dayofweek_4',\n",
       "                        'dayofweek_5',                  'dayofweek_6',\n",
       "                          'quarter_2',                    'quarter_3',\n",
       "                          'quarter_4',                      'Phase_0',\n",
       "                            'Phase_1',                      'Phase_2',\n",
       "                            'Phase_3',                      'Phase_4',\n",
       "                            'Phase_5',                      'Phase_6',\n",
       "                            'Phase_7'],\n",
       "      dtype='object')"
      ]
     },
     "execution_count": 52,
     "metadata": {},
     "output_type": "execute_result"
    }
   ],
   "source": [
    "_df_merged.columns"
   ]
  },
  {
   "cell_type": "code",
   "execution_count": 53,
   "metadata": {},
   "outputs": [],
   "source": [
    "_df_merged.rename(columns = {('month', ''):'month', ('year', ''):'year', ('day', ''):'day', ('dayofyear', ''): 'dayofyear', \n",
    "                             ('weekend', ''):'weekend', ('temp_average', ''):'temp_average', ('dayofweek', ''):'dayofweek',\n",
    "                            ('week', ''):'week', ('quarter', ''):'quarter', ('Phase', ''):'Phase', ('holiday', ''):'holiday'}, inplace=True)"
   ]
  },
  {
   "cell_type": "code",
   "execution_count": null,
   "metadata": {},
   "outputs": [],
   "source": []
  },
  {
   "cell_type": "code",
   "execution_count": 54,
   "metadata": {},
   "outputs": [],
   "source": [
    "def return_sarimax_dollars(bridge, rate, _order, _seasonal_order, _trend):\n",
    "    \"\"\"\n",
    "    returns arima rmse\n",
    "    \"\"\"\n",
    "    tr_start,tr_end = '2018-01-01','2020-09-05'\n",
    "    te_start,te_end = '2020-09-06','2020-10-10'\n",
    "    tra = _df_merged[tr_start:tr_end][bridge]\n",
    "    tes = _df_merged[te_start:te_end][bridge]\n",
    "    exog_train = _df_ohe_df[tr_start:tr_end]\n",
    "    exog_test = _df_ohe_df[te_start:te_end]\n",
    "    \n",
    "    model_SARIMAX = SARIMAX(tra, order=_order, seasonal_order= _seasonal_order, exog = exog_train, trend = _trend,\n",
    "                        freq='D', enforce_stationarity=False, enforce_invertibility=False)\n",
    "    results = model_SARIMAX.fit(maxiter=1000)\n",
    "    \n",
    "    pred = results.predict(te_start,te_end, exog = exog_test)\n",
    "\n",
    "    \n",
    "    _mpe = mean_percentage_error(tes, pred)\n",
    "    \n",
    "    return _mpe"
   ]
  },
  {
   "cell_type": "markdown",
   "metadata": {},
   "source": [
    "### Grid Search\n",
    "I took this technique from machine learning mastery. It brute forces the combinations. <br>\n",
    "I have set m = 7 because this is daily data. <br>\n",
    "The selected params were (1,1,2)x(1,0,1,7) trend='n'\n"
   ]
  },
  {
   "cell_type": "code",
   "execution_count": 96,
   "metadata": {},
   "outputs": [],
   "source": [
    "# code was taken from machine learning mastery\n",
    "models = list()\n",
    "p_params = [0, 1, 2]\n",
    "d_params = [0, 1]\n",
    "q_params = [0, 1, 2]\n",
    "t_params = ['n','c','t','ct']\n",
    "P_params = [0, 1, 2]\n",
    "D_params = [0, 1]\n",
    "Q_params = [0, 1, 2]\n",
    "m_params = [7]\n",
    "# create config instances\n",
    "for p in p_params:\n",
    "    for d in d_params:\n",
    "        for q in q_params:\n",
    "            for t in t_params:\n",
    "                for P in P_params:\n",
    "                    for D in D_params:\n",
    "                        for Q in Q_params:\n",
    "                            for m in m_params:\n",
    "                                cfg = [(p,d,q), (P,D,Q,m), t]\n",
    "                                models.append(cfg)\n"
   ]
  },
  {
   "cell_type": "code",
   "execution_count": 97,
   "metadata": {},
   "outputs": [],
   "source": [
    "# # This grid search took around 40 hours. Please don't run this.\n",
    "# _grid_sarimax = []\n",
    "# for model in tqdm(models):\n",
    "#     _each_grid = []\n",
    "#     for i in bridges:\n",
    "#         _each_grid.append(return_sarimax_rmse(i, model[0], model[1], model[2]))\n",
    "#     print((sum(l7), model))\n",
    "#     _grid_sarimax.append((sum(l7), model))"
   ]
  },
  {
   "cell_type": "code",
   "execution_count": 55,
   "metadata": {},
   "outputs": [
    {
     "name": "stderr",
     "output_type": "stream",
     "text": [
      "100%|██████████| 18/18 [03:03<00:00, 10.20s/it]\n"
     ]
    }
   ],
   "source": [
    "# Please note, I fit a sarimax model for each of the 9 bridges and returned an rmse from the test set.\n",
    "# I should have 9 rmse (one for each bridge), the summation of the rmse will be the final metric.\n",
    "\n",
    "\n",
    "    \n",
    "_sarimax_dollar_values = []\n",
    "_sarimax_dollars = 0\n",
    "for crossing,rate in tqdm(crossing_rates.items()):\n",
    "    _bridge_dollar = return_sarimax_dollars(crossing, rate, (1,1,2), (1,0,1,7), 'n')\n",
    "    _sarimax_dollars += _bridge_dollar\n",
    "    _sarimax_dollar_values.append(_bridge_dollar)"
   ]
  },
  {
   "cell_type": "code",
   "execution_count": 56,
   "metadata": {},
   "outputs": [
    {
     "name": "stdout",
     "output_type": "stream",
     "text": [
      "Error on Dollars forecast(test) for SARMIAX:  -173780402.99757555\n"
     ]
    }
   ],
   "source": [
    "print('Error on Dollars forecast(test) for SARMIAX: ',_sarimax_dollars - _total_dollars)"
   ]
  },
  {
   "cell_type": "code",
   "execution_count": 57,
   "metadata": {},
   "outputs": [
    {
     "data": {
      "text/html": [
       "<div>\n",
       "<style scoped>\n",
       "    .dataframe tbody tr th:only-of-type {\n",
       "        vertical-align: middle;\n",
       "    }\n",
       "\n",
       "    .dataframe tbody tr th {\n",
       "        vertical-align: top;\n",
       "    }\n",
       "\n",
       "    .dataframe thead th {\n",
       "        text-align: right;\n",
       "    }\n",
       "</style>\n",
       "<table border=\"1\" class=\"dataframe\">\n",
       "  <thead>\n",
       "    <tr style=\"text-align: right;\">\n",
       "      <th></th>\n",
       "      <th>bridges</th>\n",
       "      <th>Actual_Dollars</th>\n",
       "      <th>Dummy_Avg7</th>\n",
       "      <th>SARIMAX</th>\n",
       "    </tr>\n",
       "  </thead>\n",
       "  <tbody>\n",
       "    <tr>\n",
       "      <th>0</th>\n",
       "      <td>(Brooklyn Battery, cash)</td>\n",
       "      <td>2281852.50</td>\n",
       "      <td>-0.057684</td>\n",
       "      <td>-0.013255</td>\n",
       "    </tr>\n",
       "    <tr>\n",
       "      <th>1</th>\n",
       "      <td>(Brooklyn Battery, ezpass)</td>\n",
       "      <td>9145011.96</td>\n",
       "      <td>-0.066757</td>\n",
       "      <td>-0.023781</td>\n",
       "    </tr>\n",
       "    <tr>\n",
       "      <th>2</th>\n",
       "      <td>(Cross Bay, cash)</td>\n",
       "      <td>553769.25</td>\n",
       "      <td>-0.219075</td>\n",
       "      <td>-0.134317</td>\n",
       "    </tr>\n",
       "    <tr>\n",
       "      <th>3</th>\n",
       "      <td>(Cross Bay, ezpass)</td>\n",
       "      <td>1491600.66</td>\n",
       "      <td>-0.134245</td>\n",
       "      <td>-0.067424</td>\n",
       "    </tr>\n",
       "    <tr>\n",
       "      <th>4</th>\n",
       "      <td>(Henry Hudson, cash)</td>\n",
       "      <td>2100210.00</td>\n",
       "      <td>-0.047837</td>\n",
       "      <td>-0.011267</td>\n",
       "    </tr>\n",
       "    <tr>\n",
       "      <th>5</th>\n",
       "      <td>(Henry Hudson, ezpass)</td>\n",
       "      <td>5092189.20</td>\n",
       "      <td>-0.004591</td>\n",
       "      <td>0.034878</td>\n",
       "    </tr>\n",
       "    <tr>\n",
       "      <th>6</th>\n",
       "      <td>(Marine Parkway, cash)</td>\n",
       "      <td>464018.00</td>\n",
       "      <td>-0.418440</td>\n",
       "      <td>-0.331336</td>\n",
       "    </tr>\n",
       "    <tr>\n",
       "      <th>7</th>\n",
       "      <td>(Marine Parkway, ezpass)</td>\n",
       "      <td>1495395.19</td>\n",
       "      <td>-0.224168</td>\n",
       "      <td>-0.136274</td>\n",
       "    </tr>\n",
       "    <tr>\n",
       "      <th>8</th>\n",
       "      <td>(Queens Midtown, cash)</td>\n",
       "      <td>3810678.00</td>\n",
       "      <td>-0.034336</td>\n",
       "      <td>0.024303</td>\n",
       "    </tr>\n",
       "    <tr>\n",
       "      <th>9</th>\n",
       "      <td>(Queens Midtown, ezpass)</td>\n",
       "      <td>11176191.00</td>\n",
       "      <td>-0.016810</td>\n",
       "      <td>0.032379</td>\n",
       "    </tr>\n",
       "    <tr>\n",
       "      <th>10</th>\n",
       "      <td>(Throgs Neck, cash)</td>\n",
       "      <td>5524449.50</td>\n",
       "      <td>-0.103390</td>\n",
       "      <td>-0.041337</td>\n",
       "    </tr>\n",
       "    <tr>\n",
       "      <th>11</th>\n",
       "      <td>(Throgs Neck, ezpass)</td>\n",
       "      <td>19041670.08</td>\n",
       "      <td>-0.058726</td>\n",
       "      <td>-0.022539</td>\n",
       "    </tr>\n",
       "    <tr>\n",
       "      <th>12</th>\n",
       "      <td>(Triboro, cash)</td>\n",
       "      <td>9379787.00</td>\n",
       "      <td>-0.026233</td>\n",
       "      <td>0.010518</td>\n",
       "    </tr>\n",
       "    <tr>\n",
       "      <th>13</th>\n",
       "      <td>(Triboro, ezpass)</td>\n",
       "      <td>28147477.32</td>\n",
       "      <td>-0.008533</td>\n",
       "      <td>0.032192</td>\n",
       "    </tr>\n",
       "    <tr>\n",
       "      <th>14</th>\n",
       "      <td>(Verrazano, cash)</td>\n",
       "      <td>8283031.00</td>\n",
       "      <td>-0.077210</td>\n",
       "      <td>-0.025978</td>\n",
       "    </tr>\n",
       "    <tr>\n",
       "      <th>15</th>\n",
       "      <td>(Verrazano, ezpass)</td>\n",
       "      <td>36347561.28</td>\n",
       "      <td>-0.030882</td>\n",
       "      <td>0.005058</td>\n",
       "    </tr>\n",
       "    <tr>\n",
       "      <th>16</th>\n",
       "      <td>(Whitestone, cash)</td>\n",
       "      <td>7528113.50</td>\n",
       "      <td>-0.052903</td>\n",
       "      <td>-0.008580</td>\n",
       "    </tr>\n",
       "    <tr>\n",
       "      <th>17</th>\n",
       "      <td>(Whitestone, ezpass)</td>\n",
       "      <td>21917396.88</td>\n",
       "      <td>-0.027544</td>\n",
       "      <td>-0.000817</td>\n",
       "    </tr>\n",
       "  </tbody>\n",
       "</table>\n",
       "</div>"
      ],
      "text/plain": [
       "                       bridges  Actual_Dollars  Dummy_Avg7   SARIMAX\n",
       "0     (Brooklyn Battery, cash)      2281852.50   -0.057684 -0.013255\n",
       "1   (Brooklyn Battery, ezpass)      9145011.96   -0.066757 -0.023781\n",
       "2            (Cross Bay, cash)       553769.25   -0.219075 -0.134317\n",
       "3          (Cross Bay, ezpass)      1491600.66   -0.134245 -0.067424\n",
       "4         (Henry Hudson, cash)      2100210.00   -0.047837 -0.011267\n",
       "5       (Henry Hudson, ezpass)      5092189.20   -0.004591  0.034878\n",
       "6       (Marine Parkway, cash)       464018.00   -0.418440 -0.331336\n",
       "7     (Marine Parkway, ezpass)      1495395.19   -0.224168 -0.136274\n",
       "8       (Queens Midtown, cash)      3810678.00   -0.034336  0.024303\n",
       "9     (Queens Midtown, ezpass)     11176191.00   -0.016810  0.032379\n",
       "10         (Throgs Neck, cash)      5524449.50   -0.103390 -0.041337\n",
       "11       (Throgs Neck, ezpass)     19041670.08   -0.058726 -0.022539\n",
       "12             (Triboro, cash)      9379787.00   -0.026233  0.010518\n",
       "13           (Triboro, ezpass)     28147477.32   -0.008533  0.032192\n",
       "14           (Verrazano, cash)      8283031.00   -0.077210 -0.025978\n",
       "15         (Verrazano, ezpass)     36347561.28   -0.030882  0.005058\n",
       "16          (Whitestone, cash)      7528113.50   -0.052903 -0.008580\n",
       "17        (Whitestone, ezpass)     21917396.88   -0.027544 -0.000817"
      ]
     },
     "execution_count": 57,
     "metadata": {},
     "output_type": "execute_result"
    }
   ],
   "source": [
    "_results_df['SARIMAX'] = _sarimax_dollar_values\n",
    "_results_df"
   ]
  },
  {
   "cell_type": "code",
   "execution_count": 58,
   "metadata": {},
   "outputs": [
    {
     "data": {
      "text/plain": [
       "Actual_Dollars    9.654467e+06\n",
       "Dummy_Avg7       -8.940915e-02\n",
       "SARIMAX          -3.764309e-02\n",
       "dtype: float64"
      ]
     },
     "execution_count": 58,
     "metadata": {},
     "output_type": "execute_result"
    }
   ],
   "source": [
    "_results_df.mean(axis=0)"
   ]
  },
  {
   "cell_type": "markdown",
   "metadata": {},
   "source": [
    "### FBProphet\n",
    "After implement SARIMAX, I will now move on to FBProphet. <br>\n",
    "Please note, the FBProphet was not hyperturned"
   ]
  },
  {
   "cell_type": "code",
   "execution_count": 59,
   "metadata": {},
   "outputs": [
    {
     "data": {
      "text/plain": [
       "Index([  ('Brooklyn Battery', 'cash'), ('Brooklyn Battery', 'ezpass'),\n",
       "                ('Cross Bay', 'cash'),        ('Cross Bay', 'ezpass'),\n",
       "             ('Henry Hudson', 'cash'),     ('Henry Hudson', 'ezpass'),\n",
       "           ('Marine Parkway', 'cash'),   ('Marine Parkway', 'ezpass'),\n",
       "           ('Queens Midtown', 'cash'),   ('Queens Midtown', 'ezpass'),\n",
       "              ('Throgs Neck', 'cash'),      ('Throgs Neck', 'ezpass'),\n",
       "                  ('Triboro', 'cash'),          ('Triboro', 'ezpass'),\n",
       "                ('Verrazano', 'cash'),        ('Verrazano', 'ezpass'),\n",
       "               ('Whitestone', 'cash'),       ('Whitestone', 'ezpass'),\n",
       "                              'month',                    'dayofweek',\n",
       "                               'year',                         'week',\n",
       "                                'day',                      'quarter',\n",
       "                          'dayofyear',                        'Phase',\n",
       "                            'weekend',                      'holiday',\n",
       "                       'temp_average',                      'month_2',\n",
       "                            'month_3',                      'month_4',\n",
       "                            'month_5',                      'month_6',\n",
       "                            'month_7',                      'month_8',\n",
       "                            'month_9',                     'month_10',\n",
       "                           'month_11',                     'month_12',\n",
       "                        'dayofweek_1',                  'dayofweek_2',\n",
       "                        'dayofweek_3',                  'dayofweek_4',\n",
       "                        'dayofweek_5',                  'dayofweek_6',\n",
       "                          'quarter_2',                    'quarter_3',\n",
       "                          'quarter_4',                      'Phase_0',\n",
       "                            'Phase_1',                      'Phase_2',\n",
       "                            'Phase_3',                      'Phase_4',\n",
       "                            'Phase_5',                      'Phase_6',\n",
       "                            'Phase_7'],\n",
       "      dtype='object')"
      ]
     },
     "execution_count": 59,
     "metadata": {},
     "output_type": "execute_result"
    }
   ],
   "source": [
    "_df_merged.columns"
   ]
  },
  {
   "cell_type": "code",
   "execution_count": 67,
   "metadata": {},
   "outputs": [],
   "source": [
    "tes = _df_merged[te_start:te_end][('Brooklyn Battery', 'cash')]"
   ]
  },
  {
   "cell_type": "code",
   "execution_count": 69,
   "metadata": {},
   "outputs": [
    {
     "data": {
      "text/plain": [
       "array([6117, 5096, 7067, 7299, 7001, 8412, 6373, 5622, 7039, 7059, 7144,\n",
       "       7414, 7892, 6688, 5145, 6883, 7137, 7354, 7553, 8190, 6756, 5292,\n",
       "       5762, 6881, 7298, 7871, 7681, 7157, 4910, 6750, 7093, 7090, 7313,\n",
       "       7540, 6316], dtype=int64)"
      ]
     },
     "execution_count": 69,
     "metadata": {},
     "output_type": "execute_result"
    }
   ],
   "source": [
    "tes.values"
   ]
  },
  {
   "cell_type": "code",
   "execution_count": null,
   "metadata": {},
   "outputs": [],
   "source": []
  },
  {
   "cell_type": "code",
   "execution_count": null,
   "metadata": {},
   "outputs": [],
   "source": []
  },
  {
   "cell_type": "code",
   "execution_count": 70,
   "metadata": {},
   "outputs": [],
   "source": [
    "def return_prophet_dollars(bridge, rate):\n",
    "    tr_start,tr_end = '2018-01-01','2020-09-05'\n",
    "    te_start,te_end = '2020-09-06','2020-10-10'\n",
    "    tra = _df_merged[tr_start:tr_end][[bridge]]\n",
    "    tes = _df_merged[te_start:te_end][bridge]\n",
    "\n",
    "    _fb_exog = _df_merged[['month', 'dayofweek', 'quarter',\n",
    "           'Phase', 'weekend', 'holiday', 'temp_average']]\n",
    "\n",
    "    tra = tra.join(_fb_exog)\n",
    "\n",
    "\n",
    "\n",
    "    exog_train = _df_ohe_df[tr_start:tr_end]\n",
    "\n",
    "    tra = tra.reset_index()\n",
    "    tra = tra.rename(columns = {bridge:'y', 'datetime': 'ds'})\n",
    "\n",
    "\n",
    "\n",
    "    m = Prophet(\n",
    "           changepoint_prior_scale= 0.1,\n",
    "                      holidays_prior_scale = 0.1,\n",
    "                      n_changepoints = 300,\n",
    "                      seasonality_mode = 'additive',\n",
    "                      weekly_seasonality=True,\n",
    "                      daily_seasonality = True,\n",
    "                      yearly_seasonality = True,\n",
    "                      interval_width=0.95)\n",
    "    for i in _fb_exog.columns:\n",
    "        m.add_regressor(i)\n",
    "\n",
    "\n",
    "    m.fit(tra)\n",
    "    \n",
    "    # Please change the periods after changing the te_start and te_end. For this case i have made periods 35 because there are 35 days on the the test set.\n",
    "    future = m.make_future_dataframe(periods=35)\n",
    "    future.set_index('ds', inplace=True)\n",
    "    future = future.join(_fb_exog)\n",
    "    future.reset_index(inplace=True)\n",
    "    pred = m.predict(future[-35:])\n",
    "\n",
    "    \n",
    "    _mpe = mean_percentage_error(tes.values, pred['yhat'])\n",
    "    \n",
    "    return _mpe"
   ]
  },
  {
   "cell_type": "code",
   "execution_count": 71,
   "metadata": {},
   "outputs": [
    {
     "name": "stderr",
     "output_type": "stream",
     "text": [
      "100%|██████████| 18/18 [09:43<00:00, 32.44s/it]\n"
     ]
    }
   ],
   "source": [
    "_fbprophet_dollar_values = []\n",
    "\n",
    "_fbprophet_dollars = 0\n",
    "for crossing,rate in tqdm(crossing_rates.items()):\n",
    "    _dollar_value = return_prophet_dollars(crossing, rate)\n",
    "    _fbprophet_dollars += _dollar_value\n",
    "    _fbprophet_dollar_values.append(_dollar_value)\n"
   ]
  },
  {
   "cell_type": "code",
   "execution_count": 72,
   "metadata": {},
   "outputs": [
    {
     "data": {
      "text/plain": [
       "[0.006648354539932687,\n",
       " -0.032989236524954425,\n",
       " 0.049410565440886255,\n",
       " 0.02944639339093983,\n",
       " 0.053382584360827684,\n",
       " -0.023421900259215735,\n",
       " -0.11678527871643402,\n",
       " 0.08323458079671309,\n",
       " 0.08728090697686784,\n",
       " 0.08462639917451201,\n",
       " 0.026946502196657236,\n",
       " -0.03609827336965267,\n",
       " 0.007906823993336393,\n",
       " 0.004238339984595171,\n",
       " 0.003278085684468994,\n",
       " -0.030116515658124805,\n",
       " 0.03464690099781207,\n",
       " -0.003914178084274629]"
      ]
     },
     "execution_count": 72,
     "metadata": {},
     "output_type": "execute_result"
    }
   ],
   "source": [
    "_fbprophet_dollar_values"
   ]
  },
  {
   "cell_type": "code",
   "execution_count": 73,
   "metadata": {},
   "outputs": [
    {
     "name": "stdout",
     "output_type": "stream",
     "text": [
      "Error on Dollars forecast(test) for FBProphet:  -173780402.09227893\n"
     ]
    }
   ],
   "source": [
    "print('Error on Dollars forecast(test) for FBProphet: ',_fbprophet_dollars - _total_dollars)"
   ]
  },
  {
   "cell_type": "code",
   "execution_count": 74,
   "metadata": {},
   "outputs": [],
   "source": [
    "_results_df['FBProphet'] = _fbprophet_dollar_values"
   ]
  },
  {
   "cell_type": "code",
   "execution_count": 75,
   "metadata": {},
   "outputs": [
    {
     "data": {
      "text/html": [
       "<div>\n",
       "<style scoped>\n",
       "    .dataframe tbody tr th:only-of-type {\n",
       "        vertical-align: middle;\n",
       "    }\n",
       "\n",
       "    .dataframe tbody tr th {\n",
       "        vertical-align: top;\n",
       "    }\n",
       "\n",
       "    .dataframe thead th {\n",
       "        text-align: right;\n",
       "    }\n",
       "</style>\n",
       "<table border=\"1\" class=\"dataframe\">\n",
       "  <thead>\n",
       "    <tr style=\"text-align: right;\">\n",
       "      <th></th>\n",
       "      <th>bridges</th>\n",
       "      <th>Actual_Dollars</th>\n",
       "      <th>Dummy_Avg7</th>\n",
       "      <th>SARIMAX</th>\n",
       "      <th>FBProphet</th>\n",
       "    </tr>\n",
       "  </thead>\n",
       "  <tbody>\n",
       "    <tr>\n",
       "      <th>0</th>\n",
       "      <td>(Brooklyn Battery, cash)</td>\n",
       "      <td>2281852.50</td>\n",
       "      <td>-0.057684</td>\n",
       "      <td>-0.013255</td>\n",
       "      <td>0.006648</td>\n",
       "    </tr>\n",
       "    <tr>\n",
       "      <th>1</th>\n",
       "      <td>(Brooklyn Battery, ezpass)</td>\n",
       "      <td>9145011.96</td>\n",
       "      <td>-0.066757</td>\n",
       "      <td>-0.023781</td>\n",
       "      <td>-0.032989</td>\n",
       "    </tr>\n",
       "    <tr>\n",
       "      <th>2</th>\n",
       "      <td>(Cross Bay, cash)</td>\n",
       "      <td>553769.25</td>\n",
       "      <td>-0.219075</td>\n",
       "      <td>-0.134317</td>\n",
       "      <td>0.049411</td>\n",
       "    </tr>\n",
       "    <tr>\n",
       "      <th>3</th>\n",
       "      <td>(Cross Bay, ezpass)</td>\n",
       "      <td>1491600.66</td>\n",
       "      <td>-0.134245</td>\n",
       "      <td>-0.067424</td>\n",
       "      <td>0.029446</td>\n",
       "    </tr>\n",
       "    <tr>\n",
       "      <th>4</th>\n",
       "      <td>(Henry Hudson, cash)</td>\n",
       "      <td>2100210.00</td>\n",
       "      <td>-0.047837</td>\n",
       "      <td>-0.011267</td>\n",
       "      <td>0.053383</td>\n",
       "    </tr>\n",
       "    <tr>\n",
       "      <th>5</th>\n",
       "      <td>(Henry Hudson, ezpass)</td>\n",
       "      <td>5092189.20</td>\n",
       "      <td>-0.004591</td>\n",
       "      <td>0.034878</td>\n",
       "      <td>-0.023422</td>\n",
       "    </tr>\n",
       "    <tr>\n",
       "      <th>6</th>\n",
       "      <td>(Marine Parkway, cash)</td>\n",
       "      <td>464018.00</td>\n",
       "      <td>-0.418440</td>\n",
       "      <td>-0.331336</td>\n",
       "      <td>-0.116785</td>\n",
       "    </tr>\n",
       "    <tr>\n",
       "      <th>7</th>\n",
       "      <td>(Marine Parkway, ezpass)</td>\n",
       "      <td>1495395.19</td>\n",
       "      <td>-0.224168</td>\n",
       "      <td>-0.136274</td>\n",
       "      <td>0.083235</td>\n",
       "    </tr>\n",
       "    <tr>\n",
       "      <th>8</th>\n",
       "      <td>(Queens Midtown, cash)</td>\n",
       "      <td>3810678.00</td>\n",
       "      <td>-0.034336</td>\n",
       "      <td>0.024303</td>\n",
       "      <td>0.087281</td>\n",
       "    </tr>\n",
       "    <tr>\n",
       "      <th>9</th>\n",
       "      <td>(Queens Midtown, ezpass)</td>\n",
       "      <td>11176191.00</td>\n",
       "      <td>-0.016810</td>\n",
       "      <td>0.032379</td>\n",
       "      <td>0.084626</td>\n",
       "    </tr>\n",
       "    <tr>\n",
       "      <th>10</th>\n",
       "      <td>(Throgs Neck, cash)</td>\n",
       "      <td>5524449.50</td>\n",
       "      <td>-0.103390</td>\n",
       "      <td>-0.041337</td>\n",
       "      <td>0.026947</td>\n",
       "    </tr>\n",
       "    <tr>\n",
       "      <th>11</th>\n",
       "      <td>(Throgs Neck, ezpass)</td>\n",
       "      <td>19041670.08</td>\n",
       "      <td>-0.058726</td>\n",
       "      <td>-0.022539</td>\n",
       "      <td>-0.036098</td>\n",
       "    </tr>\n",
       "    <tr>\n",
       "      <th>12</th>\n",
       "      <td>(Triboro, cash)</td>\n",
       "      <td>9379787.00</td>\n",
       "      <td>-0.026233</td>\n",
       "      <td>0.010518</td>\n",
       "      <td>0.007907</td>\n",
       "    </tr>\n",
       "    <tr>\n",
       "      <th>13</th>\n",
       "      <td>(Triboro, ezpass)</td>\n",
       "      <td>28147477.32</td>\n",
       "      <td>-0.008533</td>\n",
       "      <td>0.032192</td>\n",
       "      <td>0.004238</td>\n",
       "    </tr>\n",
       "    <tr>\n",
       "      <th>14</th>\n",
       "      <td>(Verrazano, cash)</td>\n",
       "      <td>8283031.00</td>\n",
       "      <td>-0.077210</td>\n",
       "      <td>-0.025978</td>\n",
       "      <td>0.003278</td>\n",
       "    </tr>\n",
       "    <tr>\n",
       "      <th>15</th>\n",
       "      <td>(Verrazano, ezpass)</td>\n",
       "      <td>36347561.28</td>\n",
       "      <td>-0.030882</td>\n",
       "      <td>0.005058</td>\n",
       "      <td>-0.030117</td>\n",
       "    </tr>\n",
       "    <tr>\n",
       "      <th>16</th>\n",
       "      <td>(Whitestone, cash)</td>\n",
       "      <td>7528113.50</td>\n",
       "      <td>-0.052903</td>\n",
       "      <td>-0.008580</td>\n",
       "      <td>0.034647</td>\n",
       "    </tr>\n",
       "    <tr>\n",
       "      <th>17</th>\n",
       "      <td>(Whitestone, ezpass)</td>\n",
       "      <td>21917396.88</td>\n",
       "      <td>-0.027544</td>\n",
       "      <td>-0.000817</td>\n",
       "      <td>-0.003914</td>\n",
       "    </tr>\n",
       "  </tbody>\n",
       "</table>\n",
       "</div>"
      ],
      "text/plain": [
       "                       bridges  Actual_Dollars  Dummy_Avg7   SARIMAX  \\\n",
       "0     (Brooklyn Battery, cash)      2281852.50   -0.057684 -0.013255   \n",
       "1   (Brooklyn Battery, ezpass)      9145011.96   -0.066757 -0.023781   \n",
       "2            (Cross Bay, cash)       553769.25   -0.219075 -0.134317   \n",
       "3          (Cross Bay, ezpass)      1491600.66   -0.134245 -0.067424   \n",
       "4         (Henry Hudson, cash)      2100210.00   -0.047837 -0.011267   \n",
       "5       (Henry Hudson, ezpass)      5092189.20   -0.004591  0.034878   \n",
       "6       (Marine Parkway, cash)       464018.00   -0.418440 -0.331336   \n",
       "7     (Marine Parkway, ezpass)      1495395.19   -0.224168 -0.136274   \n",
       "8       (Queens Midtown, cash)      3810678.00   -0.034336  0.024303   \n",
       "9     (Queens Midtown, ezpass)     11176191.00   -0.016810  0.032379   \n",
       "10         (Throgs Neck, cash)      5524449.50   -0.103390 -0.041337   \n",
       "11       (Throgs Neck, ezpass)     19041670.08   -0.058726 -0.022539   \n",
       "12             (Triboro, cash)      9379787.00   -0.026233  0.010518   \n",
       "13           (Triboro, ezpass)     28147477.32   -0.008533  0.032192   \n",
       "14           (Verrazano, cash)      8283031.00   -0.077210 -0.025978   \n",
       "15         (Verrazano, ezpass)     36347561.28   -0.030882  0.005058   \n",
       "16          (Whitestone, cash)      7528113.50   -0.052903 -0.008580   \n",
       "17        (Whitestone, ezpass)     21917396.88   -0.027544 -0.000817   \n",
       "\n",
       "    FBProphet  \n",
       "0    0.006648  \n",
       "1   -0.032989  \n",
       "2    0.049411  \n",
       "3    0.029446  \n",
       "4    0.053383  \n",
       "5   -0.023422  \n",
       "6   -0.116785  \n",
       "7    0.083235  \n",
       "8    0.087281  \n",
       "9    0.084626  \n",
       "10   0.026947  \n",
       "11  -0.036098  \n",
       "12   0.007907  \n",
       "13   0.004238  \n",
       "14   0.003278  \n",
       "15  -0.030117  \n",
       "16   0.034647  \n",
       "17  -0.003914  "
      ]
     },
     "execution_count": 75,
     "metadata": {},
     "output_type": "execute_result"
    }
   ],
   "source": [
    "_results_df"
   ]
  },
  {
   "cell_type": "code",
   "execution_count": 77,
   "metadata": {},
   "outputs": [
    {
     "data": {
      "text/plain": [
       "Actual_Dollars    9.654467e+06\n",
       "Dummy_Avg7       -8.940915e-02\n",
       "SARIMAX          -3.764309e-02\n",
       "FBProphet         1.265117e-02\n",
       "dtype: float64"
      ]
     },
     "execution_count": 77,
     "metadata": {},
     "output_type": "execute_result"
    }
   ],
   "source": [
    "_results_df.mean(axis=0)"
   ]
  },
  {
   "cell_type": "code",
   "execution_count": 81,
   "metadata": {},
   "outputs": [],
   "source": [
    "def weighted_average_mpe(array, actual_dollars):\n",
    "    \"\"\"\n",
    "    array: np.array()\n",
    "    returns a weighted average relative to actual dollars\n",
    "    \"\"\"\n",
    "    _numerator = array * actual_dollars\n",
    "    _denominator = actual_dollars.sum()\n",
    "    \n",
    "    return _numerator.sum()/_denominator\n",
    "    "
   ]
  },
  {
   "cell_type": "code",
   "execution_count": 82,
   "metadata": {},
   "outputs": [
    {
     "data": {
      "text/plain": [
       "-0.040138394579303176"
      ]
     },
     "execution_count": 82,
     "metadata": {},
     "output_type": "execute_result"
    }
   ],
   "source": [
    "weighted_average_mpe(_results_df['Dummy_Avg7'], _results_df['Actual_Dollars'])"
   ]
  },
  {
   "cell_type": "code",
   "execution_count": 83,
   "metadata": {},
   "outputs": [
    {
     "data": {
      "text/plain": [
       "0.0003546870163775394"
      ]
     },
     "execution_count": 83,
     "metadata": {},
     "output_type": "execute_result"
    }
   ],
   "source": [
    "weighted_average_mpe(_results_df['SARIMAX'], _results_df['Actual_Dollars'])"
   ]
  },
  {
   "cell_type": "code",
   "execution_count": 84,
   "metadata": {},
   "outputs": [
    {
     "data": {
      "text/plain": [
       "-0.0006400259426094087"
      ]
     },
     "execution_count": 84,
     "metadata": {},
     "output_type": "execute_result"
    }
   ],
   "source": [
    "weighted_average_mpe(_results_df['FBProphet'], _results_df['Actual_Dollars'])"
   ]
  },
  {
   "cell_type": "code",
   "execution_count": null,
   "metadata": {},
   "outputs": [],
   "source": []
  },
  {
   "cell_type": "code",
   "execution_count": null,
   "metadata": {},
   "outputs": [],
   "source": []
  },
  {
   "cell_type": "code",
   "execution_count": null,
   "metadata": {},
   "outputs": [],
   "source": []
  },
  {
   "cell_type": "code",
   "execution_count": null,
   "metadata": {},
   "outputs": [],
   "source": []
  },
  {
   "cell_type": "markdown",
   "metadata": {},
   "source": [
    "### LightGBM\n",
    "After using tuned SARIMAX and a more-or-less generic FBProphet, I thought it was a good opportunity to try changing the time series problem into a decision tree regression problem. Instead of having 9 separate models for each bridge, we can have 1 GBDT model. This is done by first melting all the columns and making the dataframe long. As I have created features in the SARIMAX and FBProphet models, I will do the same here."
   ]
  },
  {
   "cell_type": "code",
   "execution_count": 23,
   "metadata": {},
   "outputs": [],
   "source": [
    "def return_series(csv_path):\n",
    "    \"\"\"\n",
    "    \n",
    "    \"\"\"\n",
    "    \n",
    "    def parse(x):\n",
    "        return datetime.datetime.strptime(x, '%m/%d/%Y %H')\n",
    "    \n",
    "    df = pd.read_csv(csv_path, parse_dates=[['Date','Hour']], date_parser=parse)\n",
    "    df = df.loc[~df.duplicated()]\n",
    "    df = df.loc[df['Date_Hour'] >= '2018'].copy(deep=True)\n",
    "    \n",
    "    conditions = [\n",
    "    df['Plaza ID'].eq(21) | df['Plaza ID'].eq(1),\n",
    "    df['Plaza ID'].eq(22) | df['Plaza ID'].eq(2),\n",
    "    df['Plaza ID'].eq(23) | df['Plaza ID'].eq(3),\n",
    "    df['Plaza ID'].eq(24) | df['Plaza ID'].eq(4),\n",
    "    df['Plaza ID'].eq(25) | df['Plaza ID'].eq(5),\n",
    "    df['Plaza ID'].eq(26) | df['Plaza ID'].eq(6),\n",
    "    df['Plaza ID'].eq(27) | df['Plaza ID'].eq(7),\n",
    "    df['Plaza ID'].eq(28) | df['Plaza ID'].eq(8),\n",
    "    df['Plaza ID'].eq(29) | df['Plaza ID'].eq(9),\n",
    "    df['Plaza ID'].eq(30) | df['Plaza ID'].eq(11)\n",
    "    ]\n",
    "    choices = [\n",
    "        'Triboro',\n",
    "        'Triboro',\n",
    "        'Whitestone',\n",
    "        'Henry Hudson',\n",
    "        'Marine Parkway',\n",
    "        'Cross Bay',\n",
    "        'Queens Midtown',\n",
    "        'Brooklyn Battery',\n",
    "        'Throgs Neck',\n",
    "        'Verrazano'\n",
    "    ]\n",
    "    df['plaza_id'] = np.select(conditions, choices, 0)\n",
    "    \n",
    "    df.drop(columns=['Plaza ID', 'Direction'], inplace=True)\n",
    "    df.columns = ['datetime', 'ezpass', 'cash', 'plaza_id']\n",
    "    _df = df.melt(id_vars=['datetime','plaza_id'], value_vars=['ezpass', 'cash'])\n",
    "#     _df['crossing'] = _df['plaza_id'] + '_' + _df['variable']\n",
    "    \n",
    "#     _df.set_index('datetime', inplace=True)\n",
    "#     _df = _df.groupby(['crossing'])['value'].resample('1D').sum()\n",
    "#     _df = _df.unstack().T\n",
    "    \n",
    "\n",
    "    \n",
    "    return _df\n"
   ]
  },
  {
   "cell_type": "code",
   "execution_count": 24,
   "metadata": {},
   "outputs": [],
   "source": [
    "lgbm_df = return_series('mta.csv')"
   ]
  },
  {
   "cell_type": "code",
   "execution_count": 25,
   "metadata": {},
   "outputs": [],
   "source": [
    "lgbm_df.set_index('datetime', inplace=True)"
   ]
  },
  {
   "cell_type": "code",
   "execution_count": 26,
   "metadata": {},
   "outputs": [],
   "source": [
    "_ffill_lgbm = lgbm_df.groupby(['plaza_id', 'variable'])['value'].resample('1D').sum()"
   ]
  },
  {
   "cell_type": "code",
   "execution_count": null,
   "metadata": {},
   "outputs": [],
   "source": []
  },
  {
   "cell_type": "code",
   "execution_count": null,
   "metadata": {},
   "outputs": [],
   "source": []
  },
  {
   "cell_type": "code",
   "execution_count": 27,
   "metadata": {},
   "outputs": [],
   "source": [
    "_ffill_lgbm = _ffill_lgbm.reset_index()"
   ]
  },
  {
   "cell_type": "code",
   "execution_count": 28,
   "metadata": {},
   "outputs": [],
   "source": [
    "_ffill_lgbm = _ffill_lgbm.pivot(index='datetime', columns = ['plaza_id', 'variable'], values='value')"
   ]
  },
  {
   "cell_type": "code",
   "execution_count": 29,
   "metadata": {},
   "outputs": [],
   "source": [
    "for i in crossing_rates.keys():\n",
    "    _ffill_lgbm[i] = _ffill_lgbm[i].replace(to_replace=0, method='ffill')"
   ]
  },
  {
   "cell_type": "code",
   "execution_count": 30,
   "metadata": {},
   "outputs": [],
   "source": [
    "_ffill_lgbm = _ffill_lgbm.unstack().reset_index()"
   ]
  },
  {
   "cell_type": "code",
   "execution_count": 31,
   "metadata": {},
   "outputs": [],
   "source": [
    "_ffill_lgbm.rename(columns={0: 'value'}, inplace=True)"
   ]
  },
  {
   "cell_type": "code",
   "execution_count": null,
   "metadata": {},
   "outputs": [],
   "source": []
  },
  {
   "cell_type": "code",
   "execution_count": 32,
   "metadata": {},
   "outputs": [],
   "source": [
    "_ffill_lgbm.set_index('datetime', inplace=True)"
   ]
  },
  {
   "cell_type": "code",
   "execution_count": 33,
   "metadata": {},
   "outputs": [],
   "source": [
    "_var = {'cash':0, 'ezpass': 1}\n",
    "_ffill_lgbm['variable'] = [_var[item] for item in _ffill_lgbm['variable']]"
   ]
  },
  {
   "cell_type": "code",
   "execution_count": 34,
   "metadata": {},
   "outputs": [
    {
     "data": {
      "text/plain": [
       "plaza_id    0\n",
       "variable    0\n",
       "value       0\n",
       "dtype: int64"
      ]
     },
     "execution_count": 34,
     "metadata": {},
     "output_type": "execute_result"
    }
   ],
   "source": [
    "_ffill_lgbm.isna().sum()"
   ]
  },
  {
   "cell_type": "code",
   "execution_count": 35,
   "metadata": {},
   "outputs": [],
   "source": [
    "le = LabelEncoder()\n",
    "_ffill_lgbm['plaza_id'] = le.fit_transform(_ffill_lgbm['plaza_id'])"
   ]
  },
  {
   "cell_type": "code",
   "execution_count": 36,
   "metadata": {},
   "outputs": [
    {
     "data": {
      "text/html": [
       "<div>\n",
       "<style scoped>\n",
       "    .dataframe tbody tr th:only-of-type {\n",
       "        vertical-align: middle;\n",
       "    }\n",
       "\n",
       "    .dataframe tbody tr th {\n",
       "        vertical-align: top;\n",
       "    }\n",
       "\n",
       "    .dataframe thead th {\n",
       "        text-align: right;\n",
       "    }\n",
       "</style>\n",
       "<table border=\"1\" class=\"dataframe\">\n",
       "  <thead>\n",
       "    <tr style=\"text-align: right;\">\n",
       "      <th></th>\n",
       "      <th>plaza_id</th>\n",
       "      <th>variable</th>\n",
       "      <th>value</th>\n",
       "    </tr>\n",
       "    <tr>\n",
       "      <th>datetime</th>\n",
       "      <th></th>\n",
       "      <th></th>\n",
       "      <th></th>\n",
       "    </tr>\n",
       "  </thead>\n",
       "  <tbody>\n",
       "    <tr>\n",
       "      <th>2018-01-01</th>\n",
       "      <td>0</td>\n",
       "      <td>0</td>\n",
       "      <td>3527</td>\n",
       "    </tr>\n",
       "    <tr>\n",
       "      <th>2018-01-02</th>\n",
       "      <td>0</td>\n",
       "      <td>0</td>\n",
       "      <td>4099</td>\n",
       "    </tr>\n",
       "    <tr>\n",
       "      <th>2018-01-03</th>\n",
       "      <td>0</td>\n",
       "      <td>0</td>\n",
       "      <td>4326</td>\n",
       "    </tr>\n",
       "    <tr>\n",
       "      <th>2018-01-04</th>\n",
       "      <td>0</td>\n",
       "      <td>0</td>\n",
       "      <td>1552</td>\n",
       "    </tr>\n",
       "    <tr>\n",
       "      <th>2018-01-05</th>\n",
       "      <td>0</td>\n",
       "      <td>0</td>\n",
       "      <td>3103</td>\n",
       "    </tr>\n",
       "    <tr>\n",
       "      <th>...</th>\n",
       "      <td>...</td>\n",
       "      <td>...</td>\n",
       "      <td>...</td>\n",
       "    </tr>\n",
       "    <tr>\n",
       "      <th>2020-10-06</th>\n",
       "      <td>8</td>\n",
       "      <td>1</td>\n",
       "      <td>101180</td>\n",
       "    </tr>\n",
       "    <tr>\n",
       "      <th>2020-10-07</th>\n",
       "      <td>8</td>\n",
       "      <td>1</td>\n",
       "      <td>99960</td>\n",
       "    </tr>\n",
       "    <tr>\n",
       "      <th>2020-10-08</th>\n",
       "      <td>8</td>\n",
       "      <td>1</td>\n",
       "      <td>104514</td>\n",
       "    </tr>\n",
       "    <tr>\n",
       "      <th>2020-10-09</th>\n",
       "      <td>8</td>\n",
       "      <td>1</td>\n",
       "      <td>119287</td>\n",
       "    </tr>\n",
       "    <tr>\n",
       "      <th>2020-10-10</th>\n",
       "      <td>8</td>\n",
       "      <td>1</td>\n",
       "      <td>111136</td>\n",
       "    </tr>\n",
       "  </tbody>\n",
       "</table>\n",
       "<p>18252 rows × 3 columns</p>\n",
       "</div>"
      ],
      "text/plain": [
       "            plaza_id  variable   value\n",
       "datetime                              \n",
       "2018-01-01         0         0    3527\n",
       "2018-01-02         0         0    4099\n",
       "2018-01-03         0         0    4326\n",
       "2018-01-04         0         0    1552\n",
       "2018-01-05         0         0    3103\n",
       "...              ...       ...     ...\n",
       "2020-10-06         8         1  101180\n",
       "2020-10-07         8         1   99960\n",
       "2020-10-08         8         1  104514\n",
       "2020-10-09         8         1  119287\n",
       "2020-10-10         8         1  111136\n",
       "\n",
       "[18252 rows x 3 columns]"
      ]
     },
     "execution_count": 36,
     "metadata": {},
     "output_type": "execute_result"
    }
   ],
   "source": [
    "_ffill_lgbm"
   ]
  },
  {
   "cell_type": "code",
   "execution_count": 37,
   "metadata": {},
   "outputs": [],
   "source": [
    "_ffill_lgbm = date_features(_ffill_lgbm)\n",
    "\n",
    "_ffill_lgbm = _ffill_lgbm.join(sliced_forecast)\n",
    "# There are many instances where I'll set an index to datetime and reset it.\n",
    "# This is my fault for not making the data preprocessing functions take the same columns. For example: date_features takes index, while date_lag takes the column\n",
    "_ffill_lgbm.reset_index(inplace=True)"
   ]
  },
  {
   "cell_type": "code",
   "execution_count": 38,
   "metadata": {},
   "outputs": [],
   "source": [
    "_ffill_lgbm.rename(columns={'plaza_id':'crossing'}, inplace=True)"
   ]
  },
  {
   "cell_type": "code",
   "execution_count": 54,
   "metadata": {},
   "outputs": [
    {
     "data": {
      "text/html": [
       "<div>\n",
       "<style scoped>\n",
       "    .dataframe tbody tr th:only-of-type {\n",
       "        vertical-align: middle;\n",
       "    }\n",
       "\n",
       "    .dataframe tbody tr th {\n",
       "        vertical-align: top;\n",
       "    }\n",
       "\n",
       "    .dataframe thead th {\n",
       "        text-align: right;\n",
       "    }\n",
       "</style>\n",
       "<table border=\"1\" class=\"dataframe\">\n",
       "  <thead>\n",
       "    <tr style=\"text-align: right;\">\n",
       "      <th></th>\n",
       "      <th>datetime</th>\n",
       "      <th>crossing</th>\n",
       "      <th>variable</th>\n",
       "      <th>value</th>\n",
       "      <th>month</th>\n",
       "      <th>dayofweek</th>\n",
       "      <th>year</th>\n",
       "      <th>week</th>\n",
       "      <th>day</th>\n",
       "      <th>quarter</th>\n",
       "      <th>dayofyear</th>\n",
       "      <th>Phase</th>\n",
       "      <th>weekend</th>\n",
       "      <th>holiday</th>\n",
       "      <th>temp_average</th>\n",
       "    </tr>\n",
       "  </thead>\n",
       "  <tbody>\n",
       "    <tr>\n",
       "      <th>18247</th>\n",
       "      <td>2020-10-10</td>\n",
       "      <td>6</td>\n",
       "      <td>1</td>\n",
       "      <td>NaN</td>\n",
       "      <td>10</td>\n",
       "      <td>5</td>\n",
       "      <td>2020</td>\n",
       "      <td>41</td>\n",
       "      <td>10</td>\n",
       "      <td>4</td>\n",
       "      <td>284</td>\n",
       "      <td>7</td>\n",
       "      <td>1</td>\n",
       "      <td>0</td>\n",
       "      <td>61.682719</td>\n",
       "    </tr>\n",
       "    <tr>\n",
       "      <th>18248</th>\n",
       "      <td>2020-10-10</td>\n",
       "      <td>7</td>\n",
       "      <td>0</td>\n",
       "      <td>NaN</td>\n",
       "      <td>10</td>\n",
       "      <td>5</td>\n",
       "      <td>2020</td>\n",
       "      <td>41</td>\n",
       "      <td>10</td>\n",
       "      <td>4</td>\n",
       "      <td>284</td>\n",
       "      <td>7</td>\n",
       "      <td>1</td>\n",
       "      <td>0</td>\n",
       "      <td>61.682719</td>\n",
       "    </tr>\n",
       "    <tr>\n",
       "      <th>18249</th>\n",
       "      <td>2020-10-10</td>\n",
       "      <td>7</td>\n",
       "      <td>1</td>\n",
       "      <td>NaN</td>\n",
       "      <td>10</td>\n",
       "      <td>5</td>\n",
       "      <td>2020</td>\n",
       "      <td>41</td>\n",
       "      <td>10</td>\n",
       "      <td>4</td>\n",
       "      <td>284</td>\n",
       "      <td>7</td>\n",
       "      <td>1</td>\n",
       "      <td>0</td>\n",
       "      <td>61.682719</td>\n",
       "    </tr>\n",
       "    <tr>\n",
       "      <th>18250</th>\n",
       "      <td>2020-10-10</td>\n",
       "      <td>8</td>\n",
       "      <td>0</td>\n",
       "      <td>NaN</td>\n",
       "      <td>10</td>\n",
       "      <td>5</td>\n",
       "      <td>2020</td>\n",
       "      <td>41</td>\n",
       "      <td>10</td>\n",
       "      <td>4</td>\n",
       "      <td>284</td>\n",
       "      <td>7</td>\n",
       "      <td>1</td>\n",
       "      <td>0</td>\n",
       "      <td>61.682719</td>\n",
       "    </tr>\n",
       "    <tr>\n",
       "      <th>18251</th>\n",
       "      <td>2020-10-10</td>\n",
       "      <td>8</td>\n",
       "      <td>1</td>\n",
       "      <td>NaN</td>\n",
       "      <td>10</td>\n",
       "      <td>5</td>\n",
       "      <td>2020</td>\n",
       "      <td>41</td>\n",
       "      <td>10</td>\n",
       "      <td>4</td>\n",
       "      <td>284</td>\n",
       "      <td>7</td>\n",
       "      <td>1</td>\n",
       "      <td>0</td>\n",
       "      <td>61.682719</td>\n",
       "    </tr>\n",
       "  </tbody>\n",
       "</table>\n",
       "</div>"
      ],
      "text/plain": [
       "        datetime  crossing  variable  value  month  dayofweek  year  week  \\\n",
       "18247 2020-10-10         6         1    NaN     10          5  2020    41   \n",
       "18248 2020-10-10         7         0    NaN     10          5  2020    41   \n",
       "18249 2020-10-10         7         1    NaN     10          5  2020    41   \n",
       "18250 2020-10-10         8         0    NaN     10          5  2020    41   \n",
       "18251 2020-10-10         8         1    NaN     10          5  2020    41   \n",
       "\n",
       "       day  quarter  dayofyear  Phase  weekend  holiday  temp_average  \n",
       "18247   10        4        284      7        1        0     61.682719  \n",
       "18248   10        4        284      7        1        0     61.682719  \n",
       "18249   10        4        284      7        1        0     61.682719  \n",
       "18250   10        4        284      7        1        0     61.682719  \n",
       "18251   10        4        284      7        1        0     61.682719  "
      ]
     },
     "execution_count": 54,
     "metadata": {},
     "output_type": "execute_result"
    }
   ],
   "source": [
    "# Creating 3 sliced dataframes\n",
    "train_set = _ffill_lgbm.loc[_ffill_lgbm['datetime'] <= '2020-09-05'].copy(deep=True)\n",
    "test_set = _ffill_lgbm.loc[(_ffill_lgbm['datetime'] > '2020-09-05') & (_ffill_lgbm['datetime'] <= '2020-10-10')].copy(deep=True)\n",
    "pred_set = _ffill_lgbm.loc[(_ffill_lgbm['datetime'] > '2020-09-05')].copy(deep=True)\n",
    "pred_set['value'] = np.nan\n",
    "pred_set.tail()"
   ]
  },
  {
   "cell_type": "code",
   "execution_count": 55,
   "metadata": {},
   "outputs": [
    {
     "data": {
      "text/html": [
       "<div>\n",
       "<style scoped>\n",
       "    .dataframe tbody tr th:only-of-type {\n",
       "        vertical-align: middle;\n",
       "    }\n",
       "\n",
       "    .dataframe tbody tr th {\n",
       "        vertical-align: top;\n",
       "    }\n",
       "\n",
       "    .dataframe thead th {\n",
       "        text-align: right;\n",
       "    }\n",
       "</style>\n",
       "<table border=\"1\" class=\"dataframe\">\n",
       "  <thead>\n",
       "    <tr style=\"text-align: right;\">\n",
       "      <th></th>\n",
       "      <th>datetime</th>\n",
       "      <th>crossing</th>\n",
       "      <th>variable</th>\n",
       "      <th>value</th>\n",
       "      <th>month</th>\n",
       "      <th>dayofweek</th>\n",
       "      <th>year</th>\n",
       "      <th>week</th>\n",
       "      <th>day</th>\n",
       "      <th>quarter</th>\n",
       "      <th>dayofyear</th>\n",
       "      <th>Phase</th>\n",
       "      <th>weekend</th>\n",
       "      <th>holiday</th>\n",
       "      <th>temp_average</th>\n",
       "    </tr>\n",
       "  </thead>\n",
       "  <tbody>\n",
       "    <tr>\n",
       "      <th>0</th>\n",
       "      <td>2018-01-01</td>\n",
       "      <td>0</td>\n",
       "      <td>0</td>\n",
       "      <td>3527</td>\n",
       "      <td>1</td>\n",
       "      <td>0</td>\n",
       "      <td>2018</td>\n",
       "      <td>1</td>\n",
       "      <td>1</td>\n",
       "      <td>1</td>\n",
       "      <td>1</td>\n",
       "      <td>-1</td>\n",
       "      <td>0</td>\n",
       "      <td>1</td>\n",
       "      <td>34.744700</td>\n",
       "    </tr>\n",
       "    <tr>\n",
       "      <th>1</th>\n",
       "      <td>2018-01-01</td>\n",
       "      <td>0</td>\n",
       "      <td>1</td>\n",
       "      <td>25636</td>\n",
       "      <td>1</td>\n",
       "      <td>0</td>\n",
       "      <td>2018</td>\n",
       "      <td>1</td>\n",
       "      <td>1</td>\n",
       "      <td>1</td>\n",
       "      <td>1</td>\n",
       "      <td>-1</td>\n",
       "      <td>0</td>\n",
       "      <td>1</td>\n",
       "      <td>34.744700</td>\n",
       "    </tr>\n",
       "    <tr>\n",
       "      <th>2</th>\n",
       "      <td>2018-01-01</td>\n",
       "      <td>1</td>\n",
       "      <td>0</td>\n",
       "      <td>1876</td>\n",
       "      <td>1</td>\n",
       "      <td>0</td>\n",
       "      <td>2018</td>\n",
       "      <td>1</td>\n",
       "      <td>1</td>\n",
       "      <td>1</td>\n",
       "      <td>1</td>\n",
       "      <td>-1</td>\n",
       "      <td>0</td>\n",
       "      <td>1</td>\n",
       "      <td>34.744700</td>\n",
       "    </tr>\n",
       "    <tr>\n",
       "      <th>3</th>\n",
       "      <td>2018-01-01</td>\n",
       "      <td>1</td>\n",
       "      <td>1</td>\n",
       "      <td>11829</td>\n",
       "      <td>1</td>\n",
       "      <td>0</td>\n",
       "      <td>2018</td>\n",
       "      <td>1</td>\n",
       "      <td>1</td>\n",
       "      <td>1</td>\n",
       "      <td>1</td>\n",
       "      <td>-1</td>\n",
       "      <td>0</td>\n",
       "      <td>1</td>\n",
       "      <td>34.744700</td>\n",
       "    </tr>\n",
       "    <tr>\n",
       "      <th>4</th>\n",
       "      <td>2018-01-01</td>\n",
       "      <td>2</td>\n",
       "      <td>0</td>\n",
       "      <td>5523</td>\n",
       "      <td>1</td>\n",
       "      <td>0</td>\n",
       "      <td>2018</td>\n",
       "      <td>1</td>\n",
       "      <td>1</td>\n",
       "      <td>1</td>\n",
       "      <td>1</td>\n",
       "      <td>-1</td>\n",
       "      <td>0</td>\n",
       "      <td>1</td>\n",
       "      <td>34.744700</td>\n",
       "    </tr>\n",
       "    <tr>\n",
       "      <th>...</th>\n",
       "      <td>...</td>\n",
       "      <td>...</td>\n",
       "      <td>...</td>\n",
       "      <td>...</td>\n",
       "      <td>...</td>\n",
       "      <td>...</td>\n",
       "      <td>...</td>\n",
       "      <td>...</td>\n",
       "      <td>...</td>\n",
       "      <td>...</td>\n",
       "      <td>...</td>\n",
       "      <td>...</td>\n",
       "      <td>...</td>\n",
       "      <td>...</td>\n",
       "      <td>...</td>\n",
       "    </tr>\n",
       "    <tr>\n",
       "      <th>17617</th>\n",
       "      <td>2020-09-05</td>\n",
       "      <td>6</td>\n",
       "      <td>1</td>\n",
       "      <td>121053</td>\n",
       "      <td>9</td>\n",
       "      <td>5</td>\n",
       "      <td>2020</td>\n",
       "      <td>36</td>\n",
       "      <td>5</td>\n",
       "      <td>3</td>\n",
       "      <td>249</td>\n",
       "      <td>7</td>\n",
       "      <td>1</td>\n",
       "      <td>0</td>\n",
       "      <td>72.496286</td>\n",
       "    </tr>\n",
       "    <tr>\n",
       "      <th>17618</th>\n",
       "      <td>2020-09-05</td>\n",
       "      <td>7</td>\n",
       "      <td>0</td>\n",
       "      <td>14508</td>\n",
       "      <td>9</td>\n",
       "      <td>5</td>\n",
       "      <td>2020</td>\n",
       "      <td>36</td>\n",
       "      <td>5</td>\n",
       "      <td>3</td>\n",
       "      <td>249</td>\n",
       "      <td>7</td>\n",
       "      <td>1</td>\n",
       "      <td>0</td>\n",
       "      <td>72.496286</td>\n",
       "    </tr>\n",
       "    <tr>\n",
       "      <th>17619</th>\n",
       "      <td>2020-09-05</td>\n",
       "      <td>7</td>\n",
       "      <td>1</td>\n",
       "      <td>82759</td>\n",
       "      <td>9</td>\n",
       "      <td>5</td>\n",
       "      <td>2020</td>\n",
       "      <td>36</td>\n",
       "      <td>5</td>\n",
       "      <td>3</td>\n",
       "      <td>249</td>\n",
       "      <td>7</td>\n",
       "      <td>1</td>\n",
       "      <td>0</td>\n",
       "      <td>72.496286</td>\n",
       "    </tr>\n",
       "    <tr>\n",
       "      <th>17620</th>\n",
       "      <td>2020-09-05</td>\n",
       "      <td>8</td>\n",
       "      <td>0</td>\n",
       "      <td>26880</td>\n",
       "      <td>9</td>\n",
       "      <td>5</td>\n",
       "      <td>2020</td>\n",
       "      <td>36</td>\n",
       "      <td>5</td>\n",
       "      <td>3</td>\n",
       "      <td>249</td>\n",
       "      <td>7</td>\n",
       "      <td>1</td>\n",
       "      <td>0</td>\n",
       "      <td>72.496286</td>\n",
       "    </tr>\n",
       "    <tr>\n",
       "      <th>17621</th>\n",
       "      <td>2020-09-05</td>\n",
       "      <td>8</td>\n",
       "      <td>1</td>\n",
       "      <td>105655</td>\n",
       "      <td>9</td>\n",
       "      <td>5</td>\n",
       "      <td>2020</td>\n",
       "      <td>36</td>\n",
       "      <td>5</td>\n",
       "      <td>3</td>\n",
       "      <td>249</td>\n",
       "      <td>7</td>\n",
       "      <td>1</td>\n",
       "      <td>0</td>\n",
       "      <td>72.496286</td>\n",
       "    </tr>\n",
       "  </tbody>\n",
       "</table>\n",
       "<p>17622 rows × 15 columns</p>\n",
       "</div>"
      ],
      "text/plain": [
       "        datetime  crossing  variable   value  month  dayofweek  year  week  \\\n",
       "0     2018-01-01         0         0    3527      1          0  2018     1   \n",
       "1     2018-01-01         0         1   25636      1          0  2018     1   \n",
       "2     2018-01-01         1         0    1876      1          0  2018     1   \n",
       "3     2018-01-01         1         1   11829      1          0  2018     1   \n",
       "4     2018-01-01         2         0    5523      1          0  2018     1   \n",
       "...          ...       ...       ...     ...    ...        ...   ...   ...   \n",
       "17617 2020-09-05         6         1  121053      9          5  2020    36   \n",
       "17618 2020-09-05         7         0   14508      9          5  2020    36   \n",
       "17619 2020-09-05         7         1   82759      9          5  2020    36   \n",
       "17620 2020-09-05         8         0   26880      9          5  2020    36   \n",
       "17621 2020-09-05         8         1  105655      9          5  2020    36   \n",
       "\n",
       "       day  quarter  dayofyear  Phase  weekend  holiday  temp_average  \n",
       "0        1        1          1     -1        0        1     34.744700  \n",
       "1        1        1          1     -1        0        1     34.744700  \n",
       "2        1        1          1     -1        0        1     34.744700  \n",
       "3        1        1          1     -1        0        1     34.744700  \n",
       "4        1        1          1     -1        0        1     34.744700  \n",
       "...    ...      ...        ...    ...      ...      ...           ...  \n",
       "17617    5        3        249      7        1        0     72.496286  \n",
       "17618    5        3        249      7        1        0     72.496286  \n",
       "17619    5        3        249      7        1        0     72.496286  \n",
       "17620    5        3        249      7        1        0     72.496286  \n",
       "17621    5        3        249      7        1        0     72.496286  \n",
       "\n",
       "[17622 rows x 15 columns]"
      ]
     },
     "execution_count": 55,
     "metadata": {},
     "output_type": "execute_result"
    }
   ],
   "source": [
    "train_set"
   ]
  },
  {
   "cell_type": "code",
   "execution_count": 56,
   "metadata": {},
   "outputs": [],
   "source": [
    "def date_lags(_df):\n",
    "    \"\"\"\n",
    "    creates lag 7 and lag 28 features from values.\n",
    "    creates ma7_lag7, ma7_lag28, ma28_lag7, ma28_lag28.\n",
    "    \n",
    "    \"\"\"\n",
    "    \n",
    "#     _df['lag_1'] = _df[['crossing', 'variable','value']].groupby(['crossing', 'variable'])['value'].shift(1)\n",
    "#     _df['lag_2'] = _df[['crossing', 'variable','value']].groupby(['crossing', 'variable'])['value'].shift(2)\n",
    "    \n",
    "#     _df['mean_lag1_roll7'] = _df[['crossing', 'variable','value', 'lag_1']].groupby(['crossing', 'variable'])['lag_1'].apply(lambda x: x.rolling(7).mean())\n",
    "#     _df['mean_lag1_roll3'] = _df[['crossing', 'variable','value', 'lag_1']].groupby(['crossing', 'variable'])['lag_1'].apply(lambda x: x.rolling(3).mean())\n",
    "#     _df['diff_7'] = _df[['crossing', 'variable','value']].groupby(['crossing', 'variable'])['value'].diff(7)\n",
    "    \n",
    "    _df['lag_7'] = _df[['crossing', 'variable','value']].groupby(['crossing', 'variable'])['value'].shift(7)\n",
    "    _df['lag_14'] = _df[['crossing', 'variable','value']].groupby(['crossing', 'variable'])['value'].shift(14)\n",
    "    _df['lag_21'] = _df[['crossing', 'variable','value']].groupby(['crossing', 'variable'])['value'].shift(21)\n",
    "    _df['lag_28'] = _df[['crossing', 'variable','value']].groupby(['crossing', 'variable'])['value'].shift(28)\n",
    "#     _df['lag_35'] = _df[['crossing', 'value']].groupby('crossing')['value'].shift(35)\n",
    "\n",
    "    \n",
    "    \n",
    "    _df['mean_lag7_roll7'] = _df[['crossing', 'variable','value', 'lag_7']].groupby(['crossing', 'variable'])['lag_7'].apply(lambda x: x.rolling(7).mean())\n",
    "    _df['mean_lag7_roll28'] = _df[['crossing', 'variable','value', 'lag_7']].groupby(['crossing', 'variable'])['lag_7'].apply(lambda x: x.rolling(28).mean())\n",
    "    _df['mean_lag28_roll7'] = _df[['crossing', 'variable','value', 'lag_28']].groupby(['crossing', 'variable'])['lag_28'].apply(lambda x: x.rolling(7).mean())\n",
    "    _df['mean_lag28_roll28'] = _df[['crossing', 'variable','value', 'lag_28']].groupby(['crossing', 'variable'])['lag_28'].apply(lambda x: x.rolling(28).mean())\n",
    "    _df['week'] = _df['week'].astype('int64')\n",
    "    \n",
    "    return _df"
   ]
  },
  {
   "cell_type": "code",
   "execution_count": null,
   "metadata": {},
   "outputs": [],
   "source": []
  },
  {
   "cell_type": "code",
   "execution_count": null,
   "metadata": {},
   "outputs": [],
   "source": []
  },
  {
   "cell_type": "code",
   "execution_count": 57,
   "metadata": {},
   "outputs": [
    {
     "data": {
      "text/html": [
       "<div>\n",
       "<style scoped>\n",
       "    .dataframe tbody tr th:only-of-type {\n",
       "        vertical-align: middle;\n",
       "    }\n",
       "\n",
       "    .dataframe tbody tr th {\n",
       "        vertical-align: top;\n",
       "    }\n",
       "\n",
       "    .dataframe thead th {\n",
       "        text-align: right;\n",
       "    }\n",
       "</style>\n",
       "<table border=\"1\" class=\"dataframe\">\n",
       "  <thead>\n",
       "    <tr style=\"text-align: right;\">\n",
       "      <th></th>\n",
       "      <th>datetime</th>\n",
       "      <th>crossing</th>\n",
       "      <th>variable</th>\n",
       "      <th>value</th>\n",
       "      <th>month</th>\n",
       "      <th>dayofweek</th>\n",
       "      <th>year</th>\n",
       "      <th>week</th>\n",
       "      <th>day</th>\n",
       "      <th>quarter</th>\n",
       "      <th>...</th>\n",
       "      <th>holiday</th>\n",
       "      <th>temp_average</th>\n",
       "      <th>lag_7</th>\n",
       "      <th>lag_14</th>\n",
       "      <th>lag_21</th>\n",
       "      <th>lag_28</th>\n",
       "      <th>mean_lag7_roll7</th>\n",
       "      <th>mean_lag7_roll28</th>\n",
       "      <th>mean_lag28_roll7</th>\n",
       "      <th>mean_lag28_roll28</th>\n",
       "    </tr>\n",
       "  </thead>\n",
       "  <tbody>\n",
       "    <tr>\n",
       "      <th>17617</th>\n",
       "      <td>2020-09-05</td>\n",
       "      <td>6</td>\n",
       "      <td>1</td>\n",
       "      <td>121053</td>\n",
       "      <td>9</td>\n",
       "      <td>5</td>\n",
       "      <td>2020</td>\n",
       "      <td>36</td>\n",
       "      <td>5</td>\n",
       "      <td>3</td>\n",
       "      <td>...</td>\n",
       "      <td>0</td>\n",
       "      <td>72.496286</td>\n",
       "      <td>100790.0</td>\n",
       "      <td>121095.0</td>\n",
       "      <td>120261.0</td>\n",
       "      <td>113866.0</td>\n",
       "      <td>126619.571429</td>\n",
       "      <td>126622.571429</td>\n",
       "      <td>122801.571429</td>\n",
       "      <td>124957.857143</td>\n",
       "    </tr>\n",
       "    <tr>\n",
       "      <th>17618</th>\n",
       "      <td>2020-09-05</td>\n",
       "      <td>7</td>\n",
       "      <td>0</td>\n",
       "      <td>14508</td>\n",
       "      <td>9</td>\n",
       "      <td>5</td>\n",
       "      <td>2020</td>\n",
       "      <td>36</td>\n",
       "      <td>5</td>\n",
       "      <td>3</td>\n",
       "      <td>...</td>\n",
       "      <td>0</td>\n",
       "      <td>72.496286</td>\n",
       "      <td>12372.0</td>\n",
       "      <td>14433.0</td>\n",
       "      <td>14877.0</td>\n",
       "      <td>14061.0</td>\n",
       "      <td>12774.142857</td>\n",
       "      <td>12780.142857</td>\n",
       "      <td>12172.571429</td>\n",
       "      <td>12332.964286</td>\n",
       "    </tr>\n",
       "    <tr>\n",
       "      <th>17619</th>\n",
       "      <td>2020-09-05</td>\n",
       "      <td>7</td>\n",
       "      <td>1</td>\n",
       "      <td>82759</td>\n",
       "      <td>9</td>\n",
       "      <td>5</td>\n",
       "      <td>2020</td>\n",
       "      <td>36</td>\n",
       "      <td>5</td>\n",
       "      <td>3</td>\n",
       "      <td>...</td>\n",
       "      <td>0</td>\n",
       "      <td>72.496286</td>\n",
       "      <td>72128.0</td>\n",
       "      <td>82315.0</td>\n",
       "      <td>82922.0</td>\n",
       "      <td>79371.0</td>\n",
       "      <td>84448.285714</td>\n",
       "      <td>83557.714286</td>\n",
       "      <td>79144.571429</td>\n",
       "      <td>80685.571429</td>\n",
       "    </tr>\n",
       "    <tr>\n",
       "      <th>17620</th>\n",
       "      <td>2020-09-05</td>\n",
       "      <td>8</td>\n",
       "      <td>0</td>\n",
       "      <td>26880</td>\n",
       "      <td>9</td>\n",
       "      <td>5</td>\n",
       "      <td>2020</td>\n",
       "      <td>36</td>\n",
       "      <td>5</td>\n",
       "      <td>3</td>\n",
       "      <td>...</td>\n",
       "      <td>0</td>\n",
       "      <td>72.496286</td>\n",
       "      <td>21921.0</td>\n",
       "      <td>26148.0</td>\n",
       "      <td>26577.0</td>\n",
       "      <td>25060.0</td>\n",
       "      <td>22861.142857</td>\n",
       "      <td>22830.035714</td>\n",
       "      <td>21770.571429</td>\n",
       "      <td>21843.785714</td>\n",
       "    </tr>\n",
       "    <tr>\n",
       "      <th>17621</th>\n",
       "      <td>2020-09-05</td>\n",
       "      <td>8</td>\n",
       "      <td>1</td>\n",
       "      <td>105655</td>\n",
       "      <td>9</td>\n",
       "      <td>5</td>\n",
       "      <td>2020</td>\n",
       "      <td>36</td>\n",
       "      <td>5</td>\n",
       "      <td>3</td>\n",
       "      <td>...</td>\n",
       "      <td>0</td>\n",
       "      <td>72.496286</td>\n",
       "      <td>85478.0</td>\n",
       "      <td>102757.0</td>\n",
       "      <td>105698.0</td>\n",
       "      <td>98837.0</td>\n",
       "      <td>102611.000000</td>\n",
       "      <td>101443.571429</td>\n",
       "      <td>95833.285714</td>\n",
       "      <td>96282.857143</td>\n",
       "    </tr>\n",
       "  </tbody>\n",
       "</table>\n",
       "<p>5 rows × 23 columns</p>\n",
       "</div>"
      ],
      "text/plain": [
       "        datetime  crossing  variable   value  month  dayofweek  year  week  \\\n",
       "17617 2020-09-05         6         1  121053      9          5  2020    36   \n",
       "17618 2020-09-05         7         0   14508      9          5  2020    36   \n",
       "17619 2020-09-05         7         1   82759      9          5  2020    36   \n",
       "17620 2020-09-05         8         0   26880      9          5  2020    36   \n",
       "17621 2020-09-05         8         1  105655      9          5  2020    36   \n",
       "\n",
       "       day  quarter  ...  holiday  temp_average     lag_7    lag_14    lag_21  \\\n",
       "17617    5        3  ...        0     72.496286  100790.0  121095.0  120261.0   \n",
       "17618    5        3  ...        0     72.496286   12372.0   14433.0   14877.0   \n",
       "17619    5        3  ...        0     72.496286   72128.0   82315.0   82922.0   \n",
       "17620    5        3  ...        0     72.496286   21921.0   26148.0   26577.0   \n",
       "17621    5        3  ...        0     72.496286   85478.0  102757.0  105698.0   \n",
       "\n",
       "         lag_28  mean_lag7_roll7  mean_lag7_roll28  mean_lag28_roll7  \\\n",
       "17617  113866.0    126619.571429     126622.571429     122801.571429   \n",
       "17618   14061.0     12774.142857      12780.142857      12172.571429   \n",
       "17619   79371.0     84448.285714      83557.714286      79144.571429   \n",
       "17620   25060.0     22861.142857      22830.035714      21770.571429   \n",
       "17621   98837.0    102611.000000     101443.571429      95833.285714   \n",
       "\n",
       "       mean_lag28_roll28  \n",
       "17617      124957.857143  \n",
       "17618       12332.964286  \n",
       "17619       80685.571429  \n",
       "17620       21843.785714  \n",
       "17621       96282.857143  \n",
       "\n",
       "[5 rows x 23 columns]"
      ]
     },
     "execution_count": 57,
     "metadata": {},
     "output_type": "execute_result"
    }
   ],
   "source": [
    "train_set = date_lags(train_set)\n",
    "train_set.tail()"
   ]
  },
  {
   "cell_type": "code",
   "execution_count": 58,
   "metadata": {},
   "outputs": [],
   "source": [
    "# train_set.drop(columns=['day', 'week'], inplace=True)"
   ]
  },
  {
   "cell_type": "code",
   "execution_count": null,
   "metadata": {},
   "outputs": [],
   "source": []
  },
  {
   "cell_type": "code",
   "execution_count": 59,
   "metadata": {},
   "outputs": [],
   "source": [
    "categorical_features = ['crossing', 'variable', 'month', 'dayofweek', 'day', 'week', 'Phase', 'weekend', 'holiday']\n",
    "useless_cols = ['datetime', 'value', 'year']\n",
    "train_cols = [x for x in train_set.columns if x not in useless_cols]\n",
    "_X = train_set[train_cols]\n",
    "_y = train_set['value']"
   ]
  },
  {
   "cell_type": "code",
   "execution_count": 60,
   "metadata": {},
   "outputs": [],
   "source": [
    "X_valid = train_set.loc[train_set['datetime'] >= '2020-08-01'][train_cols]\n",
    "y_valid = train_set.loc[train_set['datetime'] >= '2020-08-01']['value']\n",
    "X_train = train_set.loc[train_set['datetime'] < '2020-08-01'][train_cols]\n",
    "y_train = train_set.loc[train_set['datetime'] < '2020-08-01']['value']"
   ]
  },
  {
   "cell_type": "code",
   "execution_count": null,
   "metadata": {},
   "outputs": [],
   "source": []
  },
  {
   "cell_type": "code",
   "execution_count": null,
   "metadata": {},
   "outputs": [],
   "source": []
  },
  {
   "cell_type": "code",
   "execution_count": null,
   "metadata": {},
   "outputs": [],
   "source": []
  },
  {
   "cell_type": "code",
   "execution_count": 61,
   "metadata": {},
   "outputs": [],
   "source": [
    "# train test split\n",
    "# X_train, X_valid, y_train, y_valid = train_test_split(_X, _y, random_state=42, test_size=0.2)"
   ]
  },
  {
   "cell_type": "code",
   "execution_count": null,
   "metadata": {},
   "outputs": [],
   "source": []
  },
  {
   "cell_type": "code",
   "execution_count": null,
   "metadata": {},
   "outputs": [],
   "source": []
  },
  {
   "cell_type": "code",
   "execution_count": null,
   "metadata": {},
   "outputs": [],
   "source": []
  },
  {
   "cell_type": "code",
   "execution_count": 62,
   "metadata": {},
   "outputs": [],
   "source": [
    "train_data = lgb.Dataset(X_train, label = y_train, categorical_feature=categorical_features, free_raw_data=False)\n",
    "y_valid_data = lgb.Dataset(X_valid, label = y_valid, categorical_feature=categorical_features, free_raw_data=False) \n"
   ]
  },
  {
   "cell_type": "markdown",
   "metadata": {},
   "source": [
    "#### Optuna\n",
    "Optuna looks very similiarly to randomized Search CV. More importantly, it displays a progress bar and results paramter after each iteration. <br> I decided to use this to find the best parameters."
   ]
  },
  {
   "cell_type": "code",
   "execution_count": 63,
   "metadata": {},
   "outputs": [],
   "source": [
    "\n",
    "def objective(trial):\n",
    "    params = {\n",
    "        'objective': 'poisson',\n",
    "        'boosting': 'gbdt',\n",
    "        'max_depth': trial.suggest_int('max_depth', 18, 64),\n",
    "        'num_leaves': trial.suggest_int('num_leaves', 54, 124),\n",
    "        'metric' :'rmse',\n",
    "\n",
    "        'learning_rate' : 0.05,\n",
    "\n",
    "\n",
    "        'bagging_fraction' : trial.suggest_loguniform('bag_frac', 0.5, 0.9),\n",
    "        'feature_fraction': trial.suggest_loguniform('feat_frac', 0.5, 0.9),\n",
    "        'lambda_l1' : trial.suggest_loguniform('l1', 0.1, 0.9),\n",
    "        'lambda_l2' : trial.suggest_loguniform('l2', 0.1, 0.9),\n",
    "\n",
    "        'verbosity': 1}\n",
    "\n",
    "\n",
    "    m_lgb = lgb.train(params, train_data,num_boost_round=20000, valid_sets = y_valid_data, verbose_eval=500, early_stopping_rounds=500)\n",
    "    \n",
    "    train_roll = train_set.copy(deep=True)\n",
    "    try:\n",
    "        for i in tqdm(range(1,500)):\n",
    "            _to_pred = pred_set.loc[pred_set['datetime'] == (datetime.datetime(2020, 9, 5) + datetime.timedelta(days= i))].copy()\n",
    "            _first_concat = pd.concat([train_roll, _to_pred])\n",
    "            _first_concat.reset_index(inplace=True, drop=True)\n",
    "            _first_concat = date_lags(_first_concat)\n",
    "            _to_pred = _first_concat.loc[_first_concat['datetime'] == (datetime.datetime(2020, 9, 5) + datetime.timedelta(days= i))].copy()\n",
    "            _to_pred_feats = _to_pred[train_cols]\n",
    "            first_pred = m_lgb.predict(_to_pred_feats)\n",
    "            _to_pred['value'] = first_pred\n",
    "            train_roll = pd.concat([train_roll, _to_pred])\n",
    "    except:\n",
    "        print('end of loop')\n",
    "    \n",
    "    \n",
    "    _inverse_variable = {0: 'cash', 1: 'ezpass'}\n",
    "    _lgbm_pred = train_roll.loc[train_roll['datetime'].isin(pd.date_range('2020-09-06', '2020-10-10'))][['datetime', 'crossing', 'variable',  'value']]\n",
    "    _lgbm_pred['variable'] = [_inverse_variable[item] for item in _lgbm_pred['variable']]\n",
    "    _lgbm_pred['crossing'] = le.inverse_transform(_lgbm_pred['crossing'])\n",
    "    \n",
    "    _lgbm_pivot = _lgbm_pred.pivot(index='datetime', columns=['crossing', 'variable'], values='value')\n",
    "#     test_set['variable'] = [_inverse_variable[item] for item in test_set['variable']]\n",
    "#     test_set['crossing'] = le.inverse_transform(test_set['crossing'])\n",
    "    \n",
    "#     _test_pivot = test_set.pivot(index='datetime', columns = ['crossing', 'variable'], values='value')\n",
    "    \n",
    "    _lgbm_dollars = 0\n",
    "    _lgbm_rmse = []\n",
    "    for i,x in crossing_rates.items():\n",
    "        _lgbm_dollars += _lgbm_pivot[i].sum() * x\n",
    "        _lgbm_rmse.append(np.sqrt(mean_squared_error(_test_pivot[i], _lgbm_pivot[i])))\n",
    "    \n",
    "    \n",
    "    return sum(_lgbm_rmse)"
   ]
  },
  {
   "cell_type": "code",
   "execution_count": 72,
   "metadata": {},
   "outputs": [
    {
     "name": "stderr",
     "output_type": "stream",
     "text": [
      "C:\\Users\\albert\\Anaconda3\\lib\\site-packages\\lightgbm\\basic.py:1291: UserWarning:\n",
      "\n",
      "Using categorical_feature in Dataset.\n",
      "\n"
     ]
    },
    {
     "name": "stdout",
     "output_type": "stream",
     "text": [
      "Training until validation scores don't improve for 500 rounds\n",
      "[500]\tvalid_0's rmse: 4200.12\n",
      "[1000]\tvalid_0's rmse: 4182.24\n",
      "[1500]\tvalid_0's rmse: 4167.86\n",
      "[2000]\tvalid_0's rmse: 4163.44\n",
      "[2500]\tvalid_0's rmse: 4163.66\n",
      "Early stopping, best iteration is:\n",
      "[2067]\tvalid_0's rmse: 4162.07\n"
     ]
    },
    {
     "name": "stderr",
     "output_type": "stream",
     "text": [
      "  7%|▋         | 35/499 [00:04<00:56,  8.28it/s]\n"
     ]
    },
    {
     "name": "stdout",
     "output_type": "stream",
     "text": [
      "end of loop\n"
     ]
    },
    {
     "name": "stderr",
     "output_type": "stream",
     "text": [
      "[I 2020-10-15 16:58:21,329] Finished trial#0 with value: 44793.10717267761 with parameters: {'max_depth': 46, 'num_leaves': 112, 'bag_frac': 0.5074879079609358, 'feat_frac': 0.6001190720260301, 'l1': 0.15765155239138764, 'l2': 0.3747238056580383}. Best is trial#0 with value: 44793.10717267761.\n",
      "C:\\Users\\albert\\Anaconda3\\lib\\site-packages\\lightgbm\\basic.py:1291: UserWarning:\n",
      "\n",
      "Using categorical_feature in Dataset.\n",
      "\n"
     ]
    },
    {
     "name": "stdout",
     "output_type": "stream",
     "text": [
      "Training until validation scores don't improve for 500 rounds\n",
      "[500]\tvalid_0's rmse: 4212.32\n",
      "[1000]\tvalid_0's rmse: 4201.74\n",
      "[1500]\tvalid_0's rmse: 4195.95\n",
      "Early stopping, best iteration is:\n",
      "[1173]\tvalid_0's rmse: 4193.62\n"
     ]
    },
    {
     "name": "stderr",
     "output_type": "stream",
     "text": [
      "  7%|▋         | 35/499 [00:04<00:54,  8.50it/s]\n"
     ]
    },
    {
     "name": "stdout",
     "output_type": "stream",
     "text": [
      "end of loop\n"
     ]
    },
    {
     "name": "stderr",
     "output_type": "stream",
     "text": [
      "[I 2020-10-15 17:07:46,630] Finished trial#1 with value: 42387.860806013814 with parameters: {'max_depth': 46, 'num_leaves': 124, 'bag_frac': 0.5632579842825497, 'feat_frac': 0.5366186595279587, 'l1': 0.139457881956164, 'l2': 0.33845899323364}. Best is trial#1 with value: 42387.860806013814.\n",
      "C:\\Users\\albert\\Anaconda3\\lib\\site-packages\\lightgbm\\basic.py:1291: UserWarning:\n",
      "\n",
      "Using categorical_feature in Dataset.\n",
      "\n"
     ]
    },
    {
     "name": "stdout",
     "output_type": "stream",
     "text": [
      "Training until validation scores don't improve for 500 rounds\n",
      "[500]\tvalid_0's rmse: 4148.41\n",
      "Early stopping, best iteration is:\n",
      "[464]\tvalid_0's rmse: 4142.5\n"
     ]
    },
    {
     "name": "stderr",
     "output_type": "stream",
     "text": [
      "  7%|▋         | 35/499 [00:04<00:53,  8.64it/s]\n"
     ]
    },
    {
     "name": "stdout",
     "output_type": "stream",
     "text": [
      "end of loop\n"
     ]
    },
    {
     "name": "stderr",
     "output_type": "stream",
     "text": [
      "[I 2020-10-15 17:10:52,863] Finished trial#2 with value: 43885.04486609978 with parameters: {'max_depth': 61, 'num_leaves': 72, 'bag_frac': 0.5875482216192763, 'feat_frac': 0.5284532308634597, 'l1': 0.45643409793506995, 'l2': 0.13941949020109917}. Best is trial#1 with value: 42387.860806013814.\n",
      "C:\\Users\\albert\\Anaconda3\\lib\\site-packages\\lightgbm\\basic.py:1291: UserWarning:\n",
      "\n",
      "Using categorical_feature in Dataset.\n",
      "\n"
     ]
    },
    {
     "name": "stdout",
     "output_type": "stream",
     "text": [
      "Training until validation scores don't improve for 500 rounds\n",
      "[500]\tvalid_0's rmse: 4340.81\n",
      "Early stopping, best iteration is:\n",
      "[360]\tvalid_0's rmse: 4323.91\n"
     ]
    },
    {
     "name": "stderr",
     "output_type": "stream",
     "text": [
      "  7%|▋         | 35/499 [00:03<00:52,  8.78it/s]\n"
     ]
    },
    {
     "name": "stdout",
     "output_type": "stream",
     "text": [
      "end of loop\n"
     ]
    },
    {
     "name": "stderr",
     "output_type": "stream",
     "text": [
      "[I 2020-10-15 17:13:36,855] Finished trial#3 with value: 50725.2865081824 with parameters: {'max_depth': 55, 'num_leaves': 66, 'bag_frac': 0.5054157693350796, 'feat_frac': 0.8567417289825862, 'l1': 0.10811950745649858, 'l2': 0.13917580537303714}. Best is trial#1 with value: 42387.860806013814.\n",
      "C:\\Users\\albert\\Anaconda3\\lib\\site-packages\\lightgbm\\basic.py:1291: UserWarning:\n",
      "\n",
      "Using categorical_feature in Dataset.\n",
      "\n"
     ]
    },
    {
     "name": "stdout",
     "output_type": "stream",
     "text": [
      "Training until validation scores don't improve for 500 rounds\n",
      "[500]\tvalid_0's rmse: 4162.59\n",
      "Early stopping, best iteration is:\n",
      "[362]\tvalid_0's rmse: 4153.51\n"
     ]
    },
    {
     "name": "stderr",
     "output_type": "stream",
     "text": [
      "  7%|▋         | 35/499 [00:04<00:53,  8.66it/s]\n"
     ]
    },
    {
     "name": "stdout",
     "output_type": "stream",
     "text": [
      "end of loop\n"
     ]
    },
    {
     "name": "stderr",
     "output_type": "stream",
     "text": [
      "[I 2020-10-15 17:18:03,110] Finished trial#4 with value: 49282.35809838261 with parameters: {'max_depth': 61, 'num_leaves': 112, 'bag_frac': 0.661952663648915, 'feat_frac': 0.515732677195853, 'l1': 0.7688663719737223, 'l2': 0.7525707181193759}. Best is trial#1 with value: 42387.860806013814.\n",
      "C:\\Users\\albert\\Anaconda3\\lib\\site-packages\\lightgbm\\basic.py:1291: UserWarning:\n",
      "\n",
      "Using categorical_feature in Dataset.\n",
      "\n"
     ]
    },
    {
     "name": "stdout",
     "output_type": "stream",
     "text": [
      "Training until validation scores don't improve for 500 rounds\n",
      "[500]\tvalid_0's rmse: 4263.69\n",
      "Early stopping, best iteration is:\n",
      "[266]\tvalid_0's rmse: 4242.33\n"
     ]
    },
    {
     "name": "stderr",
     "output_type": "stream",
     "text": [
      "  7%|▋         | 35/499 [00:03<00:52,  8.85it/s]\n"
     ]
    },
    {
     "name": "stdout",
     "output_type": "stream",
     "text": [
      "end of loop\n"
     ]
    },
    {
     "name": "stderr",
     "output_type": "stream",
     "text": [
      "[I 2020-10-15 17:21:38,210] Finished trial#5 with value: 48193.31870247828 with parameters: {'max_depth': 48, 'num_leaves': 92, 'bag_frac': 0.6036644412551776, 'feat_frac': 0.6163988701746449, 'l1': 0.6791152842292649, 'l2': 0.1538411972207145}. Best is trial#1 with value: 42387.860806013814.\n",
      "C:\\Users\\albert\\Anaconda3\\lib\\site-packages\\lightgbm\\basic.py:1291: UserWarning:\n",
      "\n",
      "Using categorical_feature in Dataset.\n",
      "\n"
     ]
    },
    {
     "name": "stdout",
     "output_type": "stream",
     "text": [
      "Training until validation scores don't improve for 500 rounds\n",
      "[500]\tvalid_0's rmse: 4302.21\n",
      "Early stopping, best iteration is:\n",
      "[306]\tvalid_0's rmse: 4292.07\n"
     ]
    },
    {
     "name": "stderr",
     "output_type": "stream",
     "text": [
      "  7%|▋         | 35/499 [00:04<00:53,  8.71it/s]\n"
     ]
    },
    {
     "name": "stdout",
     "output_type": "stream",
     "text": [
      "end of loop\n"
     ]
    },
    {
     "name": "stderr",
     "output_type": "stream",
     "text": [
      "[I 2020-10-15 17:26:06,592] Finished trial#6 with value: 49074.820830210934 with parameters: {'max_depth': 41, 'num_leaves': 118, 'bag_frac': 0.6866618261095981, 'feat_frac': 0.7475487160472234, 'l1': 0.45654978029210574, 'l2': 0.5173511911816521}. Best is trial#1 with value: 42387.860806013814.\n",
      "C:\\Users\\albert\\Anaconda3\\lib\\site-packages\\lightgbm\\basic.py:1291: UserWarning:\n",
      "\n",
      "Using categorical_feature in Dataset.\n",
      "\n"
     ]
    },
    {
     "name": "stdout",
     "output_type": "stream",
     "text": [
      "Training until validation scores don't improve for 500 rounds\n",
      "[500]\tvalid_0's rmse: 4266.44\n",
      "[1000]\tvalid_0's rmse: 4240.56\n",
      "[1500]\tvalid_0's rmse: 4242.86\n",
      "Early stopping, best iteration is:\n",
      "[1158]\tvalid_0's rmse: 4236.9\n"
     ]
    },
    {
     "name": "stderr",
     "output_type": "stream",
     "text": [
      "  7%|▋         | 35/499 [00:05<01:13,  6.35it/s]\n"
     ]
    },
    {
     "name": "stdout",
     "output_type": "stream",
     "text": [
      "end of loop\n"
     ]
    },
    {
     "name": "stderr",
     "output_type": "stream",
     "text": [
      "[I 2020-10-15 17:34:42,499] Finished trial#7 with value: 45088.463961988826 with parameters: {'max_depth': 61, 'num_leaves': 109, 'bag_frac': 0.8776689824665386, 'feat_frac': 0.6036392190389449, 'l1': 0.1850786844021547, 'l2': 0.11806001717947733}. Best is trial#1 with value: 42387.860806013814.\n",
      "C:\\Users\\albert\\Anaconda3\\lib\\site-packages\\lightgbm\\basic.py:1291: UserWarning:\n",
      "\n",
      "Using categorical_feature in Dataset.\n",
      "\n"
     ]
    },
    {
     "name": "stdout",
     "output_type": "stream",
     "text": [
      "Training until validation scores don't improve for 500 rounds\n",
      "[500]\tvalid_0's rmse: 4379.91\n",
      "Early stopping, best iteration is:\n",
      "[499]\tvalid_0's rmse: 4379.77\n"
     ]
    },
    {
     "name": "stderr",
     "output_type": "stream",
     "text": [
      "  7%|▋         | 35/499 [00:04<00:56,  8.15it/s]\n"
     ]
    },
    {
     "name": "stdout",
     "output_type": "stream",
     "text": [
      "end of loop\n"
     ]
    },
    {
     "name": "stderr",
     "output_type": "stream",
     "text": [
      "[I 2020-10-15 17:39:21,671] Finished trial#8 with value: 50025.25448819011 with parameters: {'max_depth': 47, 'num_leaves': 83, 'bag_frac': 0.7541626776031948, 'feat_frac': 0.7800058321711355, 'l1': 0.48884135004424767, 'l2': 0.1884266922774647}. Best is trial#1 with value: 42387.860806013814.\n",
      "C:\\Users\\albert\\Anaconda3\\lib\\site-packages\\lightgbm\\basic.py:1291: UserWarning:\n",
      "\n",
      "Using categorical_feature in Dataset.\n",
      "\n"
     ]
    },
    {
     "name": "stdout",
     "output_type": "stream",
     "text": [
      "Training until validation scores don't improve for 500 rounds\n",
      "[500]\tvalid_0's rmse: 4272.83\n",
      "Early stopping, best iteration is:\n",
      "[456]\tvalid_0's rmse: 4266.04\n"
     ]
    },
    {
     "name": "stderr",
     "output_type": "stream",
     "text": [
      "  7%|▋         | 35/499 [00:04<00:57,  8.02it/s]\n"
     ]
    },
    {
     "name": "stdout",
     "output_type": "stream",
     "text": [
      "end of loop\n"
     ]
    },
    {
     "name": "stderr",
     "output_type": "stream",
     "text": [
      "[I 2020-10-15 17:45:00,990] Finished trial#9 with value: 48969.71111731624 with parameters: {'max_depth': 57, 'num_leaves': 76, 'bag_frac': 0.590154927797888, 'feat_frac': 0.8765083387210144, 'l1': 0.7843027034053663, 'l2': 0.12400247062729274}. Best is trial#1 with value: 42387.860806013814.\n",
      "C:\\Users\\albert\\Anaconda3\\lib\\site-packages\\lightgbm\\basic.py:1291: UserWarning:\n",
      "\n",
      "Using categorical_feature in Dataset.\n",
      "\n"
     ]
    },
    {
     "name": "stdout",
     "output_type": "stream",
     "text": [
      "Training until validation scores don't improve for 500 rounds\n",
      "[500]\tvalid_0's rmse: 4154.28\n",
      "[1000]\tvalid_0's rmse: 4148.71\n",
      "[1500]\tvalid_0's rmse: 4145.67\n",
      "[2000]\tvalid_0's rmse: 4145.74\n",
      "Early stopping, best iteration is:\n",
      "[1643]\tvalid_0's rmse: 4141.45\n"
     ]
    },
    {
     "name": "stderr",
     "output_type": "stream",
     "text": [
      "  7%|▋         | 35/499 [00:04<01:00,  7.62it/s]\n"
     ]
    },
    {
     "name": "stdout",
     "output_type": "stream",
     "text": [
      "end of loop\n"
     ]
    },
    {
     "name": "stderr",
     "output_type": "stream",
     "text": [
      "[I 2020-10-15 17:58:03,624] Finished trial#10 with value: 44578.65840164947 with parameters: {'max_depth': 25, 'num_leaves': 98, 'bag_frac': 0.5321593267381768, 'feat_frac': 0.5029654416391556, 'l1': 0.21050930600610634, 'l2': 0.27596532164795406}. Best is trial#1 with value: 42387.860806013814.\n",
      "C:\\Users\\albert\\Anaconda3\\lib\\site-packages\\lightgbm\\basic.py:1291: UserWarning:\n",
      "\n",
      "Using categorical_feature in Dataset.\n",
      "\n"
     ]
    },
    {
     "name": "stdout",
     "output_type": "stream",
     "text": [
      "Training until validation scores don't improve for 500 rounds\n",
      "[500]\tvalid_0's rmse: 4291.79\n",
      "[1000]\tvalid_0's rmse: 4275.87\n",
      "Early stopping, best iteration is:\n",
      "[746]\tvalid_0's rmse: 4268.48\n"
     ]
    },
    {
     "name": "stderr",
     "output_type": "stream",
     "text": [
      "  7%|▋         | 35/499 [00:04<01:01,  7.53it/s]\n"
     ]
    },
    {
     "name": "stdout",
     "output_type": "stream",
     "text": [
      "end of loop\n"
     ]
    },
    {
     "name": "stderr",
     "output_type": "stream",
     "text": [
      "[I 2020-10-15 18:03:13,562] Finished trial#11 with value: 45682.25628101189 with parameters: {'max_depth': 28, 'num_leaves': 55, 'bag_frac': 0.5723367258985483, 'feat_frac': 0.5427205012987224, 'l1': 0.31320464700522005, 'l2': 0.25666901063489594}. Best is trial#1 with value: 42387.860806013814.\n",
      "C:\\Users\\albert\\Anaconda3\\lib\\site-packages\\lightgbm\\basic.py:1291: UserWarning:\n",
      "\n",
      "Using categorical_feature in Dataset.\n",
      "\n"
     ]
    },
    {
     "name": "stdout",
     "output_type": "stream",
     "text": [
      "Training until validation scores don't improve for 500 rounds\n",
      "[500]\tvalid_0's rmse: 4225.98\n",
      "[1000]\tvalid_0's rmse: 4212.44\n",
      "[1500]\tvalid_0's rmse: 4202.56\n",
      "[2000]\tvalid_0's rmse: 4206.53\n",
      "Early stopping, best iteration is:\n",
      "[1630]\tvalid_0's rmse: 4199.33\n"
     ]
    },
    {
     "name": "stderr",
     "output_type": "stream",
     "text": [
      "  7%|▋         | 35/499 [00:04<00:53,  8.62it/s]\n"
     ]
    },
    {
     "name": "stdout",
     "output_type": "stream",
     "text": [
      "end of loop\n"
     ]
    },
    {
     "name": "stderr",
     "output_type": "stream",
     "text": [
      "[I 2020-10-15 18:13:49,591] Finished trial#12 with value: 43536.800858349205 with parameters: {'max_depth': 33, 'num_leaves': 67, 'bag_frac': 0.6455081211147871, 'feat_frac': 0.5385570427201765, 'l1': 0.10541316528271404, 'l2': 0.4150096596950726}. Best is trial#1 with value: 42387.860806013814.\n",
      "C:\\Users\\albert\\Anaconda3\\lib\\site-packages\\lightgbm\\basic.py:1291: UserWarning:\n",
      "\n",
      "Using categorical_feature in Dataset.\n",
      "\n"
     ]
    },
    {
     "name": "stdout",
     "output_type": "stream",
     "text": [
      "Training until validation scores don't improve for 500 rounds\n",
      "[500]\tvalid_0's rmse: 4302.28\n",
      "Early stopping, best iteration is:\n",
      "[377]\tvalid_0's rmse: 4289.59\n"
     ]
    },
    {
     "name": "stderr",
     "output_type": "stream",
     "text": [
      "  7%|▋         | 35/499 [00:04<01:00,  7.65it/s]\n"
     ]
    },
    {
     "name": "stdout",
     "output_type": "stream",
     "text": [
      "end of loop\n"
     ]
    },
    {
     "name": "stderr",
     "output_type": "stream",
     "text": [
      "[I 2020-10-15 18:17:37,605] Finished trial#13 with value: 45384.068000503554 with parameters: {'max_depth': 37, 'num_leaves': 57, 'bag_frac': 0.6586561609555376, 'feat_frac': 0.5644963295751091, 'l1': 0.10075934325018977, 'l2': 0.4418554795497876}. Best is trial#1 with value: 42387.860806013814.\n",
      "C:\\Users\\albert\\Anaconda3\\lib\\site-packages\\lightgbm\\basic.py:1291: UserWarning:\n",
      "\n",
      "Using categorical_feature in Dataset.\n",
      "\n"
     ]
    },
    {
     "name": "stdout",
     "output_type": "stream",
     "text": [
      "Training until validation scores don't improve for 500 rounds\n",
      "[500]\tvalid_0's rmse: 4350.97\n",
      "[1000]\tvalid_0's rmse: 4319.2\n",
      "Early stopping, best iteration is:\n",
      "[890]\tvalid_0's rmse: 4314.13\n"
     ]
    },
    {
     "name": "stderr",
     "output_type": "stream",
     "text": [
      "  7%|▋         | 35/499 [00:04<00:58,  7.92it/s]\n"
     ]
    },
    {
     "name": "stdout",
     "output_type": "stream",
     "text": [
      "end of loop\n"
     ]
    },
    {
     "name": "stderr",
     "output_type": "stream",
     "text": [
      "[I 2020-10-15 18:25:06,528] Finished trial#14 with value: 49013.62287347326 with parameters: {'max_depth': 18, 'num_leaves': 63, 'bag_frac': 0.7253530354537968, 'feat_frac': 0.6832698028974757, 'l1': 0.1330290144811433, 'l2': 0.6100301974312703}. Best is trial#1 with value: 42387.860806013814.\n",
      "C:\\Users\\albert\\Anaconda3\\lib\\site-packages\\lightgbm\\basic.py:1291: UserWarning:\n",
      "\n",
      "Using categorical_feature in Dataset.\n",
      "\n"
     ]
    },
    {
     "name": "stdout",
     "output_type": "stream",
     "text": [
      "Training until validation scores don't improve for 500 rounds\n",
      "[500]\tvalid_0's rmse: 4336.12\n",
      "[1000]\tvalid_0's rmse: 4300.98\n",
      "[1500]\tvalid_0's rmse: 4301.5\n",
      "Early stopping, best iteration is:\n",
      "[1299]\tvalid_0's rmse: 4295.86\n"
     ]
    },
    {
     "name": "stderr",
     "output_type": "stream",
     "text": [
      "  7%|▋         | 35/499 [00:04<00:57,  8.11it/s]\n"
     ]
    },
    {
     "name": "stdout",
     "output_type": "stream",
     "text": [
      "end of loop\n"
     ]
    },
    {
     "name": "stderr",
     "output_type": "stream",
     "text": [
      "[I 2020-10-15 18:37:20,546] Finished trial#15 with value: 45106.460496258966 with parameters: {'max_depth': 33, 'num_leaves': 100, 'bag_frac': 0.555296884444737, 'feat_frac': 0.6529677014532459, 'l1': 0.23762793607474691, 'l2': 0.35981172090578256}. Best is trial#1 with value: 42387.860806013814.\n",
      "C:\\Users\\albert\\Anaconda3\\lib\\site-packages\\lightgbm\\basic.py:1291: UserWarning:\n",
      "\n",
      "Using categorical_feature in Dataset.\n",
      "\n"
     ]
    },
    {
     "name": "stdout",
     "output_type": "stream",
     "text": [
      "Training until validation scores don't improve for 500 rounds\n",
      "[500]\tvalid_0's rmse: 4210.72\n",
      "Early stopping, best iteration is:\n",
      "[285]\tvalid_0's rmse: 4199.35\n"
     ]
    },
    {
     "name": "stderr",
     "output_type": "stream",
     "text": [
      "  7%|▋         | 35/499 [00:04<00:59,  7.83it/s]\n"
     ]
    },
    {
     "name": "stdout",
     "output_type": "stream",
     "text": [
      "end of loop\n"
     ]
    },
    {
     "name": "stderr",
     "output_type": "stream",
     "text": [
      "[I 2020-10-15 18:45:15,088] Finished trial#16 with value: 45350.3230910529 with parameters: {'max_depth': 40, 'num_leaves': 124, 'bag_frac': 0.6265293757145401, 'feat_frac': 0.5680100263571015, 'l1': 0.11960752875759618, 'l2': 0.20709174657142634}. Best is trial#1 with value: 42387.860806013814.\n",
      "C:\\Users\\albert\\Anaconda3\\lib\\site-packages\\lightgbm\\basic.py:1291: UserWarning:\n",
      "\n",
      "Using categorical_feature in Dataset.\n",
      "\n"
     ]
    },
    {
     "name": "stdout",
     "output_type": "stream",
     "text": [
      "Training until validation scores don't improve for 500 rounds\n",
      "[500]\tvalid_0's rmse: 4368.25\n",
      "[1000]\tvalid_0's rmse: 4358.96\n",
      "Early stopping, best iteration is:\n",
      "[947]\tvalid_0's rmse: 4354.74\n"
     ]
    },
    {
     "name": "stderr",
     "output_type": "stream",
     "text": [
      "  7%|▋         | 35/499 [00:04<00:54,  8.58it/s]\n"
     ]
    },
    {
     "name": "stdout",
     "output_type": "stream",
     "text": [
      "end of loop\n"
     ]
    },
    {
     "name": "stderr",
     "output_type": "stream",
     "text": [
      "[I 2020-10-15 18:51:30,748] Finished trial#17 with value: 45157.22667586487 with parameters: {'max_depth': 31, 'num_leaves': 83, 'bag_frac': 0.7879692139390335, 'feat_frac': 0.6711742003533553, 'l1': 0.14760942354214465, 'l2': 0.7717617509270838}. Best is trial#1 with value: 42387.860806013814.\n",
      "C:\\Users\\albert\\Anaconda3\\lib\\site-packages\\lightgbm\\basic.py:1291: UserWarning:\n",
      "\n",
      "Using categorical_feature in Dataset.\n",
      "\n"
     ]
    },
    {
     "name": "stdout",
     "output_type": "stream",
     "text": [
      "Training until validation scores don't improve for 500 rounds\n",
      "[500]\tvalid_0's rmse: 4319.7\n",
      "[1000]\tvalid_0's rmse: 4313.17\n",
      "Early stopping, best iteration is:\n",
      "[969]\tvalid_0's rmse: 4312.49\n"
     ]
    },
    {
     "name": "stderr",
     "output_type": "stream",
     "text": [
      "  7%|▋         | 35/499 [00:04<00:53,  8.64it/s]\n"
     ]
    },
    {
     "name": "stdout",
     "output_type": "stream",
     "text": [
      "end of loop\n"
     ]
    },
    {
     "name": "stderr",
     "output_type": "stream",
     "text": [
      "[I 2020-10-15 18:59:21,043] Finished trial#18 with value: 42560.09292918331 with parameters: {'max_depth': 20, 'num_leaves': 73, 'bag_frac': 0.5396136653576298, 'feat_frac': 0.555184290057589, 'l1': 0.28462760709597185, 'l2': 0.3510392434055747}. Best is trial#1 with value: 42387.860806013814.\n",
      "C:\\Users\\albert\\Anaconda3\\lib\\site-packages\\lightgbm\\basic.py:1291: UserWarning:\n",
      "\n",
      "Using categorical_feature in Dataset.\n",
      "\n"
     ]
    },
    {
     "name": "stdout",
     "output_type": "stream",
     "text": [
      "Training until validation scores don't improve for 500 rounds\n",
      "[500]\tvalid_0's rmse: 4199.35\n",
      "[1000]\tvalid_0's rmse: 4216.65\n",
      "Early stopping, best iteration is:\n",
      "[504]\tvalid_0's rmse: 4198.89\n"
     ]
    },
    {
     "name": "stderr",
     "output_type": "stream",
     "text": [
      "  7%|▋         | 35/499 [00:04<01:00,  7.72it/s]\n"
     ]
    },
    {
     "name": "stdout",
     "output_type": "stream",
     "text": [
      "end of loop\n"
     ]
    },
    {
     "name": "stderr",
     "output_type": "stream",
     "text": [
      "[I 2020-10-15 19:05:26,494] Finished trial#19 with value: 43808.71086518232 with parameters: {'max_depth': 53, 'num_leaves': 80, 'bag_frac': 0.5301582919648248, 'feat_frac': 0.5806632981693736, 'l1': 0.3024146691407965, 'l2': 0.32381456125627256}. Best is trial#1 with value: 42387.860806013814.\n",
      "C:\\Users\\albert\\Anaconda3\\lib\\site-packages\\lightgbm\\basic.py:1291: UserWarning:\n",
      "\n",
      "Using categorical_feature in Dataset.\n",
      "\n"
     ]
    },
    {
     "name": "stdout",
     "output_type": "stream",
     "text": [
      "Training until validation scores don't improve for 500 rounds\n",
      "[500]\tvalid_0's rmse: 4108.59\n",
      "Early stopping, best iteration is:\n",
      "[421]\tvalid_0's rmse: 4103.72\n"
     ]
    },
    {
     "name": "stderr",
     "output_type": "stream",
     "text": [
      "  7%|▋         | 35/499 [00:04<00:58,  7.92it/s]\n"
     ]
    },
    {
     "name": "stdout",
     "output_type": "stream",
     "text": [
      "end of loop\n"
     ]
    },
    {
     "name": "stderr",
     "output_type": "stream",
     "text": [
      "[I 2020-10-15 19:10:11,892] Finished trial#20 with value: 46822.60791893536 with parameters: {'max_depth': 18, 'num_leaves': 90, 'bag_frac': 0.5450474420544055, 'feat_frac': 0.5011946875968768, 'l1': 0.36827347695184715, 'l2': 0.2175846929498827}. Best is trial#1 with value: 42387.860806013814.\n",
      "C:\\Users\\albert\\Anaconda3\\lib\\site-packages\\lightgbm\\basic.py:1291: UserWarning:\n",
      "\n",
      "Using categorical_feature in Dataset.\n",
      "\n"
     ]
    },
    {
     "name": "stdout",
     "output_type": "stream",
     "text": [
      "Training until validation scores don't improve for 500 rounds\n",
      "[500]\tvalid_0's rmse: 4199.46\n",
      "[1000]\tvalid_0's rmse: 4191.75\n",
      "Early stopping, best iteration is:\n",
      "[796]\tvalid_0's rmse: 4179.28\n"
     ]
    },
    {
     "name": "stderr",
     "output_type": "stream",
     "text": [
      "  7%|▋         | 35/499 [00:03<00:52,  8.77it/s]\n"
     ]
    },
    {
     "name": "stdout",
     "output_type": "stream",
     "text": [
      "end of loop\n"
     ]
    },
    {
     "name": "stderr",
     "output_type": "stream",
     "text": [
      "[I 2020-10-15 19:17:42,714] Finished trial#21 with value: 43318.21614514492 with parameters: {'max_depth': 22, 'num_leaves': 69, 'bag_frac': 0.6236427752595269, 'feat_frac': 0.5361341611898497, 'l1': 0.17085066974763088, 'l2': 0.45565876373043834}. Best is trial#1 with value: 42387.860806013814.\n",
      "C:\\Users\\albert\\Anaconda3\\lib\\site-packages\\lightgbm\\basic.py:1291: UserWarning:\n",
      "\n",
      "Using categorical_feature in Dataset.\n",
      "\n"
     ]
    },
    {
     "name": "stdout",
     "output_type": "stream",
     "text": [
      "Training until validation scores don't improve for 500 rounds\n",
      "[500]\tvalid_0's rmse: 4111.45\n",
      "[1000]\tvalid_0's rmse: 4094.71\n",
      "Early stopping, best iteration is:\n",
      "[984]\tvalid_0's rmse: 4093.68\n"
     ]
    },
    {
     "name": "stderr",
     "output_type": "stream",
     "text": [
      "  7%|▋         | 35/499 [00:04<00:58,  7.99it/s]\n"
     ]
    },
    {
     "name": "stdout",
     "output_type": "stream",
     "text": [
      "end of loop\n"
     ]
    },
    {
     "name": "stderr",
     "output_type": "stream",
     "text": [
      "[I 2020-10-15 19:24:29,412] Finished trial#22 with value: 42558.374630662875 with parameters: {'max_depth': 23, 'num_leaves': 71, 'bag_frac': 0.6123069921211675, 'feat_frac': 0.5538549021133514, 'l1': 0.22714030359278278, 'l2': 0.5143575930959247}. Best is trial#1 with value: 42387.860806013814.\n",
      "C:\\Users\\albert\\Anaconda3\\lib\\site-packages\\lightgbm\\basic.py:1291: UserWarning:\n",
      "\n",
      "Using categorical_feature in Dataset.\n",
      "\n"
     ]
    },
    {
     "name": "stdout",
     "output_type": "stream",
     "text": [
      "Training until validation scores don't improve for 500 rounds\n",
      "[500]\tvalid_0's rmse: 4330.55\n",
      "[1000]\tvalid_0's rmse: 4336.2\n",
      "Early stopping, best iteration is:\n",
      "[737]\tvalid_0's rmse: 4317.45\n"
     ]
    },
    {
     "name": "stderr",
     "output_type": "stream",
     "text": [
      "  7%|▋         | 35/499 [00:03<00:52,  8.89it/s]\n"
     ]
    },
    {
     "name": "stdout",
     "output_type": "stream",
     "text": [
      "end of loop\n"
     ]
    },
    {
     "name": "stderr",
     "output_type": "stream",
     "text": [
      "[I 2020-10-15 19:30:35,464] Finished trial#23 with value: 45025.61362131476 with parameters: {'max_depth': 24, 'num_leaves': 75, 'bag_frac': 0.5653892601196617, 'feat_frac': 0.6412711703283172, 'l1': 0.2624572705107846, 'l2': 0.6152633497540315}. Best is trial#1 with value: 42387.860806013814.\n",
      "C:\\Users\\albert\\Anaconda3\\lib\\site-packages\\lightgbm\\basic.py:1291: UserWarning:\n",
      "\n",
      "Using categorical_feature in Dataset.\n",
      "\n"
     ]
    },
    {
     "name": "stdout",
     "output_type": "stream",
     "text": [
      "Training until validation scores don't improve for 500 rounds\n",
      "[500]\tvalid_0's rmse: 4283.41\n",
      "[1000]\tvalid_0's rmse: 4284.2\n",
      "Early stopping, best iteration is:\n",
      "[576]\tvalid_0's rmse: 4273.1\n"
     ]
    },
    {
     "name": "stderr",
     "output_type": "stream",
     "text": [
      "  7%|▋         | 35/499 [00:04<00:58,  7.95it/s]\n"
     ]
    },
    {
     "name": "stdout",
     "output_type": "stream",
     "text": [
      "end of loop\n"
     ]
    },
    {
     "name": "stderr",
     "output_type": "stream",
     "text": [
      "[I 2020-10-15 19:34:34,767] Finished trial#24 with value: 44702.58381905291 with parameters: {'max_depth': 20, 'num_leaves': 60, 'bag_frac': 0.5016394761235355, 'feat_frac': 0.562313881566016, 'l1': 0.20380127782831686, 'l2': 0.5778414769707011}. Best is trial#1 with value: 42387.860806013814.\n",
      "C:\\Users\\albert\\Anaconda3\\lib\\site-packages\\lightgbm\\basic.py:1291: UserWarning:\n",
      "\n",
      "Using categorical_feature in Dataset.\n",
      "\n"
     ]
    },
    {
     "name": "stdout",
     "output_type": "stream",
     "text": [
      "Training until validation scores don't improve for 500 rounds\n",
      "[500]\tvalid_0's rmse: 4134.2\n",
      "[1000]\tvalid_0's rmse: 4126.41\n",
      "Early stopping, best iteration is:\n",
      "[908]\tvalid_0's rmse: 4121.93\n"
     ]
    },
    {
     "name": "stderr",
     "output_type": "stream",
     "text": [
      "  7%|▋         | 35/499 [00:05<01:16,  6.08it/s]\n"
     ]
    },
    {
     "name": "stdout",
     "output_type": "stream",
     "text": [
      "end of loop\n"
     ]
    },
    {
     "name": "stderr",
     "output_type": "stream",
     "text": [
      "[I 2020-10-15 19:42:50,200] Finished trial#25 with value: 44253.2830077947 with parameters: {'max_depth': 43, 'num_leaves': 79, 'bag_frac': 0.5282552275745368, 'feat_frac': 0.5052459444109271, 'l1': 0.3615036903053234, 'l2': 0.31193667231580513}. Best is trial#1 with value: 42387.860806013814.\n",
      "C:\\Users\\albert\\Anaconda3\\lib\\site-packages\\lightgbm\\basic.py:1291: UserWarning:\n",
      "\n",
      "Using categorical_feature in Dataset.\n",
      "\n"
     ]
    },
    {
     "name": "stdout",
     "output_type": "stream",
     "text": [
      "Training until validation scores don't improve for 500 rounds\n",
      "[500]\tvalid_0's rmse: 4296.68\n",
      "[1000]\tvalid_0's rmse: 4291.39\n",
      "Early stopping, best iteration is:\n",
      "[655]\tvalid_0's rmse: 4284.61\n"
     ]
    },
    {
     "name": "stderr",
     "output_type": "stream",
     "text": [
      "  7%|▋         | 35/499 [00:04<01:04,  7.24it/s]\n"
     ]
    },
    {
     "name": "stdout",
     "output_type": "stream",
     "text": [
      "end of loop\n"
     ]
    },
    {
     "name": "stderr",
     "output_type": "stream",
     "text": [
      "[I 2020-10-15 19:47:50,909] Finished trial#26 with value: 46273.594647517035 with parameters: {'max_depth': 52, 'num_leaves': 72, 'bag_frac': 0.6138166959628782, 'feat_frac': 0.6287216544601, 'l1': 0.25455928588649185, 'l2': 0.5014184980617283}. Best is trial#1 with value: 42387.860806013814.\n",
      "C:\\Users\\albert\\Anaconda3\\lib\\site-packages\\lightgbm\\basic.py:1291: UserWarning:\n",
      "\n",
      "Using categorical_feature in Dataset.\n",
      "\n"
     ]
    },
    {
     "name": "stdout",
     "output_type": "stream",
     "text": [
      "Training until validation scores don't improve for 500 rounds\n",
      "[500]\tvalid_0's rmse: 4281.94\n",
      "[1000]\tvalid_0's rmse: 4273.6\n",
      "Early stopping, best iteration is:\n",
      "[654]\tvalid_0's rmse: 4270.07\n"
     ]
    },
    {
     "name": "stderr",
     "output_type": "stream",
     "text": [
      "  7%|▋         | 35/499 [00:04<01:03,  7.28it/s]\n"
     ]
    },
    {
     "name": "stdout",
     "output_type": "stream",
     "text": [
      "end of loop\n"
     ]
    },
    {
     "name": "stderr",
     "output_type": "stream",
     "text": [
      "[I 2020-10-15 19:55:32,098] Finished trial#27 with value: 45988.03215991682 with parameters: {'max_depth': 28, 'num_leaves': 96, 'bag_frac': 0.6901541835221464, 'feat_frac': 0.7039037808559364, 'l1': 0.22000062407421767, 'l2': 0.37546903704365986}. Best is trial#1 with value: 42387.860806013814.\n",
      "C:\\Users\\albert\\Anaconda3\\lib\\site-packages\\lightgbm\\basic.py:1291: UserWarning:\n",
      "\n",
      "Using categorical_feature in Dataset.\n",
      "\n"
     ]
    },
    {
     "name": "stdout",
     "output_type": "stream",
     "text": [
      "Training until validation scores don't improve for 500 rounds\n",
      "[500]\tvalid_0's rmse: 4205.85\n",
      "Early stopping, best iteration is:\n",
      "[264]\tvalid_0's rmse: 4183.29\n"
     ]
    },
    {
     "name": "stderr",
     "output_type": "stream",
     "text": [
      "  7%|▋         | 35/499 [00:04<01:00,  7.70it/s]\n"
     ]
    },
    {
     "name": "stdout",
     "output_type": "stream",
     "text": [
      "end of loop\n"
     ]
    },
    {
     "name": "stderr",
     "output_type": "stream",
     "text": [
      "[I 2020-10-15 20:00:05,273] Finished trial#28 with value: 46880.79705524738 with parameters: {'max_depth': 37, 'num_leaves': 84, 'bag_frac': 0.5718006025517742, 'feat_frac': 0.5880414783531235, 'l1': 0.36463889624496026, 'l2': 0.8623607250820964}. Best is trial#1 with value: 42387.860806013814.\n",
      "C:\\Users\\albert\\Anaconda3\\lib\\site-packages\\lightgbm\\basic.py:1291: UserWarning:\n",
      "\n",
      "Using categorical_feature in Dataset.\n",
      "\n"
     ]
    },
    {
     "name": "stdout",
     "output_type": "stream",
     "text": [
      "Training until validation scores don't improve for 500 rounds\n",
      "[500]\tvalid_0's rmse: 4205.49\n",
      "Early stopping, best iteration is:\n",
      "[447]\tvalid_0's rmse: 4202.5\n"
     ]
    },
    {
     "name": "stderr",
     "output_type": "stream",
     "text": [
      "  7%|▋         | 35/499 [00:04<01:02,  7.41it/s]\n"
     ]
    },
    {
     "name": "stdout",
     "output_type": "stream",
     "text": [
      "end of loop\n"
     ]
    },
    {
     "name": "stderr",
     "output_type": "stream",
     "text": [
      "[I 2020-10-15 20:06:11,208] Finished trial#29 with value: 43010.11247228384 with parameters: {'max_depth': 49, 'num_leaves': 104, 'bag_frac': 0.518868498901333, 'feat_frac': 0.5518728932663783, 'l1': 0.14621122205480247, 'l2': 0.2660952025012524}. Best is trial#1 with value: 42387.860806013814.\n",
      "C:\\Users\\albert\\Anaconda3\\lib\\site-packages\\lightgbm\\basic.py:1291: UserWarning:\n",
      "\n",
      "Using categorical_feature in Dataset.\n",
      "\n"
     ]
    },
    {
     "name": "stdout",
     "output_type": "stream",
     "text": [
      "Training until validation scores don't improve for 500 rounds\n",
      "[500]\tvalid_0's rmse: 4231.16\n",
      "[1000]\tvalid_0's rmse: 4229.47\n",
      "Early stopping, best iteration is:\n",
      "[779]\tvalid_0's rmse: 4222.84\n"
     ]
    },
    {
     "name": "stderr",
     "output_type": "stream",
     "text": [
      "  7%|▋         | 35/499 [00:04<01:00,  7.72it/s]\n"
     ]
    },
    {
     "name": "stdout",
     "output_type": "stream",
     "text": [
      "end of loop\n"
     ]
    },
    {
     "name": "stderr",
     "output_type": "stream",
     "text": [
      "[I 2020-10-15 20:12:14,160] Finished trial#30 with value: 44173.29831460934 with parameters: {'max_depth': 43, 'num_leaves': 62, 'bag_frac': 0.5962523868567116, 'feat_frac': 0.5944486589294569, 'l1': 0.17525758834152028, 'l2': 0.36577014104450534}. Best is trial#1 with value: 42387.860806013814.\n",
      "C:\\Users\\albert\\Anaconda3\\lib\\site-packages\\lightgbm\\basic.py:1291: UserWarning:\n",
      "\n",
      "Using categorical_feature in Dataset.\n",
      "\n"
     ]
    },
    {
     "name": "stdout",
     "output_type": "stream",
     "text": [
      "Training until validation scores don't improve for 500 rounds\n",
      "[500]\tvalid_0's rmse: 4181.65\n",
      "[1000]\tvalid_0's rmse: 4165.31\n",
      "[1500]\tvalid_0's rmse: 4150.06\n",
      "[2000]\tvalid_0's rmse: 4148.01\n",
      "Early stopping, best iteration is:\n",
      "[1637]\tvalid_0's rmse: 4146.01\n"
     ]
    },
    {
     "name": "stderr",
     "output_type": "stream",
     "text": [
      "  7%|▋         | 35/499 [00:04<01:05,  7.11it/s]\n"
     ]
    },
    {
     "name": "stdout",
     "output_type": "stream",
     "text": [
      "end of loop\n"
     ]
    },
    {
     "name": "stderr",
     "output_type": "stream",
     "text": [
      "[I 2020-10-15 20:30:08,091] Finished trial#31 with value: 43847.38519482038 with parameters: {'max_depth': 50, 'num_leaves': 122, 'bag_frac': 0.5158433308513065, 'feat_frac': 0.5515665489855989, 'l1': 0.1502404262786333, 'l2': 0.24695357295889128}. Best is trial#1 with value: 42387.860806013814.\n",
      "C:\\Users\\albert\\Anaconda3\\lib\\site-packages\\lightgbm\\basic.py:1291: UserWarning:\n",
      "\n",
      "Using categorical_feature in Dataset.\n",
      "\n"
     ]
    },
    {
     "name": "stdout",
     "output_type": "stream",
     "text": [
      "Training until validation scores don't improve for 500 rounds\n",
      "[500]\tvalid_0's rmse: 4137.82\n",
      "Early stopping, best iteration is:\n",
      "[345]\tvalid_0's rmse: 4133.33\n"
     ]
    },
    {
     "name": "stderr",
     "output_type": "stream",
     "text": [
      "  7%|▋         | 35/499 [00:04<01:00,  7.67it/s]\n"
     ]
    },
    {
     "name": "stdout",
     "output_type": "stream",
     "text": [
      "end of loop\n"
     ]
    },
    {
     "name": "stderr",
     "output_type": "stream",
     "text": [
      "[I 2020-10-15 20:35:32,210] Finished trial#32 with value: 46414.510253608976 with parameters: {'max_depth': 46, 'num_leaves': 103, 'bag_frac': 0.5466562548097097, 'feat_frac': 0.5121415442066402, 'l1': 0.1226778918192688, 'l2': 0.29794621634792096}. Best is trial#1 with value: 42387.860806013814.\n",
      "C:\\Users\\albert\\Anaconda3\\lib\\site-packages\\lightgbm\\basic.py:1291: UserWarning:\n",
      "\n",
      "Using categorical_feature in Dataset.\n",
      "\n"
     ]
    },
    {
     "name": "stdout",
     "output_type": "stream",
     "text": [
      "Training until validation scores don't improve for 500 rounds\n",
      "[500]\tvalid_0's rmse: 4240.35\n",
      "[1000]\tvalid_0's rmse: 4232.97\n",
      "Early stopping, best iteration is:\n",
      "[638]\tvalid_0's rmse: 4229.39\n"
     ]
    },
    {
     "name": "stderr",
     "output_type": "stream",
     "text": [
      "  7%|▋         | 35/499 [00:04<01:01,  7.51it/s]\n"
     ]
    },
    {
     "name": "stdout",
     "output_type": "stream",
     "text": [
      "end of loop\n"
     ]
    },
    {
     "name": "stderr",
     "output_type": "stream",
     "text": [
      "[I 2020-10-15 20:43:50,460] Finished trial#33 with value: 43975.967257859185 with parameters: {'max_depth': 56, 'num_leaves': 107, 'bag_frac': 0.505821442243887, 'feat_frac': 0.526407447755765, 'l1': 0.14296277242755007, 'l2': 0.3333342495060482}. Best is trial#1 with value: 42387.860806013814.\n",
      "C:\\Users\\albert\\Anaconda3\\lib\\site-packages\\lightgbm\\basic.py:1291: UserWarning:\n",
      "\n",
      "Using categorical_feature in Dataset.\n",
      "\n"
     ]
    },
    {
     "name": "stdout",
     "output_type": "stream",
     "text": [
      "Training until validation scores don't improve for 500 rounds\n",
      "[500]\tvalid_0's rmse: 4182.34\n",
      "[1000]\tvalid_0's rmse: 4154.29\n",
      "Early stopping, best iteration is:\n",
      "[807]\tvalid_0's rmse: 4150.32\n"
     ]
    },
    {
     "name": "stderr",
     "output_type": "stream",
     "text": [
      "  7%|▋         | 35/499 [00:04<01:01,  7.55it/s]\n"
     ]
    },
    {
     "name": "stdout",
     "output_type": "stream",
     "text": [
      "end of loop\n"
     ]
    },
    {
     "name": "stderr",
     "output_type": "stream",
     "text": [
      "[I 2020-10-15 20:54:17,090] Finished trial#34 with value: 46629.61823582396 with parameters: {'max_depth': 50, 'num_leaves': 116, 'bag_frac': 0.5825429557820323, 'feat_frac': 0.5779143021320883, 'l1': 0.18880620718435187, 'l2': 0.23365967029626053}. Best is trial#1 with value: 42387.860806013814.\n",
      "C:\\Users\\albert\\Anaconda3\\lib\\site-packages\\lightgbm\\basic.py:1291: UserWarning:\n",
      "\n",
      "Using categorical_feature in Dataset.\n",
      "\n"
     ]
    },
    {
     "name": "stdout",
     "output_type": "stream",
     "text": [
      "Training until validation scores don't improve for 500 rounds\n",
      "[500]\tvalid_0's rmse: 4189.7\n",
      "[1000]\tvalid_0's rmse: 4176.91\n",
      "[1500]\tvalid_0's rmse: 4175.23\n",
      "Early stopping, best iteration is:\n",
      "[1096]\tvalid_0's rmse: 4169.24\n"
     ]
    },
    {
     "name": "stderr",
     "output_type": "stream",
     "text": [
      "  7%|▋         | 35/499 [00:04<01:01,  7.49it/s]\n"
     ]
    },
    {
     "name": "stdout",
     "output_type": "stream",
     "text": [
      "end of loop\n"
     ]
    },
    {
     "name": "stderr",
     "output_type": "stream",
     "text": [
      "[I 2020-10-15 21:03:45,684] Finished trial#35 with value: 44891.42903659634 with parameters: {'max_depth': 45, 'num_leaves': 87, 'bag_frac': 0.5192032887360742, 'feat_frac': 0.5247167307870647, 'l1': 0.16185439100552182, 'l2': 0.16975829337750134}. Best is trial#1 with value: 42387.860806013814.\n",
      "C:\\Users\\albert\\Anaconda3\\lib\\site-packages\\lightgbm\\basic.py:1291: UserWarning:\n",
      "\n",
      "Using categorical_feature in Dataset.\n",
      "\n"
     ]
    },
    {
     "name": "stdout",
     "output_type": "stream",
     "text": [
      "Training until validation scores don't improve for 500 rounds\n",
      "[500]\tvalid_0's rmse: 4216.12\n",
      "[1000]\tvalid_0's rmse: 4223.04\n",
      "Early stopping, best iteration is:\n",
      "[566]\tvalid_0's rmse: 4213.13\n"
     ]
    },
    {
     "name": "stderr",
     "output_type": "stream",
     "text": [
      "  7%|▋         | 35/499 [00:04<01:00,  7.68it/s]\n"
     ]
    },
    {
     "name": "stdout",
     "output_type": "stream",
     "text": [
      "end of loop\n"
     ]
    },
    {
     "name": "stderr",
     "output_type": "stream",
     "text": [
      "[I 2020-10-15 21:11:09,331] Finished trial#36 with value: 44403.90045182907 with parameters: {'max_depth': 39, 'num_leaves': 94, 'bag_frac': 0.5511465481903554, 'feat_frac': 0.6071781541493659, 'l1': 0.2592236236347521, 'l2': 0.40661477087746845}. Best is trial#1 with value: 42387.860806013814.\n",
      "C:\\Users\\albert\\Anaconda3\\lib\\site-packages\\lightgbm\\basic.py:1291: UserWarning:\n",
      "\n",
      "Using categorical_feature in Dataset.\n",
      "\n"
     ]
    },
    {
     "name": "stdout",
     "output_type": "stream",
     "text": [
      "Training until validation scores don't improve for 500 rounds\n",
      "[500]\tvalid_0's rmse: 4171.09\n",
      "[1000]\tvalid_0's rmse: 4175.56\n",
      "Early stopping, best iteration is:\n",
      "[561]\tvalid_0's rmse: 4165.27\n"
     ]
    },
    {
     "name": "stderr",
     "output_type": "stream",
     "text": [
      "  7%|▋         | 35/499 [00:05<01:06,  6.97it/s]\n"
     ]
    },
    {
     "name": "stdout",
     "output_type": "stream",
     "text": [
      "end of loop\n"
     ]
    },
    {
     "name": "stderr",
     "output_type": "stream",
     "text": [
      "[I 2020-10-15 21:19:52,517] Finished trial#37 with value: 42590.746370832414 with parameters: {'max_depth': 64, 'num_leaves': 117, 'bag_frac': 0.634704668860869, 'feat_frac': 0.5506320402514386, 'l1': 0.11676076545875128, 'l2': 0.28401789621612106}. Best is trial#1 with value: 42387.860806013814.\n",
      "C:\\Users\\albert\\Anaconda3\\lib\\site-packages\\lightgbm\\basic.py:1291: UserWarning:\n",
      "\n",
      "Using categorical_feature in Dataset.\n",
      "\n"
     ]
    },
    {
     "name": "stdout",
     "output_type": "stream",
     "text": [
      "Training until validation scores don't improve for 500 rounds\n",
      "[500]\tvalid_0's rmse: 4104.79\n",
      "Early stopping, best iteration is:\n",
      "[499]\tvalid_0's rmse: 4103.91\n"
     ]
    },
    {
     "name": "stderr",
     "output_type": "stream",
     "text": [
      "  7%|▋         | 35/499 [00:04<01:00,  7.67it/s]\n"
     ]
    },
    {
     "name": "stdout",
     "output_type": "stream",
     "text": [
      "end of loop\n"
     ]
    },
    {
     "name": "stderr",
     "output_type": "stream",
     "text": [
      "[I 2020-10-15 21:26:28,803] Finished trial#38 with value: 47229.78619326788 with parameters: {'max_depth': 59, 'num_leaves': 117, 'bag_frac': 0.6308104929146497, 'feat_frac': 0.5203707784708969, 'l1': 0.12223063714660531, 'l2': 0.504960152710117}. Best is trial#1 with value: 42387.860806013814.\n",
      "C:\\Users\\albert\\Anaconda3\\lib\\site-packages\\lightgbm\\basic.py:1291: UserWarning:\n",
      "\n",
      "Using categorical_feature in Dataset.\n",
      "\n"
     ]
    },
    {
     "name": "stdout",
     "output_type": "stream",
     "text": [
      "Training until validation scores don't improve for 500 rounds\n",
      "[500]\tvalid_0's rmse: 4178.08\n",
      "[1000]\tvalid_0's rmse: 4172.59\n",
      "Early stopping, best iteration is:\n",
      "[851]\tvalid_0's rmse: 4168.79\n"
     ]
    },
    {
     "name": "stderr",
     "output_type": "stream",
     "text": [
      "  7%|▋         | 35/499 [00:04<01:02,  7.46it/s]\n"
     ]
    },
    {
     "name": "stdout",
     "output_type": "stream",
     "text": [
      "end of loop\n"
     ]
    },
    {
     "name": "stderr",
     "output_type": "stream",
     "text": [
      "[I 2020-10-15 21:31:52,599] Finished trial#39 with value: 43951.65155519178 with parameters: {'max_depth': 64, 'num_leaves': 71, 'bag_frac': 0.6788351421883041, 'feat_frac': 0.6126422013488036, 'l1': 0.2961054060095974, 'l2': 0.6879023396926661}. Best is trial#1 with value: 42387.860806013814.\n",
      "C:\\Users\\albert\\Anaconda3\\lib\\site-packages\\lightgbm\\basic.py:1291: UserWarning:\n",
      "\n",
      "Using categorical_feature in Dataset.\n",
      "\n"
     ]
    },
    {
     "name": "stdout",
     "output_type": "stream",
     "text": [
      "Training until validation scores don't improve for 500 rounds\n",
      "[500]\tvalid_0's rmse: 4197.56\n",
      "[1000]\tvalid_0's rmse: 4181.81\n",
      "[1500]\tvalid_0's rmse: 4177.63\n",
      "[2000]\tvalid_0's rmse: 4173.04\n",
      "[2500]\tvalid_0's rmse: 4175.2\n",
      "Early stopping, best iteration is:\n",
      "[2065]\tvalid_0's rmse: 4172.47\n"
     ]
    },
    {
     "name": "stderr",
     "output_type": "stream",
     "text": [
      "  7%|▋         | 35/499 [00:05<01:11,  6.45it/s]\n"
     ]
    },
    {
     "name": "stdout",
     "output_type": "stream",
     "text": [
      "end of loop\n"
     ]
    },
    {
     "name": "stderr",
     "output_type": "stream",
     "text": [
      "[I 2020-10-15 21:46:37,119] Finished trial#40 with value: 41521.08614541739 with parameters: {'max_depth': 21, 'num_leaves': 121, 'bag_frac': 0.6099536564713102, 'feat_frac': 0.5535538993714593, 'l1': 0.5748794738337226, 'l2': 0.29329791134806377}. Best is trial#40 with value: 41521.08614541739.\n",
      "C:\\Users\\albert\\Anaconda3\\lib\\site-packages\\lightgbm\\basic.py:1291: UserWarning:\n",
      "\n",
      "Using categorical_feature in Dataset.\n",
      "\n"
     ]
    },
    {
     "name": "stdout",
     "output_type": "stream",
     "text": [
      "Training until validation scores don't improve for 500 rounds\n",
      "[500]\tvalid_0's rmse: 4197.56\n",
      "[1000]\tvalid_0's rmse: 4185.06\n",
      "[1500]\tvalid_0's rmse: 4178.48\n",
      "[2000]\tvalid_0's rmse: 4172.56\n",
      "[2500]\tvalid_0's rmse: 4167.87\n",
      "Early stopping, best iteration is:\n",
      "[2483]\tvalid_0's rmse: 4167.41\n"
     ]
    },
    {
     "name": "stderr",
     "output_type": "stream",
     "text": [
      "  7%|▋         | 35/499 [00:04<00:59,  7.80it/s]\n"
     ]
    },
    {
     "name": "stdout",
     "output_type": "stream",
     "text": [
      "end of loop\n"
     ]
    },
    {
     "name": "stderr",
     "output_type": "stream",
     "text": [
      "[I 2020-10-15 22:05:41,946] Finished trial#41 with value: 41549.56327729627 with parameters: {'max_depth': 21, 'num_leaves': 121, 'bag_frac': 0.6469383870256697, 'feat_frac': 0.5500372376646998, 'l1': 0.5030884692073795, 'l2': 0.2737971527585452}. Best is trial#40 with value: 41521.08614541739.\n",
      "C:\\Users\\albert\\Anaconda3\\lib\\site-packages\\lightgbm\\basic.py:1291: UserWarning:\n",
      "\n",
      "Using categorical_feature in Dataset.\n",
      "\n"
     ]
    },
    {
     "name": "stdout",
     "output_type": "stream",
     "text": [
      "Training until validation scores don't improve for 500 rounds\n",
      "[500]\tvalid_0's rmse: 4182.73\n",
      "Early stopping, best iteration is:\n",
      "[490]\tvalid_0's rmse: 4178.47\n"
     ]
    },
    {
     "name": "stderr",
     "output_type": "stream",
     "text": [
      "  7%|▋         | 35/499 [00:04<00:59,  7.76it/s]\n"
     ]
    },
    {
     "name": "stdout",
     "output_type": "stream",
     "text": [
      "end of loop\n"
     ]
    },
    {
     "name": "stderr",
     "output_type": "stream",
     "text": [
      "[I 2020-10-15 22:12:23,702] Finished trial#42 with value: 43519.13000819901 with parameters: {'max_depth': 21, 'num_leaves': 112, 'bag_frac': 0.6066483034496901, 'feat_frac': 0.5681777117843586, 'l1': 0.6088965901331626, 'l2': 0.34668957964288444}. Best is trial#40 with value: 41521.08614541739.\n",
      "C:\\Users\\albert\\Anaconda3\\lib\\site-packages\\lightgbm\\basic.py:1291: UserWarning:\n",
      "\n",
      "Using categorical_feature in Dataset.\n",
      "\n"
     ]
    },
    {
     "name": "stdout",
     "output_type": "stream",
     "text": [
      "Training until validation scores don't improve for 500 rounds\n",
      "[500]\tvalid_0's rmse: 4204.75\n",
      "[1000]\tvalid_0's rmse: 4188.42\n",
      "Early stopping, best iteration is:\n",
      "[796]\tvalid_0's rmse: 4184.19\n"
     ]
    },
    {
     "name": "stderr",
     "output_type": "stream",
     "text": [
      "  7%|▋         | 35/499 [00:04<00:59,  7.86it/s]\n"
     ]
    },
    {
     "name": "stdout",
     "output_type": "stream",
     "text": [
      "end of loop\n"
     ]
    },
    {
     "name": "stderr",
     "output_type": "stream",
     "text": [
      "[I 2020-10-15 22:20:08,919] Finished trial#43 with value: 43218.481774169624 with parameters: {'max_depth': 23, 'num_leaves': 122, 'bag_frac': 0.7059677371488837, 'feat_frac': 0.5335061929016568, 'l1': 0.5897102289607937, 'l2': 0.39755703396304626}. Best is trial#40 with value: 41521.08614541739.\n",
      "C:\\Users\\albert\\Anaconda3\\lib\\site-packages\\lightgbm\\basic.py:1291: UserWarning:\n",
      "\n",
      "Using categorical_feature in Dataset.\n",
      "\n"
     ]
    },
    {
     "name": "stdout",
     "output_type": "stream",
     "text": [
      "Training until validation scores don't improve for 500 rounds\n",
      "[500]\tvalid_0's rmse: 4220.8\n",
      "[1000]\tvalid_0's rmse: 4219.39\n",
      "Early stopping, best iteration is:\n",
      "[719]\tvalid_0's rmse: 4213.76\n"
     ]
    },
    {
     "name": "stderr",
     "output_type": "stream",
     "text": [
      "  7%|▋         | 35/499 [00:04<00:59,  7.83it/s]\n"
     ]
    },
    {
     "name": "stdout",
     "output_type": "stream",
     "text": [
      "end of loop\n"
     ]
    },
    {
     "name": "stderr",
     "output_type": "stream",
     "text": [
      "[I 2020-10-15 22:30:21,621] Finished trial#44 with value: 44533.68906158591 with parameters: {'max_depth': 26, 'num_leaves': 124, 'bag_frac': 0.6474636305761091, 'feat_frac': 0.591742028949245, 'l1': 0.5118283798173734, 'l2': 0.20054452806975712}. Best is trial#40 with value: 41521.08614541739.\n",
      "C:\\Users\\albert\\Anaconda3\\lib\\site-packages\\lightgbm\\basic.py:1291: UserWarning:\n",
      "\n",
      "Using categorical_feature in Dataset.\n",
      "\n"
     ]
    },
    {
     "name": "stdout",
     "output_type": "stream",
     "text": [
      "Training until validation scores don't improve for 500 rounds\n",
      "[500]\tvalid_0's rmse: 4147.79\n",
      "Early stopping, best iteration is:\n",
      "[364]\tvalid_0's rmse: 4135.74\n"
     ]
    },
    {
     "name": "stderr",
     "output_type": "stream",
     "text": [
      "  7%|▋         | 35/499 [00:04<00:58,  7.94it/s]\n"
     ]
    },
    {
     "name": "stdout",
     "output_type": "stream",
     "text": [
      "end of loop\n"
     ]
    },
    {
     "name": "stderr",
     "output_type": "stream",
     "text": [
      "[I 2020-10-15 22:37:05,586] Finished trial#45 with value: 49821.6925424018 with parameters: {'max_depth': 18, 'num_leaves': 121, 'bag_frac': 0.5860085725559268, 'feat_frac': 0.5177323162006366, 'l1': 0.865357375328977, 'l2': 0.23739173537608274}. Best is trial#40 with value: 41521.08614541739.\n",
      "C:\\Users\\albert\\Anaconda3\\lib\\site-packages\\lightgbm\\basic.py:1291: UserWarning:\n",
      "\n",
      "Using categorical_feature in Dataset.\n",
      "\n"
     ]
    },
    {
     "name": "stdout",
     "output_type": "stream",
     "text": [
      "Training until validation scores don't improve for 500 rounds\n",
      "[500]\tvalid_0's rmse: 4297.98\n",
      "Early stopping, best iteration is:\n",
      "[362]\tvalid_0's rmse: 4281.24\n"
     ]
    },
    {
     "name": "stderr",
     "output_type": "stream",
     "text": [
      "  7%|▋         | 35/499 [00:04<00:59,  7.73it/s]\n"
     ]
    },
    {
     "name": "stdout",
     "output_type": "stream",
     "text": [
      "end of loop\n"
     ]
    },
    {
     "name": "stderr",
     "output_type": "stream",
     "text": [
      "[I 2020-10-15 22:41:41,562] Finished trial#46 with value: 45457.56061046891 with parameters: {'max_depth': 27, 'num_leaves': 75, 'bag_frac': 0.662720766547841, 'feat_frac': 0.545826340801448, 'l1': 0.6846621176091876, 'l2': 0.29472024002763286}. Best is trial#40 with value: 41521.08614541739.\n",
      "C:\\Users\\albert\\Anaconda3\\lib\\site-packages\\lightgbm\\basic.py:1291: UserWarning:\n",
      "\n",
      "Using categorical_feature in Dataset.\n",
      "\n"
     ]
    },
    {
     "name": "stdout",
     "output_type": "stream",
     "text": [
      "Training until validation scores don't improve for 500 rounds\n",
      "[500]\tvalid_0's rmse: 4296.21\n",
      "[1000]\tvalid_0's rmse: 4295.86\n",
      "[1500]\tvalid_0's rmse: 4286.98\n",
      "Early stopping, best iteration is:\n",
      "[1167]\tvalid_0's rmse: 4284.43\n"
     ]
    },
    {
     "name": "stderr",
     "output_type": "stream",
     "text": [
      "  7%|▋         | 35/499 [00:04<01:00,  7.64it/s]\n"
     ]
    },
    {
     "name": "stdout",
     "output_type": "stream",
     "text": [
      "end of loop\n"
     ]
    },
    {
     "name": "stderr",
     "output_type": "stream",
     "text": [
      "[I 2020-10-15 22:54:15,927] Finished trial#47 with value: 48789.06365814435 with parameters: {'max_depth': 30, 'num_leaves': 113, 'bag_frac': 0.6107651543960414, 'feat_frac': 0.8085792533799832, 'l1': 0.42402169214466795, 'l2': 0.45619693808664014}. Best is trial#40 with value: 41521.08614541739.\n",
      "C:\\Users\\albert\\Anaconda3\\lib\\site-packages\\lightgbm\\basic.py:1291: UserWarning:\n",
      "\n",
      "Using categorical_feature in Dataset.\n",
      "\n"
     ]
    },
    {
     "name": "stdout",
     "output_type": "stream",
     "text": [
      "Training until validation scores don't improve for 500 rounds\n",
      "[500]\tvalid_0's rmse: 4183.55\n",
      "[1000]\tvalid_0's rmse: 4181.58\n",
      "Early stopping, best iteration is:\n",
      "[646]\tvalid_0's rmse: 4167.79\n"
     ]
    },
    {
     "name": "stderr",
     "output_type": "stream",
     "text": [
      "  7%|▋         | 35/499 [00:04<00:59,  7.81it/s]\n"
     ]
    },
    {
     "name": "stdout",
     "output_type": "stream",
     "text": [
      "end of loop\n"
     ]
    },
    {
     "name": "stderr",
     "output_type": "stream",
     "text": [
      "[I 2020-10-15 23:03:44,360] Finished trial#48 with value: 42291.053267928866 with parameters: {'max_depth': 20, 'num_leaves': 119, 'bag_frac': 0.596503070866738, 'feat_frac': 0.5740996161049181, 'l1': 0.5201862814165225, 'l2': 0.2709600989879826}. Best is trial#40 with value: 41521.08614541739.\n",
      "C:\\Users\\albert\\Anaconda3\\lib\\site-packages\\lightgbm\\basic.py:1291: UserWarning:\n",
      "\n",
      "Using categorical_feature in Dataset.\n",
      "\n"
     ]
    },
    {
     "name": "stdout",
     "output_type": "stream",
     "text": [
      "Training until validation scores don't improve for 500 rounds\n",
      "[500]\tvalid_0's rmse: 4219.27\n",
      "[1000]\tvalid_0's rmse: 4218.8\n",
      "Early stopping, best iteration is:\n",
      "[721]\tvalid_0's rmse: 4211.44\n"
     ]
    },
    {
     "name": "stderr",
     "output_type": "stream",
     "text": [
      "  7%|▋         | 35/499 [00:04<00:58,  7.87it/s]\n"
     ]
    },
    {
     "name": "stdout",
     "output_type": "stream",
     "text": [
      "end of loop\n"
     ]
    },
    {
     "name": "stderr",
     "output_type": "stream",
     "text": [
      "[I 2020-10-15 23:14:30,187] Finished trial#49 with value: 46839.422001701234 with parameters: {'max_depth': 24, 'num_leaves': 120, 'bag_frac': 0.6449159471947811, 'feat_frac': 0.6217267719309855, 'l1': 0.5399471526907639, 'l2': 0.18757840769564504}. Best is trial#40 with value: 41521.08614541739.\n",
      "C:\\Users\\albert\\Anaconda3\\lib\\site-packages\\lightgbm\\basic.py:1291: UserWarning:\n",
      "\n",
      "Using categorical_feature in Dataset.\n",
      "\n"
     ]
    },
    {
     "name": "stdout",
     "output_type": "stream",
     "text": [
      "Training until validation scores don't improve for 500 rounds\n",
      "[500]\tvalid_0's rmse: 4197.53\n",
      "[1000]\tvalid_0's rmse: 4199.43\n",
      "Early stopping, best iteration is:\n",
      "[508]\tvalid_0's rmse: 4194.32\n"
     ]
    },
    {
     "name": "stderr",
     "output_type": "stream",
     "text": [
      "  7%|▋         | 35/499 [00:04<00:58,  7.90it/s]\n"
     ]
    },
    {
     "name": "stdout",
     "output_type": "stream",
     "text": [
      "end of loop\n"
     ]
    },
    {
     "name": "stderr",
     "output_type": "stream",
     "text": [
      "[I 2020-10-15 23:22:18,804] Finished trial#50 with value: 43710.6898599212 with parameters: {'max_depth': 20, 'num_leaves': 112, 'bag_frac': 0.5640681471030113, 'feat_frac': 0.573888853429686, 'l1': 0.4452827506539695, 'l2': 0.2596182748036309}. Best is trial#40 with value: 41521.08614541739.\n",
      "C:\\Users\\albert\\Anaconda3\\lib\\site-packages\\lightgbm\\basic.py:1291: UserWarning:\n",
      "\n",
      "Using categorical_feature in Dataset.\n",
      "\n"
     ]
    },
    {
     "name": "stdout",
     "output_type": "stream",
     "text": [
      "Training until validation scores don't improve for 500 rounds\n",
      "[500]\tvalid_0's rmse: 4274.85\n",
      "[1000]\tvalid_0's rmse: 4256.81\n",
      "[1500]\tvalid_0's rmse: 4272.8\n",
      "Early stopping, best iteration is:\n",
      "[1041]\tvalid_0's rmse: 4252.53\n"
     ]
    },
    {
     "name": "stderr",
     "output_type": "stream",
     "text": [
      "  7%|▋         | 35/499 [00:04<00:57,  8.13it/s]\n"
     ]
    },
    {
     "name": "stdout",
     "output_type": "stream",
     "text": [
      "end of loop\n"
     ]
    },
    {
     "name": "stderr",
     "output_type": "stream",
     "text": [
      "[I 2020-10-15 23:29:03,789] Finished trial#51 with value: 45853.23150683451 with parameters: {'max_depth': 20, 'num_leaves': 66, 'bag_frac': 0.5809385284726124, 'feat_frac': 0.5607131153949377, 'l1': 0.6855175749687238, 'l2': 0.3194992484006322}. Best is trial#40 with value: 41521.08614541739.\n",
      "C:\\Users\\albert\\Anaconda3\\lib\\site-packages\\lightgbm\\basic.py:1291: UserWarning:\n",
      "\n",
      "Using categorical_feature in Dataset.\n",
      "\n"
     ]
    },
    {
     "name": "stdout",
     "output_type": "stream",
     "text": [
      "Training until validation scores don't improve for 500 rounds\n",
      "[500]\tvalid_0's rmse: 4206.32\n",
      "Early stopping, best iteration is:\n",
      "[432]\tvalid_0's rmse: 4196.89\n"
     ]
    },
    {
     "name": "stderr",
     "output_type": "stream",
     "text": [
      "  7%|▋         | 35/499 [00:04<00:55,  8.36it/s]\n"
     ]
    },
    {
     "name": "stdout",
     "output_type": "stream",
     "text": [
      "end of loop\n"
     ]
    },
    {
     "name": "stderr",
     "output_type": "stream",
     "text": [
      "[I 2020-10-15 23:35:10,708] Finished trial#52 with value: 44569.16409173866 with parameters: {'max_depth': 22, 'num_leaves': 124, 'bag_frac': 0.6003910587979869, 'feat_frac': 0.5365623380241632, 'l1': 0.40589234872209196, 'l2': 0.27107867324239726}. Best is trial#40 with value: 41521.08614541739.\n",
      "C:\\Users\\albert\\Anaconda3\\lib\\site-packages\\lightgbm\\basic.py:1291: UserWarning:\n",
      "\n",
      "Using categorical_feature in Dataset.\n",
      "\n"
     ]
    },
    {
     "name": "stdout",
     "output_type": "stream",
     "text": [
      "Training until validation scores don't improve for 500 rounds\n",
      "[500]\tvalid_0's rmse: 4255.19\n",
      "[1000]\tvalid_0's rmse: 4243.6\n",
      "Early stopping, best iteration is:\n",
      "[674]\tvalid_0's rmse: 4239.66\n"
     ]
    },
    {
     "name": "stderr",
     "output_type": "stream",
     "text": [
      "  7%|▋         | 35/499 [00:04<00:57,  8.02it/s]\n"
     ]
    },
    {
     "name": "stdout",
     "output_type": "stream",
     "text": [
      "end of loop\n"
     ]
    },
    {
     "name": "stderr",
     "output_type": "stream",
     "text": [
      "[I 2020-10-15 23:39:57,627] Finished trial#53 with value: 42212.374239903285 with parameters: {'max_depth': 18, 'num_leaves': 118, 'bag_frac': 0.6200862462323677, 'feat_frac': 0.5579031457435915, 'l1': 0.5739167291216387, 'l2': 0.3377745988404817}. Best is trial#40 with value: 41521.08614541739.\n",
      "C:\\Users\\albert\\Anaconda3\\lib\\site-packages\\lightgbm\\basic.py:1291: UserWarning:\n",
      "\n",
      "Using categorical_feature in Dataset.\n",
      "\n"
     ]
    },
    {
     "name": "stdout",
     "output_type": "stream",
     "text": [
      "Training until validation scores don't improve for 500 rounds\n",
      "[500]\tvalid_0's rmse: 4192.49\n",
      "[1000]\tvalid_0's rmse: 4171.06\n",
      "Early stopping, best iteration is:\n",
      "[947]\tvalid_0's rmse: 4167.52\n"
     ]
    },
    {
     "name": "stderr",
     "output_type": "stream",
     "text": [
      "  7%|▋         | 35/499 [00:04<01:00,  7.73it/s]\n"
     ]
    },
    {
     "name": "stdout",
     "output_type": "stream",
     "text": [
      "end of loop\n"
     ]
    },
    {
     "name": "stderr",
     "output_type": "stream",
     "text": [
      "[I 2020-10-15 23:43:53,337] Finished trial#54 with value: 44642.56621731882 with parameters: {'max_depth': 18, 'num_leaves': 115, 'bag_frac': 0.6172397213255567, 'feat_frac': 0.5835323243410222, 'l1': 0.587982943972601, 'l2': 0.22390830494252487}. Best is trial#40 with value: 41521.08614541739.\n",
      "C:\\Users\\albert\\Anaconda3\\lib\\site-packages\\lightgbm\\basic.py:1291: UserWarning:\n",
      "\n",
      "Using categorical_feature in Dataset.\n",
      "\n"
     ]
    },
    {
     "name": "stdout",
     "output_type": "stream",
     "text": [
      "Training until validation scores don't improve for 500 rounds\n",
      "[500]\tvalid_0's rmse: 4122.63\n",
      "Early stopping, best iteration is:\n",
      "[312]\tvalid_0's rmse: 4110.46\n"
     ]
    },
    {
     "name": "stderr",
     "output_type": "stream",
     "text": [
      "  7%|▋         | 35/499 [00:04<00:56,  8.17it/s]\n"
     ]
    },
    {
     "name": "stdout",
     "output_type": "stream",
     "text": [
      "end of loop\n"
     ]
    },
    {
     "name": "stderr",
     "output_type": "stream",
     "text": [
      "[I 2020-10-15 23:48:12,256] Finished trial#55 with value: 50615.98749691078 with parameters: {'max_depth': 25, 'num_leaves': 119, 'bag_frac': 0.6476440462781284, 'feat_frac': 0.5125125743152678, 'l1': 0.7804919539548744, 'l2': 0.2992544561157953}. Best is trial#40 with value: 41521.08614541739.\n",
      "C:\\Users\\albert\\Anaconda3\\lib\\site-packages\\lightgbm\\basic.py:1291: UserWarning:\n",
      "\n",
      "Using categorical_feature in Dataset.\n",
      "\n"
     ]
    },
    {
     "name": "stdout",
     "output_type": "stream",
     "text": [
      "Training until validation scores don't improve for 500 rounds\n",
      "[500]\tvalid_0's rmse: 4243.73\n",
      "[1000]\tvalid_0's rmse: 4248.17\n",
      "Early stopping, best iteration is:\n",
      "[563]\tvalid_0's rmse: 4239.82\n"
     ]
    },
    {
     "name": "stderr",
     "output_type": "stream",
     "text": [
      "  7%|▋         | 35/499 [00:04<00:56,  8.19it/s]\n"
     ]
    },
    {
     "name": "stdout",
     "output_type": "stream",
     "text": [
      "end of loop\n"
     ]
    },
    {
     "name": "stderr",
     "output_type": "stream",
     "text": [
      "[I 2020-10-15 23:54:11,273] Finished trial#56 with value: 43060.647796834186 with parameters: {'max_depth': 18, 'num_leaves': 110, 'bag_frac': 0.592307361184464, 'feat_frac': 0.5401862942258511, 'l1': 0.4855747767569707, 'l2': 0.38497577407702116}. Best is trial#40 with value: 41521.08614541739.\n",
      "C:\\Users\\albert\\Anaconda3\\lib\\site-packages\\lightgbm\\basic.py:1291: UserWarning:\n",
      "\n",
      "Using categorical_feature in Dataset.\n",
      "\n"
     ]
    },
    {
     "name": "stdout",
     "output_type": "stream",
     "text": [
      "Training until validation scores don't improve for 500 rounds\n",
      "[500]\tvalid_0's rmse: 4210.24\n",
      "[1000]\tvalid_0's rmse: 4209.11\n",
      "Early stopping, best iteration is:\n",
      "[645]\tvalid_0's rmse: 4203.38\n"
     ]
    },
    {
     "name": "stderr",
     "output_type": "stream",
     "text": [
      "  7%|▋         | 35/499 [00:04<00:58,  7.98it/s]\n"
     ]
    },
    {
     "name": "stdout",
     "output_type": "stream",
     "text": [
      "end of loop\n"
     ]
    },
    {
     "name": "stderr",
     "output_type": "stream",
     "text": [
      "[I 2020-10-16 00:00:35,814] Finished trial#57 with value: 43064.12831567384 with parameters: {'max_depth': 23, 'num_leaves': 124, 'bag_frac': 0.6678367147306434, 'feat_frac': 0.5715917303568385, 'l1': 0.8793958354799795, 'l2': 0.42916836498523636}. Best is trial#40 with value: 41521.08614541739.\n",
      "C:\\Users\\albert\\Anaconda3\\lib\\site-packages\\lightgbm\\basic.py:1291: UserWarning:\n",
      "\n",
      "Using categorical_feature in Dataset.\n",
      "\n"
     ]
    },
    {
     "name": "stdout",
     "output_type": "stream",
     "text": [
      "Training until validation scores don't improve for 500 rounds\n",
      "[500]\tvalid_0's rmse: 4231.53\n",
      "[1000]\tvalid_0's rmse: 4216.89\n",
      "Early stopping, best iteration is:\n",
      "[723]\tvalid_0's rmse: 4207.35\n"
     ]
    },
    {
     "name": "stderr",
     "output_type": "stream",
     "text": [
      "  7%|▋         | 35/499 [00:04<00:59,  7.80it/s]\n"
     ]
    },
    {
     "name": "stdout",
     "output_type": "stream",
     "text": [
      "end of loop\n"
     ]
    },
    {
     "name": "stderr",
     "output_type": "stream",
     "text": [
      "[I 2020-10-16 00:06:31,122] Finished trial#58 with value: 45737.41472006979 with parameters: {'max_depth': 30, 'num_leaves': 114, 'bag_frac': 0.631735670891272, 'feat_frac': 0.6005182239521276, 'l1': 0.7298000399286225, 'l2': 0.3356320703861092}. Best is trial#40 with value: 41521.08614541739.\n",
      "C:\\Users\\albert\\Anaconda3\\lib\\site-packages\\lightgbm\\basic.py:1291: UserWarning:\n",
      "\n",
      "Using categorical_feature in Dataset.\n",
      "\n"
     ]
    },
    {
     "name": "stdout",
     "output_type": "stream",
     "text": [
      "Training until validation scores don't improve for 500 rounds\n",
      "[500]\tvalid_0's rmse: 4119.41\n",
      "Early stopping, best iteration is:\n",
      "[475]\tvalid_0's rmse: 4114.05\n"
     ]
    },
    {
     "name": "stderr",
     "output_type": "stream",
     "text": [
      "  7%|▋         | 35/499 [00:04<00:56,  8.28it/s]\n"
     ]
    },
    {
     "name": "stdout",
     "output_type": "stream",
     "text": [
      "end of loop\n"
     ]
    },
    {
     "name": "stderr",
     "output_type": "stream",
     "text": [
      "[I 2020-10-16 00:11:33,091] Finished trial#59 with value: 50292.193960150675 with parameters: {'max_depth': 21, 'num_leaves': 119, 'bag_frac': 0.5586562774733632, 'feat_frac': 0.5024348879485843, 'l1': 0.5493442281786625, 'l2': 0.2507731306647607}. Best is trial#40 with value: 41521.08614541739.\n",
      "C:\\Users\\albert\\Anaconda3\\lib\\site-packages\\lightgbm\\basic.py:1291: UserWarning:\n",
      "\n",
      "Using categorical_feature in Dataset.\n",
      "\n"
     ]
    },
    {
     "name": "stdout",
     "output_type": "stream",
     "text": [
      "Training until validation scores don't improve for 500 rounds\n",
      "[500]\tvalid_0's rmse: 4237.37\n",
      "Early stopping, best iteration is:\n",
      "[268]\tvalid_0's rmse: 4227.03\n"
     ]
    },
    {
     "name": "stderr",
     "output_type": "stream",
     "text": [
      "  7%|▋         | 35/499 [00:04<00:56,  8.15it/s]\n"
     ]
    },
    {
     "name": "stdout",
     "output_type": "stream",
     "text": [
      "end of loop\n"
     ]
    },
    {
     "name": "stderr",
     "output_type": "stream",
     "text": [
      "[I 2020-10-16 00:15:50,076] Finished trial#60 with value: 45043.12437735314 with parameters: {'max_depth': 35, 'num_leaves': 110, 'bag_frac': 0.5736645182885156, 'feat_frac': 0.5607210982974286, 'l1': 0.33619632398219884, 'l2': 0.5622170814309961}. Best is trial#40 with value: 41521.08614541739.\n",
      "C:\\Users\\albert\\Anaconda3\\lib\\site-packages\\lightgbm\\basic.py:1291: UserWarning:\n",
      "\n",
      "Using categorical_feature in Dataset.\n",
      "\n"
     ]
    },
    {
     "name": "stdout",
     "output_type": "stream",
     "text": [
      "Training until validation scores don't improve for 500 rounds\n",
      "[500]\tvalid_0's rmse: 4171.82\n",
      "[1000]\tvalid_0's rmse: 4148.9\n",
      "Early stopping, best iteration is:\n",
      "[941]\tvalid_0's rmse: 4146.28\n"
     ]
    },
    {
     "name": "stderr",
     "output_type": "stream",
     "text": [
      "  7%|▋         | 35/499 [00:04<00:56,  8.18it/s]\n"
     ]
    },
    {
     "name": "stdout",
     "output_type": "stream",
     "text": [
      "end of loop\n"
     ]
    },
    {
     "name": "stderr",
     "output_type": "stream",
     "text": [
      "[I 2020-10-16 00:20:42,015] Finished trial#61 with value: 42695.834300581104 with parameters: {'max_depth': 20, 'num_leaves': 78, 'bag_frac': 0.5415552177793624, 'feat_frac': 0.5536959917260997, 'l1': 0.28997038542039827, 'l2': 0.3560555057962535}. Best is trial#40 with value: 41521.08614541739.\n",
      "C:\\Users\\albert\\Anaconda3\\lib\\site-packages\\lightgbm\\basic.py:1291: UserWarning:\n",
      "\n",
      "Using categorical_feature in Dataset.\n",
      "\n"
     ]
    },
    {
     "name": "stdout",
     "output_type": "stream",
     "text": [
      "Training until validation scores don't improve for 500 rounds\n",
      "[500]\tvalid_0's rmse: 4257.12\n",
      "[1000]\tvalid_0's rmse: 4262.58\n",
      "Early stopping, best iteration is:\n",
      "[523]\tvalid_0's rmse: 4255.16\n"
     ]
    },
    {
     "name": "stderr",
     "output_type": "stream",
     "text": [
      "  7%|▋         | 35/499 [00:04<00:57,  8.04it/s]\n"
     ]
    },
    {
     "name": "stdout",
     "output_type": "stream",
     "text": [
      "end of loop\n"
     ]
    },
    {
     "name": "stderr",
     "output_type": "stream",
     "text": [
      "[I 2020-10-16 00:23:04,175] Finished trial#62 with value: 47164.62741416312 with parameters: {'max_depth': 19, 'num_leaves': 54, 'bag_frac': 0.6002053133682672, 'feat_frac': 0.531134655843925, 'l1': 0.4026771823794805, 'l2': 0.27701485340820026}. Best is trial#40 with value: 41521.08614541739.\n",
      "C:\\Users\\albert\\Anaconda3\\lib\\site-packages\\lightgbm\\basic.py:1291: UserWarning:\n",
      "\n",
      "Using categorical_feature in Dataset.\n",
      "\n"
     ]
    },
    {
     "name": "stdout",
     "output_type": "stream",
     "text": [
      "Training until validation scores don't improve for 500 rounds\n",
      "[500]\tvalid_0's rmse: 4243.89\n",
      "[1000]\tvalid_0's rmse: 4224.13\n",
      "[1500]\tvalid_0's rmse: 4218.96\n",
      "Early stopping, best iteration is:\n",
      "[1398]\tvalid_0's rmse: 4214.01\n"
     ]
    },
    {
     "name": "stderr",
     "output_type": "stream",
     "text": [
      "  7%|▋         | 35/499 [00:04<01:02,  7.46it/s]\n"
     ]
    },
    {
     "name": "stdout",
     "output_type": "stream",
     "text": [
      "end of loop\n"
     ]
    },
    {
     "name": "stderr",
     "output_type": "stream",
     "text": [
      "[I 2020-10-16 00:28:41,705] Finished trial#63 with value: 42263.94418200125 with parameters: {'max_depth': 25, 'num_leaves': 68, 'bag_frac': 0.6157818621827387, 'feat_frac': 0.5447788921548343, 'l1': 0.46022169847825073, 'l2': 0.3140957273332346}. Best is trial#40 with value: 41521.08614541739.\n",
      "C:\\Users\\albert\\Anaconda3\\lib\\site-packages\\lightgbm\\basic.py:1291: UserWarning:\n",
      "\n",
      "Using categorical_feature in Dataset.\n",
      "\n"
     ]
    },
    {
     "name": "stdout",
     "output_type": "stream",
     "text": [
      "Training until validation scores don't improve for 500 rounds\n",
      "[500]\tvalid_0's rmse: 4256.72\n",
      "[1000]\tvalid_0's rmse: 4243.42\n",
      "[1500]\tvalid_0's rmse: 4245.83\n",
      "Early stopping, best iteration is:\n",
      "[1018]\tvalid_0's rmse: 4241.7\n"
     ]
    },
    {
     "name": "stderr",
     "output_type": "stream",
     "text": [
      "  7%|▋         | 35/499 [00:04<00:59,  7.75it/s]\n"
     ]
    },
    {
     "name": "stdout",
     "output_type": "stream",
     "text": [
      "end of loop\n"
     ]
    },
    {
     "name": "stderr",
     "output_type": "stream",
     "text": [
      "[I 2020-10-16 00:33:55,368] Finished trial#64 with value: 45101.615079399315 with parameters: {'max_depth': 28, 'num_leaves': 66, 'bag_frac': 0.6193082539198893, 'feat_frac': 0.5424298960159802, 'l1': 0.6189149039386316, 'l2': 0.3129812723831112}. Best is trial#40 with value: 41521.08614541739.\n",
      "C:\\Users\\albert\\Anaconda3\\lib\\site-packages\\lightgbm\\basic.py:1291: UserWarning:\n",
      "\n",
      "Using categorical_feature in Dataset.\n",
      "\n"
     ]
    },
    {
     "name": "stdout",
     "output_type": "stream",
     "text": [
      "Training until validation scores don't improve for 500 rounds\n",
      "[500]\tvalid_0's rmse: 4214.38\n",
      "[1000]\tvalid_0's rmse: 4199.72\n",
      "Early stopping, best iteration is:\n",
      "[757]\tvalid_0's rmse: 4195.94\n"
     ]
    },
    {
     "name": "stderr",
     "output_type": "stream",
     "text": [
      "  7%|▋         | 35/499 [00:04<00:58,  7.89it/s]\n"
     ]
    },
    {
     "name": "stdout",
     "output_type": "stream",
     "text": [
      "end of loop\n"
     ]
    },
    {
     "name": "stderr",
     "output_type": "stream",
     "text": [
      "[I 2020-10-16 00:35:40,975] Finished trial#65 with value: 44955.790690114976 with parameters: {'max_depth': 25, 'num_leaves': 58, 'bag_frac': 0.639535614441945, 'feat_frac': 0.5277170644958429, 'l1': 0.4961239840883168, 'l2': 0.21242315675799633}. Best is trial#40 with value: 41521.08614541739.\n",
      "C:\\Users\\albert\\Anaconda3\\lib\\site-packages\\lightgbm\\basic.py:1291: UserWarning:\n",
      "\n",
      "Using categorical_feature in Dataset.\n",
      "\n"
     ]
    },
    {
     "name": "stdout",
     "output_type": "stream",
     "text": [
      "Training until validation scores don't improve for 500 rounds\n",
      "[500]\tvalid_0's rmse: 4217.77\n",
      "Early stopping, best iteration is:\n",
      "[496]\tvalid_0's rmse: 4216.4\n"
     ]
    },
    {
     "name": "stderr",
     "output_type": "stream",
     "text": [
      "  7%|▋         | 35/499 [00:04<00:59,  7.82it/s]\n"
     ]
    },
    {
     "name": "stdout",
     "output_type": "stream",
     "text": [
      "end of loop\n"
     ]
    },
    {
     "name": "stderr",
     "output_type": "stream",
     "text": [
      "[I 2020-10-16 00:42:00,390] Finished trial#66 with value: 42841.66125821733 with parameters: {'max_depth': 22, 'num_leaves': 122, 'bag_frac': 0.6523031823692309, 'feat_frac': 0.5815868098179479, 'l1': 0.6390286604733738, 'l2': 0.45999974897724266}. Best is trial#40 with value: 41521.08614541739.\n",
      "C:\\Users\\albert\\Anaconda3\\lib\\site-packages\\lightgbm\\basic.py:1291: UserWarning:\n",
      "\n",
      "Using categorical_feature in Dataset.\n",
      "\n"
     ]
    },
    {
     "name": "stdout",
     "output_type": "stream",
     "text": [
      "Training until validation scores don't improve for 500 rounds\n",
      "[500]\tvalid_0's rmse: 4198.02\n",
      "Early stopping, best iteration is:\n",
      "[430]\tvalid_0's rmse: 4192.6\n"
     ]
    },
    {
     "name": "stderr",
     "output_type": "stream",
     "text": [
      "  7%|▋         | 35/499 [00:04<01:01,  7.52it/s]\n"
     ]
    },
    {
     "name": "stdout",
     "output_type": "stream",
     "text": [
      "end of loop\n"
     ]
    },
    {
     "name": "stderr",
     "output_type": "stream",
     "text": [
      "[I 2020-10-16 00:44:53,348] Finished trial#67 with value: 44755.69003633462 with parameters: {'max_depth': 43, 'num_leaves': 69, 'bag_frac': 0.609334954475361, 'feat_frac': 0.5660378330023396, 'l1': 0.4681812865292243, 'l2': 0.31771873597503625}. Best is trial#40 with value: 41521.08614541739.\n",
      "C:\\Users\\albert\\Anaconda3\\lib\\site-packages\\lightgbm\\basic.py:1291: UserWarning:\n",
      "\n",
      "Using categorical_feature in Dataset.\n",
      "\n"
     ]
    },
    {
     "name": "stdout",
     "output_type": "stream",
     "text": [
      "Training until validation scores don't improve for 500 rounds\n",
      "[500]\tvalid_0's rmse: 4118.33\n",
      "Early stopping, best iteration is:\n",
      "[379]\tvalid_0's rmse: 4109.2\n"
     ]
    },
    {
     "name": "stderr",
     "output_type": "stream",
     "text": [
      "  7%|▋         | 35/499 [00:04<00:59,  7.79it/s]\n"
     ]
    },
    {
     "name": "stdout",
     "output_type": "stream",
     "text": [
      "end of loop\n"
     ]
    },
    {
     "name": "stderr",
     "output_type": "stream",
     "text": [
      "[I 2020-10-16 00:48:07,270] Finished trial#68 with value: 46009.07448440879 with parameters: {'max_depth': 23, 'num_leaves': 64, 'bag_frac': 0.8703919251786969, 'feat_frac': 0.5082385975214146, 'l1': 0.5415388136550714, 'l2': 0.2765551336687782}. Best is trial#40 with value: 41521.08614541739.\n",
      "C:\\Users\\albert\\Anaconda3\\lib\\site-packages\\lightgbm\\basic.py:1291: UserWarning:\n",
      "\n",
      "Using categorical_feature in Dataset.\n",
      "\n"
     ]
    },
    {
     "name": "stdout",
     "output_type": "stream",
     "text": [
      "Training until validation scores don't improve for 500 rounds\n",
      "[500]\tvalid_0's rmse: 4179.22\n",
      "[1000]\tvalid_0's rmse: 4159.92\n",
      "[1500]\tvalid_0's rmse: 4146.87\n",
      "[2000]\tvalid_0's rmse: 4147.83\n",
      "Early stopping, best iteration is:\n",
      "[1814]\tvalid_0's rmse: 4145.11\n"
     ]
    },
    {
     "name": "stderr",
     "output_type": "stream",
     "text": [
      "  7%|▋         | 35/499 [00:04<01:00,  7.67it/s]\n"
     ]
    },
    {
     "name": "stdout",
     "output_type": "stream",
     "text": [
      "end of loop\n"
     ]
    },
    {
     "name": "stderr",
     "output_type": "stream",
     "text": [
      "[I 2020-10-16 01:00:58,839] Finished trial#69 with value: 41913.76816414059 with parameters: {'max_depth': 26, 'num_leaves': 119, 'bag_frac': 0.6234498928607209, 'feat_frac': 0.5438765024419762, 'l1': 0.44097819254148996, 'l2': 0.24049388639965044}. Best is trial#40 with value: 41521.08614541739.\n",
      "C:\\Users\\albert\\Anaconda3\\lib\\site-packages\\lightgbm\\basic.py:1291: UserWarning:\n",
      "\n",
      "Using categorical_feature in Dataset.\n",
      "\n"
     ]
    },
    {
     "name": "stdout",
     "output_type": "stream",
     "text": [
      "Training until validation scores don't improve for 500 rounds\n",
      "[500]\tvalid_0's rmse: 4251.95\n",
      "[1000]\tvalid_0's rmse: 4225.17\n",
      "[1500]\tvalid_0's rmse: 4218.54\n",
      "[2000]\tvalid_0's rmse: 4218.78\n",
      "Early stopping, best iteration is:\n",
      "[1833]\tvalid_0's rmse: 4215.89\n"
     ]
    },
    {
     "name": "stderr",
     "output_type": "stream",
     "text": [
      "  7%|▋         | 35/499 [00:04<01:02,  7.44it/s]\n"
     ]
    },
    {
     "name": "stdout",
     "output_type": "stream",
     "text": [
      "end of loop\n"
     ]
    },
    {
     "name": "stderr",
     "output_type": "stream",
     "text": [
      "[I 2020-10-16 01:16:47,908] Finished trial#70 with value: 42130.908349286605 with parameters: {'max_depth': 27, 'num_leaves': 118, 'bag_frac': 0.6238810577586673, 'feat_frac': 0.5424571624182373, 'l1': 0.44541414912038246, 'l2': 0.19046697690076217}. Best is trial#40 with value: 41521.08614541739.\n",
      "C:\\Users\\albert\\Anaconda3\\lib\\site-packages\\lightgbm\\basic.py:1291: UserWarning:\n",
      "\n",
      "Using categorical_feature in Dataset.\n",
      "\n"
     ]
    },
    {
     "name": "stdout",
     "output_type": "stream",
     "text": [
      "Training until validation scores don't improve for 500 rounds\n",
      "[500]\tvalid_0's rmse: 4284.45\n",
      "Early stopping, best iteration is:\n",
      "[317]\tvalid_0's rmse: 4260.94\n"
     ]
    },
    {
     "name": "stderr",
     "output_type": "stream",
     "text": [
      "  7%|▋         | 35/499 [00:04<01:00,  7.64it/s]\n"
     ]
    },
    {
     "name": "stdout",
     "output_type": "stream",
     "text": [
      "end of loop\n"
     ]
    },
    {
     "name": "stderr",
     "output_type": "stream",
     "text": [
      "[I 2020-10-16 01:21:55,703] Finished trial#71 with value: 44503.33468894409 with parameters: {'max_depth': 26, 'num_leaves': 118, 'bag_frac': 0.6250506070447975, 'feat_frac': 0.54339658726642, 'l1': 0.4508510541965954, 'l2': 0.17826270696921215}. Best is trial#40 with value: 41521.08614541739.\n",
      "C:\\Users\\albert\\Anaconda3\\lib\\site-packages\\lightgbm\\basic.py:1291: UserWarning:\n",
      "\n",
      "Using categorical_feature in Dataset.\n",
      "\n"
     ]
    },
    {
     "name": "stdout",
     "output_type": "stream",
     "text": [
      "Training until validation scores don't improve for 500 rounds\n",
      "[500]\tvalid_0's rmse: 4146.77\n",
      "Early stopping, best iteration is:\n",
      "[332]\tvalid_0's rmse: 4136.34\n"
     ]
    },
    {
     "name": "stderr",
     "output_type": "stream",
     "text": [
      "  7%|▋         | 35/499 [00:04<00:59,  7.75it/s]\n"
     ]
    },
    {
     "name": "stdout",
     "output_type": "stream",
     "text": [
      "end of loop\n"
     ]
    },
    {
     "name": "stderr",
     "output_type": "stream",
     "text": [
      "[I 2020-10-16 01:26:44,451] Finished trial#72 with value: 47482.230527513355 with parameters: {'max_depth': 32, 'num_leaves': 115, 'bag_frac': 0.5889625867368022, 'feat_frac': 0.5220223209302695, 'l1': 0.38585196066513455, 'l2': 0.15669210216634918}. Best is trial#40 with value: 41521.08614541739.\n",
      "C:\\Users\\albert\\Anaconda3\\lib\\site-packages\\lightgbm\\basic.py:1291: UserWarning:\n",
      "\n",
      "Using categorical_feature in Dataset.\n",
      "\n"
     ]
    },
    {
     "name": "stdout",
     "output_type": "stream",
     "text": [
      "Training until validation scores don't improve for 500 rounds\n",
      "[500]\tvalid_0's rmse: 4195.74\n",
      "[1000]\tvalid_0's rmse: 4188.25\n",
      "[1500]\tvalid_0's rmse: 4176.89\n",
      "[2000]\tvalid_0's rmse: 4180.16\n",
      "Early stopping, best iteration is:\n",
      "[1551]\tvalid_0's rmse: 4175.36\n"
     ]
    },
    {
     "name": "stderr",
     "output_type": "stream",
     "text": [
      "  7%|▋         | 35/499 [00:04<01:00,  7.73it/s]\n"
     ]
    },
    {
     "name": "stdout",
     "output_type": "stream",
     "text": [
      "end of loop\n"
     ]
    },
    {
     "name": "stderr",
     "output_type": "stream",
     "text": [
      "[I 2020-10-16 01:37:01,983] Finished trial#73 with value: 41727.886007873436 with parameters: {'max_depth': 27, 'num_leaves': 121, 'bag_frac': 0.6227198832749381, 'feat_frac': 0.5324249011246445, 'l1': 0.5218012440297003, 'l2': 0.12657558992444046}. Best is trial#40 with value: 41521.08614541739.\n",
      "C:\\Users\\albert\\Anaconda3\\lib\\site-packages\\lightgbm\\basic.py:1291: UserWarning:\n",
      "\n",
      "Using categorical_feature in Dataset.\n",
      "\n"
     ]
    },
    {
     "name": "stdout",
     "output_type": "stream",
     "text": [
      "Training until validation scores don't improve for 500 rounds\n",
      "[500]\tvalid_0's rmse: 4171.65\n",
      "Early stopping, best iteration is:\n",
      "[320]\tvalid_0's rmse: 4159.49\n"
     ]
    },
    {
     "name": "stderr",
     "output_type": "stream",
     "text": [
      "  7%|▋         | 35/499 [00:04<00:58,  7.92it/s]\n"
     ]
    },
    {
     "name": "stdout",
     "output_type": "stream",
     "text": [
      "end of loop\n"
     ]
    },
    {
     "name": "stderr",
     "output_type": "stream",
     "text": [
      "[I 2020-10-16 01:40:54,844] Finished trial#74 with value: 45059.013963388665 with parameters: {'max_depth': 29, 'num_leaves': 108, 'bag_frac': 0.674647251749008, 'feat_frac': 0.5580566041550847, 'l1': 0.5198198599293478, 'l2': 0.1361098903621475}. Best is trial#40 with value: 41521.08614541739.\n",
      "C:\\Users\\albert\\Anaconda3\\lib\\site-packages\\lightgbm\\basic.py:1291: UserWarning:\n",
      "\n",
      "Using categorical_feature in Dataset.\n",
      "\n"
     ]
    },
    {
     "name": "stdout",
     "output_type": "stream",
     "text": [
      "Training until validation scores don't improve for 500 rounds\n",
      "[500]\tvalid_0's rmse: 4206.67\n",
      "[1000]\tvalid_0's rmse: 4193.76\n",
      "Early stopping, best iteration is:\n",
      "[724]\tvalid_0's rmse: 4189.41\n"
     ]
    },
    {
     "name": "stderr",
     "output_type": "stream",
     "text": [
      "  7%|▋         | 35/499 [00:04<01:01,  7.57it/s]\n"
     ]
    },
    {
     "name": "stdout",
     "output_type": "stream",
     "text": [
      "end of loop\n"
     ]
    },
    {
     "name": "stderr",
     "output_type": "stream",
     "text": [
      "[I 2020-10-16 01:46:11,168] Finished trial#75 with value: 44935.38216080808 with parameters: {'max_depth': 27, 'num_leaves': 120, 'bag_frac': 0.6362433813935365, 'feat_frac': 0.5309463666090979, 'l1': 0.5726655272541579, 'l2': 0.10732276555149486}. Best is trial#40 with value: 41521.08614541739.\n",
      "C:\\Users\\albert\\Anaconda3\\lib\\site-packages\\lightgbm\\basic.py:1291: UserWarning:\n",
      "\n",
      "Using categorical_feature in Dataset.\n",
      "\n"
     ]
    },
    {
     "name": "stdout",
     "output_type": "stream",
     "text": [
      "Training until validation scores don't improve for 500 rounds\n",
      "[500]\tvalid_0's rmse: 4198.04\n",
      "Early stopping, best iteration is:\n",
      "[449]\tvalid_0's rmse: 4195.44\n"
     ]
    },
    {
     "name": "stderr",
     "output_type": "stream",
     "text": [
      "  7%|▋         | 35/499 [00:04<00:59,  7.84it/s]\n"
     ]
    },
    {
     "name": "stdout",
     "output_type": "stream",
     "text": [
      "end of loop\n"
     ]
    },
    {
     "name": "stderr",
     "output_type": "stream",
     "text": [
      "[I 2020-10-16 01:51:28,459] Finished trial#76 with value: 43862.69621414212 with parameters: {'max_depth': 24, 'num_leaves': 122, 'bag_frac': 0.6574094653644296, 'feat_frac': 0.5438801684822787, 'l1': 0.42109583737305, 'l2': 0.10268314288609563}. Best is trial#40 with value: 41521.08614541739.\n",
      "C:\\Users\\albert\\Anaconda3\\lib\\site-packages\\lightgbm\\basic.py:1291: UserWarning:\n",
      "\n",
      "Using categorical_feature in Dataset.\n",
      "\n"
     ]
    },
    {
     "name": "stdout",
     "output_type": "stream",
     "text": [
      "Training until validation scores don't improve for 500 rounds\n",
      "[500]\tvalid_0's rmse: 4130.12\n",
      "Early stopping, best iteration is:\n",
      "[355]\tvalid_0's rmse: 4120.49\n"
     ]
    },
    {
     "name": "stderr",
     "output_type": "stream",
     "text": [
      "  7%|▋         | 35/499 [00:04<01:00,  7.65it/s]\n"
     ]
    },
    {
     "name": "stdout",
     "output_type": "stream",
     "text": [
      "end of loop\n"
     ]
    },
    {
     "name": "stderr",
     "output_type": "stream",
     "text": [
      "[I 2020-10-16 01:56:16,029] Finished trial#77 with value: 47142.36341324748 with parameters: {'max_depth': 26, 'num_leaves': 117, 'bag_frac': 0.6205211109898615, 'feat_frac': 0.516789510561803, 'l1': 0.6496974343665962, 'l2': 0.19937169352525197}. Best is trial#40 with value: 41521.08614541739.\n",
      "C:\\Users\\albert\\Anaconda3\\lib\\site-packages\\lightgbm\\basic.py:1291: UserWarning:\n",
      "\n",
      "Using categorical_feature in Dataset.\n",
      "\n"
     ]
    },
    {
     "name": "stdout",
     "output_type": "stream",
     "text": [
      "Training until validation scores don't improve for 500 rounds\n",
      "[500]\tvalid_0's rmse: 4216.57\n",
      "[1000]\tvalid_0's rmse: 4200.24\n",
      "[1500]\tvalid_0's rmse: 4203.46\n",
      "Early stopping, best iteration is:\n",
      "[1144]\tvalid_0's rmse: 4198.27\n"
     ]
    },
    {
     "name": "stderr",
     "output_type": "stream",
     "text": [
      "  7%|▋         | 35/499 [00:04<01:01,  7.60it/s]\n"
     ]
    },
    {
     "name": "stdout",
     "output_type": "stream",
     "text": [
      "end of loop\n"
     ]
    },
    {
     "name": "stderr",
     "output_type": "stream",
     "text": [
      "[I 2020-10-16 02:03:35,999] Finished trial#78 with value: 43554.26489485563 with parameters: {'max_depth': 33, 'num_leaves': 124, 'bag_frac': 0.7010030750231826, 'feat_frac': 0.5771014576273411, 'l1': 0.3390506734186804, 'l2': 0.2306303617813205}. Best is trial#40 with value: 41521.08614541739.\n",
      "C:\\Users\\albert\\Anaconda3\\lib\\site-packages\\lightgbm\\basic.py:1291: UserWarning:\n",
      "\n",
      "Using categorical_feature in Dataset.\n",
      "\n"
     ]
    },
    {
     "name": "stdout",
     "output_type": "stream",
     "text": [
      "Training until validation scores don't improve for 500 rounds\n",
      "[500]\tvalid_0's rmse: 4291.26\n",
      "[1000]\tvalid_0's rmse: 4280.64\n",
      "Early stopping, best iteration is:\n",
      "[982]\tvalid_0's rmse: 4280.45\n"
     ]
    },
    {
     "name": "stderr",
     "output_type": "stream",
     "text": [
      "  7%|▋         | 35/499 [00:04<00:59,  7.86it/s]\n"
     ]
    },
    {
     "name": "stdout",
     "output_type": "stream",
     "text": [
      "end of loop\n"
     ]
    },
    {
     "name": "stderr",
     "output_type": "stream",
     "text": [
      "[I 2020-10-16 02:10:33,128] Finished trial#79 with value: 43252.406650334495 with parameters: {'max_depth': 19, 'num_leaves': 106, 'bag_frac': 0.6024277911182773, 'feat_frac': 0.546602442623613, 'l1': 0.4724126757874233, 'l2': 0.12473474482075256}. Best is trial#40 with value: 41521.08614541739.\n",
      "C:\\Users\\albert\\Anaconda3\\lib\\site-packages\\lightgbm\\basic.py:1291: UserWarning:\n",
      "\n",
      "Using categorical_feature in Dataset.\n",
      "\n"
     ]
    },
    {
     "name": "stdout",
     "output_type": "stream",
     "text": [
      "Training until validation scores don't improve for 500 rounds\n",
      "[500]\tvalid_0's rmse: 4309.08\n",
      "Early stopping, best iteration is:\n",
      "[264]\tvalid_0's rmse: 4288.97\n"
     ]
    },
    {
     "name": "stderr",
     "output_type": "stream",
     "text": [
      "  7%|▋         | 35/499 [00:04<00:59,  7.83it/s]\n"
     ]
    },
    {
     "name": "stdout",
     "output_type": "stream",
     "text": [
      "end of loop\n"
     ]
    },
    {
     "name": "stderr",
     "output_type": "stream",
     "text": [
      "[I 2020-10-16 02:13:35,402] Finished trial#80 with value: 47379.99278151956 with parameters: {'max_depth': 21, 'num_leaves': 115, 'bag_frac': 0.6841329557262571, 'feat_frac': 0.7053547140415856, 'l1': 0.4383879551566032, 'l2': 0.2439659137621925}. Best is trial#40 with value: 41521.08614541739.\n",
      "C:\\Users\\albert\\Anaconda3\\lib\\site-packages\\lightgbm\\basic.py:1291: UserWarning:\n",
      "\n",
      "Using categorical_feature in Dataset.\n",
      "\n"
     ]
    },
    {
     "name": "stdout",
     "output_type": "stream",
     "text": [
      "Training until validation scores don't improve for 500 rounds\n",
      "[500]\tvalid_0's rmse: 4222.37\n",
      "Early stopping, best iteration is:\n",
      "[348]\tvalid_0's rmse: 4209.12\n"
     ]
    },
    {
     "name": "stderr",
     "output_type": "stream",
     "text": [
      "  7%|▋         | 35/499 [00:04<00:58,  7.94it/s]\n"
     ]
    },
    {
     "name": "stdout",
     "output_type": "stream",
     "text": [
      "end of loop\n"
     ]
    },
    {
     "name": "stderr",
     "output_type": "stream",
     "text": [
      "[I 2020-10-16 02:17:28,149] Finished trial#81 with value: 46201.126063399875 with parameters: {'max_depth': 47, 'num_leaves': 120, 'bag_frac': 0.5750845538575041, 'feat_frac': 0.5365845911695227, 'l1': 0.5097983337033111, 'l2': 0.2968888398555145}. Best is trial#40 with value: 41521.08614541739.\n",
      "C:\\Users\\albert\\Anaconda3\\lib\\site-packages\\lightgbm\\basic.py:1291: UserWarning:\n",
      "\n",
      "Using categorical_feature in Dataset.\n",
      "\n"
     ]
    },
    {
     "name": "stdout",
     "output_type": "stream",
     "text": [
      "Training until validation scores don't improve for 500 rounds\n",
      "[500]\tvalid_0's rmse: 4249.03\n",
      "[1000]\tvalid_0's rmse: 4238.44\n",
      "Early stopping, best iteration is:\n",
      "[723]\tvalid_0's rmse: 4229.57\n"
     ]
    },
    {
     "name": "stderr",
     "output_type": "stream",
     "text": [
      "  7%|▋         | 35/499 [00:04<00:58,  8.00it/s]\n"
     ]
    },
    {
     "name": "stdout",
     "output_type": "stream",
     "text": [
      "end of loop\n"
     ]
    },
    {
     "name": "stderr",
     "output_type": "stream",
     "text": [
      "[I 2020-10-16 02:23:27,730] Finished trial#82 with value: 43707.265184428135 with parameters: {'max_depth': 29, 'num_leaves': 118, 'bag_frac': 0.6133077446370263, 'feat_frac': 0.5507570020450536, 'l1': 0.7282489237551996, 'l2': 0.25684947643541717}. Best is trial#40 with value: 41521.08614541739.\n",
      "C:\\Users\\albert\\Anaconda3\\lib\\site-packages\\lightgbm\\basic.py:1291: UserWarning:\n",
      "\n",
      "Using categorical_feature in Dataset.\n",
      "\n"
     ]
    },
    {
     "name": "stdout",
     "output_type": "stream",
     "text": [
      "Training until validation scores don't improve for 500 rounds\n",
      "[500]\tvalid_0's rmse: 4091.32\n",
      "Early stopping, best iteration is:\n",
      "[329]\tvalid_0's rmse: 4070.51\n"
     ]
    },
    {
     "name": "stderr",
     "output_type": "stream",
     "text": [
      "  7%|▋         | 35/499 [00:04<00:57,  8.09it/s]\n"
     ]
    },
    {
     "name": "stdout",
     "output_type": "stream",
     "text": [
      "end of loop\n"
     ]
    },
    {
     "name": "stderr",
     "output_type": "stream",
     "text": [
      "[I 2020-10-16 02:28:03,078] Finished trial#83 with value: 48955.71309289741 with parameters: {'max_depth': 25, 'num_leaves': 123, 'bag_frac': 0.6256695139823625, 'feat_frac': 0.5001905153505802, 'l1': 0.565355435695282, 'l2': 0.3373021276611644}. Best is trial#40 with value: 41521.08614541739.\n",
      "C:\\Users\\albert\\Anaconda3\\lib\\site-packages\\lightgbm\\basic.py:1291: UserWarning:\n",
      "\n",
      "Using categorical_feature in Dataset.\n",
      "\n"
     ]
    },
    {
     "name": "stdout",
     "output_type": "stream",
     "text": [
      "Training until validation scores don't improve for 500 rounds\n",
      "[500]\tvalid_0's rmse: 4177.96\n",
      "[1000]\tvalid_0's rmse: 4175.41\n",
      "Early stopping, best iteration is:\n",
      "[606]\tvalid_0's rmse: 4167.74\n"
     ]
    },
    {
     "name": "stderr",
     "output_type": "stream",
     "text": [
      "  7%|▋         | 35/499 [00:04<00:58,  7.87it/s]\n"
     ]
    },
    {
     "name": "stdout",
     "output_type": "stream",
     "text": [
      "end of loop\n"
     ]
    },
    {
     "name": "stderr",
     "output_type": "stream",
     "text": [
      "[I 2020-10-16 02:34:43,630] Finished trial#84 with value: 41742.55009621887 with parameters: {'max_depth': 27, 'num_leaves': 121, 'bag_frac': 0.5932086611816725, 'feat_frac': 0.5671739386629953, 'l1': 0.4814724444975965, 'l2': 0.2832910285325735}. Best is trial#40 with value: 41521.08614541739.\n",
      "C:\\Users\\albert\\Anaconda3\\lib\\site-packages\\lightgbm\\basic.py:1291: UserWarning:\n",
      "\n",
      "Using categorical_feature in Dataset.\n",
      "\n"
     ]
    },
    {
     "name": "stdout",
     "output_type": "stream",
     "text": [
      "Training until validation scores don't improve for 500 rounds\n",
      "[500]\tvalid_0's rmse: 4247.55\n",
      "Early stopping, best iteration is:\n",
      "[265]\tvalid_0's rmse: 4239.61\n"
     ]
    },
    {
     "name": "stderr",
     "output_type": "stream",
     "text": [
      "  7%|▋         | 35/499 [00:04<00:59,  7.84it/s]\n"
     ]
    },
    {
     "name": "stdout",
     "output_type": "stream",
     "text": [
      "end of loop\n"
     ]
    },
    {
     "name": "stderr",
     "output_type": "stream",
     "text": [
      "[I 2020-10-16 02:39:03,108] Finished trial#85 with value: 44588.92142046461 with parameters: {'max_depth': 27, 'num_leaves': 113, 'bag_frac': 0.5969500752661119, 'feat_frac': 0.5662004260768154, 'l1': 0.5206838338608646, 'l2': 0.27969748817026885}. Best is trial#40 with value: 41521.08614541739.\n",
      "C:\\Users\\albert\\Anaconda3\\lib\\site-packages\\lightgbm\\basic.py:1291: UserWarning:\n",
      "\n",
      "Using categorical_feature in Dataset.\n",
      "\n"
     ]
    },
    {
     "name": "stdout",
     "output_type": "stream",
     "text": [
      "Training until validation scores don't improve for 500 rounds\n",
      "[500]\tvalid_0's rmse: 4197.26\n",
      "[1000]\tvalid_0's rmse: 4184.5\n",
      "Early stopping, best iteration is:\n",
      "[872]\tvalid_0's rmse: 4180.06\n"
     ]
    },
    {
     "name": "stderr",
     "output_type": "stream",
     "text": [
      "  7%|▋         | 35/499 [00:04<00:58,  7.96it/s]\n"
     ]
    },
    {
     "name": "stdout",
     "output_type": "stream",
     "text": [
      "end of loop\n"
     ]
    },
    {
     "name": "stderr",
     "output_type": "stream",
     "text": [
      "[I 2020-10-16 02:47:25,814] Finished trial#86 with value: 41830.76530730725 with parameters: {'max_depth': 31, 'num_leaves': 121, 'bag_frac': 0.6389762142333933, 'feat_frac': 0.5582714010831593, 'l1': 0.48896083247625394, 'l2': 0.15871838153084758}. Best is trial#40 with value: 41521.08614541739.\n",
      "C:\\Users\\albert\\Anaconda3\\lib\\site-packages\\lightgbm\\basic.py:1291: UserWarning:\n",
      "\n",
      "Using categorical_feature in Dataset.\n",
      "\n"
     ]
    },
    {
     "name": "stdout",
     "output_type": "stream",
     "text": [
      "Training until validation scores don't improve for 500 rounds\n",
      "[500]\tvalid_0's rmse: 4173.97\n",
      "[1000]\tvalid_0's rmse: 4184.94\n",
      "Early stopping, best iteration is:\n",
      "[532]\tvalid_0's rmse: 4172.16\n"
     ]
    },
    {
     "name": "stderr",
     "output_type": "stream",
     "text": [
      "  7%|▋         | 35/499 [00:04<00:59,  7.81it/s]\n"
     ]
    },
    {
     "name": "stdout",
     "output_type": "stream",
     "text": [
      "end of loop\n"
     ]
    },
    {
     "name": "stderr",
     "output_type": "stream",
     "text": [
      "[I 2020-10-16 02:55:52,102] Finished trial#87 with value: 41324.60580691087 with parameters: {'max_depth': 31, 'num_leaves': 121, 'bag_frac': 0.639609295348994, 'feat_frac': 0.5588977477514699, 'l1': 0.4725353909650051, 'l2': 0.15332118331817376}. Best is trial#87 with value: 41324.60580691087.\n",
      "C:\\Users\\albert\\Anaconda3\\lib\\site-packages\\lightgbm\\basic.py:1291: UserWarning:\n",
      "\n",
      "Using categorical_feature in Dataset.\n",
      "\n"
     ]
    },
    {
     "name": "stdout",
     "output_type": "stream",
     "text": [
      "Training until validation scores don't improve for 500 rounds\n",
      "[500]\tvalid_0's rmse: 4168.14\n",
      "[1000]\tvalid_0's rmse: 4169.39\n",
      "Early stopping, best iteration is:\n",
      "[647]\tvalid_0's rmse: 4165.08\n"
     ]
    },
    {
     "name": "stderr",
     "output_type": "stream",
     "text": [
      "  7%|▋         | 35/499 [00:04<00:57,  8.01it/s]\n"
     ]
    },
    {
     "name": "stdout",
     "output_type": "stream",
     "text": [
      "end of loop\n"
     ]
    },
    {
     "name": "stderr",
     "output_type": "stream",
     "text": [
      "[I 2020-10-16 03:03:01,075] Finished trial#88 with value: 41248.21136254625 with parameters: {'max_depth': 36, 'num_leaves': 121, 'bag_frac': 0.6571171296440085, 'feat_frac': 0.5611948575827347, 'l1': 0.3915921679493459, 'l2': 0.1495672770643015}. Best is trial#88 with value: 41248.21136254625.\n",
      "C:\\Users\\albert\\Anaconda3\\lib\\site-packages\\lightgbm\\basic.py:1291: UserWarning:\n",
      "\n",
      "Using categorical_feature in Dataset.\n",
      "\n"
     ]
    },
    {
     "name": "stdout",
     "output_type": "stream",
     "text": [
      "Training until validation scores don't improve for 500 rounds\n",
      "[500]\tvalid_0's rmse: 4264.58\n",
      "Early stopping, best iteration is:\n",
      "[243]\tvalid_0's rmse: 4232.24\n"
     ]
    },
    {
     "name": "stderr",
     "output_type": "stream",
     "text": [
      "  7%|▋         | 35/499 [00:04<00:57,  8.03it/s]\n"
     ]
    },
    {
     "name": "stdout",
     "output_type": "stream",
     "text": [
      "end of loop\n"
     ]
    },
    {
     "name": "stderr",
     "output_type": "stream",
     "text": [
      "[I 2020-10-16 03:07:32,813] Finished trial#89 with value: 48518.73001424851 with parameters: {'max_depth': 34, 'num_leaves': 121, 'bag_frac': 0.6655458233401533, 'feat_frac': 0.5890346509867458, 'l1': 0.38315814700791956, 'l2': 0.16216320998255174}. Best is trial#88 with value: 41248.21136254625.\n",
      "C:\\Users\\albert\\Anaconda3\\lib\\site-packages\\lightgbm\\basic.py:1291: UserWarning:\n",
      "\n",
      "Using categorical_feature in Dataset.\n",
      "\n"
     ]
    },
    {
     "name": "stdout",
     "output_type": "stream",
     "text": [
      "Training until validation scores don't improve for 500 rounds\n",
      "[500]\tvalid_0's rmse: 4178.03\n",
      "[1000]\tvalid_0's rmse: 4164.4\n",
      "[1500]\tvalid_0's rmse: 4152.32\n",
      "Early stopping, best iteration is:\n",
      "[1427]\tvalid_0's rmse: 4149.12\n"
     ]
    },
    {
     "name": "stderr",
     "output_type": "stream",
     "text": [
      "  7%|▋         | 35/499 [00:04<01:01,  7.60it/s]\n"
     ]
    },
    {
     "name": "stdout",
     "output_type": "stream",
     "text": [
      "end of loop\n"
     ]
    },
    {
     "name": "stderr",
     "output_type": "stream",
     "text": [
      "[I 2020-10-16 03:18:19,190] Finished trial#90 with value: 45505.014348670426 with parameters: {'max_depth': 31, 'num_leaves': 116, 'bag_frac': 0.6402638431821257, 'feat_frac': 0.5995299132528789, 'l1': 0.33641428850121907, 'l2': 0.14218029805876942}. Best is trial#88 with value: 41248.21136254625.\n",
      "C:\\Users\\albert\\Anaconda3\\lib\\site-packages\\lightgbm\\basic.py:1291: UserWarning:\n",
      "\n",
      "Using categorical_feature in Dataset.\n",
      "\n"
     ]
    },
    {
     "name": "stdout",
     "output_type": "stream",
     "text": [
      "Training until validation scores don't improve for 500 rounds\n",
      "[500]\tvalid_0's rmse: 4186.71\n",
      "[1000]\tvalid_0's rmse: 4170.4\n",
      "[1500]\tvalid_0's rmse: 4166.37\n",
      "[2000]\tvalid_0's rmse: 4165.93\n",
      "Early stopping, best iteration is:\n",
      "[1779]\tvalid_0's rmse: 4164.29\n"
     ]
    },
    {
     "name": "stderr",
     "output_type": "stream",
     "text": [
      "  7%|▋         | 35/499 [00:04<01:03,  7.35it/s]\n"
     ]
    },
    {
     "name": "stdout",
     "output_type": "stream",
     "text": [
      "end of loop\n"
     ]
    },
    {
     "name": "stderr",
     "output_type": "stream",
     "text": [
      "[I 2020-10-16 03:29:40,452] Finished trial#91 with value: 41653.82184255771 with parameters: {'max_depth': 35, 'num_leaves': 121, 'bag_frac': 0.6579559856825443, 'feat_frac': 0.5579236946079589, 'l1': 0.48986793949144164, 'l2': 0.1428238354613437}. Best is trial#88 with value: 41248.21136254625.\n",
      "C:\\Users\\albert\\Anaconda3\\lib\\site-packages\\lightgbm\\basic.py:1291: UserWarning:\n",
      "\n",
      "Using categorical_feature in Dataset.\n",
      "\n"
     ]
    },
    {
     "name": "stdout",
     "output_type": "stream",
     "text": [
      "Training until validation scores don't improve for 500 rounds\n",
      "[500]\tvalid_0's rmse: 4168.14\n",
      "[1000]\tvalid_0's rmse: 4156.45\n",
      "[1500]\tvalid_0's rmse: 4150.86\n",
      "Early stopping, best iteration is:\n",
      "[1217]\tvalid_0's rmse: 4149.62\n"
     ]
    },
    {
     "name": "stderr",
     "output_type": "stream",
     "text": [
      "  7%|▋         | 35/499 [00:04<00:58,  7.91it/s]\n"
     ]
    },
    {
     "name": "stdout",
     "output_type": "stream",
     "text": [
      "end of loop\n"
     ]
    },
    {
     "name": "stderr",
     "output_type": "stream",
     "text": [
      "[I 2020-10-16 03:39:53,977] Finished trial#92 with value: 41332.91971972286 with parameters: {'max_depth': 36, 'num_leaves': 121, 'bag_frac': 0.6576935839341594, 'feat_frac': 0.5639486603443774, 'l1': 0.4853087832695923, 'l2': 0.1407555249028817}. Best is trial#88 with value: 41248.21136254625.\n",
      "C:\\Users\\albert\\Anaconda3\\lib\\site-packages\\lightgbm\\basic.py:1291: UserWarning:\n",
      "\n",
      "Using categorical_feature in Dataset.\n",
      "\n"
     ]
    },
    {
     "name": "stdout",
     "output_type": "stream",
     "text": [
      "Training until validation scores don't improve for 500 rounds\n",
      "[500]\tvalid_0's rmse: 4202.78\n",
      "[1000]\tvalid_0's rmse: 4203.06\n",
      "Early stopping, best iteration is:\n",
      "[531]\tvalid_0's rmse: 4197.95\n"
     ]
    },
    {
     "name": "stderr",
     "output_type": "stream",
     "text": [
      "  7%|▋         | 35/499 [00:04<00:59,  7.86it/s]\n"
     ]
    },
    {
     "name": "stdout",
     "output_type": "stream",
     "text": [
      "end of loop\n"
     ]
    },
    {
     "name": "stderr",
     "output_type": "stream",
     "text": [
      "[I 2020-10-16 03:47:06,764] Finished trial#93 with value: 44770.78440561325 with parameters: {'max_depth': 36, 'num_leaves': 123, 'bag_frac': 0.653919660765735, 'feat_frac': 0.5703004784572867, 'l1': 0.48894912585208444, 'l2': 0.1440134917634079}. Best is trial#88 with value: 41248.21136254625.\n",
      "C:\\Users\\albert\\Anaconda3\\lib\\site-packages\\lightgbm\\basic.py:1291: UserWarning:\n",
      "\n",
      "Using categorical_feature in Dataset.\n",
      "\n"
     ]
    },
    {
     "name": "stdout",
     "output_type": "stream",
     "text": [
      "Training until validation scores don't improve for 500 rounds\n",
      "[500]\tvalid_0's rmse: 4218.66\n",
      "Early stopping, best iteration is:\n",
      "[348]\tvalid_0's rmse: 4209.12\n"
     ]
    },
    {
     "name": "stderr",
     "output_type": "stream",
     "text": [
      "  7%|▋         | 35/499 [00:04<00:59,  7.85it/s]\n"
     ]
    },
    {
     "name": "stdout",
     "output_type": "stream",
     "text": [
      "end of loop\n"
     ]
    },
    {
     "name": "stderr",
     "output_type": "stream",
     "text": [
      "[I 2020-10-16 03:52:01,981] Finished trial#94 with value: 46201.12680591877 with parameters: {'max_depth': 38, 'num_leaves': 120, 'bag_frac': 0.6928586125046774, 'feat_frac': 0.5598852662697653, 'l1': 0.427037540376892, 'l2': 0.12979319683569354}. Best is trial#88 with value: 41248.21136254625.\n",
      "C:\\Users\\albert\\Anaconda3\\lib\\site-packages\\lightgbm\\basic.py:1291: UserWarning:\n",
      "\n",
      "Using categorical_feature in Dataset.\n",
      "\n"
     ]
    },
    {
     "name": "stdout",
     "output_type": "stream",
     "text": [
      "Training until validation scores don't improve for 500 rounds\n",
      "[500]\tvalid_0's rmse: 4233.59\n",
      "Early stopping, best iteration is:\n",
      "[284]\tvalid_0's rmse: 4203.79\n"
     ]
    },
    {
     "name": "stderr",
     "output_type": "stream",
     "text": [
      "  7%|▋         | 35/499 [00:04<00:59,  7.75it/s]\n"
     ]
    },
    {
     "name": "stdout",
     "output_type": "stream",
     "text": [
      "end of loop\n"
     ]
    },
    {
     "name": "stderr",
     "output_type": "stream",
     "text": [
      "[I 2020-10-16 03:56:39,368] Finished trial#95 with value: 44972.08136138229 with parameters: {'max_depth': 35, 'num_leaves': 122, 'bag_frac': 0.6724205630076924, 'feat_frac': 0.5826966151897173, 'l1': 0.40957226559179166, 'l2': 0.14995657791782246}. Best is trial#88 with value: 41248.21136254625.\n",
      "C:\\Users\\albert\\Anaconda3\\lib\\site-packages\\lightgbm\\basic.py:1291: UserWarning:\n",
      "\n",
      "Using categorical_feature in Dataset.\n",
      "\n"
     ]
    },
    {
     "name": "stdout",
     "output_type": "stream",
     "text": [
      "Training until validation scores don't improve for 500 rounds\n",
      "[500]\tvalid_0's rmse: 4194.62\n",
      "[1000]\tvalid_0's rmse: 4196.44\n",
      "Early stopping, best iteration is:\n",
      "[570]\tvalid_0's rmse: 4189.14\n"
     ]
    },
    {
     "name": "stderr",
     "output_type": "stream",
     "text": [
      "  7%|▋         | 35/499 [00:04<01:00,  7.73it/s]\n"
     ]
    },
    {
     "name": "stdout",
     "output_type": "stream",
     "text": [
      "end of loop\n"
     ]
    },
    {
     "name": "stderr",
     "output_type": "stream",
     "text": [
      "[I 2020-10-16 04:02:59,591] Finished trial#96 with value: 43251.20198719708 with parameters: {'max_depth': 32, 'num_leaves': 124, 'bag_frac': 0.718073855026045, 'feat_frac': 0.5520089646742029, 'l1': 0.4683241883810068, 'l2': 0.11332209130244536}. Best is trial#88 with value: 41248.21136254625.\n",
      "C:\\Users\\albert\\Anaconda3\\lib\\site-packages\\lightgbm\\basic.py:1291: UserWarning:\n",
      "\n",
      "Using categorical_feature in Dataset.\n",
      "\n"
     ]
    },
    {
     "name": "stdout",
     "output_type": "stream",
     "text": [
      "Training until validation scores don't improve for 500 rounds\n",
      "[500]\tvalid_0's rmse: 4196.52\n",
      "[1000]\tvalid_0's rmse: 4185.12\n",
      "[1500]\tvalid_0's rmse: 4183.31\n",
      "Early stopping, best iteration is:\n",
      "[1375]\tvalid_0's rmse: 4181.05\n"
     ]
    },
    {
     "name": "stderr",
     "output_type": "stream",
     "text": [
      "  7%|▋         | 35/499 [00:04<00:59,  7.75it/s]\n"
     ]
    },
    {
     "name": "stdout",
     "output_type": "stream",
     "text": [
      "end of loop\n"
     ]
    },
    {
     "name": "stderr",
     "output_type": "stream",
     "text": [
      "[I 2020-10-16 04:14:11,800] Finished trial#97 with value: 41344.008459881115 with parameters: {'max_depth': 41, 'num_leaves': 121, 'bag_frac': 0.6605548120112225, 'feat_frac': 0.5259144217682976, 'l1': 0.5422721675229373, 'l2': 0.133665504188216}. Best is trial#88 with value: 41248.21136254625.\n",
      "C:\\Users\\albert\\Anaconda3\\lib\\site-packages\\lightgbm\\basic.py:1291: UserWarning:\n",
      "\n",
      "Using categorical_feature in Dataset.\n",
      "\n"
     ]
    },
    {
     "name": "stdout",
     "output_type": "stream",
     "text": [
      "Training until validation scores don't improve for 500 rounds\n",
      "[500]\tvalid_0's rmse: 4201.84\n",
      "Early stopping, best iteration is:\n",
      "[432]\tvalid_0's rmse: 4192.12\n"
     ]
    },
    {
     "name": "stderr",
     "output_type": "stream",
     "text": [
      "  7%|▋         | 35/499 [00:04<00:58,  7.99it/s]\n"
     ]
    },
    {
     "name": "stdout",
     "output_type": "stream",
     "text": [
      "end of loop\n"
     ]
    },
    {
     "name": "stderr",
     "output_type": "stream",
     "text": [
      "[I 2020-10-16 04:19:20,815] Finished trial#98 with value: 42426.714912846146 with parameters: {'max_depth': 39, 'num_leaves': 121, 'bag_frac': 0.6583381742806433, 'feat_frac': 0.5335585260491145, 'l1': 0.5488264889774094, 'l2': 0.11634076202609316}. Best is trial#88 with value: 41248.21136254625.\n",
      "C:\\Users\\albert\\Anaconda3\\lib\\site-packages\\lightgbm\\basic.py:1291: UserWarning:\n",
      "\n",
      "Using categorical_feature in Dataset.\n",
      "\n"
     ]
    },
    {
     "name": "stdout",
     "output_type": "stream",
     "text": [
      "Training until validation scores don't improve for 500 rounds\n",
      "[500]\tvalid_0's rmse: 4179.72\n",
      "[1000]\tvalid_0's rmse: 4166.79\n",
      "[1500]\tvalid_0's rmse: 4160.54\n",
      "[2000]\tvalid_0's rmse: 4157.18\n",
      "[2500]\tvalid_0's rmse: 4156.84\n",
      "Early stopping, best iteration is:\n",
      "[2333]\tvalid_0's rmse: 4153.81\n"
     ]
    },
    {
     "name": "stderr",
     "output_type": "stream",
     "text": [
      "  7%|▋         | 35/499 [00:04<01:01,  7.52it/s]\n"
     ]
    },
    {
     "name": "stdout",
     "output_type": "stream",
     "text": [
      "end of loop\n"
     ]
    },
    {
     "name": "stderr",
     "output_type": "stream",
     "text": [
      "[I 2020-10-16 04:33:55,905] Finished trial#99 with value: 45328.018217346864 with parameters: {'max_depth': 41, 'num_leaves': 116, 'bag_frac': 0.6786694028351616, 'feat_frac': 0.5961832633187842, 'l1': 0.5310460675749303, 'l2': 0.13067162078956607}. Best is trial#88 with value: 41248.21136254625.\n"
     ]
    }
   ],
   "source": [
    "# 100 trials: this can take a while, feel free to interrupt at any time\n",
    "study = optuna.create_study()\n",
    "study.optimize(objective, n_trials=100)"
   ]
  },
  {
   "cell_type": "code",
   "execution_count": 73,
   "metadata": {},
   "outputs": [],
   "source": [
    "params = {\n",
    "    'objective': 'poisson',\n",
    "    'boosting': 'gbdt',\n",
    "    'max_depth': 41,\n",
    "    'num_leaves': 116,\n",
    "    'metric' :'rmse',\n",
    "    'learning_rate' : 0.05,\n",
    "\n",
    "    'bagging_fraction' : 0.6786694028351616,\n",
    "    'feature_fraction': 0.5961832633187842,\n",
    "    'lambda_l1' : 0.5310460675749303,\n",
    "    'lambda_l2' : 0.13067162078956607,\n",
    "    'verbosity': 1\n",
    "\n",
    "}\n",
    "# params taken from optuna\n",
    "# {'max_depth': 38, 'num_leaves': 83, 'bag_frac': 0.5163386620025411, 'feat_frac': 0.8282029364551513, 'l1': 0.32608335857159515, 'l2': 0.47993551029860304}\n",
    "#{'max_depth': 33, 'num_leaves': 105, 'bag_frac': 0.5322891910761054, 'feat_frac': 0.6669831078168111, 'l1': 0.3835478797094356, 'l2': 0.13698763208906273}\n",
    "# {'max_depth': 41, 'num_leaves': 116, 'bag_frac': 0.6786694028351616, 'feat_frac': 0.5961832633187842, 'l1': 0.5310460675749303, 'l2': 0.13067162078956607 # 41248 rmse"
   ]
  },
  {
   "cell_type": "code",
   "execution_count": 74,
   "metadata": {},
   "outputs": [
    {
     "name": "stderr",
     "output_type": "stream",
     "text": [
      "C:\\Users\\albert\\Anaconda3\\lib\\site-packages\\lightgbm\\basic.py:1291: UserWarning:\n",
      "\n",
      "Using categorical_feature in Dataset.\n",
      "\n"
     ]
    },
    {
     "name": "stdout",
     "output_type": "stream",
     "text": [
      "Training until validation scores don't improve for 500 rounds\n",
      "[100]\tvalid_0's rmse: 5343.53\n",
      "[200]\tvalid_0's rmse: 4263.18\n",
      "[300]\tvalid_0's rmse: 4207.09\n",
      "[400]\tvalid_0's rmse: 4190.78\n",
      "[500]\tvalid_0's rmse: 4179.72\n",
      "[600]\tvalid_0's rmse: 4180.62\n",
      "[700]\tvalid_0's rmse: 4177.46\n",
      "[800]\tvalid_0's rmse: 4168.57\n",
      "[900]\tvalid_0's rmse: 4170.9\n",
      "[1000]\tvalid_0's rmse: 4166.79\n",
      "[1100]\tvalid_0's rmse: 4162.09\n",
      "[1200]\tvalid_0's rmse: 4157.98\n",
      "[1300]\tvalid_0's rmse: 4157.94\n",
      "[1400]\tvalid_0's rmse: 4158.13\n",
      "[1500]\tvalid_0's rmse: 4160.54\n",
      "[1600]\tvalid_0's rmse: 4158.44\n",
      "[1700]\tvalid_0's rmse: 4157.5\n",
      "[1800]\tvalid_0's rmse: 4158.52\n",
      "[1900]\tvalid_0's rmse: 4158.28\n",
      "[2000]\tvalid_0's rmse: 4157.18\n",
      "[2100]\tvalid_0's rmse: 4155.9\n",
      "[2200]\tvalid_0's rmse: 4155.23\n",
      "[2300]\tvalid_0's rmse: 4154.29\n",
      "[2400]\tvalid_0's rmse: 4154.28\n",
      "[2500]\tvalid_0's rmse: 4156.84\n",
      "[2600]\tvalid_0's rmse: 4158.76\n",
      "[2700]\tvalid_0's rmse: 4159.77\n",
      "[2800]\tvalid_0's rmse: 4159.52\n",
      "Early stopping, best iteration is:\n",
      "[2333]\tvalid_0's rmse: 4153.81\n"
     ]
    }
   ],
   "source": [
    "m_lgb = lgb.train(params, train_data,num_boost_round=20000, valid_sets = y_valid_data, verbose_eval=100, early_stopping_rounds=500)"
   ]
  },
  {
   "cell_type": "code",
   "execution_count": 76,
   "metadata": {},
   "outputs": [
    {
     "data": {
      "text/plain": [
       "<matplotlib.axes._subplots.AxesSubplot at 0x279ec988>"
      ]
     },
     "execution_count": 76,
     "metadata": {},
     "output_type": "execute_result"
    },
    {
     "data": {
      "image/png": "[encoded data removed]",
      "text/plain": [
       "<Figure size 432x288 with 1 Axes>"
      ]
     },
     "metadata": {
      "needs_background": "light"
     },
     "output_type": "display_data"
    }
   ],
   "source": [
    "lgb.plot_importance(m_lgb)"
   ]
  },
  {
   "cell_type": "code",
   "execution_count": 77,
   "metadata": {},
   "outputs": [
    {
     "name": "stderr",
     "output_type": "stream",
     "text": [
      "  7%|▋         | 35/499 [00:04<01:03,  7.25it/s]\n"
     ]
    },
    {
     "name": "stdout",
     "output_type": "stream",
     "text": [
      "end of loop\n"
     ]
    }
   ],
   "source": [
    "train_roll = train_set.copy(deep=True)\n",
    "try:\n",
    "    for i in tqdm(range(1,500)):\n",
    "        _to_pred = pred_set.loc[pred_set['datetime'] == (datetime.datetime(2020, 9, 5) + datetime.timedelta(days= i))].copy()\n",
    "        _first_concat = pd.concat([train_roll, _to_pred])\n",
    "        _first_concat.reset_index(inplace=True, drop=True)\n",
    "        _first_concat = date_lags(_first_concat)\n",
    "        _to_pred = _first_concat.loc[_first_concat['datetime'] == (datetime.datetime(2020, 9, 5) + datetime.timedelta(days= i))].copy()\n",
    "        _to_pred_feats = _to_pred[train_cols]\n",
    "        first_pred = m_lgb.predict(_to_pred_feats)\n",
    "        _to_pred['value'] = first_pred\n",
    "        train_roll = pd.concat([train_roll, _to_pred])\n",
    "except:\n",
    "    print('end of loop')"
   ]
  },
  {
   "cell_type": "code",
   "execution_count": 78,
   "metadata": {},
   "outputs": [
    {
     "data": {
      "text/html": [
       "<div>\n",
       "<style scoped>\n",
       "    .dataframe tbody tr th:only-of-type {\n",
       "        vertical-align: middle;\n",
       "    }\n",
       "\n",
       "    .dataframe tbody tr th {\n",
       "        vertical-align: top;\n",
       "    }\n",
       "\n",
       "    .dataframe thead th {\n",
       "        text-align: right;\n",
       "    }\n",
       "</style>\n",
       "<table border=\"1\" class=\"dataframe\">\n",
       "  <thead>\n",
       "    <tr style=\"text-align: right;\">\n",
       "      <th></th>\n",
       "      <th>datetime</th>\n",
       "      <th>crossing</th>\n",
       "      <th>variable</th>\n",
       "      <th>value</th>\n",
       "      <th>month</th>\n",
       "      <th>dayofweek</th>\n",
       "      <th>year</th>\n",
       "      <th>week</th>\n",
       "      <th>day</th>\n",
       "      <th>quarter</th>\n",
       "      <th>...</th>\n",
       "      <th>holiday</th>\n",
       "      <th>temp_average</th>\n",
       "      <th>lag_7</th>\n",
       "      <th>lag_14</th>\n",
       "      <th>lag_21</th>\n",
       "      <th>lag_28</th>\n",
       "      <th>mean_lag7_roll7</th>\n",
       "      <th>mean_lag7_roll28</th>\n",
       "      <th>mean_lag28_roll7</th>\n",
       "      <th>mean_lag28_roll28</th>\n",
       "    </tr>\n",
       "  </thead>\n",
       "  <tbody>\n",
       "    <tr>\n",
       "      <th>0</th>\n",
       "      <td>2018-01-01</td>\n",
       "      <td>0</td>\n",
       "      <td>0</td>\n",
       "      <td>3527.000000</td>\n",
       "      <td>1</td>\n",
       "      <td>0</td>\n",
       "      <td>2018</td>\n",
       "      <td>1</td>\n",
       "      <td>1</td>\n",
       "      <td>1</td>\n",
       "      <td>...</td>\n",
       "      <td>1</td>\n",
       "      <td>34.744700</td>\n",
       "      <td>NaN</td>\n",
       "      <td>NaN</td>\n",
       "      <td>NaN</td>\n",
       "      <td>NaN</td>\n",
       "      <td>NaN</td>\n",
       "      <td>NaN</td>\n",
       "      <td>NaN</td>\n",
       "      <td>NaN</td>\n",
       "    </tr>\n",
       "    <tr>\n",
       "      <th>1</th>\n",
       "      <td>2018-01-01</td>\n",
       "      <td>0</td>\n",
       "      <td>1</td>\n",
       "      <td>25636.000000</td>\n",
       "      <td>1</td>\n",
       "      <td>0</td>\n",
       "      <td>2018</td>\n",
       "      <td>1</td>\n",
       "      <td>1</td>\n",
       "      <td>1</td>\n",
       "      <td>...</td>\n",
       "      <td>1</td>\n",
       "      <td>34.744700</td>\n",
       "      <td>NaN</td>\n",
       "      <td>NaN</td>\n",
       "      <td>NaN</td>\n",
       "      <td>NaN</td>\n",
       "      <td>NaN</td>\n",
       "      <td>NaN</td>\n",
       "      <td>NaN</td>\n",
       "      <td>NaN</td>\n",
       "    </tr>\n",
       "    <tr>\n",
       "      <th>2</th>\n",
       "      <td>2018-01-01</td>\n",
       "      <td>1</td>\n",
       "      <td>0</td>\n",
       "      <td>1876.000000</td>\n",
       "      <td>1</td>\n",
       "      <td>0</td>\n",
       "      <td>2018</td>\n",
       "      <td>1</td>\n",
       "      <td>1</td>\n",
       "      <td>1</td>\n",
       "      <td>...</td>\n",
       "      <td>1</td>\n",
       "      <td>34.744700</td>\n",
       "      <td>NaN</td>\n",
       "      <td>NaN</td>\n",
       "      <td>NaN</td>\n",
       "      <td>NaN</td>\n",
       "      <td>NaN</td>\n",
       "      <td>NaN</td>\n",
       "      <td>NaN</td>\n",
       "      <td>NaN</td>\n",
       "    </tr>\n",
       "    <tr>\n",
       "      <th>3</th>\n",
       "      <td>2018-01-01</td>\n",
       "      <td>1</td>\n",
       "      <td>1</td>\n",
       "      <td>11829.000000</td>\n",
       "      <td>1</td>\n",
       "      <td>0</td>\n",
       "      <td>2018</td>\n",
       "      <td>1</td>\n",
       "      <td>1</td>\n",
       "      <td>1</td>\n",
       "      <td>...</td>\n",
       "      <td>1</td>\n",
       "      <td>34.744700</td>\n",
       "      <td>NaN</td>\n",
       "      <td>NaN</td>\n",
       "      <td>NaN</td>\n",
       "      <td>NaN</td>\n",
       "      <td>NaN</td>\n",
       "      <td>NaN</td>\n",
       "      <td>NaN</td>\n",
       "      <td>NaN</td>\n",
       "    </tr>\n",
       "    <tr>\n",
       "      <th>4</th>\n",
       "      <td>2018-01-01</td>\n",
       "      <td>2</td>\n",
       "      <td>0</td>\n",
       "      <td>5523.000000</td>\n",
       "      <td>1</td>\n",
       "      <td>0</td>\n",
       "      <td>2018</td>\n",
       "      <td>1</td>\n",
       "      <td>1</td>\n",
       "      <td>1</td>\n",
       "      <td>...</td>\n",
       "      <td>1</td>\n",
       "      <td>34.744700</td>\n",
       "      <td>NaN</td>\n",
       "      <td>NaN</td>\n",
       "      <td>NaN</td>\n",
       "      <td>NaN</td>\n",
       "      <td>NaN</td>\n",
       "      <td>NaN</td>\n",
       "      <td>NaN</td>\n",
       "      <td>NaN</td>\n",
       "    </tr>\n",
       "    <tr>\n",
       "      <th>...</th>\n",
       "      <td>...</td>\n",
       "      <td>...</td>\n",
       "      <td>...</td>\n",
       "      <td>...</td>\n",
       "      <td>...</td>\n",
       "      <td>...</td>\n",
       "      <td>...</td>\n",
       "      <td>...</td>\n",
       "      <td>...</td>\n",
       "      <td>...</td>\n",
       "      <td>...</td>\n",
       "      <td>...</td>\n",
       "      <td>...</td>\n",
       "      <td>...</td>\n",
       "      <td>...</td>\n",
       "      <td>...</td>\n",
       "      <td>...</td>\n",
       "      <td>...</td>\n",
       "      <td>...</td>\n",
       "      <td>...</td>\n",
       "      <td>...</td>\n",
       "    </tr>\n",
       "    <tr>\n",
       "      <th>18247</th>\n",
       "      <td>2020-10-10</td>\n",
       "      <td>6</td>\n",
       "      <td>1</td>\n",
       "      <td>122778.079041</td>\n",
       "      <td>10</td>\n",
       "      <td>5</td>\n",
       "      <td>2020</td>\n",
       "      <td>41</td>\n",
       "      <td>10</td>\n",
       "      <td>4</td>\n",
       "      <td>...</td>\n",
       "      <td>0</td>\n",
       "      <td>61.682719</td>\n",
       "      <td>121257.816891</td>\n",
       "      <td>122028.120683</td>\n",
       "      <td>114854.818411</td>\n",
       "      <td>116770.029667</td>\n",
       "      <td>129435.810684</td>\n",
       "      <td>128685.642563</td>\n",
       "      <td>126648.486890</td>\n",
       "      <td>128293.836008</td>\n",
       "    </tr>\n",
       "    <tr>\n",
       "      <th>18248</th>\n",
       "      <td>2020-10-10</td>\n",
       "      <td>7</td>\n",
       "      <td>0</td>\n",
       "      <td>13803.239733</td>\n",
       "      <td>10</td>\n",
       "      <td>5</td>\n",
       "      <td>2020</td>\n",
       "      <td>41</td>\n",
       "      <td>10</td>\n",
       "      <td>4</td>\n",
       "      <td>...</td>\n",
       "      <td>0</td>\n",
       "      <td>61.682719</td>\n",
       "      <td>14576.437263</td>\n",
       "      <td>13429.938040</td>\n",
       "      <td>13200.869669</td>\n",
       "      <td>13359.020030</td>\n",
       "      <td>12910.232027</td>\n",
       "      <td>12263.373466</td>\n",
       "      <td>12070.778852</td>\n",
       "      <td>12807.194713</td>\n",
       "    </tr>\n",
       "    <tr>\n",
       "      <th>18249</th>\n",
       "      <td>2020-10-10</td>\n",
       "      <td>7</td>\n",
       "      <td>1</td>\n",
       "      <td>89817.293033</td>\n",
       "      <td>10</td>\n",
       "      <td>5</td>\n",
       "      <td>2020</td>\n",
       "      <td>41</td>\n",
       "      <td>10</td>\n",
       "      <td>4</td>\n",
       "      <td>...</td>\n",
       "      <td>0</td>\n",
       "      <td>61.682719</td>\n",
       "      <td>88785.585084</td>\n",
       "      <td>88614.183347</td>\n",
       "      <td>86278.995620</td>\n",
       "      <td>86298.274970</td>\n",
       "      <td>87747.657521</td>\n",
       "      <td>87235.828674</td>\n",
       "      <td>85913.500526</td>\n",
       "      <td>85644.517989</td>\n",
       "    </tr>\n",
       "    <tr>\n",
       "      <th>18250</th>\n",
       "      <td>2020-10-10</td>\n",
       "      <td>8</td>\n",
       "      <td>0</td>\n",
       "      <td>22878.658622</td>\n",
       "      <td>10</td>\n",
       "      <td>5</td>\n",
       "      <td>2020</td>\n",
       "      <td>41</td>\n",
       "      <td>10</td>\n",
       "      <td>4</td>\n",
       "      <td>...</td>\n",
       "      <td>0</td>\n",
       "      <td>61.682719</td>\n",
       "      <td>24149.659547</td>\n",
       "      <td>24321.185678</td>\n",
       "      <td>23255.793354</td>\n",
       "      <td>23177.407712</td>\n",
       "      <td>21951.882815</td>\n",
       "      <td>21349.516827</td>\n",
       "      <td>21235.810422</td>\n",
       "      <td>22744.631177</td>\n",
       "    </tr>\n",
       "    <tr>\n",
       "      <th>18251</th>\n",
       "      <td>2020-10-10</td>\n",
       "      <td>8</td>\n",
       "      <td>1</td>\n",
       "      <td>107926.423722</td>\n",
       "      <td>10</td>\n",
       "      <td>5</td>\n",
       "      <td>2020</td>\n",
       "      <td>41</td>\n",
       "      <td>10</td>\n",
       "      <td>4</td>\n",
       "      <td>...</td>\n",
       "      <td>0</td>\n",
       "      <td>61.682719</td>\n",
       "      <td>106357.411956</td>\n",
       "      <td>104201.003737</td>\n",
       "      <td>100520.200264</td>\n",
       "      <td>102168.149119</td>\n",
       "      <td>104876.820403</td>\n",
       "      <td>103040.050700</td>\n",
       "      <td>101763.724084</td>\n",
       "      <td>103155.431021</td>\n",
       "    </tr>\n",
       "  </tbody>\n",
       "</table>\n",
       "<p>18252 rows × 23 columns</p>\n",
       "</div>"
      ],
      "text/plain": [
       "        datetime  crossing  variable          value  month  dayofweek  year  \\\n",
       "0     2018-01-01         0         0    3527.000000      1          0  2018   \n",
       "1     2018-01-01         0         1   25636.000000      1          0  2018   \n",
       "2     2018-01-01         1         0    1876.000000      1          0  2018   \n",
       "3     2018-01-01         1         1   11829.000000      1          0  2018   \n",
       "4     2018-01-01         2         0    5523.000000      1          0  2018   \n",
       "...          ...       ...       ...            ...    ...        ...   ...   \n",
       "18247 2020-10-10         6         1  122778.079041     10          5  2020   \n",
       "18248 2020-10-10         7         0   13803.239733     10          5  2020   \n",
       "18249 2020-10-10         7         1   89817.293033     10          5  2020   \n",
       "18250 2020-10-10         8         0   22878.658622     10          5  2020   \n",
       "18251 2020-10-10         8         1  107926.423722     10          5  2020   \n",
       "\n",
       "       week  day  quarter  ...  holiday  temp_average          lag_7  \\\n",
       "0         1    1        1  ...        1     34.744700            NaN   \n",
       "1         1    1        1  ...        1     34.744700            NaN   \n",
       "2         1    1        1  ...        1     34.744700            NaN   \n",
       "3         1    1        1  ...        1     34.744700            NaN   \n",
       "4         1    1        1  ...        1     34.744700            NaN   \n",
       "...     ...  ...      ...  ...      ...           ...            ...   \n",
       "18247    41   10        4  ...        0     61.682719  121257.816891   \n",
       "18248    41   10        4  ...        0     61.682719   14576.437263   \n",
       "18249    41   10        4  ...        0     61.682719   88785.585084   \n",
       "18250    41   10        4  ...        0     61.682719   24149.659547   \n",
       "18251    41   10        4  ...        0     61.682719  106357.411956   \n",
       "\n",
       "              lag_14         lag_21         lag_28  mean_lag7_roll7  \\\n",
       "0                NaN            NaN            NaN              NaN   \n",
       "1                NaN            NaN            NaN              NaN   \n",
       "2                NaN            NaN            NaN              NaN   \n",
       "3                NaN            NaN            NaN              NaN   \n",
       "4                NaN            NaN            NaN              NaN   \n",
       "...              ...            ...            ...              ...   \n",
       "18247  122028.120683  114854.818411  116770.029667    129435.810684   \n",
       "18248   13429.938040   13200.869669   13359.020030     12910.232027   \n",
       "18249   88614.183347   86278.995620   86298.274970     87747.657521   \n",
       "18250   24321.185678   23255.793354   23177.407712     21951.882815   \n",
       "18251  104201.003737  100520.200264  102168.149119    104876.820403   \n",
       "\n",
       "       mean_lag7_roll28  mean_lag28_roll7  mean_lag28_roll28  \n",
       "0                   NaN               NaN                NaN  \n",
       "1                   NaN               NaN                NaN  \n",
       "2                   NaN               NaN                NaN  \n",
       "3                   NaN               NaN                NaN  \n",
       "4                   NaN               NaN                NaN  \n",
       "...                 ...               ...                ...  \n",
       "18247     128685.642563     126648.486890      128293.836008  \n",
       "18248      12263.373466      12070.778852       12807.194713  \n",
       "18249      87235.828674      85913.500526       85644.517989  \n",
       "18250      21349.516827      21235.810422       22744.631177  \n",
       "18251     103040.050700     101763.724084      103155.431021  \n",
       "\n",
       "[18252 rows x 23 columns]"
      ]
     },
     "execution_count": 78,
     "metadata": {},
     "output_type": "execute_result"
    }
   ],
   "source": [
    "train_roll"
   ]
  },
  {
   "cell_type": "code",
   "execution_count": 79,
   "metadata": {},
   "outputs": [
    {
     "ename": "NameError",
     "evalue": "name '_lgbm_pred' is not defined",
     "output_type": "error",
     "traceback": [
      "\u001b[1;31m---------------------------------------------------------------------------\u001b[0m",
      "\u001b[1;31mNameError\u001b[0m                                 Traceback (most recent call last)",
      "\u001b[1;32m<ipython-input-79-5068f0cf9752>\u001b[0m in \u001b[0;36m<module>\u001b[1;34m\u001b[0m\n\u001b[1;32m----> 1\u001b[1;33m \u001b[0m_lgbm_pred\u001b[0m\u001b[1;33m\u001b[0m\u001b[1;33m\u001b[0m\u001b[0m\n\u001b[0m",
      "\u001b[1;31mNameError\u001b[0m: name '_lgbm_pred' is not defined"
     ]
    }
   ],
   "source": [
    "_lgbm_pred"
   ]
  },
  {
   "cell_type": "code",
   "execution_count": 80,
   "metadata": {},
   "outputs": [],
   "source": [
    "_inverse_variable = {0: 'cash', 1: 'ezpass'}\n",
    "_lgbm_pred = train_roll.loc[train_roll['datetime'].isin(pd.date_range('2020-09-06', '2020-10-10'))][['datetime', 'crossing', 'variable',  'value']]\n",
    "_lgbm_pred['variable'] = [_inverse_variable[item] for item in _lgbm_pred['variable']]\n",
    "_lgbm_pred['crossing'] = le.inverse_transform(_lgbm_pred['crossing'])"
   ]
  },
  {
   "cell_type": "code",
   "execution_count": 81,
   "metadata": {},
   "outputs": [
    {
     "data": {
      "text/html": [
       "<div>\n",
       "<style scoped>\n",
       "    .dataframe tbody tr th:only-of-type {\n",
       "        vertical-align: middle;\n",
       "    }\n",
       "\n",
       "    .dataframe tbody tr th {\n",
       "        vertical-align: top;\n",
       "    }\n",
       "\n",
       "    .dataframe thead th {\n",
       "        text-align: right;\n",
       "    }\n",
       "</style>\n",
       "<table border=\"1\" class=\"dataframe\">\n",
       "  <thead>\n",
       "    <tr style=\"text-align: right;\">\n",
       "      <th></th>\n",
       "      <th>datetime</th>\n",
       "      <th>crossing</th>\n",
       "      <th>variable</th>\n",
       "      <th>value</th>\n",
       "    </tr>\n",
       "  </thead>\n",
       "  <tbody>\n",
       "    <tr>\n",
       "      <th>17622</th>\n",
       "      <td>2020-09-06</td>\n",
       "      <td>Brooklyn Battery</td>\n",
       "      <td>cash</td>\n",
       "      <td>5454.680943</td>\n",
       "    </tr>\n",
       "    <tr>\n",
       "      <th>17623</th>\n",
       "      <td>2020-09-06</td>\n",
       "      <td>Brooklyn Battery</td>\n",
       "      <td>ezpass</td>\n",
       "      <td>32997.709207</td>\n",
       "    </tr>\n",
       "    <tr>\n",
       "      <th>17624</th>\n",
       "      <td>2020-09-06</td>\n",
       "      <td>Cross Bay</td>\n",
       "      <td>cash</td>\n",
       "      <td>3680.692469</td>\n",
       "    </tr>\n",
       "    <tr>\n",
       "      <th>17625</th>\n",
       "      <td>2020-09-06</td>\n",
       "      <td>Cross Bay</td>\n",
       "      <td>ezpass</td>\n",
       "      <td>18523.344030</td>\n",
       "    </tr>\n",
       "    <tr>\n",
       "      <th>17626</th>\n",
       "      <td>2020-09-06</td>\n",
       "      <td>Henry Hudson</td>\n",
       "      <td>cash</td>\n",
       "      <td>7503.732863</td>\n",
       "    </tr>\n",
       "    <tr>\n",
       "      <th>...</th>\n",
       "      <td>...</td>\n",
       "      <td>...</td>\n",
       "      <td>...</td>\n",
       "      <td>...</td>\n",
       "    </tr>\n",
       "    <tr>\n",
       "      <th>18247</th>\n",
       "      <td>2020-10-10</td>\n",
       "      <td>Triboro</td>\n",
       "      <td>ezpass</td>\n",
       "      <td>122778.079041</td>\n",
       "    </tr>\n",
       "    <tr>\n",
       "      <th>18248</th>\n",
       "      <td>2020-10-10</td>\n",
       "      <td>Verrazano</td>\n",
       "      <td>cash</td>\n",
       "      <td>13803.239733</td>\n",
       "    </tr>\n",
       "    <tr>\n",
       "      <th>18249</th>\n",
       "      <td>2020-10-10</td>\n",
       "      <td>Verrazano</td>\n",
       "      <td>ezpass</td>\n",
       "      <td>89817.293033</td>\n",
       "    </tr>\n",
       "    <tr>\n",
       "      <th>18250</th>\n",
       "      <td>2020-10-10</td>\n",
       "      <td>Whitestone</td>\n",
       "      <td>cash</td>\n",
       "      <td>22878.658622</td>\n",
       "    </tr>\n",
       "    <tr>\n",
       "      <th>18251</th>\n",
       "      <td>2020-10-10</td>\n",
       "      <td>Whitestone</td>\n",
       "      <td>ezpass</td>\n",
       "      <td>107926.423722</td>\n",
       "    </tr>\n",
       "  </tbody>\n",
       "</table>\n",
       "<p>630 rows × 4 columns</p>\n",
       "</div>"
      ],
      "text/plain": [
       "        datetime          crossing variable          value\n",
       "17622 2020-09-06  Brooklyn Battery     cash    5454.680943\n",
       "17623 2020-09-06  Brooklyn Battery   ezpass   32997.709207\n",
       "17624 2020-09-06         Cross Bay     cash    3680.692469\n",
       "17625 2020-09-06         Cross Bay   ezpass   18523.344030\n",
       "17626 2020-09-06      Henry Hudson     cash    7503.732863\n",
       "...          ...               ...      ...            ...\n",
       "18247 2020-10-10           Triboro   ezpass  122778.079041\n",
       "18248 2020-10-10         Verrazano     cash   13803.239733\n",
       "18249 2020-10-10         Verrazano   ezpass   89817.293033\n",
       "18250 2020-10-10        Whitestone     cash   22878.658622\n",
       "18251 2020-10-10        Whitestone   ezpass  107926.423722\n",
       "\n",
       "[630 rows x 4 columns]"
      ]
     },
     "execution_count": 81,
     "metadata": {},
     "output_type": "execute_result"
    }
   ],
   "source": [
    "_lgbm_pred"
   ]
  },
  {
   "cell_type": "code",
   "execution_count": 82,
   "metadata": {},
   "outputs": [],
   "source": [
    "_lgbm_pivot = _lgbm_pred.pivot(index='datetime', columns=['crossing', 'variable'], values='value')"
   ]
  },
  {
   "cell_type": "code",
   "execution_count": 83,
   "metadata": {},
   "outputs": [
    {
     "data": {
      "text/plain": [
       "MultiIndex([('Brooklyn Battery',   'cash'),\n",
       "            ('Brooklyn Battery', 'ezpass'),\n",
       "            (       'Cross Bay',   'cash'),\n",
       "            (       'Cross Bay', 'ezpass'),\n",
       "            (    'Henry Hudson',   'cash'),\n",
       "            (    'Henry Hudson', 'ezpass'),\n",
       "            (  'Marine Parkway',   'cash'),\n",
       "            (  'Marine Parkway', 'ezpass'),\n",
       "            (  'Queens Midtown',   'cash'),\n",
       "            (  'Queens Midtown', 'ezpass'),\n",
       "            (     'Throgs Neck',   'cash'),\n",
       "            (     'Throgs Neck', 'ezpass'),\n",
       "            (         'Triboro',   'cash'),\n",
       "            (         'Triboro', 'ezpass'),\n",
       "            (       'Verrazano',   'cash'),\n",
       "            (       'Verrazano', 'ezpass'),\n",
       "            (      'Whitestone',   'cash'),\n",
       "            (      'Whitestone', 'ezpass')],\n",
       "           names=['crossing', 'variable'])"
      ]
     },
     "execution_count": 83,
     "metadata": {},
     "output_type": "execute_result"
    }
   ],
   "source": [
    "_lgbm_pivot.columns"
   ]
  },
  {
   "cell_type": "code",
   "execution_count": 84,
   "metadata": {},
   "outputs": [
    {
     "data": {
      "text/plain": [
       "{('Brooklyn Battery', 'cash'): 9.5,\n",
       " ('Brooklyn Battery', 'ezpass'): 6.12,\n",
       " ('Cross Bay', 'cash'): 4.75,\n",
       " ('Cross Bay', 'ezpass'): 2.29,\n",
       " ('Henry Hudson', 'cash'): 7.0,\n",
       " ('Henry Hudson', 'ezpass'): 2.8,\n",
       " ('Marine Parkway', 'cash'): 4.75,\n",
       " ('Marine Parkway', 'ezpass'): 2.29,\n",
       " ('Queens Midtown', 'cash'): 9.5,\n",
       " ('Queens Midtown', 'ezpass'): 6.12,\n",
       " ('Throgs Neck', 'cash'): 9.5,\n",
       " ('Throgs Neck', 'ezpass'): 6.12,\n",
       " ('Triboro', 'cash'): 9.5,\n",
       " ('Triboro', 'ezpass'): 6.12,\n",
       " ('Verrazano', 'cash'): 19.0,\n",
       " ('Verrazano', 'ezpass'): 12.24,\n",
       " ('Whitestone', 'cash'): 9.5,\n",
       " ('Whitestone', 'ezpass'): 6.12}"
      ]
     },
     "execution_count": 84,
     "metadata": {},
     "output_type": "execute_result"
    }
   ],
   "source": [
    "crossing_rates"
   ]
  },
  {
   "cell_type": "code",
   "execution_count": 86,
   "metadata": {},
   "outputs": [],
   "source": [
    "test_set['variable'] = np.where(test_set['variable'].eq(0), 'cash', 'ezpass')"
   ]
  },
  {
   "cell_type": "code",
   "execution_count": 88,
   "metadata": {},
   "outputs": [
    {
     "ename": "ValueError",
     "evalue": "y contains previously unseen labels: ['Brooklyn Battery' 'Cross Bay' 'Henry Hudson' 'Marine Parkway'\n 'Queens Midtown' 'Throgs Neck' 'Triboro' 'Verrazano' 'Whitestone']",
     "output_type": "error",
     "traceback": [
      "\u001b[1;31m---------------------------------------------------------------------------\u001b[0m",
      "\u001b[1;31mValueError\u001b[0m                                Traceback (most recent call last)",
      "\u001b[1;32m<ipython-input-88-93d565b8d692>\u001b[0m in \u001b[0;36m<module>\u001b[1;34m\u001b[0m\n\u001b[1;32m----> 1\u001b[1;33m \u001b[0mtest_set\u001b[0m\u001b[1;33m[\u001b[0m\u001b[1;34m'crossing'\u001b[0m\u001b[1;33m]\u001b[0m \u001b[1;33m=\u001b[0m \u001b[0mle\u001b[0m\u001b[1;33m.\u001b[0m\u001b[0minverse_transform\u001b[0m\u001b[1;33m(\u001b[0m\u001b[0mtest_set\u001b[0m\u001b[1;33m[\u001b[0m\u001b[1;34m'crossing'\u001b[0m\u001b[1;33m]\u001b[0m\u001b[1;33m)\u001b[0m\u001b[1;33m\u001b[0m\u001b[1;33m\u001b[0m\u001b[0m\n\u001b[0m",
      "\u001b[1;32m~\\Anaconda3\\lib\\site-packages\\sklearn\\preprocessing\\_label.py\u001b[0m in \u001b[0;36minverse_transform\u001b[1;34m(self, y)\u001b[0m\n\u001b[0;32m    295\u001b[0m         \u001b[1;32mif\u001b[0m \u001b[0mlen\u001b[0m\u001b[1;33m(\u001b[0m\u001b[0mdiff\u001b[0m\u001b[1;33m)\u001b[0m\u001b[1;33m:\u001b[0m\u001b[1;33m\u001b[0m\u001b[1;33m\u001b[0m\u001b[0m\n\u001b[0;32m    296\u001b[0m             raise ValueError(\n\u001b[1;32m--> 297\u001b[1;33m                     \"y contains previously unseen labels: %s\" % str(diff))\n\u001b[0m\u001b[0;32m    298\u001b[0m         \u001b[0my\u001b[0m \u001b[1;33m=\u001b[0m \u001b[0mnp\u001b[0m\u001b[1;33m.\u001b[0m\u001b[0masarray\u001b[0m\u001b[1;33m(\u001b[0m\u001b[0my\u001b[0m\u001b[1;33m)\u001b[0m\u001b[1;33m\u001b[0m\u001b[1;33m\u001b[0m\u001b[0m\n\u001b[0;32m    299\u001b[0m         \u001b[1;32mreturn\u001b[0m \u001b[0mself\u001b[0m\u001b[1;33m.\u001b[0m\u001b[0mclasses_\u001b[0m\u001b[1;33m[\u001b[0m\u001b[0my\u001b[0m\u001b[1;33m]\u001b[0m\u001b[1;33m\u001b[0m\u001b[1;33m\u001b[0m\u001b[0m\n",
      "\u001b[1;31mValueError\u001b[0m: y contains previously unseen labels: ['Brooklyn Battery' 'Cross Bay' 'Henry Hudson' 'Marine Parkway'\n 'Queens Midtown' 'Throgs Neck' 'Triboro' 'Verrazano' 'Whitestone']"
     ]
    }
   ],
   "source": [
    "test_set['crossing'] = le.inverse_transform(test_set['crossing'])"
   ]
  },
  {
   "cell_type": "code",
   "execution_count": 89,
   "metadata": {},
   "outputs": [
    {
     "ename": "ValueError",
     "evalue": "Index contains duplicate entries, cannot reshape",
     "output_type": "error",
     "traceback": [
      "\u001b[1;31m---------------------------------------------------------------------------\u001b[0m",
      "\u001b[1;31mValueError\u001b[0m                                Traceback (most recent call last)",
      "\u001b[1;32m<ipython-input-89-e20133625228>\u001b[0m in \u001b[0;36m<module>\u001b[1;34m\u001b[0m\n\u001b[1;32m----> 1\u001b[1;33m \u001b[0m_test_pivot\u001b[0m \u001b[1;33m=\u001b[0m \u001b[0mtest_set\u001b[0m\u001b[1;33m.\u001b[0m\u001b[0mpivot\u001b[0m\u001b[1;33m(\u001b[0m\u001b[0mindex\u001b[0m\u001b[1;33m=\u001b[0m\u001b[1;34m'datetime'\u001b[0m\u001b[1;33m,\u001b[0m \u001b[0mcolumns\u001b[0m \u001b[1;33m=\u001b[0m \u001b[1;33m[\u001b[0m\u001b[1;34m'crossing'\u001b[0m\u001b[1;33m,\u001b[0m \u001b[1;34m'variable'\u001b[0m\u001b[1;33m]\u001b[0m\u001b[1;33m,\u001b[0m \u001b[0mvalues\u001b[0m\u001b[1;33m=\u001b[0m\u001b[1;34m'value'\u001b[0m\u001b[1;33m)\u001b[0m\u001b[1;33m\u001b[0m\u001b[1;33m\u001b[0m\u001b[0m\n\u001b[0m",
      "\u001b[1;32m~\\Anaconda3\\lib\\site-packages\\pandas\\core\\frame.py\u001b[0m in \u001b[0;36mpivot\u001b[1;34m(self, index, columns, values)\u001b[0m\n\u001b[0;32m   6669\u001b[0m         \u001b[1;32mfrom\u001b[0m \u001b[0mpandas\u001b[0m\u001b[1;33m.\u001b[0m\u001b[0mcore\u001b[0m\u001b[1;33m.\u001b[0m\u001b[0mreshape\u001b[0m\u001b[1;33m.\u001b[0m\u001b[0mpivot\u001b[0m \u001b[1;32mimport\u001b[0m \u001b[0mpivot\u001b[0m\u001b[1;33m\u001b[0m\u001b[1;33m\u001b[0m\u001b[0m\n\u001b[0;32m   6670\u001b[0m \u001b[1;33m\u001b[0m\u001b[0m\n\u001b[1;32m-> 6671\u001b[1;33m         \u001b[1;32mreturn\u001b[0m \u001b[0mpivot\u001b[0m\u001b[1;33m(\u001b[0m\u001b[0mself\u001b[0m\u001b[1;33m,\u001b[0m \u001b[0mindex\u001b[0m\u001b[1;33m=\u001b[0m\u001b[0mindex\u001b[0m\u001b[1;33m,\u001b[0m \u001b[0mcolumns\u001b[0m\u001b[1;33m=\u001b[0m\u001b[0mcolumns\u001b[0m\u001b[1;33m,\u001b[0m \u001b[0mvalues\u001b[0m\u001b[1;33m=\u001b[0m\u001b[0mvalues\u001b[0m\u001b[1;33m)\u001b[0m\u001b[1;33m\u001b[0m\u001b[1;33m\u001b[0m\u001b[0m\n\u001b[0m\u001b[0;32m   6672\u001b[0m \u001b[1;33m\u001b[0m\u001b[0m\n\u001b[0;32m   6673\u001b[0m     _shared_docs[\n",
      "\u001b[1;32m~\\Anaconda3\\lib\\site-packages\\pandas\\core\\reshape\\pivot.py\u001b[0m in \u001b[0;36mpivot\u001b[1;34m(data, index, columns, values)\u001b[0m\n\u001b[0;32m    475\u001b[0m         \u001b[1;32melse\u001b[0m\u001b[1;33m:\u001b[0m\u001b[1;33m\u001b[0m\u001b[1;33m\u001b[0m\u001b[0m\n\u001b[0;32m    476\u001b[0m             \u001b[0mindexed\u001b[0m \u001b[1;33m=\u001b[0m \u001b[0mdata\u001b[0m\u001b[1;33m.\u001b[0m\u001b[0m_constructor_sliced\u001b[0m\u001b[1;33m(\u001b[0m\u001b[0mdata\u001b[0m\u001b[1;33m[\u001b[0m\u001b[0mvalues\u001b[0m\u001b[1;33m]\u001b[0m\u001b[1;33m.\u001b[0m\u001b[0m_values\u001b[0m\u001b[1;33m,\u001b[0m \u001b[0mindex\u001b[0m\u001b[1;33m=\u001b[0m\u001b[0mindex\u001b[0m\u001b[1;33m)\u001b[0m\u001b[1;33m\u001b[0m\u001b[1;33m\u001b[0m\u001b[0m\n\u001b[1;32m--> 477\u001b[1;33m     \u001b[1;32mreturn\u001b[0m \u001b[0mindexed\u001b[0m\u001b[1;33m.\u001b[0m\u001b[0munstack\u001b[0m\u001b[1;33m(\u001b[0m\u001b[0mcolumns\u001b[0m\u001b[1;33m)\u001b[0m\u001b[1;33m\u001b[0m\u001b[1;33m\u001b[0m\u001b[0m\n\u001b[0m\u001b[0;32m    478\u001b[0m \u001b[1;33m\u001b[0m\u001b[0m\n\u001b[0;32m    479\u001b[0m \u001b[1;33m\u001b[0m\u001b[0m\n",
      "\u001b[1;32m~\\Anaconda3\\lib\\site-packages\\pandas\\core\\series.py\u001b[0m in \u001b[0;36munstack\u001b[1;34m(self, level, fill_value)\u001b[0m\n\u001b[0;32m   3888\u001b[0m         \u001b[1;32mfrom\u001b[0m \u001b[0mpandas\u001b[0m\u001b[1;33m.\u001b[0m\u001b[0mcore\u001b[0m\u001b[1;33m.\u001b[0m\u001b[0mreshape\u001b[0m\u001b[1;33m.\u001b[0m\u001b[0mreshape\u001b[0m \u001b[1;32mimport\u001b[0m \u001b[0munstack\u001b[0m\u001b[1;33m\u001b[0m\u001b[1;33m\u001b[0m\u001b[0m\n\u001b[0;32m   3889\u001b[0m \u001b[1;33m\u001b[0m\u001b[0m\n\u001b[1;32m-> 3890\u001b[1;33m         \u001b[1;32mreturn\u001b[0m \u001b[0munstack\u001b[0m\u001b[1;33m(\u001b[0m\u001b[0mself\u001b[0m\u001b[1;33m,\u001b[0m \u001b[0mlevel\u001b[0m\u001b[1;33m,\u001b[0m \u001b[0mfill_value\u001b[0m\u001b[1;33m)\u001b[0m\u001b[1;33m\u001b[0m\u001b[1;33m\u001b[0m\u001b[0m\n\u001b[0m\u001b[0;32m   3891\u001b[0m \u001b[1;33m\u001b[0m\u001b[0m\n\u001b[0;32m   3892\u001b[0m     \u001b[1;31m# ----------------------------------------------------------------------\u001b[0m\u001b[1;33m\u001b[0m\u001b[1;33m\u001b[0m\u001b[1;33m\u001b[0m\u001b[0m\n",
      "\u001b[1;32m~\\Anaconda3\\lib\\site-packages\\pandas\\core\\reshape\\reshape.py\u001b[0m in \u001b[0;36munstack\u001b[1;34m(obj, level, fill_value)\u001b[0m\n\u001b[0;32m    406\u001b[0m             \u001b[1;31m# _unstack_multiple only handles MultiIndexes,\u001b[0m\u001b[1;33m\u001b[0m\u001b[1;33m\u001b[0m\u001b[1;33m\u001b[0m\u001b[0m\n\u001b[0;32m    407\u001b[0m             \u001b[1;31m# and isn't needed for a single level\u001b[0m\u001b[1;33m\u001b[0m\u001b[1;33m\u001b[0m\u001b[1;33m\u001b[0m\u001b[0m\n\u001b[1;32m--> 408\u001b[1;33m             \u001b[1;32mreturn\u001b[0m \u001b[0m_unstack_multiple\u001b[0m\u001b[1;33m(\u001b[0m\u001b[0mobj\u001b[0m\u001b[1;33m,\u001b[0m \u001b[0mlevel\u001b[0m\u001b[1;33m,\u001b[0m \u001b[0mfill_value\u001b[0m\u001b[1;33m=\u001b[0m\u001b[0mfill_value\u001b[0m\u001b[1;33m)\u001b[0m\u001b[1;33m\u001b[0m\u001b[1;33m\u001b[0m\u001b[0m\n\u001b[0m\u001b[0;32m    409\u001b[0m         \u001b[1;32melse\u001b[0m\u001b[1;33m:\u001b[0m\u001b[1;33m\u001b[0m\u001b[1;33m\u001b[0m\u001b[0m\n\u001b[0;32m    410\u001b[0m             \u001b[0mlevel\u001b[0m \u001b[1;33m=\u001b[0m \u001b[0mlevel\u001b[0m\u001b[1;33m[\u001b[0m\u001b[1;36m0\u001b[0m\u001b[1;33m]\u001b[0m\u001b[1;33m\u001b[0m\u001b[1;33m\u001b[0m\u001b[0m\n",
      "\u001b[1;32m~\\Anaconda3\\lib\\site-packages\\pandas\\core\\reshape\\reshape.py\u001b[0m in \u001b[0;36m_unstack_multiple\u001b[1;34m(data, clocs, fill_value)\u001b[0m\n\u001b[0;32m    359\u001b[0m         \u001b[0mdummy\u001b[0m\u001b[1;33m.\u001b[0m\u001b[0mindex\u001b[0m \u001b[1;33m=\u001b[0m \u001b[0mdummy_index\u001b[0m\u001b[1;33m\u001b[0m\u001b[1;33m\u001b[0m\u001b[0m\n\u001b[0;32m    360\u001b[0m \u001b[1;33m\u001b[0m\u001b[0m\n\u001b[1;32m--> 361\u001b[1;33m         \u001b[0munstacked\u001b[0m \u001b[1;33m=\u001b[0m \u001b[0mdummy\u001b[0m\u001b[1;33m.\u001b[0m\u001b[0munstack\u001b[0m\u001b[1;33m(\u001b[0m\u001b[1;34m\"__placeholder__\"\u001b[0m\u001b[1;33m,\u001b[0m \u001b[0mfill_value\u001b[0m\u001b[1;33m=\u001b[0m\u001b[0mfill_value\u001b[0m\u001b[1;33m)\u001b[0m\u001b[1;33m\u001b[0m\u001b[1;33m\u001b[0m\u001b[0m\n\u001b[0m\u001b[0;32m    362\u001b[0m         \u001b[0mnew_levels\u001b[0m \u001b[1;33m=\u001b[0m \u001b[0mclevels\u001b[0m\u001b[1;33m\u001b[0m\u001b[1;33m\u001b[0m\u001b[0m\n\u001b[0;32m    363\u001b[0m         \u001b[0mnew_names\u001b[0m \u001b[1;33m=\u001b[0m \u001b[0mcnames\u001b[0m\u001b[1;33m\u001b[0m\u001b[1;33m\u001b[0m\u001b[0m\n",
      "\u001b[1;32m~\\Anaconda3\\lib\\site-packages\\pandas\\core\\series.py\u001b[0m in \u001b[0;36munstack\u001b[1;34m(self, level, fill_value)\u001b[0m\n\u001b[0;32m   3888\u001b[0m         \u001b[1;32mfrom\u001b[0m \u001b[0mpandas\u001b[0m\u001b[1;33m.\u001b[0m\u001b[0mcore\u001b[0m\u001b[1;33m.\u001b[0m\u001b[0mreshape\u001b[0m\u001b[1;33m.\u001b[0m\u001b[0mreshape\u001b[0m \u001b[1;32mimport\u001b[0m \u001b[0munstack\u001b[0m\u001b[1;33m\u001b[0m\u001b[1;33m\u001b[0m\u001b[0m\n\u001b[0;32m   3889\u001b[0m \u001b[1;33m\u001b[0m\u001b[0m\n\u001b[1;32m-> 3890\u001b[1;33m         \u001b[1;32mreturn\u001b[0m \u001b[0munstack\u001b[0m\u001b[1;33m(\u001b[0m\u001b[0mself\u001b[0m\u001b[1;33m,\u001b[0m \u001b[0mlevel\u001b[0m\u001b[1;33m,\u001b[0m \u001b[0mfill_value\u001b[0m\u001b[1;33m)\u001b[0m\u001b[1;33m\u001b[0m\u001b[1;33m\u001b[0m\u001b[0m\n\u001b[0m\u001b[0;32m   3891\u001b[0m \u001b[1;33m\u001b[0m\u001b[0m\n\u001b[0;32m   3892\u001b[0m     \u001b[1;31m# ----------------------------------------------------------------------\u001b[0m\u001b[1;33m\u001b[0m\u001b[1;33m\u001b[0m\u001b[1;33m\u001b[0m\u001b[0m\n",
      "\u001b[1;32m~\\Anaconda3\\lib\\site-packages\\pandas\\core\\reshape\\reshape.py\u001b[0m in \u001b[0;36munstack\u001b[1;34m(obj, level, fill_value)\u001b[0m\n\u001b[0;32m    423\u001b[0m             \u001b[1;32mreturn\u001b[0m \u001b[0m_unstack_extension_series\u001b[0m\u001b[1;33m(\u001b[0m\u001b[0mobj\u001b[0m\u001b[1;33m,\u001b[0m \u001b[0mlevel\u001b[0m\u001b[1;33m,\u001b[0m \u001b[0mfill_value\u001b[0m\u001b[1;33m)\u001b[0m\u001b[1;33m\u001b[0m\u001b[1;33m\u001b[0m\u001b[0m\n\u001b[0;32m    424\u001b[0m         unstacker = _Unstacker(\n\u001b[1;32m--> 425\u001b[1;33m             \u001b[0mobj\u001b[0m\u001b[1;33m.\u001b[0m\u001b[0mindex\u001b[0m\u001b[1;33m,\u001b[0m \u001b[0mlevel\u001b[0m\u001b[1;33m=\u001b[0m\u001b[0mlevel\u001b[0m\u001b[1;33m,\u001b[0m \u001b[0mconstructor\u001b[0m\u001b[1;33m=\u001b[0m\u001b[0mobj\u001b[0m\u001b[1;33m.\u001b[0m\u001b[0m_constructor_expanddim\u001b[0m\u001b[1;33m,\u001b[0m\u001b[1;33m\u001b[0m\u001b[1;33m\u001b[0m\u001b[0m\n\u001b[0m\u001b[0;32m    426\u001b[0m         )\n\u001b[0;32m    427\u001b[0m         return unstacker.get_result(\n",
      "\u001b[1;32m~\\Anaconda3\\lib\\site-packages\\pandas\\core\\reshape\\reshape.py\u001b[0m in \u001b[0;36m__init__\u001b[1;34m(self, index, level, constructor)\u001b[0m\n\u001b[0;32m    118\u001b[0m             \u001b[1;32mraise\u001b[0m \u001b[0mValueError\u001b[0m\u001b[1;33m(\u001b[0m\u001b[1;34m\"Unstacked DataFrame is too big, causing int32 overflow\"\u001b[0m\u001b[1;33m)\u001b[0m\u001b[1;33m\u001b[0m\u001b[1;33m\u001b[0m\u001b[0m\n\u001b[0;32m    119\u001b[0m \u001b[1;33m\u001b[0m\u001b[0m\n\u001b[1;32m--> 120\u001b[1;33m         \u001b[0mself\u001b[0m\u001b[1;33m.\u001b[0m\u001b[0m_make_selectors\u001b[0m\u001b[1;33m(\u001b[0m\u001b[1;33m)\u001b[0m\u001b[1;33m\u001b[0m\u001b[1;33m\u001b[0m\u001b[0m\n\u001b[0m\u001b[0;32m    121\u001b[0m \u001b[1;33m\u001b[0m\u001b[0m\n\u001b[0;32m    122\u001b[0m     \u001b[1;33m@\u001b[0m\u001b[0mcache_readonly\u001b[0m\u001b[1;33m\u001b[0m\u001b[1;33m\u001b[0m\u001b[0m\n",
      "\u001b[1;32m~\\Anaconda3\\lib\\site-packages\\pandas\\core\\reshape\\reshape.py\u001b[0m in \u001b[0;36m_make_selectors\u001b[1;34m(self)\u001b[0m\n\u001b[0;32m    167\u001b[0m \u001b[1;33m\u001b[0m\u001b[0m\n\u001b[0;32m    168\u001b[0m         \u001b[1;32mif\u001b[0m \u001b[0mmask\u001b[0m\u001b[1;33m.\u001b[0m\u001b[0msum\u001b[0m\u001b[1;33m(\u001b[0m\u001b[1;33m)\u001b[0m \u001b[1;33m<\u001b[0m \u001b[0mlen\u001b[0m\u001b[1;33m(\u001b[0m\u001b[0mself\u001b[0m\u001b[1;33m.\u001b[0m\u001b[0mindex\u001b[0m\u001b[1;33m)\u001b[0m\u001b[1;33m:\u001b[0m\u001b[1;33m\u001b[0m\u001b[1;33m\u001b[0m\u001b[0m\n\u001b[1;32m--> 169\u001b[1;33m             \u001b[1;32mraise\u001b[0m \u001b[0mValueError\u001b[0m\u001b[1;33m(\u001b[0m\u001b[1;34m\"Index contains duplicate entries, cannot reshape\"\u001b[0m\u001b[1;33m)\u001b[0m\u001b[1;33m\u001b[0m\u001b[1;33m\u001b[0m\u001b[0m\n\u001b[0m\u001b[0;32m    170\u001b[0m \u001b[1;33m\u001b[0m\u001b[0m\n\u001b[0;32m    171\u001b[0m         \u001b[0mself\u001b[0m\u001b[1;33m.\u001b[0m\u001b[0mgroup_index\u001b[0m \u001b[1;33m=\u001b[0m \u001b[0mcomp_index\u001b[0m\u001b[1;33m\u001b[0m\u001b[1;33m\u001b[0m\u001b[0m\n",
      "\u001b[1;31mValueError\u001b[0m: Index contains duplicate entries, cannot reshape"
     ]
    }
   ],
   "source": [
    "_test_pivot = test_set.pivot(index='datetime', columns = ['crossing', 'variable'], values='value')"
   ]
  },
  {
   "cell_type": "code",
   "execution_count": 90,
   "metadata": {},
   "outputs": [
    {
     "data": {
      "text/html": [
       "<div>\n",
       "<style scoped>\n",
       "    .dataframe tbody tr th:only-of-type {\n",
       "        vertical-align: middle;\n",
       "    }\n",
       "\n",
       "    .dataframe tbody tr th {\n",
       "        vertical-align: top;\n",
       "    }\n",
       "\n",
       "    .dataframe thead tr th {\n",
       "        text-align: left;\n",
       "    }\n",
       "\n",
       "    .dataframe thead tr:last-of-type th {\n",
       "        text-align: right;\n",
       "    }\n",
       "</style>\n",
       "<table border=\"1\" class=\"dataframe\">\n",
       "  <thead>\n",
       "    <tr>\n",
       "      <th>crossing</th>\n",
       "      <th colspan=\"2\" halign=\"left\">Brooklyn Battery</th>\n",
       "      <th colspan=\"2\" halign=\"left\">Cross Bay</th>\n",
       "      <th colspan=\"2\" halign=\"left\">Henry Hudson</th>\n",
       "      <th colspan=\"2\" halign=\"left\">Marine Parkway</th>\n",
       "      <th colspan=\"2\" halign=\"left\">Queens Midtown</th>\n",
       "      <th colspan=\"2\" halign=\"left\">Throgs Neck</th>\n",
       "      <th colspan=\"2\" halign=\"left\">Triboro</th>\n",
       "      <th colspan=\"2\" halign=\"left\">Verrazano</th>\n",
       "      <th colspan=\"2\" halign=\"left\">Whitestone</th>\n",
       "    </tr>\n",
       "    <tr>\n",
       "      <th>variable</th>\n",
       "      <th>cash</th>\n",
       "      <th>ezpass</th>\n",
       "      <th>cash</th>\n",
       "      <th>ezpass</th>\n",
       "      <th>cash</th>\n",
       "      <th>ezpass</th>\n",
       "      <th>cash</th>\n",
       "      <th>ezpass</th>\n",
       "      <th>cash</th>\n",
       "      <th>ezpass</th>\n",
       "      <th>cash</th>\n",
       "      <th>ezpass</th>\n",
       "      <th>cash</th>\n",
       "      <th>ezpass</th>\n",
       "      <th>cash</th>\n",
       "      <th>ezpass</th>\n",
       "      <th>cash</th>\n",
       "      <th>ezpass</th>\n",
       "    </tr>\n",
       "    <tr>\n",
       "      <th>datetime</th>\n",
       "      <th></th>\n",
       "      <th></th>\n",
       "      <th></th>\n",
       "      <th></th>\n",
       "      <th></th>\n",
       "      <th></th>\n",
       "      <th></th>\n",
       "      <th></th>\n",
       "      <th></th>\n",
       "      <th></th>\n",
       "      <th></th>\n",
       "      <th></th>\n",
       "      <th></th>\n",
       "      <th></th>\n",
       "      <th></th>\n",
       "      <th></th>\n",
       "      <th></th>\n",
       "      <th></th>\n",
       "    </tr>\n",
       "  </thead>\n",
       "  <tbody>\n",
       "    <tr>\n",
       "      <th>2020-09-06</th>\n",
       "      <td>6117</td>\n",
       "      <td>30212</td>\n",
       "      <td>5033</td>\n",
       "      <td>21712</td>\n",
       "      <td>7646</td>\n",
       "      <td>39753</td>\n",
       "      <td>5524</td>\n",
       "      <td>26312</td>\n",
       "      <td>9804</td>\n",
       "      <td>34976</td>\n",
       "      <td>21163</td>\n",
       "      <td>95740</td>\n",
       "      <td>28024</td>\n",
       "      <td>109782</td>\n",
       "      <td>13903</td>\n",
       "      <td>76673</td>\n",
       "      <td>24696</td>\n",
       "      <td>97417</td>\n",
       "    </tr>\n",
       "    <tr>\n",
       "      <th>2020-09-07</th>\n",
       "      <td>5096</td>\n",
       "      <td>26185</td>\n",
       "      <td>4479</td>\n",
       "      <td>19265</td>\n",
       "      <td>7338</td>\n",
       "      <td>39943</td>\n",
       "      <td>4510</td>\n",
       "      <td>23131</td>\n",
       "      <td>9018</td>\n",
       "      <td>35091</td>\n",
       "      <td>19276</td>\n",
       "      <td>88550</td>\n",
       "      <td>25998</td>\n",
       "      <td>106573</td>\n",
       "      <td>12519</td>\n",
       "      <td>68131</td>\n",
       "      <td>22920</td>\n",
       "      <td>92090</td>\n",
       "    </tr>\n",
       "    <tr>\n",
       "      <th>2020-09-08</th>\n",
       "      <td>7067</td>\n",
       "      <td>48038</td>\n",
       "      <td>3723</td>\n",
       "      <td>20921</td>\n",
       "      <td>8249</td>\n",
       "      <td>52342</td>\n",
       "      <td>3450</td>\n",
       "      <td>22074</td>\n",
       "      <td>11666</td>\n",
       "      <td>54996</td>\n",
       "      <td>16068</td>\n",
       "      <td>90434</td>\n",
       "      <td>27854</td>\n",
       "      <td>136734</td>\n",
       "      <td>12177</td>\n",
       "      <td>87969</td>\n",
       "      <td>20969</td>\n",
       "      <td>100301</td>\n",
       "    </tr>\n",
       "    <tr>\n",
       "      <th>2020-09-09</th>\n",
       "      <td>7299</td>\n",
       "      <td>49254</td>\n",
       "      <td>3197</td>\n",
       "      <td>19495</td>\n",
       "      <td>7970</td>\n",
       "      <td>54056</td>\n",
       "      <td>2877</td>\n",
       "      <td>19944</td>\n",
       "      <td>11353</td>\n",
       "      <td>55885</td>\n",
       "      <td>15121</td>\n",
       "      <td>89586</td>\n",
       "      <td>27343</td>\n",
       "      <td>136267</td>\n",
       "      <td>11855</td>\n",
       "      <td>87395</td>\n",
       "      <td>20529</td>\n",
       "      <td>97984</td>\n",
       "    </tr>\n",
       "    <tr>\n",
       "      <th>2020-09-10</th>\n",
       "      <td>7001</td>\n",
       "      <td>48671</td>\n",
       "      <td>2972</td>\n",
       "      <td>17770</td>\n",
       "      <td>7947</td>\n",
       "      <td>52680</td>\n",
       "      <td>2565</td>\n",
       "      <td>17930</td>\n",
       "      <td>11189</td>\n",
       "      <td>54720</td>\n",
       "      <td>14689</td>\n",
       "      <td>85469</td>\n",
       "      <td>26040</td>\n",
       "      <td>133479</td>\n",
       "      <td>11681</td>\n",
       "      <td>85893</td>\n",
       "      <td>19659</td>\n",
       "      <td>94887</td>\n",
       "    </tr>\n",
       "    <tr>\n",
       "      <th>2020-09-11</th>\n",
       "      <td>8412</td>\n",
       "      <td>48466</td>\n",
       "      <td>3594</td>\n",
       "      <td>20899</td>\n",
       "      <td>9942</td>\n",
       "      <td>60717</td>\n",
       "      <td>3217</td>\n",
       "      <td>21266</td>\n",
       "      <td>13150</td>\n",
       "      <td>60236</td>\n",
       "      <td>17254</td>\n",
       "      <td>93955</td>\n",
       "      <td>31671</td>\n",
       "      <td>147087</td>\n",
       "      <td>14120</td>\n",
       "      <td>93094</td>\n",
       "      <td>23401</td>\n",
       "      <td>108569</td>\n",
       "    </tr>\n",
       "    <tr>\n",
       "      <th>2020-09-12</th>\n",
       "      <td>6373</td>\n",
       "      <td>33000</td>\n",
       "      <td>3547</td>\n",
       "      <td>18167</td>\n",
       "      <td>9498</td>\n",
       "      <td>49125</td>\n",
       "      <td>3249</td>\n",
       "      <td>18416</td>\n",
       "      <td>11830</td>\n",
       "      <td>46223</td>\n",
       "      <td>19070</td>\n",
       "      <td>91079</td>\n",
       "      <td>30679</td>\n",
       "      <td>124812</td>\n",
       "      <td>13990</td>\n",
       "      <td>84897</td>\n",
       "      <td>25205</td>\n",
       "      <td>102833</td>\n",
       "    </tr>\n",
       "    <tr>\n",
       "      <th>2020-09-13</th>\n",
       "      <td>5622</td>\n",
       "      <td>29947</td>\n",
       "      <td>2974</td>\n",
       "      <td>15320</td>\n",
       "      <td>6984</td>\n",
       "      <td>40328</td>\n",
       "      <td>2883</td>\n",
       "      <td>15867</td>\n",
       "      <td>9668</td>\n",
       "      <td>38228</td>\n",
       "      <td>17919</td>\n",
       "      <td>85451</td>\n",
       "      <td>26980</td>\n",
       "      <td>109945</td>\n",
       "      <td>12739</td>\n",
       "      <td>73131</td>\n",
       "      <td>23259</td>\n",
       "      <td>93122</td>\n",
       "    </tr>\n",
       "    <tr>\n",
       "      <th>2020-09-14</th>\n",
       "      <td>7039</td>\n",
       "      <td>47134</td>\n",
       "      <td>3448</td>\n",
       "      <td>19321</td>\n",
       "      <td>7758</td>\n",
       "      <td>50456</td>\n",
       "      <td>3048</td>\n",
       "      <td>19650</td>\n",
       "      <td>11071</td>\n",
       "      <td>52747</td>\n",
       "      <td>14968</td>\n",
       "      <td>85243</td>\n",
       "      <td>27092</td>\n",
       "      <td>130731</td>\n",
       "      <td>11595</td>\n",
       "      <td>83848</td>\n",
       "      <td>21219</td>\n",
       "      <td>99363</td>\n",
       "    </tr>\n",
       "    <tr>\n",
       "      <th>2020-09-15</th>\n",
       "      <td>7059</td>\n",
       "      <td>48456</td>\n",
       "      <td>3312</td>\n",
       "      <td>19223</td>\n",
       "      <td>8001</td>\n",
       "      <td>54097</td>\n",
       "      <td>2978</td>\n",
       "      <td>19763</td>\n",
       "      <td>11623</td>\n",
       "      <td>56283</td>\n",
       "      <td>14776</td>\n",
       "      <td>86100</td>\n",
       "      <td>26343</td>\n",
       "      <td>131573</td>\n",
       "      <td>11214</td>\n",
       "      <td>86504</td>\n",
       "      <td>20487</td>\n",
       "      <td>101568</td>\n",
       "    </tr>\n",
       "    <tr>\n",
       "      <th>2020-09-16</th>\n",
       "      <td>7144</td>\n",
       "      <td>47924</td>\n",
       "      <td>3201</td>\n",
       "      <td>19159</td>\n",
       "      <td>7893</td>\n",
       "      <td>53611</td>\n",
       "      <td>2699</td>\n",
       "      <td>19577</td>\n",
       "      <td>11182</td>\n",
       "      <td>55362</td>\n",
       "      <td>14509</td>\n",
       "      <td>86537</td>\n",
       "      <td>27195</td>\n",
       "      <td>134672</td>\n",
       "      <td>11489</td>\n",
       "      <td>87086</td>\n",
       "      <td>20283</td>\n",
       "      <td>99934</td>\n",
       "    </tr>\n",
       "    <tr>\n",
       "      <th>2020-09-17</th>\n",
       "      <td>7414</td>\n",
       "      <td>50449</td>\n",
       "      <td>3367</td>\n",
       "      <td>19263</td>\n",
       "      <td>8446</td>\n",
       "      <td>56802</td>\n",
       "      <td>2637</td>\n",
       "      <td>20264</td>\n",
       "      <td>12130</td>\n",
       "      <td>59576</td>\n",
       "      <td>15200</td>\n",
       "      <td>90044</td>\n",
       "      <td>28020</td>\n",
       "      <td>137275</td>\n",
       "      <td>11919</td>\n",
       "      <td>89345</td>\n",
       "      <td>21364</td>\n",
       "      <td>104309</td>\n",
       "    </tr>\n",
       "    <tr>\n",
       "      <th>2020-09-18</th>\n",
       "      <td>7892</td>\n",
       "      <td>48118</td>\n",
       "      <td>3389</td>\n",
       "      <td>19678</td>\n",
       "      <td>10121</td>\n",
       "      <td>60502</td>\n",
       "      <td>2720</td>\n",
       "      <td>19869</td>\n",
       "      <td>13023</td>\n",
       "      <td>61189</td>\n",
       "      <td>17249</td>\n",
       "      <td>94028</td>\n",
       "      <td>31130</td>\n",
       "      <td>146012</td>\n",
       "      <td>13086</td>\n",
       "      <td>93416</td>\n",
       "      <td>24564</td>\n",
       "      <td>113048</td>\n",
       "    </tr>\n",
       "    <tr>\n",
       "      <th>2020-09-19</th>\n",
       "      <td>6688</td>\n",
       "      <td>33910</td>\n",
       "      <td>3244</td>\n",
       "      <td>17017</td>\n",
       "      <td>9485</td>\n",
       "      <td>48963</td>\n",
       "      <td>2600</td>\n",
       "      <td>16105</td>\n",
       "      <td>11141</td>\n",
       "      <td>44037</td>\n",
       "      <td>19340</td>\n",
       "      <td>90636</td>\n",
       "      <td>31815</td>\n",
       "      <td>131068</td>\n",
       "      <td>14110</td>\n",
       "      <td>83756</td>\n",
       "      <td>26151</td>\n",
       "      <td>106046</td>\n",
       "    </tr>\n",
       "    <tr>\n",
       "      <th>2020-09-20</th>\n",
       "      <td>5145</td>\n",
       "      <td>26614</td>\n",
       "      <td>2776</td>\n",
       "      <td>14633</td>\n",
       "      <td>7892</td>\n",
       "      <td>42830</td>\n",
       "      <td>2088</td>\n",
       "      <td>13542</td>\n",
       "      <td>10070</td>\n",
       "      <td>39717</td>\n",
       "      <td>18627</td>\n",
       "      <td>86799</td>\n",
       "      <td>26779</td>\n",
       "      <td>112151</td>\n",
       "      <td>12592</td>\n",
       "      <td>71460</td>\n",
       "      <td>24057</td>\n",
       "      <td>96373</td>\n",
       "    </tr>\n",
       "    <tr>\n",
       "      <th>2020-09-21</th>\n",
       "      <td>6883</td>\n",
       "      <td>45178</td>\n",
       "      <td>2966</td>\n",
       "      <td>18109</td>\n",
       "      <td>8070</td>\n",
       "      <td>50502</td>\n",
       "      <td>2392</td>\n",
       "      <td>17927</td>\n",
       "      <td>10928</td>\n",
       "      <td>52749</td>\n",
       "      <td>14598</td>\n",
       "      <td>83023</td>\n",
       "      <td>26204</td>\n",
       "      <td>128930</td>\n",
       "      <td>11564</td>\n",
       "      <td>83725</td>\n",
       "      <td>20717</td>\n",
       "      <td>99627</td>\n",
       "    </tr>\n",
       "    <tr>\n",
       "      <th>2020-09-22</th>\n",
       "      <td>7137</td>\n",
       "      <td>48129</td>\n",
       "      <td>3328</td>\n",
       "      <td>19380</td>\n",
       "      <td>8084</td>\n",
       "      <td>52792</td>\n",
       "      <td>2693</td>\n",
       "      <td>19725</td>\n",
       "      <td>11381</td>\n",
       "      <td>55601</td>\n",
       "      <td>14533</td>\n",
       "      <td>85082</td>\n",
       "      <td>25613</td>\n",
       "      <td>131328</td>\n",
       "      <td>11289</td>\n",
       "      <td>86204</td>\n",
       "      <td>20541</td>\n",
       "      <td>99400</td>\n",
       "    </tr>\n",
       "    <tr>\n",
       "      <th>2020-09-23</th>\n",
       "      <td>7354</td>\n",
       "      <td>50102</td>\n",
       "      <td>3612</td>\n",
       "      <td>20659</td>\n",
       "      <td>8520</td>\n",
       "      <td>56115</td>\n",
       "      <td>3065</td>\n",
       "      <td>21213</td>\n",
       "      <td>11628</td>\n",
       "      <td>57160</td>\n",
       "      <td>14859</td>\n",
       "      <td>87105</td>\n",
       "      <td>26724</td>\n",
       "      <td>135002</td>\n",
       "      <td>11380</td>\n",
       "      <td>88383</td>\n",
       "      <td>20908</td>\n",
       "      <td>102127</td>\n",
       "    </tr>\n",
       "    <tr>\n",
       "      <th>2020-09-24</th>\n",
       "      <td>7553</td>\n",
       "      <td>49494</td>\n",
       "      <td>3173</td>\n",
       "      <td>19502</td>\n",
       "      <td>9238</td>\n",
       "      <td>58189</td>\n",
       "      <td>2607</td>\n",
       "      <td>19570</td>\n",
       "      <td>12389</td>\n",
       "      <td>60529</td>\n",
       "      <td>15106</td>\n",
       "      <td>88542</td>\n",
       "      <td>27994</td>\n",
       "      <td>141749</td>\n",
       "      <td>11935</td>\n",
       "      <td>90787</td>\n",
       "      <td>21549</td>\n",
       "      <td>105909</td>\n",
       "    </tr>\n",
       "    <tr>\n",
       "      <th>2020-09-25</th>\n",
       "      <td>8190</td>\n",
       "      <td>50476</td>\n",
       "      <td>3599</td>\n",
       "      <td>20703</td>\n",
       "      <td>10649</td>\n",
       "      <td>61564</td>\n",
       "      <td>2857</td>\n",
       "      <td>20432</td>\n",
       "      <td>14013</td>\n",
       "      <td>63706</td>\n",
       "      <td>17509</td>\n",
       "      <td>96495</td>\n",
       "      <td>30749</td>\n",
       "      <td>147122</td>\n",
       "      <td>13693</td>\n",
       "      <td>94604</td>\n",
       "      <td>25130</td>\n",
       "      <td>113298</td>\n",
       "    </tr>\n",
       "    <tr>\n",
       "      <th>2020-09-26</th>\n",
       "      <td>6756</td>\n",
       "      <td>36662</td>\n",
       "      <td>3269</td>\n",
       "      <td>17050</td>\n",
       "      <td>9897</td>\n",
       "      <td>51542</td>\n",
       "      <td>2554</td>\n",
       "      <td>16034</td>\n",
       "      <td>12013</td>\n",
       "      <td>48318</td>\n",
       "      <td>19970</td>\n",
       "      <td>92890</td>\n",
       "      <td>31844</td>\n",
       "      <td>133632</td>\n",
       "      <td>14300</td>\n",
       "      <td>84594</td>\n",
       "      <td>26875</td>\n",
       "      <td>108703</td>\n",
       "    </tr>\n",
       "    <tr>\n",
       "      <th>2020-09-27</th>\n",
       "      <td>5292</td>\n",
       "      <td>28346</td>\n",
       "      <td>2937</td>\n",
       "      <td>15961</td>\n",
       "      <td>8291</td>\n",
       "      <td>43456</td>\n",
       "      <td>2633</td>\n",
       "      <td>16150</td>\n",
       "      <td>9882</td>\n",
       "      <td>39061</td>\n",
       "      <td>18897</td>\n",
       "      <td>88386</td>\n",
       "      <td>27614</td>\n",
       "      <td>116553</td>\n",
       "      <td>13086</td>\n",
       "      <td>74907</td>\n",
       "      <td>24860</td>\n",
       "      <td>99040</td>\n",
       "    </tr>\n",
       "    <tr>\n",
       "      <th>2020-09-28</th>\n",
       "      <td>5762</td>\n",
       "      <td>35586</td>\n",
       "      <td>3005</td>\n",
       "      <td>17535</td>\n",
       "      <td>7211</td>\n",
       "      <td>45275</td>\n",
       "      <td>2154</td>\n",
       "      <td>15702</td>\n",
       "      <td>9772</td>\n",
       "      <td>47576</td>\n",
       "      <td>15574</td>\n",
       "      <td>87976</td>\n",
       "      <td>26964</td>\n",
       "      <td>129722</td>\n",
       "      <td>11471</td>\n",
       "      <td>76555</td>\n",
       "      <td>20944</td>\n",
       "      <td>98610</td>\n",
       "    </tr>\n",
       "    <tr>\n",
       "      <th>2020-09-29</th>\n",
       "      <td>6881</td>\n",
       "      <td>48250</td>\n",
       "      <td>3013</td>\n",
       "      <td>18058</td>\n",
       "      <td>7680</td>\n",
       "      <td>51968</td>\n",
       "      <td>2352</td>\n",
       "      <td>17519</td>\n",
       "      <td>10697</td>\n",
       "      <td>53834</td>\n",
       "      <td>14327</td>\n",
       "      <td>83664</td>\n",
       "      <td>25265</td>\n",
       "      <td>131351</td>\n",
       "      <td>11374</td>\n",
       "      <td>84952</td>\n",
       "      <td>19558</td>\n",
       "      <td>95302</td>\n",
       "    </tr>\n",
       "    <tr>\n",
       "      <th>2020-09-30</th>\n",
       "      <td>7298</td>\n",
       "      <td>49791</td>\n",
       "      <td>3262</td>\n",
       "      <td>18869</td>\n",
       "      <td>8275</td>\n",
       "      <td>54657</td>\n",
       "      <td>2526</td>\n",
       "      <td>18349</td>\n",
       "      <td>11988</td>\n",
       "      <td>58253</td>\n",
       "      <td>14801</td>\n",
       "      <td>85453</td>\n",
       "      <td>26497</td>\n",
       "      <td>134153</td>\n",
       "      <td>11693</td>\n",
       "      <td>87303</td>\n",
       "      <td>20935</td>\n",
       "      <td>100882</td>\n",
       "    </tr>\n",
       "    <tr>\n",
       "      <th>2020-10-01</th>\n",
       "      <td>7871</td>\n",
       "      <td>51671</td>\n",
       "      <td>3405</td>\n",
       "      <td>20417</td>\n",
       "      <td>8800</td>\n",
       "      <td>58247</td>\n",
       "      <td>2647</td>\n",
       "      <td>19995</td>\n",
       "      <td>12590</td>\n",
       "      <td>61178</td>\n",
       "      <td>15871</td>\n",
       "      <td>90469</td>\n",
       "      <td>29070</td>\n",
       "      <td>144872</td>\n",
       "      <td>12292</td>\n",
       "      <td>91512</td>\n",
       "      <td>21749</td>\n",
       "      <td>104997</td>\n",
       "    </tr>\n",
       "    <tr>\n",
       "      <th>2020-10-02</th>\n",
       "      <td>7681</td>\n",
       "      <td>48991</td>\n",
       "      <td>3482</td>\n",
       "      <td>20210</td>\n",
       "      <td>10208</td>\n",
       "      <td>60587</td>\n",
       "      <td>2576</td>\n",
       "      <td>19419</td>\n",
       "      <td>13264</td>\n",
       "      <td>61390</td>\n",
       "      <td>16830</td>\n",
       "      <td>91784</td>\n",
       "      <td>30672</td>\n",
       "      <td>142815</td>\n",
       "      <td>13136</td>\n",
       "      <td>94082</td>\n",
       "      <td>24847</td>\n",
       "      <td>112627</td>\n",
       "    </tr>\n",
       "    <tr>\n",
       "      <th>2020-10-03</th>\n",
       "      <td>7157</td>\n",
       "      <td>35244</td>\n",
       "      <td>3133</td>\n",
       "      <td>16884</td>\n",
       "      <td>9799</td>\n",
       "      <td>50638</td>\n",
       "      <td>2477</td>\n",
       "      <td>16093</td>\n",
       "      <td>12218</td>\n",
       "      <td>49066</td>\n",
       "      <td>19250</td>\n",
       "      <td>90660</td>\n",
       "      <td>31813</td>\n",
       "      <td>130772</td>\n",
       "      <td>13899</td>\n",
       "      <td>83888</td>\n",
       "      <td>26227</td>\n",
       "      <td>104966</td>\n",
       "    </tr>\n",
       "    <tr>\n",
       "      <th>2020-10-04</th>\n",
       "      <td>4910</td>\n",
       "      <td>26317</td>\n",
       "      <td>2573</td>\n",
       "      <td>14302</td>\n",
       "      <td>8245</td>\n",
       "      <td>44802</td>\n",
       "      <td>2145</td>\n",
       "      <td>13689</td>\n",
       "      <td>10130</td>\n",
       "      <td>39539</td>\n",
       "      <td>18806</td>\n",
       "      <td>89452</td>\n",
       "      <td>27493</td>\n",
       "      <td>114333</td>\n",
       "      <td>12531</td>\n",
       "      <td>70887</td>\n",
       "      <td>23237</td>\n",
       "      <td>92407</td>\n",
       "    </tr>\n",
       "    <tr>\n",
       "      <th>2020-10-05</th>\n",
       "      <td>6750</td>\n",
       "      <td>45939</td>\n",
       "      <td>3066</td>\n",
       "      <td>18206</td>\n",
       "      <td>7562</td>\n",
       "      <td>48787</td>\n",
       "      <td>2276</td>\n",
       "      <td>17705</td>\n",
       "      <td>10717</td>\n",
       "      <td>51683</td>\n",
       "      <td>14332</td>\n",
       "      <td>81883</td>\n",
       "      <td>26002</td>\n",
       "      <td>128643</td>\n",
       "      <td>11369</td>\n",
       "      <td>84279</td>\n",
       "      <td>20802</td>\n",
       "      <td>99458</td>\n",
       "    </tr>\n",
       "    <tr>\n",
       "      <th>2020-10-06</th>\n",
       "      <td>7093</td>\n",
       "      <td>48860</td>\n",
       "      <td>3385</td>\n",
       "      <td>18802</td>\n",
       "      <td>7695</td>\n",
       "      <td>52157</td>\n",
       "      <td>2518</td>\n",
       "      <td>18667</td>\n",
       "      <td>10831</td>\n",
       "      <td>52764</td>\n",
       "      <td>14178</td>\n",
       "      <td>83961</td>\n",
       "      <td>26219</td>\n",
       "      <td>130693</td>\n",
       "      <td>11193</td>\n",
       "      <td>86130</td>\n",
       "      <td>20675</td>\n",
       "      <td>101180</td>\n",
       "    </tr>\n",
       "    <tr>\n",
       "      <th>2020-10-07</th>\n",
       "      <td>7090</td>\n",
       "      <td>48514</td>\n",
       "      <td>3227</td>\n",
       "      <td>18876</td>\n",
       "      <td>8126</td>\n",
       "      <td>53803</td>\n",
       "      <td>2476</td>\n",
       "      <td>17918</td>\n",
       "      <td>11425</td>\n",
       "      <td>56360</td>\n",
       "      <td>14752</td>\n",
       "      <td>86849</td>\n",
       "      <td>26443</td>\n",
       "      <td>134036</td>\n",
       "      <td>11166</td>\n",
       "      <td>86913</td>\n",
       "      <td>20208</td>\n",
       "      <td>99960</td>\n",
       "    </tr>\n",
       "    <tr>\n",
       "      <th>2020-10-08</th>\n",
       "      <td>7313</td>\n",
       "      <td>49405</td>\n",
       "      <td>3313</td>\n",
       "      <td>19392</td>\n",
       "      <td>8370</td>\n",
       "      <td>55294</td>\n",
       "      <td>2559</td>\n",
       "      <td>18748</td>\n",
       "      <td>11800</td>\n",
       "      <td>58204</td>\n",
       "      <td>15760</td>\n",
       "      <td>90958</td>\n",
       "      <td>28160</td>\n",
       "      <td>140175</td>\n",
       "      <td>11907</td>\n",
       "      <td>88834</td>\n",
       "      <td>21469</td>\n",
       "      <td>104514</td>\n",
       "    </tr>\n",
       "    <tr>\n",
       "      <th>2020-10-09</th>\n",
       "      <td>7540</td>\n",
       "      <td>46132</td>\n",
       "      <td>3402</td>\n",
       "      <td>19839</td>\n",
       "      <td>10035</td>\n",
       "      <td>60207</td>\n",
       "      <td>2531</td>\n",
       "      <td>17999</td>\n",
       "      <td>13433</td>\n",
       "      <td>61760</td>\n",
       "      <td>17321</td>\n",
       "      <td>95125</td>\n",
       "      <td>30816</td>\n",
       "      <td>142961</td>\n",
       "      <td>13464</td>\n",
       "      <td>93085</td>\n",
       "      <td>25545</td>\n",
       "      <td>119287</td>\n",
       "    </tr>\n",
       "    <tr>\n",
       "      <th>2020-10-10</th>\n",
       "      <td>6316</td>\n",
       "      <td>34818</td>\n",
       "      <td>3177</td>\n",
       "      <td>16757</td>\n",
       "      <td>10105</td>\n",
       "      <td>51852</td>\n",
       "      <td>2605</td>\n",
       "      <td>16447</td>\n",
       "      <td>12107</td>\n",
       "      <td>48178</td>\n",
       "      <td>19018</td>\n",
       "      <td>91976</td>\n",
       "      <td>32227</td>\n",
       "      <td>132258</td>\n",
       "      <td>14218</td>\n",
       "      <td>85350</td>\n",
       "      <td>26894</td>\n",
       "      <td>111136</td>\n",
       "    </tr>\n",
       "  </tbody>\n",
       "</table>\n",
       "</div>"
      ],
      "text/plain": [
       "crossing   Brooklyn Battery        Cross Bay        Henry Hudson         \\\n",
       "variable               cash ezpass      cash ezpass         cash ezpass   \n",
       "datetime                                                                  \n",
       "2020-09-06             6117  30212      5033  21712         7646  39753   \n",
       "2020-09-07             5096  26185      4479  19265         7338  39943   \n",
       "2020-09-08             7067  48038      3723  20921         8249  52342   \n",
       "2020-09-09             7299  49254      3197  19495         7970  54056   \n",
       "2020-09-10             7001  48671      2972  17770         7947  52680   \n",
       "2020-09-11             8412  48466      3594  20899         9942  60717   \n",
       "2020-09-12             6373  33000      3547  18167         9498  49125   \n",
       "2020-09-13             5622  29947      2974  15320         6984  40328   \n",
       "2020-09-14             7039  47134      3448  19321         7758  50456   \n",
       "2020-09-15             7059  48456      3312  19223         8001  54097   \n",
       "2020-09-16             7144  47924      3201  19159         7893  53611   \n",
       "2020-09-17             7414  50449      3367  19263         8446  56802   \n",
       "2020-09-18             7892  48118      3389  19678        10121  60502   \n",
       "2020-09-19             6688  33910      3244  17017         9485  48963   \n",
       "2020-09-20             5145  26614      2776  14633         7892  42830   \n",
       "2020-09-21             6883  45178      2966  18109         8070  50502   \n",
       "2020-09-22             7137  48129      3328  19380         8084  52792   \n",
       "2020-09-23             7354  50102      3612  20659         8520  56115   \n",
       "2020-09-24             7553  49494      3173  19502         9238  58189   \n",
       "2020-09-25             8190  50476      3599  20703        10649  61564   \n",
       "2020-09-26             6756  36662      3269  17050         9897  51542   \n",
       "2020-09-27             5292  28346      2937  15961         8291  43456   \n",
       "2020-09-28             5762  35586      3005  17535         7211  45275   \n",
       "2020-09-29             6881  48250      3013  18058         7680  51968   \n",
       "2020-09-30             7298  49791      3262  18869         8275  54657   \n",
       "2020-10-01             7871  51671      3405  20417         8800  58247   \n",
       "2020-10-02             7681  48991      3482  20210        10208  60587   \n",
       "2020-10-03             7157  35244      3133  16884         9799  50638   \n",
       "2020-10-04             4910  26317      2573  14302         8245  44802   \n",
       "2020-10-05             6750  45939      3066  18206         7562  48787   \n",
       "2020-10-06             7093  48860      3385  18802         7695  52157   \n",
       "2020-10-07             7090  48514      3227  18876         8126  53803   \n",
       "2020-10-08             7313  49405      3313  19392         8370  55294   \n",
       "2020-10-09             7540  46132      3402  19839        10035  60207   \n",
       "2020-10-10             6316  34818      3177  16757        10105  51852   \n",
       "\n",
       "crossing   Marine Parkway        Queens Midtown        Throgs Neck         \\\n",
       "variable             cash ezpass           cash ezpass        cash ezpass   \n",
       "datetime                                                                    \n",
       "2020-09-06           5524  26312           9804  34976       21163  95740   \n",
       "2020-09-07           4510  23131           9018  35091       19276  88550   \n",
       "2020-09-08           3450  22074          11666  54996       16068  90434   \n",
       "2020-09-09           2877  19944          11353  55885       15121  89586   \n",
       "2020-09-10           2565  17930          11189  54720       14689  85469   \n",
       "2020-09-11           3217  21266          13150  60236       17254  93955   \n",
       "2020-09-12           3249  18416          11830  46223       19070  91079   \n",
       "2020-09-13           2883  15867           9668  38228       17919  85451   \n",
       "2020-09-14           3048  19650          11071  52747       14968  85243   \n",
       "2020-09-15           2978  19763          11623  56283       14776  86100   \n",
       "2020-09-16           2699  19577          11182  55362       14509  86537   \n",
       "2020-09-17           2637  20264          12130  59576       15200  90044   \n",
       "2020-09-18           2720  19869          13023  61189       17249  94028   \n",
       "2020-09-19           2600  16105          11141  44037       19340  90636   \n",
       "2020-09-20           2088  13542          10070  39717       18627  86799   \n",
       "2020-09-21           2392  17927          10928  52749       14598  83023   \n",
       "2020-09-22           2693  19725          11381  55601       14533  85082   \n",
       "2020-09-23           3065  21213          11628  57160       14859  87105   \n",
       "2020-09-24           2607  19570          12389  60529       15106  88542   \n",
       "2020-09-25           2857  20432          14013  63706       17509  96495   \n",
       "2020-09-26           2554  16034          12013  48318       19970  92890   \n",
       "2020-09-27           2633  16150           9882  39061       18897  88386   \n",
       "2020-09-28           2154  15702           9772  47576       15574  87976   \n",
       "2020-09-29           2352  17519          10697  53834       14327  83664   \n",
       "2020-09-30           2526  18349          11988  58253       14801  85453   \n",
       "2020-10-01           2647  19995          12590  61178       15871  90469   \n",
       "2020-10-02           2576  19419          13264  61390       16830  91784   \n",
       "2020-10-03           2477  16093          12218  49066       19250  90660   \n",
       "2020-10-04           2145  13689          10130  39539       18806  89452   \n",
       "2020-10-05           2276  17705          10717  51683       14332  81883   \n",
       "2020-10-06           2518  18667          10831  52764       14178  83961   \n",
       "2020-10-07           2476  17918          11425  56360       14752  86849   \n",
       "2020-10-08           2559  18748          11800  58204       15760  90958   \n",
       "2020-10-09           2531  17999          13433  61760       17321  95125   \n",
       "2020-10-10           2605  16447          12107  48178       19018  91976   \n",
       "\n",
       "crossing   Triboro         Verrazano        Whitestone          \n",
       "variable      cash  ezpass      cash ezpass       cash  ezpass  \n",
       "datetime                                                        \n",
       "2020-09-06   28024  109782     13903  76673      24696   97417  \n",
       "2020-09-07   25998  106573     12519  68131      22920   92090  \n",
       "2020-09-08   27854  136734     12177  87969      20969  100301  \n",
       "2020-09-09   27343  136267     11855  87395      20529   97984  \n",
       "2020-09-10   26040  133479     11681  85893      19659   94887  \n",
       "2020-09-11   31671  147087     14120  93094      23401  108569  \n",
       "2020-09-12   30679  124812     13990  84897      25205  102833  \n",
       "2020-09-13   26980  109945     12739  73131      23259   93122  \n",
       "2020-09-14   27092  130731     11595  83848      21219   99363  \n",
       "2020-09-15   26343  131573     11214  86504      20487  101568  \n",
       "2020-09-16   27195  134672     11489  87086      20283   99934  \n",
       "2020-09-17   28020  137275     11919  89345      21364  104309  \n",
       "2020-09-18   31130  146012     13086  93416      24564  113048  \n",
       "2020-09-19   31815  131068     14110  83756      26151  106046  \n",
       "2020-09-20   26779  112151     12592  71460      24057   96373  \n",
       "2020-09-21   26204  128930     11564  83725      20717   99627  \n",
       "2020-09-22   25613  131328     11289  86204      20541   99400  \n",
       "2020-09-23   26724  135002     11380  88383      20908  102127  \n",
       "2020-09-24   27994  141749     11935  90787      21549  105909  \n",
       "2020-09-25   30749  147122     13693  94604      25130  113298  \n",
       "2020-09-26   31844  133632     14300  84594      26875  108703  \n",
       "2020-09-27   27614  116553     13086  74907      24860   99040  \n",
       "2020-09-28   26964  129722     11471  76555      20944   98610  \n",
       "2020-09-29   25265  131351     11374  84952      19558   95302  \n",
       "2020-09-30   26497  134153     11693  87303      20935  100882  \n",
       "2020-10-01   29070  144872     12292  91512      21749  104997  \n",
       "2020-10-02   30672  142815     13136  94082      24847  112627  \n",
       "2020-10-03   31813  130772     13899  83888      26227  104966  \n",
       "2020-10-04   27493  114333     12531  70887      23237   92407  \n",
       "2020-10-05   26002  128643     11369  84279      20802   99458  \n",
       "2020-10-06   26219  130693     11193  86130      20675  101180  \n",
       "2020-10-07   26443  134036     11166  86913      20208   99960  \n",
       "2020-10-08   28160  140175     11907  88834      21469  104514  \n",
       "2020-10-09   30816  142961     13464  93085      25545  119287  \n",
       "2020-10-10   32227  132258     14218  85350      26894  111136  "
      ]
     },
     "execution_count": 90,
     "metadata": {},
     "output_type": "execute_result"
    }
   ],
   "source": [
    "_test_pivot"
   ]
  },
  {
   "cell_type": "code",
   "execution_count": 91,
   "metadata": {},
   "outputs": [],
   "source": [
    "_test_dollars = 0\n",
    "for i,x in crossing_rates.items():\n",
    "    _test_dollars += _test_pivot[i].sum() * x"
   ]
  },
  {
   "cell_type": "code",
   "execution_count": 92,
   "metadata": {},
   "outputs": [
    {
     "data": {
      "text/plain": [
       "173780402.32"
      ]
     },
     "execution_count": 92,
     "metadata": {},
     "output_type": "execute_result"
    }
   ],
   "source": [
    "_test_dollars"
   ]
  },
  {
   "cell_type": "code",
   "execution_count": 93,
   "metadata": {},
   "outputs": [],
   "source": [
    "_lgbm_dollars = 0\n",
    "for i,x in crossing_rates.items():\n",
    "    _lgbm_dollars += _lgbm_pivot[i].sum() * x"
   ]
  },
  {
   "cell_type": "code",
   "execution_count": 94,
   "metadata": {},
   "outputs": [
    {
     "data": {
      "text/plain": [
       "174656216.02237716"
      ]
     },
     "execution_count": 94,
     "metadata": {},
     "output_type": "execute_result"
    }
   ],
   "source": [
    "_lgbm_dollars"
   ]
  },
  {
   "cell_type": "code",
   "execution_count": 95,
   "metadata": {},
   "outputs": [
    {
     "data": {
      "text/plain": [
       "875813.7023771703"
      ]
     },
     "execution_count": 95,
     "metadata": {},
     "output_type": "execute_result"
    }
   ],
   "source": [
    "_lgbm_dollars - _test_dollars"
   ]
  },
  {
   "cell_type": "code",
   "execution_count": 203,
   "metadata": {},
   "outputs": [
    {
     "data": {
      "text/html": [
       "<div>\n",
       "<style scoped>\n",
       "    .dataframe tbody tr th:only-of-type {\n",
       "        vertical-align: middle;\n",
       "    }\n",
       "\n",
       "    .dataframe tbody tr th {\n",
       "        vertical-align: top;\n",
       "    }\n",
       "\n",
       "    .dataframe thead tr th {\n",
       "        text-align: left;\n",
       "    }\n",
       "\n",
       "    .dataframe thead tr:last-of-type th {\n",
       "        text-align: right;\n",
       "    }\n",
       "</style>\n",
       "<table border=\"1\" class=\"dataframe\">\n",
       "  <thead>\n",
       "    <tr>\n",
       "      <th>crossing</th>\n",
       "      <th colspan=\"2\" halign=\"left\">Brooklyn Battery</th>\n",
       "      <th colspan=\"2\" halign=\"left\">Cross Bay</th>\n",
       "      <th colspan=\"2\" halign=\"left\">Henry Hudson</th>\n",
       "      <th colspan=\"2\" halign=\"left\">Marine Parkway</th>\n",
       "      <th colspan=\"2\" halign=\"left\">Queens Midtown</th>\n",
       "      <th colspan=\"2\" halign=\"left\">Throgs Neck</th>\n",
       "      <th colspan=\"2\" halign=\"left\">Triboro</th>\n",
       "      <th colspan=\"2\" halign=\"left\">Verrazano</th>\n",
       "      <th colspan=\"2\" halign=\"left\">Whitestone</th>\n",
       "    </tr>\n",
       "    <tr>\n",
       "      <th>variable</th>\n",
       "      <th>cash</th>\n",
       "      <th>ezpass</th>\n",
       "      <th>cash</th>\n",
       "      <th>ezpass</th>\n",
       "      <th>cash</th>\n",
       "      <th>ezpass</th>\n",
       "      <th>cash</th>\n",
       "      <th>ezpass</th>\n",
       "      <th>cash</th>\n",
       "      <th>ezpass</th>\n",
       "      <th>cash</th>\n",
       "      <th>ezpass</th>\n",
       "      <th>cash</th>\n",
       "      <th>ezpass</th>\n",
       "      <th>cash</th>\n",
       "      <th>ezpass</th>\n",
       "      <th>cash</th>\n",
       "      <th>ezpass</th>\n",
       "    </tr>\n",
       "    <tr>\n",
       "      <th>datetime</th>\n",
       "      <th></th>\n",
       "      <th></th>\n",
       "      <th></th>\n",
       "      <th></th>\n",
       "      <th></th>\n",
       "      <th></th>\n",
       "      <th></th>\n",
       "      <th></th>\n",
       "      <th></th>\n",
       "      <th></th>\n",
       "      <th></th>\n",
       "      <th></th>\n",
       "      <th></th>\n",
       "      <th></th>\n",
       "      <th></th>\n",
       "      <th></th>\n",
       "      <th></th>\n",
       "      <th></th>\n",
       "    </tr>\n",
       "  </thead>\n",
       "  <tbody>\n",
       "    <tr>\n",
       "      <th>2020-09-06</th>\n",
       "      <td>6117</td>\n",
       "      <td>30212</td>\n",
       "      <td>5033</td>\n",
       "      <td>21712</td>\n",
       "      <td>7646</td>\n",
       "      <td>39753</td>\n",
       "      <td>5524</td>\n",
       "      <td>26312</td>\n",
       "      <td>9804</td>\n",
       "      <td>34976</td>\n",
       "      <td>21163</td>\n",
       "      <td>95740</td>\n",
       "      <td>28024</td>\n",
       "      <td>109782</td>\n",
       "      <td>13903</td>\n",
       "      <td>76673</td>\n",
       "      <td>24696</td>\n",
       "      <td>97417</td>\n",
       "    </tr>\n",
       "    <tr>\n",
       "      <th>2020-09-07</th>\n",
       "      <td>5096</td>\n",
       "      <td>26185</td>\n",
       "      <td>4479</td>\n",
       "      <td>19265</td>\n",
       "      <td>7338</td>\n",
       "      <td>39943</td>\n",
       "      <td>4510</td>\n",
       "      <td>23131</td>\n",
       "      <td>9018</td>\n",
       "      <td>35091</td>\n",
       "      <td>19276</td>\n",
       "      <td>88550</td>\n",
       "      <td>25998</td>\n",
       "      <td>106573</td>\n",
       "      <td>12519</td>\n",
       "      <td>68131</td>\n",
       "      <td>22920</td>\n",
       "      <td>92090</td>\n",
       "    </tr>\n",
       "    <tr>\n",
       "      <th>2020-09-08</th>\n",
       "      <td>7067</td>\n",
       "      <td>48038</td>\n",
       "      <td>3723</td>\n",
       "      <td>20921</td>\n",
       "      <td>8249</td>\n",
       "      <td>52342</td>\n",
       "      <td>3450</td>\n",
       "      <td>22074</td>\n",
       "      <td>11666</td>\n",
       "      <td>54996</td>\n",
       "      <td>16068</td>\n",
       "      <td>90434</td>\n",
       "      <td>27854</td>\n",
       "      <td>136734</td>\n",
       "      <td>12177</td>\n",
       "      <td>87969</td>\n",
       "      <td>20969</td>\n",
       "      <td>100301</td>\n",
       "    </tr>\n",
       "    <tr>\n",
       "      <th>2020-09-09</th>\n",
       "      <td>7299</td>\n",
       "      <td>49254</td>\n",
       "      <td>3197</td>\n",
       "      <td>19495</td>\n",
       "      <td>7970</td>\n",
       "      <td>54056</td>\n",
       "      <td>2877</td>\n",
       "      <td>19944</td>\n",
       "      <td>11353</td>\n",
       "      <td>55885</td>\n",
       "      <td>15121</td>\n",
       "      <td>89586</td>\n",
       "      <td>27343</td>\n",
       "      <td>136267</td>\n",
       "      <td>11855</td>\n",
       "      <td>87395</td>\n",
       "      <td>20529</td>\n",
       "      <td>97984</td>\n",
       "    </tr>\n",
       "    <tr>\n",
       "      <th>2020-09-10</th>\n",
       "      <td>7001</td>\n",
       "      <td>48671</td>\n",
       "      <td>2972</td>\n",
       "      <td>17770</td>\n",
       "      <td>7947</td>\n",
       "      <td>52680</td>\n",
       "      <td>2565</td>\n",
       "      <td>17930</td>\n",
       "      <td>11189</td>\n",
       "      <td>54720</td>\n",
       "      <td>14689</td>\n",
       "      <td>85469</td>\n",
       "      <td>26040</td>\n",
       "      <td>133479</td>\n",
       "      <td>11681</td>\n",
       "      <td>85893</td>\n",
       "      <td>19659</td>\n",
       "      <td>94887</td>\n",
       "    </tr>\n",
       "    <tr>\n",
       "      <th>2020-09-11</th>\n",
       "      <td>8412</td>\n",
       "      <td>48466</td>\n",
       "      <td>3594</td>\n",
       "      <td>20899</td>\n",
       "      <td>9942</td>\n",
       "      <td>60717</td>\n",
       "      <td>3217</td>\n",
       "      <td>21266</td>\n",
       "      <td>13150</td>\n",
       "      <td>60236</td>\n",
       "      <td>17254</td>\n",
       "      <td>93955</td>\n",
       "      <td>31671</td>\n",
       "      <td>147087</td>\n",
       "      <td>14120</td>\n",
       "      <td>93094</td>\n",
       "      <td>23401</td>\n",
       "      <td>108569</td>\n",
       "    </tr>\n",
       "    <tr>\n",
       "      <th>2020-09-12</th>\n",
       "      <td>6373</td>\n",
       "      <td>33000</td>\n",
       "      <td>3547</td>\n",
       "      <td>18167</td>\n",
       "      <td>9498</td>\n",
       "      <td>49125</td>\n",
       "      <td>3249</td>\n",
       "      <td>18416</td>\n",
       "      <td>11830</td>\n",
       "      <td>46223</td>\n",
       "      <td>19070</td>\n",
       "      <td>91079</td>\n",
       "      <td>30679</td>\n",
       "      <td>124812</td>\n",
       "      <td>13990</td>\n",
       "      <td>84897</td>\n",
       "      <td>25205</td>\n",
       "      <td>102833</td>\n",
       "    </tr>\n",
       "    <tr>\n",
       "      <th>2020-09-13</th>\n",
       "      <td>5622</td>\n",
       "      <td>29947</td>\n",
       "      <td>2974</td>\n",
       "      <td>15320</td>\n",
       "      <td>6984</td>\n",
       "      <td>40328</td>\n",
       "      <td>2883</td>\n",
       "      <td>15867</td>\n",
       "      <td>9668</td>\n",
       "      <td>38228</td>\n",
       "      <td>17919</td>\n",
       "      <td>85451</td>\n",
       "      <td>26980</td>\n",
       "      <td>109945</td>\n",
       "      <td>12739</td>\n",
       "      <td>73131</td>\n",
       "      <td>23259</td>\n",
       "      <td>93122</td>\n",
       "    </tr>\n",
       "    <tr>\n",
       "      <th>2020-09-14</th>\n",
       "      <td>7039</td>\n",
       "      <td>47134</td>\n",
       "      <td>3448</td>\n",
       "      <td>19321</td>\n",
       "      <td>7758</td>\n",
       "      <td>50456</td>\n",
       "      <td>3048</td>\n",
       "      <td>19650</td>\n",
       "      <td>11071</td>\n",
       "      <td>52747</td>\n",
       "      <td>14968</td>\n",
       "      <td>85243</td>\n",
       "      <td>27092</td>\n",
       "      <td>130731</td>\n",
       "      <td>11595</td>\n",
       "      <td>83848</td>\n",
       "      <td>21219</td>\n",
       "      <td>99363</td>\n",
       "    </tr>\n",
       "    <tr>\n",
       "      <th>2020-09-15</th>\n",
       "      <td>7059</td>\n",
       "      <td>48456</td>\n",
       "      <td>3312</td>\n",
       "      <td>19223</td>\n",
       "      <td>8001</td>\n",
       "      <td>54097</td>\n",
       "      <td>2978</td>\n",
       "      <td>19763</td>\n",
       "      <td>11623</td>\n",
       "      <td>56283</td>\n",
       "      <td>14776</td>\n",
       "      <td>86100</td>\n",
       "      <td>26343</td>\n",
       "      <td>131573</td>\n",
       "      <td>11214</td>\n",
       "      <td>86504</td>\n",
       "      <td>20487</td>\n",
       "      <td>101568</td>\n",
       "    </tr>\n",
       "    <tr>\n",
       "      <th>2020-09-16</th>\n",
       "      <td>7144</td>\n",
       "      <td>47924</td>\n",
       "      <td>3201</td>\n",
       "      <td>19159</td>\n",
       "      <td>7893</td>\n",
       "      <td>53611</td>\n",
       "      <td>2699</td>\n",
       "      <td>19577</td>\n",
       "      <td>11182</td>\n",
       "      <td>55362</td>\n",
       "      <td>14509</td>\n",
       "      <td>86537</td>\n",
       "      <td>27195</td>\n",
       "      <td>134672</td>\n",
       "      <td>11489</td>\n",
       "      <td>87086</td>\n",
       "      <td>20283</td>\n",
       "      <td>99934</td>\n",
       "    </tr>\n",
       "    <tr>\n",
       "      <th>2020-09-17</th>\n",
       "      <td>7414</td>\n",
       "      <td>50449</td>\n",
       "      <td>3367</td>\n",
       "      <td>19263</td>\n",
       "      <td>8446</td>\n",
       "      <td>56802</td>\n",
       "      <td>2637</td>\n",
       "      <td>20264</td>\n",
       "      <td>12130</td>\n",
       "      <td>59576</td>\n",
       "      <td>15200</td>\n",
       "      <td>90044</td>\n",
       "      <td>28020</td>\n",
       "      <td>137275</td>\n",
       "      <td>11919</td>\n",
       "      <td>89345</td>\n",
       "      <td>21364</td>\n",
       "      <td>104309</td>\n",
       "    </tr>\n",
       "    <tr>\n",
       "      <th>2020-09-18</th>\n",
       "      <td>7892</td>\n",
       "      <td>48118</td>\n",
       "      <td>3389</td>\n",
       "      <td>19678</td>\n",
       "      <td>10121</td>\n",
       "      <td>60502</td>\n",
       "      <td>2720</td>\n",
       "      <td>19869</td>\n",
       "      <td>13023</td>\n",
       "      <td>61189</td>\n",
       "      <td>17249</td>\n",
       "      <td>94028</td>\n",
       "      <td>31130</td>\n",
       "      <td>146012</td>\n",
       "      <td>13086</td>\n",
       "      <td>93416</td>\n",
       "      <td>24564</td>\n",
       "      <td>113048</td>\n",
       "    </tr>\n",
       "    <tr>\n",
       "      <th>2020-09-19</th>\n",
       "      <td>6688</td>\n",
       "      <td>33910</td>\n",
       "      <td>3244</td>\n",
       "      <td>17017</td>\n",
       "      <td>9485</td>\n",
       "      <td>48963</td>\n",
       "      <td>2600</td>\n",
       "      <td>16105</td>\n",
       "      <td>11141</td>\n",
       "      <td>44037</td>\n",
       "      <td>19340</td>\n",
       "      <td>90636</td>\n",
       "      <td>31815</td>\n",
       "      <td>131068</td>\n",
       "      <td>14110</td>\n",
       "      <td>83756</td>\n",
       "      <td>26151</td>\n",
       "      <td>106046</td>\n",
       "    </tr>\n",
       "    <tr>\n",
       "      <th>2020-09-20</th>\n",
       "      <td>5145</td>\n",
       "      <td>26614</td>\n",
       "      <td>2776</td>\n",
       "      <td>14633</td>\n",
       "      <td>7892</td>\n",
       "      <td>42830</td>\n",
       "      <td>2088</td>\n",
       "      <td>13542</td>\n",
       "      <td>10070</td>\n",
       "      <td>39717</td>\n",
       "      <td>18627</td>\n",
       "      <td>86799</td>\n",
       "      <td>26779</td>\n",
       "      <td>112151</td>\n",
       "      <td>12592</td>\n",
       "      <td>71460</td>\n",
       "      <td>24057</td>\n",
       "      <td>96373</td>\n",
       "    </tr>\n",
       "    <tr>\n",
       "      <th>2020-09-21</th>\n",
       "      <td>6883</td>\n",
       "      <td>45178</td>\n",
       "      <td>2966</td>\n",
       "      <td>18109</td>\n",
       "      <td>8070</td>\n",
       "      <td>50502</td>\n",
       "      <td>2392</td>\n",
       "      <td>17927</td>\n",
       "      <td>10928</td>\n",
       "      <td>52749</td>\n",
       "      <td>14598</td>\n",
       "      <td>83023</td>\n",
       "      <td>26204</td>\n",
       "      <td>128930</td>\n",
       "      <td>11564</td>\n",
       "      <td>83725</td>\n",
       "      <td>20717</td>\n",
       "      <td>99627</td>\n",
       "    </tr>\n",
       "    <tr>\n",
       "      <th>2020-09-22</th>\n",
       "      <td>7137</td>\n",
       "      <td>48129</td>\n",
       "      <td>3328</td>\n",
       "      <td>19380</td>\n",
       "      <td>8084</td>\n",
       "      <td>52792</td>\n",
       "      <td>2693</td>\n",
       "      <td>19725</td>\n",
       "      <td>11381</td>\n",
       "      <td>55601</td>\n",
       "      <td>14533</td>\n",
       "      <td>85082</td>\n",
       "      <td>25613</td>\n",
       "      <td>131328</td>\n",
       "      <td>11289</td>\n",
       "      <td>86204</td>\n",
       "      <td>20541</td>\n",
       "      <td>99400</td>\n",
       "    </tr>\n",
       "    <tr>\n",
       "      <th>2020-09-23</th>\n",
       "      <td>7354</td>\n",
       "      <td>50102</td>\n",
       "      <td>3612</td>\n",
       "      <td>20659</td>\n",
       "      <td>8520</td>\n",
       "      <td>56115</td>\n",
       "      <td>3065</td>\n",
       "      <td>21213</td>\n",
       "      <td>11628</td>\n",
       "      <td>57160</td>\n",
       "      <td>14859</td>\n",
       "      <td>87105</td>\n",
       "      <td>26724</td>\n",
       "      <td>135002</td>\n",
       "      <td>11380</td>\n",
       "      <td>88383</td>\n",
       "      <td>20908</td>\n",
       "      <td>102127</td>\n",
       "    </tr>\n",
       "    <tr>\n",
       "      <th>2020-09-24</th>\n",
       "      <td>7553</td>\n",
       "      <td>49494</td>\n",
       "      <td>3173</td>\n",
       "      <td>19502</td>\n",
       "      <td>9238</td>\n",
       "      <td>58189</td>\n",
       "      <td>2607</td>\n",
       "      <td>19570</td>\n",
       "      <td>12389</td>\n",
       "      <td>60529</td>\n",
       "      <td>15106</td>\n",
       "      <td>88542</td>\n",
       "      <td>27994</td>\n",
       "      <td>141749</td>\n",
       "      <td>11935</td>\n",
       "      <td>90787</td>\n",
       "      <td>21549</td>\n",
       "      <td>105909</td>\n",
       "    </tr>\n",
       "    <tr>\n",
       "      <th>2020-09-25</th>\n",
       "      <td>8190</td>\n",
       "      <td>50476</td>\n",
       "      <td>3599</td>\n",
       "      <td>20703</td>\n",
       "      <td>10649</td>\n",
       "      <td>61564</td>\n",
       "      <td>2857</td>\n",
       "      <td>20432</td>\n",
       "      <td>14013</td>\n",
       "      <td>63706</td>\n",
       "      <td>17509</td>\n",
       "      <td>96495</td>\n",
       "      <td>30749</td>\n",
       "      <td>147122</td>\n",
       "      <td>13693</td>\n",
       "      <td>94604</td>\n",
       "      <td>25130</td>\n",
       "      <td>113298</td>\n",
       "    </tr>\n",
       "    <tr>\n",
       "      <th>2020-09-26</th>\n",
       "      <td>6756</td>\n",
       "      <td>36662</td>\n",
       "      <td>3269</td>\n",
       "      <td>17050</td>\n",
       "      <td>9897</td>\n",
       "      <td>51542</td>\n",
       "      <td>2554</td>\n",
       "      <td>16034</td>\n",
       "      <td>12013</td>\n",
       "      <td>48318</td>\n",
       "      <td>19970</td>\n",
       "      <td>92890</td>\n",
       "      <td>31844</td>\n",
       "      <td>133632</td>\n",
       "      <td>14300</td>\n",
       "      <td>84594</td>\n",
       "      <td>26875</td>\n",
       "      <td>108703</td>\n",
       "    </tr>\n",
       "    <tr>\n",
       "      <th>2020-09-27</th>\n",
       "      <td>5292</td>\n",
       "      <td>28346</td>\n",
       "      <td>2937</td>\n",
       "      <td>15961</td>\n",
       "      <td>8291</td>\n",
       "      <td>43456</td>\n",
       "      <td>2633</td>\n",
       "      <td>16150</td>\n",
       "      <td>9882</td>\n",
       "      <td>39061</td>\n",
       "      <td>18897</td>\n",
       "      <td>88386</td>\n",
       "      <td>27614</td>\n",
       "      <td>116553</td>\n",
       "      <td>13086</td>\n",
       "      <td>74907</td>\n",
       "      <td>24860</td>\n",
       "      <td>99040</td>\n",
       "    </tr>\n",
       "    <tr>\n",
       "      <th>2020-09-28</th>\n",
       "      <td>5762</td>\n",
       "      <td>35586</td>\n",
       "      <td>3005</td>\n",
       "      <td>17535</td>\n",
       "      <td>7211</td>\n",
       "      <td>45275</td>\n",
       "      <td>2154</td>\n",
       "      <td>15702</td>\n",
       "      <td>9772</td>\n",
       "      <td>47576</td>\n",
       "      <td>15574</td>\n",
       "      <td>87976</td>\n",
       "      <td>26964</td>\n",
       "      <td>129722</td>\n",
       "      <td>11471</td>\n",
       "      <td>76555</td>\n",
       "      <td>20944</td>\n",
       "      <td>98610</td>\n",
       "    </tr>\n",
       "    <tr>\n",
       "      <th>2020-09-29</th>\n",
       "      <td>6881</td>\n",
       "      <td>48250</td>\n",
       "      <td>3013</td>\n",
       "      <td>18058</td>\n",
       "      <td>7680</td>\n",
       "      <td>51968</td>\n",
       "      <td>2352</td>\n",
       "      <td>17519</td>\n",
       "      <td>10697</td>\n",
       "      <td>53834</td>\n",
       "      <td>14327</td>\n",
       "      <td>83664</td>\n",
       "      <td>25265</td>\n",
       "      <td>131351</td>\n",
       "      <td>11374</td>\n",
       "      <td>84952</td>\n",
       "      <td>19558</td>\n",
       "      <td>95302</td>\n",
       "    </tr>\n",
       "    <tr>\n",
       "      <th>2020-09-30</th>\n",
       "      <td>7298</td>\n",
       "      <td>49791</td>\n",
       "      <td>3262</td>\n",
       "      <td>18869</td>\n",
       "      <td>8275</td>\n",
       "      <td>54657</td>\n",
       "      <td>2526</td>\n",
       "      <td>18349</td>\n",
       "      <td>11988</td>\n",
       "      <td>58253</td>\n",
       "      <td>14801</td>\n",
       "      <td>85453</td>\n",
       "      <td>26497</td>\n",
       "      <td>134153</td>\n",
       "      <td>11693</td>\n",
       "      <td>87303</td>\n",
       "      <td>20935</td>\n",
       "      <td>100882</td>\n",
       "    </tr>\n",
       "    <tr>\n",
       "      <th>2020-10-01</th>\n",
       "      <td>7871</td>\n",
       "      <td>51671</td>\n",
       "      <td>3405</td>\n",
       "      <td>20417</td>\n",
       "      <td>8800</td>\n",
       "      <td>58247</td>\n",
       "      <td>2647</td>\n",
       "      <td>19995</td>\n",
       "      <td>12590</td>\n",
       "      <td>61178</td>\n",
       "      <td>15871</td>\n",
       "      <td>90469</td>\n",
       "      <td>29070</td>\n",
       "      <td>144872</td>\n",
       "      <td>12292</td>\n",
       "      <td>91512</td>\n",
       "      <td>21749</td>\n",
       "      <td>104997</td>\n",
       "    </tr>\n",
       "    <tr>\n",
       "      <th>2020-10-02</th>\n",
       "      <td>7681</td>\n",
       "      <td>48991</td>\n",
       "      <td>3482</td>\n",
       "      <td>20210</td>\n",
       "      <td>10208</td>\n",
       "      <td>60587</td>\n",
       "      <td>2576</td>\n",
       "      <td>19419</td>\n",
       "      <td>13264</td>\n",
       "      <td>61390</td>\n",
       "      <td>16830</td>\n",
       "      <td>91784</td>\n",
       "      <td>30672</td>\n",
       "      <td>142815</td>\n",
       "      <td>13136</td>\n",
       "      <td>94082</td>\n",
       "      <td>24847</td>\n",
       "      <td>112627</td>\n",
       "    </tr>\n",
       "    <tr>\n",
       "      <th>2020-10-03</th>\n",
       "      <td>7157</td>\n",
       "      <td>35244</td>\n",
       "      <td>3133</td>\n",
       "      <td>16884</td>\n",
       "      <td>9799</td>\n",
       "      <td>50638</td>\n",
       "      <td>2477</td>\n",
       "      <td>16093</td>\n",
       "      <td>12218</td>\n",
       "      <td>49066</td>\n",
       "      <td>19250</td>\n",
       "      <td>90660</td>\n",
       "      <td>31813</td>\n",
       "      <td>130772</td>\n",
       "      <td>13899</td>\n",
       "      <td>83888</td>\n",
       "      <td>26227</td>\n",
       "      <td>104966</td>\n",
       "    </tr>\n",
       "    <tr>\n",
       "      <th>2020-10-04</th>\n",
       "      <td>4910</td>\n",
       "      <td>26317</td>\n",
       "      <td>2573</td>\n",
       "      <td>14302</td>\n",
       "      <td>8245</td>\n",
       "      <td>44802</td>\n",
       "      <td>2145</td>\n",
       "      <td>13689</td>\n",
       "      <td>10130</td>\n",
       "      <td>39539</td>\n",
       "      <td>18806</td>\n",
       "      <td>89452</td>\n",
       "      <td>27493</td>\n",
       "      <td>114333</td>\n",
       "      <td>12531</td>\n",
       "      <td>70887</td>\n",
       "      <td>23237</td>\n",
       "      <td>92407</td>\n",
       "    </tr>\n",
       "    <tr>\n",
       "      <th>2020-10-05</th>\n",
       "      <td>6750</td>\n",
       "      <td>45939</td>\n",
       "      <td>3066</td>\n",
       "      <td>18206</td>\n",
       "      <td>7562</td>\n",
       "      <td>48787</td>\n",
       "      <td>2276</td>\n",
       "      <td>17705</td>\n",
       "      <td>10717</td>\n",
       "      <td>51683</td>\n",
       "      <td>14332</td>\n",
       "      <td>81883</td>\n",
       "      <td>26002</td>\n",
       "      <td>128643</td>\n",
       "      <td>11369</td>\n",
       "      <td>84279</td>\n",
       "      <td>20802</td>\n",
       "      <td>99458</td>\n",
       "    </tr>\n",
       "    <tr>\n",
       "      <th>2020-10-06</th>\n",
       "      <td>7093</td>\n",
       "      <td>48860</td>\n",
       "      <td>3385</td>\n",
       "      <td>18802</td>\n",
       "      <td>7695</td>\n",
       "      <td>52157</td>\n",
       "      <td>2518</td>\n",
       "      <td>18667</td>\n",
       "      <td>10831</td>\n",
       "      <td>52764</td>\n",
       "      <td>14178</td>\n",
       "      <td>83961</td>\n",
       "      <td>26219</td>\n",
       "      <td>130693</td>\n",
       "      <td>11193</td>\n",
       "      <td>86130</td>\n",
       "      <td>20675</td>\n",
       "      <td>101180</td>\n",
       "    </tr>\n",
       "    <tr>\n",
       "      <th>2020-10-07</th>\n",
       "      <td>7090</td>\n",
       "      <td>48514</td>\n",
       "      <td>3227</td>\n",
       "      <td>18876</td>\n",
       "      <td>8126</td>\n",
       "      <td>53803</td>\n",
       "      <td>2476</td>\n",
       "      <td>17918</td>\n",
       "      <td>11425</td>\n",
       "      <td>56360</td>\n",
       "      <td>14752</td>\n",
       "      <td>86849</td>\n",
       "      <td>26443</td>\n",
       "      <td>134036</td>\n",
       "      <td>11166</td>\n",
       "      <td>86913</td>\n",
       "      <td>20208</td>\n",
       "      <td>99960</td>\n",
       "    </tr>\n",
       "    <tr>\n",
       "      <th>2020-10-08</th>\n",
       "      <td>7313</td>\n",
       "      <td>49405</td>\n",
       "      <td>3313</td>\n",
       "      <td>19392</td>\n",
       "      <td>8370</td>\n",
       "      <td>55294</td>\n",
       "      <td>2559</td>\n",
       "      <td>18748</td>\n",
       "      <td>11800</td>\n",
       "      <td>58204</td>\n",
       "      <td>15760</td>\n",
       "      <td>90958</td>\n",
       "      <td>28160</td>\n",
       "      <td>140175</td>\n",
       "      <td>11907</td>\n",
       "      <td>88834</td>\n",
       "      <td>21469</td>\n",
       "      <td>104514</td>\n",
       "    </tr>\n",
       "    <tr>\n",
       "      <th>2020-10-09</th>\n",
       "      <td>7540</td>\n",
       "      <td>46132</td>\n",
       "      <td>3402</td>\n",
       "      <td>19839</td>\n",
       "      <td>10035</td>\n",
       "      <td>60207</td>\n",
       "      <td>2531</td>\n",
       "      <td>17999</td>\n",
       "      <td>13433</td>\n",
       "      <td>61760</td>\n",
       "      <td>17321</td>\n",
       "      <td>95125</td>\n",
       "      <td>30816</td>\n",
       "      <td>142961</td>\n",
       "      <td>13464</td>\n",
       "      <td>93085</td>\n",
       "      <td>25545</td>\n",
       "      <td>119287</td>\n",
       "    </tr>\n",
       "    <tr>\n",
       "      <th>2020-10-10</th>\n",
       "      <td>6316</td>\n",
       "      <td>34818</td>\n",
       "      <td>3177</td>\n",
       "      <td>16757</td>\n",
       "      <td>10105</td>\n",
       "      <td>51852</td>\n",
       "      <td>2605</td>\n",
       "      <td>16447</td>\n",
       "      <td>12107</td>\n",
       "      <td>48178</td>\n",
       "      <td>19018</td>\n",
       "      <td>91976</td>\n",
       "      <td>32227</td>\n",
       "      <td>132258</td>\n",
       "      <td>14218</td>\n",
       "      <td>85350</td>\n",
       "      <td>26894</td>\n",
       "      <td>111136</td>\n",
       "    </tr>\n",
       "  </tbody>\n",
       "</table>\n",
       "</div>"
      ],
      "text/plain": [
       "crossing   Brooklyn Battery        Cross Bay        Henry Hudson         \\\n",
       "variable               cash ezpass      cash ezpass         cash ezpass   \n",
       "datetime                                                                  \n",
       "2020-09-06             6117  30212      5033  21712         7646  39753   \n",
       "2020-09-07             5096  26185      4479  19265         7338  39943   \n",
       "2020-09-08             7067  48038      3723  20921         8249  52342   \n",
       "2020-09-09             7299  49254      3197  19495         7970  54056   \n",
       "2020-09-10             7001  48671      2972  17770         7947  52680   \n",
       "2020-09-11             8412  48466      3594  20899         9942  60717   \n",
       "2020-09-12             6373  33000      3547  18167         9498  49125   \n",
       "2020-09-13             5622  29947      2974  15320         6984  40328   \n",
       "2020-09-14             7039  47134      3448  19321         7758  50456   \n",
       "2020-09-15             7059  48456      3312  19223         8001  54097   \n",
       "2020-09-16             7144  47924      3201  19159         7893  53611   \n",
       "2020-09-17             7414  50449      3367  19263         8446  56802   \n",
       "2020-09-18             7892  48118      3389  19678        10121  60502   \n",
       "2020-09-19             6688  33910      3244  17017         9485  48963   \n",
       "2020-09-20             5145  26614      2776  14633         7892  42830   \n",
       "2020-09-21             6883  45178      2966  18109         8070  50502   \n",
       "2020-09-22             7137  48129      3328  19380         8084  52792   \n",
       "2020-09-23             7354  50102      3612  20659         8520  56115   \n",
       "2020-09-24             7553  49494      3173  19502         9238  58189   \n",
       "2020-09-25             8190  50476      3599  20703        10649  61564   \n",
       "2020-09-26             6756  36662      3269  17050         9897  51542   \n",
       "2020-09-27             5292  28346      2937  15961         8291  43456   \n",
       "2020-09-28             5762  35586      3005  17535         7211  45275   \n",
       "2020-09-29             6881  48250      3013  18058         7680  51968   \n",
       "2020-09-30             7298  49791      3262  18869         8275  54657   \n",
       "2020-10-01             7871  51671      3405  20417         8800  58247   \n",
       "2020-10-02             7681  48991      3482  20210        10208  60587   \n",
       "2020-10-03             7157  35244      3133  16884         9799  50638   \n",
       "2020-10-04             4910  26317      2573  14302         8245  44802   \n",
       "2020-10-05             6750  45939      3066  18206         7562  48787   \n",
       "2020-10-06             7093  48860      3385  18802         7695  52157   \n",
       "2020-10-07             7090  48514      3227  18876         8126  53803   \n",
       "2020-10-08             7313  49405      3313  19392         8370  55294   \n",
       "2020-10-09             7540  46132      3402  19839        10035  60207   \n",
       "2020-10-10             6316  34818      3177  16757        10105  51852   \n",
       "\n",
       "crossing   Marine Parkway        Queens Midtown        Throgs Neck         \\\n",
       "variable             cash ezpass           cash ezpass        cash ezpass   \n",
       "datetime                                                                    \n",
       "2020-09-06           5524  26312           9804  34976       21163  95740   \n",
       "2020-09-07           4510  23131           9018  35091       19276  88550   \n",
       "2020-09-08           3450  22074          11666  54996       16068  90434   \n",
       "2020-09-09           2877  19944          11353  55885       15121  89586   \n",
       "2020-09-10           2565  17930          11189  54720       14689  85469   \n",
       "2020-09-11           3217  21266          13150  60236       17254  93955   \n",
       "2020-09-12           3249  18416          11830  46223       19070  91079   \n",
       "2020-09-13           2883  15867           9668  38228       17919  85451   \n",
       "2020-09-14           3048  19650          11071  52747       14968  85243   \n",
       "2020-09-15           2978  19763          11623  56283       14776  86100   \n",
       "2020-09-16           2699  19577          11182  55362       14509  86537   \n",
       "2020-09-17           2637  20264          12130  59576       15200  90044   \n",
       "2020-09-18           2720  19869          13023  61189       17249  94028   \n",
       "2020-09-19           2600  16105          11141  44037       19340  90636   \n",
       "2020-09-20           2088  13542          10070  39717       18627  86799   \n",
       "2020-09-21           2392  17927          10928  52749       14598  83023   \n",
       "2020-09-22           2693  19725          11381  55601       14533  85082   \n",
       "2020-09-23           3065  21213          11628  57160       14859  87105   \n",
       "2020-09-24           2607  19570          12389  60529       15106  88542   \n",
       "2020-09-25           2857  20432          14013  63706       17509  96495   \n",
       "2020-09-26           2554  16034          12013  48318       19970  92890   \n",
       "2020-09-27           2633  16150           9882  39061       18897  88386   \n",
       "2020-09-28           2154  15702           9772  47576       15574  87976   \n",
       "2020-09-29           2352  17519          10697  53834       14327  83664   \n",
       "2020-09-30           2526  18349          11988  58253       14801  85453   \n",
       "2020-10-01           2647  19995          12590  61178       15871  90469   \n",
       "2020-10-02           2576  19419          13264  61390       16830  91784   \n",
       "2020-10-03           2477  16093          12218  49066       19250  90660   \n",
       "2020-10-04           2145  13689          10130  39539       18806  89452   \n",
       "2020-10-05           2276  17705          10717  51683       14332  81883   \n",
       "2020-10-06           2518  18667          10831  52764       14178  83961   \n",
       "2020-10-07           2476  17918          11425  56360       14752  86849   \n",
       "2020-10-08           2559  18748          11800  58204       15760  90958   \n",
       "2020-10-09           2531  17999          13433  61760       17321  95125   \n",
       "2020-10-10           2605  16447          12107  48178       19018  91976   \n",
       "\n",
       "crossing   Triboro         Verrazano        Whitestone          \n",
       "variable      cash  ezpass      cash ezpass       cash  ezpass  \n",
       "datetime                                                        \n",
       "2020-09-06   28024  109782     13903  76673      24696   97417  \n",
       "2020-09-07   25998  106573     12519  68131      22920   92090  \n",
       "2020-09-08   27854  136734     12177  87969      20969  100301  \n",
       "2020-09-09   27343  136267     11855  87395      20529   97984  \n",
       "2020-09-10   26040  133479     11681  85893      19659   94887  \n",
       "2020-09-11   31671  147087     14120  93094      23401  108569  \n",
       "2020-09-12   30679  124812     13990  84897      25205  102833  \n",
       "2020-09-13   26980  109945     12739  73131      23259   93122  \n",
       "2020-09-14   27092  130731     11595  83848      21219   99363  \n",
       "2020-09-15   26343  131573     11214  86504      20487  101568  \n",
       "2020-09-16   27195  134672     11489  87086      20283   99934  \n",
       "2020-09-17   28020  137275     11919  89345      21364  104309  \n",
       "2020-09-18   31130  146012     13086  93416      24564  113048  \n",
       "2020-09-19   31815  131068     14110  83756      26151  106046  \n",
       "2020-09-20   26779  112151     12592  71460      24057   96373  \n",
       "2020-09-21   26204  128930     11564  83725      20717   99627  \n",
       "2020-09-22   25613  131328     11289  86204      20541   99400  \n",
       "2020-09-23   26724  135002     11380  88383      20908  102127  \n",
       "2020-09-24   27994  141749     11935  90787      21549  105909  \n",
       "2020-09-25   30749  147122     13693  94604      25130  113298  \n",
       "2020-09-26   31844  133632     14300  84594      26875  108703  \n",
       "2020-09-27   27614  116553     13086  74907      24860   99040  \n",
       "2020-09-28   26964  129722     11471  76555      20944   98610  \n",
       "2020-09-29   25265  131351     11374  84952      19558   95302  \n",
       "2020-09-30   26497  134153     11693  87303      20935  100882  \n",
       "2020-10-01   29070  144872     12292  91512      21749  104997  \n",
       "2020-10-02   30672  142815     13136  94082      24847  112627  \n",
       "2020-10-03   31813  130772     13899  83888      26227  104966  \n",
       "2020-10-04   27493  114333     12531  70887      23237   92407  \n",
       "2020-10-05   26002  128643     11369  84279      20802   99458  \n",
       "2020-10-06   26219  130693     11193  86130      20675  101180  \n",
       "2020-10-07   26443  134036     11166  86913      20208   99960  \n",
       "2020-10-08   28160  140175     11907  88834      21469  104514  \n",
       "2020-10-09   30816  142961     13464  93085      25545  119287  \n",
       "2020-10-10   32227  132258     14218  85350      26894  111136  "
      ]
     },
     "execution_count": 203,
     "metadata": {},
     "output_type": "execute_result"
    }
   ],
   "source": [
    "_test_pivot"
   ]
  },
  {
   "cell_type": "code",
   "execution_count": 99,
   "metadata": {},
   "outputs": [
    {
     "name": "stdout",
     "output_type": "stream",
     "text": [
      "('Brooklyn Battery', 'cash') -278.1550693587924\n",
      "('Brooklyn Battery', 'ezpass') 74889.09317507315\n",
      "('Cross Bay', 'cash') 126.90463040419854\n",
      "('Cross Bay', 'ezpass') 23522.4257764169\n",
      "('Henry Hudson', 'cash') -3325.0628475947306\n",
      "('Henry Hudson', 'ezpass') -31781.3404686898\n",
      "('Marine Parkway', 'cash') 5941.925150502881\n",
      "('Marine Parkway', 'ezpass') 26475.470203319914\n",
      "('Queens Midtown', 'cash') 607.524824435648\n",
      "('Queens Midtown', 'ezpass') 596.3616537856869\n",
      "('Throgs Neck', 'cash') -385.5392971652327\n",
      "('Throgs Neck', 'ezpass') 149710.80463140272\n",
      "('Triboro', 'cash') -60270.825235487544\n",
      "('Triboro', 'ezpass') -98093.35787317995\n",
      "('Verrazano', 'cash') -6321.615199856227\n",
      "('Verrazano', 'ezpass') 84772.03666504938\n",
      "('Whitestone', 'cash') -51720.251696567284\n",
      "('Whitestone', 'ezpass') 34940.329440886155\n"
     ]
    }
   ],
   "source": [
    "for i in crossing_rates.keys():\n",
    "    print(i, _lgbm_pivot[i].sum() - _test_pivot[i].sum())"
   ]
  },
  {
   "cell_type": "code",
   "execution_count": 96,
   "metadata": {},
   "outputs": [
    {
     "data": {
      "text/html": [
       "<div>\n",
       "<style scoped>\n",
       "    .dataframe tbody tr th:only-of-type {\n",
       "        vertical-align: middle;\n",
       "    }\n",
       "\n",
       "    .dataframe tbody tr th {\n",
       "        vertical-align: top;\n",
       "    }\n",
       "\n",
       "    .dataframe thead tr th {\n",
       "        text-align: left;\n",
       "    }\n",
       "\n",
       "    .dataframe thead tr:last-of-type th {\n",
       "        text-align: right;\n",
       "    }\n",
       "</style>\n",
       "<table border=\"1\" class=\"dataframe\">\n",
       "  <thead>\n",
       "    <tr>\n",
       "      <th>crossing</th>\n",
       "      <th colspan=\"2\" halign=\"left\">Brooklyn Battery</th>\n",
       "      <th colspan=\"2\" halign=\"left\">Cross Bay</th>\n",
       "      <th colspan=\"2\" halign=\"left\">Henry Hudson</th>\n",
       "      <th colspan=\"2\" halign=\"left\">Marine Parkway</th>\n",
       "      <th colspan=\"2\" halign=\"left\">Queens Midtown</th>\n",
       "      <th colspan=\"2\" halign=\"left\">Throgs Neck</th>\n",
       "      <th colspan=\"2\" halign=\"left\">Triboro</th>\n",
       "      <th colspan=\"2\" halign=\"left\">Verrazano</th>\n",
       "      <th colspan=\"2\" halign=\"left\">Whitestone</th>\n",
       "    </tr>\n",
       "    <tr>\n",
       "      <th>variable</th>\n",
       "      <th>cash</th>\n",
       "      <th>ezpass</th>\n",
       "      <th>cash</th>\n",
       "      <th>ezpass</th>\n",
       "      <th>cash</th>\n",
       "      <th>ezpass</th>\n",
       "      <th>cash</th>\n",
       "      <th>ezpass</th>\n",
       "      <th>cash</th>\n",
       "      <th>ezpass</th>\n",
       "      <th>cash</th>\n",
       "      <th>ezpass</th>\n",
       "      <th>cash</th>\n",
       "      <th>ezpass</th>\n",
       "      <th>cash</th>\n",
       "      <th>ezpass</th>\n",
       "      <th>cash</th>\n",
       "      <th>ezpass</th>\n",
       "    </tr>\n",
       "    <tr>\n",
       "      <th>datetime</th>\n",
       "      <th></th>\n",
       "      <th></th>\n",
       "      <th></th>\n",
       "      <th></th>\n",
       "      <th></th>\n",
       "      <th></th>\n",
       "      <th></th>\n",
       "      <th></th>\n",
       "      <th></th>\n",
       "      <th></th>\n",
       "      <th></th>\n",
       "      <th></th>\n",
       "      <th></th>\n",
       "      <th></th>\n",
       "      <th></th>\n",
       "      <th></th>\n",
       "      <th></th>\n",
       "      <th></th>\n",
       "    </tr>\n",
       "  </thead>\n",
       "  <tbody>\n",
       "    <tr>\n",
       "      <th>2020-09-06</th>\n",
       "      <td>5454.680943</td>\n",
       "      <td>32997.709207</td>\n",
       "      <td>3680.692469</td>\n",
       "      <td>18523.344030</td>\n",
       "      <td>7503.732863</td>\n",
       "      <td>45844.808199</td>\n",
       "      <td>3989.244565</td>\n",
       "      <td>20773.010355</td>\n",
       "      <td>10730.736345</td>\n",
       "      <td>44280.400177</td>\n",
       "      <td>18335.637762</td>\n",
       "      <td>91992.988081</td>\n",
       "      <td>27728.675878</td>\n",
       "      <td>110905.504251</td>\n",
       "      <td>12169.630990</td>\n",
       "      <td>78351.643906</td>\n",
       "      <td>22130.535841</td>\n",
       "      <td>97519.970073</td>\n",
       "    </tr>\n",
       "    <tr>\n",
       "      <th>2020-09-07</th>\n",
       "      <td>6223.981604</td>\n",
       "      <td>35318.445069</td>\n",
       "      <td>3329.024885</td>\n",
       "      <td>17074.582759</td>\n",
       "      <td>7195.080270</td>\n",
       "      <td>39438.236165</td>\n",
       "      <td>2697.238382</td>\n",
       "      <td>17795.552190</td>\n",
       "      <td>10950.333450</td>\n",
       "      <td>41014.351805</td>\n",
       "      <td>16651.468253</td>\n",
       "      <td>82742.810992</td>\n",
       "      <td>25649.357661</td>\n",
       "      <td>118065.841393</td>\n",
       "      <td>11855.190408</td>\n",
       "      <td>77479.356987</td>\n",
       "      <td>19949.801754</td>\n",
       "      <td>93974.713398</td>\n",
       "    </tr>\n",
       "    <tr>\n",
       "      <th>2020-09-08</th>\n",
       "      <td>6501.302970</td>\n",
       "      <td>48128.716720</td>\n",
       "      <td>3380.616174</td>\n",
       "      <td>19829.689753</td>\n",
       "      <td>7527.774634</td>\n",
       "      <td>53079.982308</td>\n",
       "      <td>2790.567237</td>\n",
       "      <td>20114.430200</td>\n",
       "      <td>11240.357834</td>\n",
       "      <td>56745.189667</td>\n",
       "      <td>15068.101371</td>\n",
       "      <td>90248.890437</td>\n",
       "      <td>25585.317712</td>\n",
       "      <td>134744.291190</td>\n",
       "      <td>11129.958845</td>\n",
       "      <td>87777.833177</td>\n",
       "      <td>18823.099415</td>\n",
       "      <td>99883.577683</td>\n",
       "    </tr>\n",
       "    <tr>\n",
       "      <th>2020-09-09</th>\n",
       "      <td>6809.957377</td>\n",
       "      <td>49696.574051</td>\n",
       "      <td>3099.646810</td>\n",
       "      <td>18843.321415</td>\n",
       "      <td>7832.174385</td>\n",
       "      <td>55122.900897</td>\n",
       "      <td>2819.372473</td>\n",
       "      <td>18598.761359</td>\n",
       "      <td>11103.992174</td>\n",
       "      <td>57139.395058</td>\n",
       "      <td>14956.343240</td>\n",
       "      <td>91249.292314</td>\n",
       "      <td>25460.472108</td>\n",
       "      <td>127634.257314</td>\n",
       "      <td>11264.950746</td>\n",
       "      <td>89436.185809</td>\n",
       "      <td>19675.459013</td>\n",
       "      <td>102125.489915</td>\n",
       "    </tr>\n",
       "    <tr>\n",
       "      <th>2020-09-10</th>\n",
       "      <td>7516.061394</td>\n",
       "      <td>51109.991205</td>\n",
       "      <td>2936.140962</td>\n",
       "      <td>19867.977494</td>\n",
       "      <td>8460.807649</td>\n",
       "      <td>57561.020782</td>\n",
       "      <td>2660.363026</td>\n",
       "      <td>20124.412769</td>\n",
       "      <td>11737.394702</td>\n",
       "      <td>61504.623713</td>\n",
       "      <td>15079.510829</td>\n",
       "      <td>92634.409248</td>\n",
       "      <td>26740.775353</td>\n",
       "      <td>137048.415127</td>\n",
       "      <td>11387.757928</td>\n",
       "      <td>90442.885398</td>\n",
       "      <td>20826.889751</td>\n",
       "      <td>104545.445216</td>\n",
       "    </tr>\n",
       "    <tr>\n",
       "      <th>2020-09-11</th>\n",
       "      <td>7727.360240</td>\n",
       "      <td>48178.950695</td>\n",
       "      <td>4203.938153</td>\n",
       "      <td>22389.944097</td>\n",
       "      <td>9584.599689</td>\n",
       "      <td>59599.113347</td>\n",
       "      <td>3603.194575</td>\n",
       "      <td>22014.491540</td>\n",
       "      <td>13130.380705</td>\n",
       "      <td>61024.822266</td>\n",
       "      <td>17090.665565</td>\n",
       "      <td>98282.927037</td>\n",
       "      <td>27562.916396</td>\n",
       "      <td>141371.069287</td>\n",
       "      <td>13328.943018</td>\n",
       "      <td>91608.323433</td>\n",
       "      <td>24067.479467</td>\n",
       "      <td>112128.723181</td>\n",
       "    </tr>\n",
       "    <tr>\n",
       "      <th>2020-09-12</th>\n",
       "      <td>6129.958220</td>\n",
       "      <td>32649.423783</td>\n",
       "      <td>3531.548540</td>\n",
       "      <td>18211.635436</td>\n",
       "      <td>8944.382385</td>\n",
       "      <td>46419.574095</td>\n",
       "      <td>3280.759266</td>\n",
       "      <td>18302.761608</td>\n",
       "      <td>10636.683194</td>\n",
       "      <td>41905.119445</td>\n",
       "      <td>18859.318574</td>\n",
       "      <td>92629.057095</td>\n",
       "      <td>26723.229937</td>\n",
       "      <td>116770.029667</td>\n",
       "      <td>13359.020030</td>\n",
       "      <td>86298.274970</td>\n",
       "      <td>23177.407712</td>\n",
       "      <td>102168.149119</td>\n",
       "    </tr>\n",
       "    <tr>\n",
       "      <th>2020-09-13</th>\n",
       "      <td>5864.519716</td>\n",
       "      <td>35255.725676</td>\n",
       "      <td>3430.756220</td>\n",
       "      <td>17941.465795</td>\n",
       "      <td>7440.196066</td>\n",
       "      <td>46190.157533</td>\n",
       "      <td>3068.927287</td>\n",
       "      <td>18725.581811</td>\n",
       "      <td>11264.606527</td>\n",
       "      <td>46480.845417</td>\n",
       "      <td>18366.802174</td>\n",
       "      <td>93675.860989</td>\n",
       "      <td>26321.692991</td>\n",
       "      <td>113021.113704</td>\n",
       "      <td>12438.746789</td>\n",
       "      <td>80727.885169</td>\n",
       "      <td>22248.985138</td>\n",
       "      <td>100060.505024</td>\n",
       "    </tr>\n",
       "    <tr>\n",
       "      <th>2020-09-14</th>\n",
       "      <td>6793.070772</td>\n",
       "      <td>47646.943567</td>\n",
       "      <td>3561.070098</td>\n",
       "      <td>18850.166418</td>\n",
       "      <td>7521.328810</td>\n",
       "      <td>52746.701271</td>\n",
       "      <td>2875.482081</td>\n",
       "      <td>19617.159696</td>\n",
       "      <td>11046.577272</td>\n",
       "      <td>53543.823276</td>\n",
       "      <td>15517.489959</td>\n",
       "      <td>89862.412766</td>\n",
       "      <td>25743.611736</td>\n",
       "      <td>125723.730499</td>\n",
       "      <td>11551.285330</td>\n",
       "      <td>85840.269047</td>\n",
       "      <td>19868.528440</td>\n",
       "      <td>99288.802426</td>\n",
       "    </tr>\n",
       "    <tr>\n",
       "      <th>2020-09-15</th>\n",
       "      <td>6890.997154</td>\n",
       "      <td>50069.093836</td>\n",
       "      <td>3583.585243</td>\n",
       "      <td>20053.824752</td>\n",
       "      <td>7544.651769</td>\n",
       "      <td>55764.662309</td>\n",
       "      <td>3027.651064</td>\n",
       "      <td>20677.374369</td>\n",
       "      <td>11340.663705</td>\n",
       "      <td>57541.027693</td>\n",
       "      <td>14677.327238</td>\n",
       "      <td>90527.436656</td>\n",
       "      <td>25371.995576</td>\n",
       "      <td>135407.637555</td>\n",
       "      <td>11436.190182</td>\n",
       "      <td>88800.004808</td>\n",
       "      <td>19243.420649</td>\n",
       "      <td>100194.246660</td>\n",
       "    </tr>\n",
       "    <tr>\n",
       "      <th>2020-09-16</th>\n",
       "      <td>6854.773326</td>\n",
       "      <td>51195.781413</td>\n",
       "      <td>3650.534890</td>\n",
       "      <td>18969.492728</td>\n",
       "      <td>7832.755952</td>\n",
       "      <td>56126.651000</td>\n",
       "      <td>2852.085789</td>\n",
       "      <td>19361.152352</td>\n",
       "      <td>11313.324777</td>\n",
       "      <td>57984.687969</td>\n",
       "      <td>15231.548561</td>\n",
       "      <td>93748.362051</td>\n",
       "      <td>25596.072290</td>\n",
       "      <td>126461.176459</td>\n",
       "      <td>11589.972084</td>\n",
       "      <td>89984.558806</td>\n",
       "      <td>19685.120008</td>\n",
       "      <td>104687.641092</td>\n",
       "    </tr>\n",
       "    <tr>\n",
       "      <th>2020-09-17</th>\n",
       "      <td>7730.888971</td>\n",
       "      <td>51927.319990</td>\n",
       "      <td>3538.131593</td>\n",
       "      <td>20558.957360</td>\n",
       "      <td>8444.680863</td>\n",
       "      <td>59015.968511</td>\n",
       "      <td>3022.860181</td>\n",
       "      <td>21136.729642</td>\n",
       "      <td>11922.543326</td>\n",
       "      <td>61499.955573</td>\n",
       "      <td>15373.384337</td>\n",
       "      <td>94977.152699</td>\n",
       "      <td>27446.481515</td>\n",
       "      <td>140383.136659</td>\n",
       "      <td>12030.670438</td>\n",
       "      <td>91808.940949</td>\n",
       "      <td>21345.230083</td>\n",
       "      <td>107481.461509</td>\n",
       "    </tr>\n",
       "    <tr>\n",
       "      <th>2020-09-18</th>\n",
       "      <td>7811.671637</td>\n",
       "      <td>50080.978672</td>\n",
       "      <td>3702.767648</td>\n",
       "      <td>22460.487164</td>\n",
       "      <td>9769.006479</td>\n",
       "      <td>58595.970492</td>\n",
       "      <td>3560.193698</td>\n",
       "      <td>22399.943297</td>\n",
       "      <td>12897.649343</td>\n",
       "      <td>60402.652853</td>\n",
       "      <td>16960.969392</td>\n",
       "      <td>98580.817454</td>\n",
       "      <td>27528.817672</td>\n",
       "      <td>136636.741161</td>\n",
       "      <td>13095.392129</td>\n",
       "      <td>92004.630036</td>\n",
       "      <td>22830.888383</td>\n",
       "      <td>107551.844936</td>\n",
       "    </tr>\n",
       "    <tr>\n",
       "      <th>2020-09-19</th>\n",
       "      <td>6327.601817</td>\n",
       "      <td>34993.438815</td>\n",
       "      <td>3434.752845</td>\n",
       "      <td>18653.736856</td>\n",
       "      <td>9078.354741</td>\n",
       "      <td>45124.176977</td>\n",
       "      <td>3204.786205</td>\n",
       "      <td>18895.658510</td>\n",
       "      <td>10828.423602</td>\n",
       "      <td>40894.383391</td>\n",
       "      <td>19111.074124</td>\n",
       "      <td>92068.725041</td>\n",
       "      <td>27301.226940</td>\n",
       "      <td>114854.818411</td>\n",
       "      <td>13200.869669</td>\n",
       "      <td>86278.995620</td>\n",
       "      <td>23255.793354</td>\n",
       "      <td>100520.200264</td>\n",
       "    </tr>\n",
       "    <tr>\n",
       "      <th>2020-09-20</th>\n",
       "      <td>5571.434511</td>\n",
       "      <td>37610.889415</td>\n",
       "      <td>3279.168497</td>\n",
       "      <td>17664.484258</td>\n",
       "      <td>7750.938496</td>\n",
       "      <td>42860.842525</td>\n",
       "      <td>3134.774707</td>\n",
       "      <td>18865.854767</td>\n",
       "      <td>11248.233327</td>\n",
       "      <td>42371.891663</td>\n",
       "      <td>18110.286746</td>\n",
       "      <td>93212.458178</td>\n",
       "      <td>26967.009321</td>\n",
       "      <td>111499.135983</td>\n",
       "      <td>12413.330582</td>\n",
       "      <td>80273.941117</td>\n",
       "      <td>21661.584568</td>\n",
       "      <td>96441.565773</td>\n",
       "    </tr>\n",
       "    <tr>\n",
       "      <th>2020-09-21</th>\n",
       "      <td>6124.663319</td>\n",
       "      <td>44623.219632</td>\n",
       "      <td>3069.885489</td>\n",
       "      <td>18193.352958</td>\n",
       "      <td>7359.231006</td>\n",
       "      <td>47829.025369</td>\n",
       "      <td>2740.897029</td>\n",
       "      <td>18760.601615</td>\n",
       "      <td>10390.978940</td>\n",
       "      <td>49445.432906</td>\n",
       "      <td>14935.332684</td>\n",
       "      <td>91254.621870</td>\n",
       "      <td>24590.692198</td>\n",
       "      <td>127978.264955</td>\n",
       "      <td>10877.947523</td>\n",
       "      <td>84465.037991</td>\n",
       "      <td>19600.866856</td>\n",
       "      <td>99497.152526</td>\n",
       "    </tr>\n",
       "    <tr>\n",
       "      <th>2020-09-22</th>\n",
       "      <td>6653.956700</td>\n",
       "      <td>48209.934144</td>\n",
       "      <td>3147.143378</td>\n",
       "      <td>19847.851001</td>\n",
       "      <td>7573.937439</td>\n",
       "      <td>54777.317424</td>\n",
       "      <td>2743.778467</td>\n",
       "      <td>20083.159230</td>\n",
       "      <td>10436.731742</td>\n",
       "      <td>56995.623811</td>\n",
       "      <td>14371.832225</td>\n",
       "      <td>93450.112450</td>\n",
       "      <td>24243.975203</td>\n",
       "      <td>138983.204955</td>\n",
       "      <td>11076.959285</td>\n",
       "      <td>87756.786473</td>\n",
       "      <td>18482.973874</td>\n",
       "      <td>102454.582271</td>\n",
       "    </tr>\n",
       "    <tr>\n",
       "      <th>2020-09-23</th>\n",
       "      <td>6965.373087</td>\n",
       "      <td>49595.670264</td>\n",
       "      <td>3188.144594</td>\n",
       "      <td>19354.362076</td>\n",
       "      <td>7871.194719</td>\n",
       "      <td>55484.136500</td>\n",
       "      <td>2930.518350</td>\n",
       "      <td>19493.605211</td>\n",
       "      <td>10585.569975</td>\n",
       "      <td>57255.935129</td>\n",
       "      <td>14832.318307</td>\n",
       "      <td>95188.326288</td>\n",
       "      <td>25156.718951</td>\n",
       "      <td>131464.313854</td>\n",
       "      <td>11338.164701</td>\n",
       "      <td>90504.296602</td>\n",
       "      <td>19634.264787</td>\n",
       "      <td>105371.870980</td>\n",
       "    </tr>\n",
       "    <tr>\n",
       "      <th>2020-09-24</th>\n",
       "      <td>7449.179741</td>\n",
       "      <td>49106.122346</td>\n",
       "      <td>3303.116870</td>\n",
       "      <td>19821.534026</td>\n",
       "      <td>8196.570904</td>\n",
       "      <td>58340.339140</td>\n",
       "      <td>2746.061068</td>\n",
       "      <td>20804.160671</td>\n",
       "      <td>10741.666134</td>\n",
       "      <td>59908.927437</td>\n",
       "      <td>14859.420989</td>\n",
       "      <td>95678.171025</td>\n",
       "      <td>25653.298289</td>\n",
       "      <td>140828.630005</td>\n",
       "      <td>11418.254113</td>\n",
       "      <td>89272.293718</td>\n",
       "      <td>20576.089671</td>\n",
       "      <td>103449.741272</td>\n",
       "    </tr>\n",
       "    <tr>\n",
       "      <th>2020-09-25</th>\n",
       "      <td>7965.811374</td>\n",
       "      <td>49775.801293</td>\n",
       "      <td>3312.479210</td>\n",
       "      <td>21993.344002</td>\n",
       "      <td>9923.590903</td>\n",
       "      <td>58916.704081</td>\n",
       "      <td>3108.841530</td>\n",
       "      <td>21713.766107</td>\n",
       "      <td>12337.784007</td>\n",
       "      <td>62097.616843</td>\n",
       "      <td>16607.153308</td>\n",
       "      <td>99313.362247</td>\n",
       "      <td>28036.610831</td>\n",
       "      <td>145337.883856</td>\n",
       "      <td>12609.660035</td>\n",
       "      <td>90643.272877</td>\n",
       "      <td>22717.687021</td>\n",
       "      <td>107436.989709</td>\n",
       "    </tr>\n",
       "    <tr>\n",
       "      <th>2020-09-26</th>\n",
       "      <td>6342.230987</td>\n",
       "      <td>38897.621322</td>\n",
       "      <td>3288.371084</td>\n",
       "      <td>18595.129235</td>\n",
       "      <td>9457.648786</td>\n",
       "      <td>44927.440513</td>\n",
       "      <td>3358.372063</td>\n",
       "      <td>18577.668971</td>\n",
       "      <td>10852.855131</td>\n",
       "      <td>41497.085158</td>\n",
       "      <td>18866.618560</td>\n",
       "      <td>93494.856470</td>\n",
       "      <td>28222.766190</td>\n",
       "      <td>122028.120683</td>\n",
       "      <td>13429.938040</td>\n",
       "      <td>88614.183347</td>\n",
       "      <td>24321.185678</td>\n",
       "      <td>104201.003737</td>\n",
       "    </tr>\n",
       "    <tr>\n",
       "      <th>2020-09-27</th>\n",
       "      <td>5886.208093</td>\n",
       "      <td>37654.622436</td>\n",
       "      <td>3137.635095</td>\n",
       "      <td>17437.384821</td>\n",
       "      <td>8047.092487</td>\n",
       "      <td>39873.467303</td>\n",
       "      <td>3096.824647</td>\n",
       "      <td>17872.183130</td>\n",
       "      <td>11133.208317</td>\n",
       "      <td>39511.417217</td>\n",
       "      <td>18114.026136</td>\n",
       "      <td>92088.231950</td>\n",
       "      <td>26931.059480</td>\n",
       "      <td>115810.114484</td>\n",
       "      <td>12646.671824</td>\n",
       "      <td>79765.870643</td>\n",
       "      <td>21863.146128</td>\n",
       "      <td>99626.026354</td>\n",
       "    </tr>\n",
       "    <tr>\n",
       "      <th>2020-09-28</th>\n",
       "      <td>7136.219979</td>\n",
       "      <td>44001.596289</td>\n",
       "      <td>3174.691103</td>\n",
       "      <td>18193.751698</td>\n",
       "      <td>8544.036887</td>\n",
       "      <td>47025.608341</td>\n",
       "      <td>2839.040828</td>\n",
       "      <td>18211.765478</td>\n",
       "      <td>11913.823821</td>\n",
       "      <td>47542.875319</td>\n",
       "      <td>17179.255501</td>\n",
       "      <td>92049.033789</td>\n",
       "      <td>26406.455476</td>\n",
       "      <td>124900.285847</td>\n",
       "      <td>12620.090350</td>\n",
       "      <td>85344.261974</td>\n",
       "      <td>21115.060809</td>\n",
       "      <td>101870.201063</td>\n",
       "    </tr>\n",
       "    <tr>\n",
       "      <th>2020-09-29</th>\n",
       "      <td>7068.538955</td>\n",
       "      <td>45234.144828</td>\n",
       "      <td>3265.825556</td>\n",
       "      <td>19162.267497</td>\n",
       "      <td>8250.178934</td>\n",
       "      <td>49364.490842</td>\n",
       "      <td>2876.127907</td>\n",
       "      <td>18949.309712</td>\n",
       "      <td>11425.815922</td>\n",
       "      <td>51859.660689</td>\n",
       "      <td>16075.333217</td>\n",
       "      <td>93607.069291</td>\n",
       "      <td>25980.479576</td>\n",
       "      <td>135948.744476</td>\n",
       "      <td>12149.162092</td>\n",
       "      <td>89518.840353</td>\n",
       "      <td>20526.595866</td>\n",
       "      <td>104349.147085</td>\n",
       "    </tr>\n",
       "    <tr>\n",
       "      <th>2020-09-30</th>\n",
       "      <td>7050.820072</td>\n",
       "      <td>44025.430168</td>\n",
       "      <td>3305.885575</td>\n",
       "      <td>18816.330291</td>\n",
       "      <td>8478.032856</td>\n",
       "      <td>49769.493136</td>\n",
       "      <td>2733.033101</td>\n",
       "      <td>18484.708939</td>\n",
       "      <td>11669.655318</td>\n",
       "      <td>52052.953846</td>\n",
       "      <td>16020.084191</td>\n",
       "      <td>94094.070010</td>\n",
       "      <td>26710.727272</td>\n",
       "      <td>131821.043269</td>\n",
       "      <td>12202.476110</td>\n",
       "      <td>89469.534342</td>\n",
       "      <td>21157.080405</td>\n",
       "      <td>106168.522593</td>\n",
       "    </tr>\n",
       "    <tr>\n",
       "      <th>2020-10-01</th>\n",
       "      <td>7902.330296</td>\n",
       "      <td>46614.595789</td>\n",
       "      <td>3084.607318</td>\n",
       "      <td>18968.954860</td>\n",
       "      <td>9124.858583</td>\n",
       "      <td>53548.083351</td>\n",
       "      <td>2756.701990</td>\n",
       "      <td>18931.019222</td>\n",
       "      <td>11761.868701</td>\n",
       "      <td>57576.427319</td>\n",
       "      <td>16116.017224</td>\n",
       "      <td>94420.011784</td>\n",
       "      <td>27024.007164</td>\n",
       "      <td>136970.961467</td>\n",
       "      <td>12285.044822</td>\n",
       "      <td>89618.519940</td>\n",
       "      <td>20454.373960</td>\n",
       "      <td>106184.084430</td>\n",
       "    </tr>\n",
       "    <tr>\n",
       "      <th>2020-10-02</th>\n",
       "      <td>8580.891175</td>\n",
       "      <td>48432.542237</td>\n",
       "      <td>3681.056451</td>\n",
       "      <td>20976.849681</td>\n",
       "      <td>10695.567769</td>\n",
       "      <td>54187.762451</td>\n",
       "      <td>3289.501643</td>\n",
       "      <td>20039.329559</td>\n",
       "      <td>13610.259862</td>\n",
       "      <td>58797.477198</td>\n",
       "      <td>18918.584107</td>\n",
       "      <td>97106.203859</td>\n",
       "      <td>29479.466259</td>\n",
       "      <td>139341.708350</td>\n",
       "      <td>13891.741727</td>\n",
       "      <td>91730.990309</td>\n",
       "      <td>24397.262987</td>\n",
       "      <td>109582.349341</td>\n",
       "    </tr>\n",
       "    <tr>\n",
       "      <th>2020-10-03</th>\n",
       "      <td>7103.609087</td>\n",
       "      <td>37877.502764</td>\n",
       "      <td>3144.134966</td>\n",
       "      <td>18747.708059</td>\n",
       "      <td>10263.844171</td>\n",
       "      <td>44529.506840</td>\n",
       "      <td>3096.064308</td>\n",
       "      <td>18440.296487</td>\n",
       "      <td>12230.814967</td>\n",
       "      <td>39935.912349</td>\n",
       "      <td>20210.653390</td>\n",
       "      <td>94560.786078</td>\n",
       "      <td>29115.017030</td>\n",
       "      <td>121257.816891</td>\n",
       "      <td>14576.437263</td>\n",
       "      <td>88785.585084</td>\n",
       "      <td>24149.659547</td>\n",
       "      <td>106357.411956</td>\n",
       "    </tr>\n",
       "    <tr>\n",
       "      <th>2020-10-04</th>\n",
       "      <td>6272.375680</td>\n",
       "      <td>36432.147371</td>\n",
       "      <td>2998.448066</td>\n",
       "      <td>18133.241503</td>\n",
       "      <td>8812.805079</td>\n",
       "      <td>39481.435084</td>\n",
       "      <td>2888.200713</td>\n",
       "      <td>17668.016399</td>\n",
       "      <td>12053.316174</td>\n",
       "      <td>39132.700087</td>\n",
       "      <td>19662.812821</td>\n",
       "      <td>87102.672130</td>\n",
       "      <td>27498.280398</td>\n",
       "      <td>112710.053013</td>\n",
       "      <td>13476.658326</td>\n",
       "      <td>78690.153071</td>\n",
       "      <td>21588.707074</td>\n",
       "      <td>98816.194985</td>\n",
       "    </tr>\n",
       "    <tr>\n",
       "      <th>2020-10-05</th>\n",
       "      <td>6423.358805</td>\n",
       "      <td>47504.596820</td>\n",
       "      <td>3288.778145</td>\n",
       "      <td>18015.644251</td>\n",
       "      <td>7708.865639</td>\n",
       "      <td>50283.301798</td>\n",
       "      <td>2539.019310</td>\n",
       "      <td>18159.912100</td>\n",
       "      <td>10976.604488</td>\n",
       "      <td>52333.037188</td>\n",
       "      <td>15357.234584</td>\n",
       "      <td>91889.241356</td>\n",
       "      <td>24814.095703</td>\n",
       "      <td>122832.370419</td>\n",
       "      <td>11596.787830</td>\n",
       "      <td>87716.845251</td>\n",
       "      <td>19591.401049</td>\n",
       "      <td>103609.639122</td>\n",
       "    </tr>\n",
       "    <tr>\n",
       "      <th>2020-10-06</th>\n",
       "      <td>6388.133154</td>\n",
       "      <td>50865.339706</td>\n",
       "      <td>3188.718019</td>\n",
       "      <td>19911.434988</td>\n",
       "      <td>7670.804460</td>\n",
       "      <td>55220.053310</td>\n",
       "      <td>2580.940741</td>\n",
       "      <td>19480.590204</td>\n",
       "      <td>10801.532541</td>\n",
       "      <td>57092.598972</td>\n",
       "      <td>14420.599338</td>\n",
       "      <td>93743.806002</td>\n",
       "      <td>23780.922671</td>\n",
       "      <td>135299.564486</td>\n",
       "      <td>11402.690487</td>\n",
       "      <td>89585.581458</td>\n",
       "      <td>18334.794731</td>\n",
       "      <td>105914.571569</td>\n",
       "    </tr>\n",
       "    <tr>\n",
       "      <th>2020-10-07</th>\n",
       "      <td>6186.929352</td>\n",
       "      <td>47987.726696</td>\n",
       "      <td>3111.213906</td>\n",
       "      <td>18852.208153</td>\n",
       "      <td>7476.749670</td>\n",
       "      <td>50964.338667</td>\n",
       "      <td>2461.595361</td>\n",
       "      <td>18100.548848</td>\n",
       "      <td>10589.953368</td>\n",
       "      <td>54227.474126</td>\n",
       "      <td>14020.259695</td>\n",
       "      <td>88509.861974</td>\n",
       "      <td>23609.959968</td>\n",
       "      <td>127459.606423</td>\n",
       "      <td>11198.838665</td>\n",
       "      <td>86010.035167</td>\n",
       "      <td>18728.076987</td>\n",
       "      <td>100107.542944</td>\n",
       "    </tr>\n",
       "    <tr>\n",
       "      <th>2020-10-08</th>\n",
       "      <td>7470.646892</td>\n",
       "      <td>51346.287454</td>\n",
       "      <td>3175.609781</td>\n",
       "      <td>19669.626595</td>\n",
       "      <td>8595.461399</td>\n",
       "      <td>55239.158600</td>\n",
       "      <td>2507.266070</td>\n",
       "      <td>19371.356771</td>\n",
       "      <td>11485.894986</td>\n",
       "      <td>60285.108771</td>\n",
       "      <td>14734.492887</td>\n",
       "      <td>94093.922679</td>\n",
       "      <td>25705.095409</td>\n",
       "      <td>137525.385375</td>\n",
       "      <td>11691.700754</td>\n",
       "      <td>89298.667428</td>\n",
       "      <td>19427.328833</td>\n",
       "      <td>105333.430321</td>\n",
       "    </tr>\n",
       "    <tr>\n",
       "      <th>2020-10-09</th>\n",
       "      <td>8022.586384</td>\n",
       "      <td>50453.897319</td>\n",
       "      <td>3353.211124</td>\n",
       "      <td>21661.646345</td>\n",
       "      <td>10357.586731</td>\n",
       "      <td>56986.734259</td>\n",
       "      <td>2989.591132</td>\n",
       "      <td>20827.266884</td>\n",
       "      <td>13220.712179</td>\n",
       "      <td>60585.356628</td>\n",
       "      <td>17038.762896</td>\n",
       "      <td>97478.819891</td>\n",
       "      <td>27786.288796</td>\n",
       "      <td>139364.591618</td>\n",
       "      <td>13083.011951</td>\n",
       "      <td>90622.258371</td>\n",
       "      <td>22377.309844</td>\n",
       "      <td>109385.107189</td>\n",
       "    </tr>\n",
       "    <tr>\n",
       "      <th>2020-10-10</th>\n",
       "      <td>6714.721149</td>\n",
       "      <td>43673.312187</td>\n",
       "      <td>3148.573872</td>\n",
       "      <td>18630.693422</td>\n",
       "      <td>9866.413682</td>\n",
       "      <td>46618.496111</td>\n",
       "      <td>2760.048358</td>\n",
       "      <td>18114.330199</td>\n",
       "      <td>12120.577968</td>\n",
       "      <td>44304.570694</td>\n",
       "      <td>19404.740519</td>\n",
       "      <td>95538.022450</td>\n",
       "      <td>28601.604816</td>\n",
       "      <td>122778.079041</td>\n",
       "      <td>13803.239733</td>\n",
       "      <td>89817.293033</td>\n",
       "      <td>22878.658622</td>\n",
       "      <td>107926.423722</td>\n",
       "    </tr>\n",
       "  </tbody>\n",
       "</table>\n",
       "</div>"
      ],
      "text/plain": [
       "crossing   Brooklyn Battery                  Cross Bay                \\\n",
       "variable               cash        ezpass         cash        ezpass   \n",
       "datetime                                                               \n",
       "2020-09-06      5454.680943  32997.709207  3680.692469  18523.344030   \n",
       "2020-09-07      6223.981604  35318.445069  3329.024885  17074.582759   \n",
       "2020-09-08      6501.302970  48128.716720  3380.616174  19829.689753   \n",
       "2020-09-09      6809.957377  49696.574051  3099.646810  18843.321415   \n",
       "2020-09-10      7516.061394  51109.991205  2936.140962  19867.977494   \n",
       "2020-09-11      7727.360240  48178.950695  4203.938153  22389.944097   \n",
       "2020-09-12      6129.958220  32649.423783  3531.548540  18211.635436   \n",
       "2020-09-13      5864.519716  35255.725676  3430.756220  17941.465795   \n",
       "2020-09-14      6793.070772  47646.943567  3561.070098  18850.166418   \n",
       "2020-09-15      6890.997154  50069.093836  3583.585243  20053.824752   \n",
       "2020-09-16      6854.773326  51195.781413  3650.534890  18969.492728   \n",
       "2020-09-17      7730.888971  51927.319990  3538.131593  20558.957360   \n",
       "2020-09-18      7811.671637  50080.978672  3702.767648  22460.487164   \n",
       "2020-09-19      6327.601817  34993.438815  3434.752845  18653.736856   \n",
       "2020-09-20      5571.434511  37610.889415  3279.168497  17664.484258   \n",
       "2020-09-21      6124.663319  44623.219632  3069.885489  18193.352958   \n",
       "2020-09-22      6653.956700  48209.934144  3147.143378  19847.851001   \n",
       "2020-09-23      6965.373087  49595.670264  3188.144594  19354.362076   \n",
       "2020-09-24      7449.179741  49106.122346  3303.116870  19821.534026   \n",
       "2020-09-25      7965.811374  49775.801293  3312.479210  21993.344002   \n",
       "2020-09-26      6342.230987  38897.621322  3288.371084  18595.129235   \n",
       "2020-09-27      5886.208093  37654.622436  3137.635095  17437.384821   \n",
       "2020-09-28      7136.219979  44001.596289  3174.691103  18193.751698   \n",
       "2020-09-29      7068.538955  45234.144828  3265.825556  19162.267497   \n",
       "2020-09-30      7050.820072  44025.430168  3305.885575  18816.330291   \n",
       "2020-10-01      7902.330296  46614.595789  3084.607318  18968.954860   \n",
       "2020-10-02      8580.891175  48432.542237  3681.056451  20976.849681   \n",
       "2020-10-03      7103.609087  37877.502764  3144.134966  18747.708059   \n",
       "2020-10-04      6272.375680  36432.147371  2998.448066  18133.241503   \n",
       "2020-10-05      6423.358805  47504.596820  3288.778145  18015.644251   \n",
       "2020-10-06      6388.133154  50865.339706  3188.718019  19911.434988   \n",
       "2020-10-07      6186.929352  47987.726696  3111.213906  18852.208153   \n",
       "2020-10-08      7470.646892  51346.287454  3175.609781  19669.626595   \n",
       "2020-10-09      8022.586384  50453.897319  3353.211124  21661.646345   \n",
       "2020-10-10      6714.721149  43673.312187  3148.573872  18630.693422   \n",
       "\n",
       "crossing    Henry Hudson               Marine Parkway                \\\n",
       "variable            cash        ezpass           cash        ezpass   \n",
       "datetime                                                              \n",
       "2020-09-06   7503.732863  45844.808199    3989.244565  20773.010355   \n",
       "2020-09-07   7195.080270  39438.236165    2697.238382  17795.552190   \n",
       "2020-09-08   7527.774634  53079.982308    2790.567237  20114.430200   \n",
       "2020-09-09   7832.174385  55122.900897    2819.372473  18598.761359   \n",
       "2020-09-10   8460.807649  57561.020782    2660.363026  20124.412769   \n",
       "2020-09-11   9584.599689  59599.113347    3603.194575  22014.491540   \n",
       "2020-09-12   8944.382385  46419.574095    3280.759266  18302.761608   \n",
       "2020-09-13   7440.196066  46190.157533    3068.927287  18725.581811   \n",
       "2020-09-14   7521.328810  52746.701271    2875.482081  19617.159696   \n",
       "2020-09-15   7544.651769  55764.662309    3027.651064  20677.374369   \n",
       "2020-09-16   7832.755952  56126.651000    2852.085789  19361.152352   \n",
       "2020-09-17   8444.680863  59015.968511    3022.860181  21136.729642   \n",
       "2020-09-18   9769.006479  58595.970492    3560.193698  22399.943297   \n",
       "2020-09-19   9078.354741  45124.176977    3204.786205  18895.658510   \n",
       "2020-09-20   7750.938496  42860.842525    3134.774707  18865.854767   \n",
       "2020-09-21   7359.231006  47829.025369    2740.897029  18760.601615   \n",
       "2020-09-22   7573.937439  54777.317424    2743.778467  20083.159230   \n",
       "2020-09-23   7871.194719  55484.136500    2930.518350  19493.605211   \n",
       "2020-09-24   8196.570904  58340.339140    2746.061068  20804.160671   \n",
       "2020-09-25   9923.590903  58916.704081    3108.841530  21713.766107   \n",
       "2020-09-26   9457.648786  44927.440513    3358.372063  18577.668971   \n",
       "2020-09-27   8047.092487  39873.467303    3096.824647  17872.183130   \n",
       "2020-09-28   8544.036887  47025.608341    2839.040828  18211.765478   \n",
       "2020-09-29   8250.178934  49364.490842    2876.127907  18949.309712   \n",
       "2020-09-30   8478.032856  49769.493136    2733.033101  18484.708939   \n",
       "2020-10-01   9124.858583  53548.083351    2756.701990  18931.019222   \n",
       "2020-10-02  10695.567769  54187.762451    3289.501643  20039.329559   \n",
       "2020-10-03  10263.844171  44529.506840    3096.064308  18440.296487   \n",
       "2020-10-04   8812.805079  39481.435084    2888.200713  17668.016399   \n",
       "2020-10-05   7708.865639  50283.301798    2539.019310  18159.912100   \n",
       "2020-10-06   7670.804460  55220.053310    2580.940741  19480.590204   \n",
       "2020-10-07   7476.749670  50964.338667    2461.595361  18100.548848   \n",
       "2020-10-08   8595.461399  55239.158600    2507.266070  19371.356771   \n",
       "2020-10-09  10357.586731  56986.734259    2989.591132  20827.266884   \n",
       "2020-10-10   9866.413682  46618.496111    2760.048358  18114.330199   \n",
       "\n",
       "crossing   Queens Midtown                 Throgs Neck                \\\n",
       "variable             cash        ezpass          cash        ezpass   \n",
       "datetime                                                              \n",
       "2020-09-06   10730.736345  44280.400177  18335.637762  91992.988081   \n",
       "2020-09-07   10950.333450  41014.351805  16651.468253  82742.810992   \n",
       "2020-09-08   11240.357834  56745.189667  15068.101371  90248.890437   \n",
       "2020-09-09   11103.992174  57139.395058  14956.343240  91249.292314   \n",
       "2020-09-10   11737.394702  61504.623713  15079.510829  92634.409248   \n",
       "2020-09-11   13130.380705  61024.822266  17090.665565  98282.927037   \n",
       "2020-09-12   10636.683194  41905.119445  18859.318574  92629.057095   \n",
       "2020-09-13   11264.606527  46480.845417  18366.802174  93675.860989   \n",
       "2020-09-14   11046.577272  53543.823276  15517.489959  89862.412766   \n",
       "2020-09-15   11340.663705  57541.027693  14677.327238  90527.436656   \n",
       "2020-09-16   11313.324777  57984.687969  15231.548561  93748.362051   \n",
       "2020-09-17   11922.543326  61499.955573  15373.384337  94977.152699   \n",
       "2020-09-18   12897.649343  60402.652853  16960.969392  98580.817454   \n",
       "2020-09-19   10828.423602  40894.383391  19111.074124  92068.725041   \n",
       "2020-09-20   11248.233327  42371.891663  18110.286746  93212.458178   \n",
       "2020-09-21   10390.978940  49445.432906  14935.332684  91254.621870   \n",
       "2020-09-22   10436.731742  56995.623811  14371.832225  93450.112450   \n",
       "2020-09-23   10585.569975  57255.935129  14832.318307  95188.326288   \n",
       "2020-09-24   10741.666134  59908.927437  14859.420989  95678.171025   \n",
       "2020-09-25   12337.784007  62097.616843  16607.153308  99313.362247   \n",
       "2020-09-26   10852.855131  41497.085158  18866.618560  93494.856470   \n",
       "2020-09-27   11133.208317  39511.417217  18114.026136  92088.231950   \n",
       "2020-09-28   11913.823821  47542.875319  17179.255501  92049.033789   \n",
       "2020-09-29   11425.815922  51859.660689  16075.333217  93607.069291   \n",
       "2020-09-30   11669.655318  52052.953846  16020.084191  94094.070010   \n",
       "2020-10-01   11761.868701  57576.427319  16116.017224  94420.011784   \n",
       "2020-10-02   13610.259862  58797.477198  18918.584107  97106.203859   \n",
       "2020-10-03   12230.814967  39935.912349  20210.653390  94560.786078   \n",
       "2020-10-04   12053.316174  39132.700087  19662.812821  87102.672130   \n",
       "2020-10-05   10976.604488  52333.037188  15357.234584  91889.241356   \n",
       "2020-10-06   10801.532541  57092.598972  14420.599338  93743.806002   \n",
       "2020-10-07   10589.953368  54227.474126  14020.259695  88509.861974   \n",
       "2020-10-08   11485.894986  60285.108771  14734.492887  94093.922679   \n",
       "2020-10-09   13220.712179  60585.356628  17038.762896  97478.819891   \n",
       "2020-10-10   12120.577968  44304.570694  19404.740519  95538.022450   \n",
       "\n",
       "crossing         Triboro                    Verrazano                \\\n",
       "variable            cash         ezpass          cash        ezpass   \n",
       "datetime                                                              \n",
       "2020-09-06  27728.675878  110905.504251  12169.630990  78351.643906   \n",
       "2020-09-07  25649.357661  118065.841393  11855.190408  77479.356987   \n",
       "2020-09-08  25585.317712  134744.291190  11129.958845  87777.833177   \n",
       "2020-09-09  25460.472108  127634.257314  11264.950746  89436.185809   \n",
       "2020-09-10  26740.775353  137048.415127  11387.757928  90442.885398   \n",
       "2020-09-11  27562.916396  141371.069287  13328.943018  91608.323433   \n",
       "2020-09-12  26723.229937  116770.029667  13359.020030  86298.274970   \n",
       "2020-09-13  26321.692991  113021.113704  12438.746789  80727.885169   \n",
       "2020-09-14  25743.611736  125723.730499  11551.285330  85840.269047   \n",
       "2020-09-15  25371.995576  135407.637555  11436.190182  88800.004808   \n",
       "2020-09-16  25596.072290  126461.176459  11589.972084  89984.558806   \n",
       "2020-09-17  27446.481515  140383.136659  12030.670438  91808.940949   \n",
       "2020-09-18  27528.817672  136636.741161  13095.392129  92004.630036   \n",
       "2020-09-19  27301.226940  114854.818411  13200.869669  86278.995620   \n",
       "2020-09-20  26967.009321  111499.135983  12413.330582  80273.941117   \n",
       "2020-09-21  24590.692198  127978.264955  10877.947523  84465.037991   \n",
       "2020-09-22  24243.975203  138983.204955  11076.959285  87756.786473   \n",
       "2020-09-23  25156.718951  131464.313854  11338.164701  90504.296602   \n",
       "2020-09-24  25653.298289  140828.630005  11418.254113  89272.293718   \n",
       "2020-09-25  28036.610831  145337.883856  12609.660035  90643.272877   \n",
       "2020-09-26  28222.766190  122028.120683  13429.938040  88614.183347   \n",
       "2020-09-27  26931.059480  115810.114484  12646.671824  79765.870643   \n",
       "2020-09-28  26406.455476  124900.285847  12620.090350  85344.261974   \n",
       "2020-09-29  25980.479576  135948.744476  12149.162092  89518.840353   \n",
       "2020-09-30  26710.727272  131821.043269  12202.476110  89469.534342   \n",
       "2020-10-01  27024.007164  136970.961467  12285.044822  89618.519940   \n",
       "2020-10-02  29479.466259  139341.708350  13891.741727  91730.990309   \n",
       "2020-10-03  29115.017030  121257.816891  14576.437263  88785.585084   \n",
       "2020-10-04  27498.280398  112710.053013  13476.658326  78690.153071   \n",
       "2020-10-05  24814.095703  122832.370419  11596.787830  87716.845251   \n",
       "2020-10-06  23780.922671  135299.564486  11402.690487  89585.581458   \n",
       "2020-10-07  23609.959968  127459.606423  11198.838665  86010.035167   \n",
       "2020-10-08  25705.095409  137525.385375  11691.700754  89298.667428   \n",
       "2020-10-09  27786.288796  139364.591618  13083.011951  90622.258371   \n",
       "2020-10-10  28601.604816  122778.079041  13803.239733  89817.293033   \n",
       "\n",
       "crossing      Whitestone                 \n",
       "variable            cash         ezpass  \n",
       "datetime                                 \n",
       "2020-09-06  22130.535841   97519.970073  \n",
       "2020-09-07  19949.801754   93974.713398  \n",
       "2020-09-08  18823.099415   99883.577683  \n",
       "2020-09-09  19675.459013  102125.489915  \n",
       "2020-09-10  20826.889751  104545.445216  \n",
       "2020-09-11  24067.479467  112128.723181  \n",
       "2020-09-12  23177.407712  102168.149119  \n",
       "2020-09-13  22248.985138  100060.505024  \n",
       "2020-09-14  19868.528440   99288.802426  \n",
       "2020-09-15  19243.420649  100194.246660  \n",
       "2020-09-16  19685.120008  104687.641092  \n",
       "2020-09-17  21345.230083  107481.461509  \n",
       "2020-09-18  22830.888383  107551.844936  \n",
       "2020-09-19  23255.793354  100520.200264  \n",
       "2020-09-20  21661.584568   96441.565773  \n",
       "2020-09-21  19600.866856   99497.152526  \n",
       "2020-09-22  18482.973874  102454.582271  \n",
       "2020-09-23  19634.264787  105371.870980  \n",
       "2020-09-24  20576.089671  103449.741272  \n",
       "2020-09-25  22717.687021  107436.989709  \n",
       "2020-09-26  24321.185678  104201.003737  \n",
       "2020-09-27  21863.146128   99626.026354  \n",
       "2020-09-28  21115.060809  101870.201063  \n",
       "2020-09-29  20526.595866  104349.147085  \n",
       "2020-09-30  21157.080405  106168.522593  \n",
       "2020-10-01  20454.373960  106184.084430  \n",
       "2020-10-02  24397.262987  109582.349341  \n",
       "2020-10-03  24149.659547  106357.411956  \n",
       "2020-10-04  21588.707074   98816.194985  \n",
       "2020-10-05  19591.401049  103609.639122  \n",
       "2020-10-06  18334.794731  105914.571569  \n",
       "2020-10-07  18728.076987  100107.542944  \n",
       "2020-10-08  19427.328833  105333.430321  \n",
       "2020-10-09  22377.309844  109385.107189  \n",
       "2020-10-10  22878.658622  107926.423722  "
      ]
     },
     "execution_count": 96,
     "metadata": {},
     "output_type": "execute_result"
    }
   ],
   "source": [
    "_lgbm_pivot"
   ]
  },
  {
   "cell_type": "code",
   "execution_count": 209,
   "metadata": {},
   "outputs": [],
   "source": [
    "_lgbm_rmse = []\n",
    "_lgbm_summation = 0\n",
    "for i in crossing_rates.keys():\n",
    "    _lgbm_rmse.append(np.sqrt(mean_squared_error(_test_pivot[i], _lgbm_pivot[i])))"
   ]
  },
  {
   "cell_type": "code",
   "execution_count": 212,
   "metadata": {},
   "outputs": [
    {
     "data": {
      "text/plain": [
       "47293.25055768396"
      ]
     },
     "execution_count": 212,
     "metadata": {},
     "output_type": "execute_result"
    }
   ],
   "source": [
    "sum(_lgbm_rmse)"
   ]
  },
  {
   "cell_type": "code",
   "execution_count": null,
   "metadata": {},
   "outputs": [],
   "source": []
  },
  {
   "cell_type": "code",
   "execution_count": null,
   "metadata": {},
   "outputs": [],
   "source": []
  },
  {
   "cell_type": "code",
   "execution_count": null,
   "metadata": {},
   "outputs": [],
   "source": []
  },
  {
   "cell_type": "code",
   "execution_count": null,
   "metadata": {},
   "outputs": [],
   "source": []
  },
  {
   "cell_type": "code",
   "execution_count": null,
   "metadata": {},
   "outputs": [],
   "source": []
  },
  {
   "cell_type": "code",
   "execution_count": 216,
   "metadata": {},
   "outputs": [
    {
     "ename": "ValueError",
     "evalue": "Index contains duplicate entries, cannot reshape",
     "output_type": "error",
     "traceback": [
      "\u001b[1;31m---------------------------------------------------------------------------\u001b[0m",
      "\u001b[1;31mValueError\u001b[0m                                Traceback (most recent call last)",
      "\u001b[1;32m<ipython-input-216-e36339e5763e>\u001b[0m in \u001b[0;36m<module>\u001b[1;34m\u001b[0m\n\u001b[0;32m      2\u001b[0m \u001b[1;31m# _lgbm_pred\u001b[0m\u001b[1;33m\u001b[0m\u001b[1;33m\u001b[0m\u001b[1;33m\u001b[0m\u001b[0m\n\u001b[0;32m      3\u001b[0m \u001b[0m_lgbm_pred\u001b[0m\u001b[1;33m[\u001b[0m\u001b[1;34m'crossing'\u001b[0m\u001b[1;33m]\u001b[0m \u001b[1;33m=\u001b[0m \u001b[0mle\u001b[0m\u001b[1;33m.\u001b[0m\u001b[0minverse_transform\u001b[0m\u001b[1;33m(\u001b[0m\u001b[0m_lgbm_pred\u001b[0m\u001b[1;33m[\u001b[0m\u001b[1;34m'crossing'\u001b[0m\u001b[1;33m]\u001b[0m\u001b[1;33m)\u001b[0m\u001b[1;33m\u001b[0m\u001b[1;33m\u001b[0m\u001b[0m\n\u001b[1;32m----> 4\u001b[1;33m \u001b[0m_lgbm_pivot_pred\u001b[0m \u001b[1;33m=\u001b[0m \u001b[0m_lgbm_pred\u001b[0m\u001b[1;33m.\u001b[0m\u001b[0mpivot\u001b[0m\u001b[1;33m(\u001b[0m\u001b[0mindex\u001b[0m\u001b[1;33m=\u001b[0m\u001b[1;34m'datetime'\u001b[0m\u001b[1;33m,\u001b[0m \u001b[0mcolumns\u001b[0m\u001b[1;33m=\u001b[0m\u001b[1;34m'variable'\u001b[0m\u001b[1;33m,\u001b[0m \u001b[0mvalues\u001b[0m\u001b[1;33m=\u001b[0m\u001b[1;34m'value'\u001b[0m\u001b[1;33m)\u001b[0m\u001b[1;33m\u001b[0m\u001b[1;33m\u001b[0m\u001b[0m\n\u001b[0m\u001b[0;32m      5\u001b[0m \u001b[0mtest_set_pivot\u001b[0m \u001b[1;33m=\u001b[0m \u001b[0mtest_set\u001b[0m\u001b[1;33m.\u001b[0m\u001b[0mpivot\u001b[0m\u001b[1;33m(\u001b[0m\u001b[0mindex\u001b[0m\u001b[1;33m=\u001b[0m\u001b[1;34m'datetime'\u001b[0m\u001b[1;33m,\u001b[0m \u001b[0mcolumns\u001b[0m \u001b[1;33m=\u001b[0m \u001b[1;34m'crossing'\u001b[0m\u001b[1;33m,\u001b[0m \u001b[0mvalues\u001b[0m\u001b[1;33m=\u001b[0m\u001b[1;34m'value'\u001b[0m\u001b[1;33m)\u001b[0m\u001b[1;33m\u001b[0m\u001b[1;33m\u001b[0m\u001b[0m\n\u001b[0;32m      6\u001b[0m \u001b[0mtest_set_pivot\u001b[0m\u001b[1;33m.\u001b[0m\u001b[0mcolumns\u001b[0m \u001b[1;33m=\u001b[0m \u001b[0mbridges\u001b[0m\u001b[1;33m\u001b[0m\u001b[1;33m\u001b[0m\u001b[0m\n",
      "\u001b[1;32m~\\Anaconda3\\lib\\site-packages\\pandas\\core\\frame.py\u001b[0m in \u001b[0;36mpivot\u001b[1;34m(self, index, columns, values)\u001b[0m\n\u001b[0;32m   6669\u001b[0m         \u001b[1;32mfrom\u001b[0m \u001b[0mpandas\u001b[0m\u001b[1;33m.\u001b[0m\u001b[0mcore\u001b[0m\u001b[1;33m.\u001b[0m\u001b[0mreshape\u001b[0m\u001b[1;33m.\u001b[0m\u001b[0mpivot\u001b[0m \u001b[1;32mimport\u001b[0m \u001b[0mpivot\u001b[0m\u001b[1;33m\u001b[0m\u001b[1;33m\u001b[0m\u001b[0m\n\u001b[0;32m   6670\u001b[0m \u001b[1;33m\u001b[0m\u001b[0m\n\u001b[1;32m-> 6671\u001b[1;33m         \u001b[1;32mreturn\u001b[0m \u001b[0mpivot\u001b[0m\u001b[1;33m(\u001b[0m\u001b[0mself\u001b[0m\u001b[1;33m,\u001b[0m \u001b[0mindex\u001b[0m\u001b[1;33m=\u001b[0m\u001b[0mindex\u001b[0m\u001b[1;33m,\u001b[0m \u001b[0mcolumns\u001b[0m\u001b[1;33m=\u001b[0m\u001b[0mcolumns\u001b[0m\u001b[1;33m,\u001b[0m \u001b[0mvalues\u001b[0m\u001b[1;33m=\u001b[0m\u001b[0mvalues\u001b[0m\u001b[1;33m)\u001b[0m\u001b[1;33m\u001b[0m\u001b[1;33m\u001b[0m\u001b[0m\n\u001b[0m\u001b[0;32m   6672\u001b[0m \u001b[1;33m\u001b[0m\u001b[0m\n\u001b[0;32m   6673\u001b[0m     _shared_docs[\n",
      "\u001b[1;32m~\\Anaconda3\\lib\\site-packages\\pandas\\core\\reshape\\pivot.py\u001b[0m in \u001b[0;36mpivot\u001b[1;34m(data, index, columns, values)\u001b[0m\n\u001b[0;32m    475\u001b[0m         \u001b[1;32melse\u001b[0m\u001b[1;33m:\u001b[0m\u001b[1;33m\u001b[0m\u001b[1;33m\u001b[0m\u001b[0m\n\u001b[0;32m    476\u001b[0m             \u001b[0mindexed\u001b[0m \u001b[1;33m=\u001b[0m \u001b[0mdata\u001b[0m\u001b[1;33m.\u001b[0m\u001b[0m_constructor_sliced\u001b[0m\u001b[1;33m(\u001b[0m\u001b[0mdata\u001b[0m\u001b[1;33m[\u001b[0m\u001b[0mvalues\u001b[0m\u001b[1;33m]\u001b[0m\u001b[1;33m.\u001b[0m\u001b[0m_values\u001b[0m\u001b[1;33m,\u001b[0m \u001b[0mindex\u001b[0m\u001b[1;33m=\u001b[0m\u001b[0mindex\u001b[0m\u001b[1;33m)\u001b[0m\u001b[1;33m\u001b[0m\u001b[1;33m\u001b[0m\u001b[0m\n\u001b[1;32m--> 477\u001b[1;33m     \u001b[1;32mreturn\u001b[0m \u001b[0mindexed\u001b[0m\u001b[1;33m.\u001b[0m\u001b[0munstack\u001b[0m\u001b[1;33m(\u001b[0m\u001b[0mcolumns\u001b[0m\u001b[1;33m)\u001b[0m\u001b[1;33m\u001b[0m\u001b[1;33m\u001b[0m\u001b[0m\n\u001b[0m\u001b[0;32m    478\u001b[0m \u001b[1;33m\u001b[0m\u001b[0m\n\u001b[0;32m    479\u001b[0m \u001b[1;33m\u001b[0m\u001b[0m\n",
      "\u001b[1;32m~\\Anaconda3\\lib\\site-packages\\pandas\\core\\series.py\u001b[0m in \u001b[0;36munstack\u001b[1;34m(self, level, fill_value)\u001b[0m\n\u001b[0;32m   3888\u001b[0m         \u001b[1;32mfrom\u001b[0m \u001b[0mpandas\u001b[0m\u001b[1;33m.\u001b[0m\u001b[0mcore\u001b[0m\u001b[1;33m.\u001b[0m\u001b[0mreshape\u001b[0m\u001b[1;33m.\u001b[0m\u001b[0mreshape\u001b[0m \u001b[1;32mimport\u001b[0m \u001b[0munstack\u001b[0m\u001b[1;33m\u001b[0m\u001b[1;33m\u001b[0m\u001b[0m\n\u001b[0;32m   3889\u001b[0m \u001b[1;33m\u001b[0m\u001b[0m\n\u001b[1;32m-> 3890\u001b[1;33m         \u001b[1;32mreturn\u001b[0m \u001b[0munstack\u001b[0m\u001b[1;33m(\u001b[0m\u001b[0mself\u001b[0m\u001b[1;33m,\u001b[0m \u001b[0mlevel\u001b[0m\u001b[1;33m,\u001b[0m \u001b[0mfill_value\u001b[0m\u001b[1;33m)\u001b[0m\u001b[1;33m\u001b[0m\u001b[1;33m\u001b[0m\u001b[0m\n\u001b[0m\u001b[0;32m   3891\u001b[0m \u001b[1;33m\u001b[0m\u001b[0m\n\u001b[0;32m   3892\u001b[0m     \u001b[1;31m# ----------------------------------------------------------------------\u001b[0m\u001b[1;33m\u001b[0m\u001b[1;33m\u001b[0m\u001b[1;33m\u001b[0m\u001b[0m\n",
      "\u001b[1;32m~\\Anaconda3\\lib\\site-packages\\pandas\\core\\reshape\\reshape.py\u001b[0m in \u001b[0;36munstack\u001b[1;34m(obj, level, fill_value)\u001b[0m\n\u001b[0;32m    423\u001b[0m             \u001b[1;32mreturn\u001b[0m \u001b[0m_unstack_extension_series\u001b[0m\u001b[1;33m(\u001b[0m\u001b[0mobj\u001b[0m\u001b[1;33m,\u001b[0m \u001b[0mlevel\u001b[0m\u001b[1;33m,\u001b[0m \u001b[0mfill_value\u001b[0m\u001b[1;33m)\u001b[0m\u001b[1;33m\u001b[0m\u001b[1;33m\u001b[0m\u001b[0m\n\u001b[0;32m    424\u001b[0m         unstacker = _Unstacker(\n\u001b[1;32m--> 425\u001b[1;33m             \u001b[0mobj\u001b[0m\u001b[1;33m.\u001b[0m\u001b[0mindex\u001b[0m\u001b[1;33m,\u001b[0m \u001b[0mlevel\u001b[0m\u001b[1;33m=\u001b[0m\u001b[0mlevel\u001b[0m\u001b[1;33m,\u001b[0m \u001b[0mconstructor\u001b[0m\u001b[1;33m=\u001b[0m\u001b[0mobj\u001b[0m\u001b[1;33m.\u001b[0m\u001b[0m_constructor_expanddim\u001b[0m\u001b[1;33m,\u001b[0m\u001b[1;33m\u001b[0m\u001b[1;33m\u001b[0m\u001b[0m\n\u001b[0m\u001b[0;32m    426\u001b[0m         )\n\u001b[0;32m    427\u001b[0m         return unstacker.get_result(\n",
      "\u001b[1;32m~\\Anaconda3\\lib\\site-packages\\pandas\\core\\reshape\\reshape.py\u001b[0m in \u001b[0;36m__init__\u001b[1;34m(self, index, level, constructor)\u001b[0m\n\u001b[0;32m    118\u001b[0m             \u001b[1;32mraise\u001b[0m \u001b[0mValueError\u001b[0m\u001b[1;33m(\u001b[0m\u001b[1;34m\"Unstacked DataFrame is too big, causing int32 overflow\"\u001b[0m\u001b[1;33m)\u001b[0m\u001b[1;33m\u001b[0m\u001b[1;33m\u001b[0m\u001b[0m\n\u001b[0;32m    119\u001b[0m \u001b[1;33m\u001b[0m\u001b[0m\n\u001b[1;32m--> 120\u001b[1;33m         \u001b[0mself\u001b[0m\u001b[1;33m.\u001b[0m\u001b[0m_make_selectors\u001b[0m\u001b[1;33m(\u001b[0m\u001b[1;33m)\u001b[0m\u001b[1;33m\u001b[0m\u001b[1;33m\u001b[0m\u001b[0m\n\u001b[0m\u001b[0;32m    121\u001b[0m \u001b[1;33m\u001b[0m\u001b[0m\n\u001b[0;32m    122\u001b[0m     \u001b[1;33m@\u001b[0m\u001b[0mcache_readonly\u001b[0m\u001b[1;33m\u001b[0m\u001b[1;33m\u001b[0m\u001b[0m\n",
      "\u001b[1;32m~\\Anaconda3\\lib\\site-packages\\pandas\\core\\reshape\\reshape.py\u001b[0m in \u001b[0;36m_make_selectors\u001b[1;34m(self)\u001b[0m\n\u001b[0;32m    167\u001b[0m \u001b[1;33m\u001b[0m\u001b[0m\n\u001b[0;32m    168\u001b[0m         \u001b[1;32mif\u001b[0m \u001b[0mmask\u001b[0m\u001b[1;33m.\u001b[0m\u001b[0msum\u001b[0m\u001b[1;33m(\u001b[0m\u001b[1;33m)\u001b[0m \u001b[1;33m<\u001b[0m \u001b[0mlen\u001b[0m\u001b[1;33m(\u001b[0m\u001b[0mself\u001b[0m\u001b[1;33m.\u001b[0m\u001b[0mindex\u001b[0m\u001b[1;33m)\u001b[0m\u001b[1;33m:\u001b[0m\u001b[1;33m\u001b[0m\u001b[1;33m\u001b[0m\u001b[0m\n\u001b[1;32m--> 169\u001b[1;33m             \u001b[1;32mraise\u001b[0m \u001b[0mValueError\u001b[0m\u001b[1;33m(\u001b[0m\u001b[1;34m\"Index contains duplicate entries, cannot reshape\"\u001b[0m\u001b[1;33m)\u001b[0m\u001b[1;33m\u001b[0m\u001b[1;33m\u001b[0m\u001b[0m\n\u001b[0m\u001b[0;32m    170\u001b[0m \u001b[1;33m\u001b[0m\u001b[0m\n\u001b[0;32m    171\u001b[0m         \u001b[0mself\u001b[0m\u001b[1;33m.\u001b[0m\u001b[0mgroup_index\u001b[0m \u001b[1;33m=\u001b[0m \u001b[0mcomp_index\u001b[0m\u001b[1;33m\u001b[0m\u001b[1;33m\u001b[0m\u001b[0m\n",
      "\u001b[1;31mValueError\u001b[0m: Index contains duplicate entries, cannot reshape"
     ]
    }
   ],
   "source": [
    "_lgbm_pred = train_roll.loc[train_roll['datetime'].isin(pd.date_range('2020-09-06', '2020-10-10'))][['datetime', 'crossing', 'variable',  'value']]\n",
    "# _lgbm_pred\n",
    "_lgbm_pred['crossing'] = le.inverse_transform(_lgbm_pred['crossing'])\n",
    "_lgbm_pivot_pred = _lgbm_pred.pivot(index='datetime', columns='crossing', values='value')\n",
    "test_set_pivot = test_set.pivot(index='datetime', columns = 'crossing', values='value')\n",
    "test_set_pivot.columns = bridges"
   ]
  },
  {
   "cell_type": "code",
   "execution_count": 128,
   "metadata": {},
   "outputs": [
    {
     "data": {
      "text/html": [
       "<div>\n",
       "<style scoped>\n",
       "    .dataframe tbody tr th:only-of-type {\n",
       "        vertical-align: middle;\n",
       "    }\n",
       "\n",
       "    .dataframe tbody tr th {\n",
       "        vertical-align: top;\n",
       "    }\n",
       "\n",
       "    .dataframe thead th {\n",
       "        text-align: right;\n",
       "    }\n",
       "</style>\n",
       "<table border=\"1\" class=\"dataframe\">\n",
       "  <thead>\n",
       "    <tr style=\"text-align: right;\">\n",
       "      <th>crossing</th>\n",
       "      <th>Brooklyn Battery_cash</th>\n",
       "      <th>Brooklyn Battery_ezpass</th>\n",
       "      <th>Cross Bay_cash</th>\n",
       "      <th>Cross Bay_ezpass</th>\n",
       "      <th>Henry Hudson_cash</th>\n",
       "      <th>Henry Hudson_ezpass</th>\n",
       "      <th>Marine Parkway_cash</th>\n",
       "      <th>Marine Parkway_ezpass</th>\n",
       "      <th>Queens Midtown_cash</th>\n",
       "      <th>Queens Midtown_ezpass</th>\n",
       "      <th>Throgs Neck_cash</th>\n",
       "      <th>Throgs Neck_ezpass</th>\n",
       "      <th>Triboro_cash</th>\n",
       "      <th>Triboro_ezpass</th>\n",
       "      <th>Verrazano_cash</th>\n",
       "      <th>Verrazano_ezpass</th>\n",
       "      <th>Whitestone_cash</th>\n",
       "      <th>Whitestone_ezpass</th>\n",
       "    </tr>\n",
       "    <tr>\n",
       "      <th>datetime</th>\n",
       "      <th></th>\n",
       "      <th></th>\n",
       "      <th></th>\n",
       "      <th></th>\n",
       "      <th></th>\n",
       "      <th></th>\n",
       "      <th></th>\n",
       "      <th></th>\n",
       "      <th></th>\n",
       "      <th></th>\n",
       "      <th></th>\n",
       "      <th></th>\n",
       "      <th></th>\n",
       "      <th></th>\n",
       "      <th></th>\n",
       "      <th></th>\n",
       "      <th></th>\n",
       "      <th></th>\n",
       "    </tr>\n",
       "  </thead>\n",
       "  <tbody>\n",
       "    <tr>\n",
       "      <th>2020-09-06</th>\n",
       "      <td>5961.508733</td>\n",
       "      <td>35846.876225</td>\n",
       "      <td>3442.123603</td>\n",
       "      <td>18309.174085</td>\n",
       "      <td>8234.272315</td>\n",
       "      <td>47161.604531</td>\n",
       "      <td>3707.859061</td>\n",
       "      <td>20744.994471</td>\n",
       "      <td>10810.826693</td>\n",
       "      <td>45040.149900</td>\n",
       "      <td>19264.226951</td>\n",
       "      <td>99099.077761</td>\n",
       "      <td>28180.716982</td>\n",
       "      <td>121742.104201</td>\n",
       "      <td>12688.895485</td>\n",
       "      <td>82485.490471</td>\n",
       "      <td>22430.401637</td>\n",
       "      <td>105268.225308</td>\n",
       "    </tr>\n",
       "    <tr>\n",
       "      <th>2020-09-07</th>\n",
       "      <td>6444.277694</td>\n",
       "      <td>34127.478609</td>\n",
       "      <td>3165.422260</td>\n",
       "      <td>17321.356970</td>\n",
       "      <td>7054.248891</td>\n",
       "      <td>38298.879373</td>\n",
       "      <td>2558.150080</td>\n",
       "      <td>17758.875143</td>\n",
       "      <td>10738.001487</td>\n",
       "      <td>40547.387660</td>\n",
       "      <td>16145.376942</td>\n",
       "      <td>84009.819884</td>\n",
       "      <td>24702.880006</td>\n",
       "      <td>121289.241440</td>\n",
       "      <td>11355.511213</td>\n",
       "      <td>76322.090183</td>\n",
       "      <td>19424.449950</td>\n",
       "      <td>95190.455209</td>\n",
       "    </tr>\n",
       "    <tr>\n",
       "      <th>2020-09-08</th>\n",
       "      <td>6590.742174</td>\n",
       "      <td>47641.386546</td>\n",
       "      <td>3390.317046</td>\n",
       "      <td>19693.640532</td>\n",
       "      <td>7288.303421</td>\n",
       "      <td>51611.143431</td>\n",
       "      <td>2734.960423</td>\n",
       "      <td>19554.965803</td>\n",
       "      <td>11145.834033</td>\n",
       "      <td>55817.950679</td>\n",
       "      <td>15222.845376</td>\n",
       "      <td>90370.032110</td>\n",
       "      <td>24800.048883</td>\n",
       "      <td>135550.867676</td>\n",
       "      <td>11078.306872</td>\n",
       "      <td>88407.870574</td>\n",
       "      <td>19131.853928</td>\n",
       "      <td>99588.915982</td>\n",
       "    </tr>\n",
       "    <tr>\n",
       "      <th>2020-09-09</th>\n",
       "      <td>6605.371308</td>\n",
       "      <td>48514.947374</td>\n",
       "      <td>3152.800282</td>\n",
       "      <td>18931.829163</td>\n",
       "      <td>7650.778672</td>\n",
       "      <td>54868.751478</td>\n",
       "      <td>2886.204010</td>\n",
       "      <td>18799.017402</td>\n",
       "      <td>11151.775475</td>\n",
       "      <td>56357.572073</td>\n",
       "      <td>14899.216115</td>\n",
       "      <td>90778.457415</td>\n",
       "      <td>24976.274721</td>\n",
       "      <td>132961.750668</td>\n",
       "      <td>10932.148055</td>\n",
       "      <td>87111.934439</td>\n",
       "      <td>18828.264820</td>\n",
       "      <td>101493.911015</td>\n",
       "    </tr>\n",
       "    <tr>\n",
       "      <th>2020-09-10</th>\n",
       "      <td>7325.171364</td>\n",
       "      <td>49042.480607</td>\n",
       "      <td>3012.425355</td>\n",
       "      <td>19275.342588</td>\n",
       "      <td>8648.111550</td>\n",
       "      <td>56108.275633</td>\n",
       "      <td>2904.127973</td>\n",
       "      <td>19154.942084</td>\n",
       "      <td>11588.165063</td>\n",
       "      <td>58543.380058</td>\n",
       "      <td>15513.097222</td>\n",
       "      <td>93884.693263</td>\n",
       "      <td>26131.104722</td>\n",
       "      <td>141148.906650</td>\n",
       "      <td>11430.707190</td>\n",
       "      <td>91642.986966</td>\n",
       "      <td>20564.258002</td>\n",
       "      <td>107766.504732</td>\n",
       "    </tr>\n",
       "    <tr>\n",
       "      <th>2020-09-11</th>\n",
       "      <td>7534.105568</td>\n",
       "      <td>46091.456970</td>\n",
       "      <td>3741.458648</td>\n",
       "      <td>21775.017080</td>\n",
       "      <td>9715.315941</td>\n",
       "      <td>59386.086643</td>\n",
       "      <td>3193.803468</td>\n",
       "      <td>21972.004351</td>\n",
       "      <td>12665.684859</td>\n",
       "      <td>57875.322248</td>\n",
       "      <td>17058.575939</td>\n",
       "      <td>96697.641732</td>\n",
       "      <td>26744.694216</td>\n",
       "      <td>149349.961015</td>\n",
       "      <td>12739.433299</td>\n",
       "      <td>91514.992390</td>\n",
       "      <td>22667.129852</td>\n",
       "      <td>113773.738924</td>\n",
       "    </tr>\n",
       "    <tr>\n",
       "      <th>2020-09-12</th>\n",
       "      <td>6384.642438</td>\n",
       "      <td>34128.000895</td>\n",
       "      <td>3777.434691</td>\n",
       "      <td>19372.058532</td>\n",
       "      <td>9672.498041</td>\n",
       "      <td>47808.248076</td>\n",
       "      <td>3647.542775</td>\n",
       "      <td>20438.412592</td>\n",
       "      <td>11570.582781</td>\n",
       "      <td>42393.423432</td>\n",
       "      <td>19846.187492</td>\n",
       "      <td>94542.621469</td>\n",
       "      <td>28651.996748</td>\n",
       "      <td>122055.769888</td>\n",
       "      <td>14109.185689</td>\n",
       "      <td>84271.525098</td>\n",
       "      <td>23179.496130</td>\n",
       "      <td>102465.951304</td>\n",
       "    </tr>\n",
       "    <tr>\n",
       "      <th>2020-09-13</th>\n",
       "      <td>5730.016044</td>\n",
       "      <td>35461.033942</td>\n",
       "      <td>3100.872953</td>\n",
       "      <td>16482.849591</td>\n",
       "      <td>8092.743128</td>\n",
       "      <td>47137.187538</td>\n",
       "      <td>2717.331833</td>\n",
       "      <td>17121.219324</td>\n",
       "      <td>10956.831573</td>\n",
       "      <td>46084.857115</td>\n",
       "      <td>18261.697229</td>\n",
       "      <td>93779.478651</td>\n",
       "      <td>25044.122090</td>\n",
       "      <td>117801.306842</td>\n",
       "      <td>12680.563033</td>\n",
       "      <td>81256.414735</td>\n",
       "      <td>21435.846285</td>\n",
       "      <td>106056.685547</td>\n",
       "    </tr>\n",
       "    <tr>\n",
       "      <th>2020-09-14</th>\n",
       "      <td>6748.726652</td>\n",
       "      <td>43930.948069</td>\n",
       "      <td>3453.070765</td>\n",
       "      <td>19035.099994</td>\n",
       "      <td>7285.959783</td>\n",
       "      <td>52793.321701</td>\n",
       "      <td>3113.823613</td>\n",
       "      <td>19337.681477</td>\n",
       "      <td>10994.056288</td>\n",
       "      <td>51346.806790</td>\n",
       "      <td>15469.403521</td>\n",
       "      <td>91617.775899</td>\n",
       "      <td>24480.931187</td>\n",
       "      <td>133571.600770</td>\n",
       "      <td>11249.619940</td>\n",
       "      <td>83859.504217</td>\n",
       "      <td>19462.107307</td>\n",
       "      <td>102810.521437</td>\n",
       "    </tr>\n",
       "    <tr>\n",
       "      <th>2020-09-15</th>\n",
       "      <td>6671.477869</td>\n",
       "      <td>48375.241090</td>\n",
       "      <td>3598.857620</td>\n",
       "      <td>20433.446206</td>\n",
       "      <td>7305.612836</td>\n",
       "      <td>53287.452127</td>\n",
       "      <td>2999.407679</td>\n",
       "      <td>20691.538969</td>\n",
       "      <td>11074.208660</td>\n",
       "      <td>56392.423401</td>\n",
       "      <td>14802.792281</td>\n",
       "      <td>93063.379056</td>\n",
       "      <td>24012.036328</td>\n",
       "      <td>133853.012330</td>\n",
       "      <td>10898.022253</td>\n",
       "      <td>90731.474131</td>\n",
       "      <td>19656.304928</td>\n",
       "      <td>103933.276434</td>\n",
       "    </tr>\n",
       "    <tr>\n",
       "      <th>2020-09-16</th>\n",
       "      <td>6766.378588</td>\n",
       "      <td>48024.961942</td>\n",
       "      <td>3419.014964</td>\n",
       "      <td>19157.816382</td>\n",
       "      <td>7471.945471</td>\n",
       "      <td>55251.988605</td>\n",
       "      <td>2868.841150</td>\n",
       "      <td>19140.276102</td>\n",
       "      <td>11121.638684</td>\n",
       "      <td>56958.360845</td>\n",
       "      <td>15001.434683</td>\n",
       "      <td>92119.179026</td>\n",
       "      <td>24814.642069</td>\n",
       "      <td>135652.635431</td>\n",
       "      <td>10809.634607</td>\n",
       "      <td>89282.476436</td>\n",
       "      <td>19235.404665</td>\n",
       "      <td>106380.877029</td>\n",
       "    </tr>\n",
       "    <tr>\n",
       "      <th>2020-09-17</th>\n",
       "      <td>7492.006822</td>\n",
       "      <td>49443.902636</td>\n",
       "      <td>3173.824583</td>\n",
       "      <td>20179.992131</td>\n",
       "      <td>8759.705534</td>\n",
       "      <td>58114.812284</td>\n",
       "      <td>2961.970996</td>\n",
       "      <td>20061.479881</td>\n",
       "      <td>11715.119745</td>\n",
       "      <td>58905.429240</td>\n",
       "      <td>15210.631890</td>\n",
       "      <td>97227.635038</td>\n",
       "      <td>26030.197642</td>\n",
       "      <td>146193.707899</td>\n",
       "      <td>11192.095204</td>\n",
       "      <td>93181.311787</td>\n",
       "      <td>20029.977053</td>\n",
       "      <td>113373.350283</td>\n",
       "    </tr>\n",
       "    <tr>\n",
       "      <th>2020-09-18</th>\n",
       "      <td>7656.260784</td>\n",
       "      <td>48200.578381</td>\n",
       "      <td>3440.410532</td>\n",
       "      <td>21841.346140</td>\n",
       "      <td>9569.224169</td>\n",
       "      <td>57846.288734</td>\n",
       "      <td>3152.151334</td>\n",
       "      <td>21373.694205</td>\n",
       "      <td>12501.298350</td>\n",
       "      <td>59572.386464</td>\n",
       "      <td>16908.920928</td>\n",
       "      <td>98488.901736</td>\n",
       "      <td>27234.851591</td>\n",
       "      <td>144835.261836</td>\n",
       "      <td>12416.504789</td>\n",
       "      <td>92676.251585</td>\n",
       "      <td>21494.489087</td>\n",
       "      <td>113570.483551</td>\n",
       "    </tr>\n",
       "    <tr>\n",
       "      <th>2020-09-19</th>\n",
       "      <td>6309.414167</td>\n",
       "      <td>34870.104016</td>\n",
       "      <td>3327.965272</td>\n",
       "      <td>18412.305794</td>\n",
       "      <td>9325.463809</td>\n",
       "      <td>47543.828665</td>\n",
       "      <td>3071.596844</td>\n",
       "      <td>18785.996519</td>\n",
       "      <td>11512.656766</td>\n",
       "      <td>41286.091273</td>\n",
       "      <td>19117.057250</td>\n",
       "      <td>95638.904576</td>\n",
       "      <td>28044.554966</td>\n",
       "      <td>119378.105911</td>\n",
       "      <td>13108.927531</td>\n",
       "      <td>83412.491420</td>\n",
       "      <td>22365.390876</td>\n",
       "      <td>99385.162338</td>\n",
       "    </tr>\n",
       "    <tr>\n",
       "      <th>2020-09-20</th>\n",
       "      <td>5516.263753</td>\n",
       "      <td>34217.381936</td>\n",
       "      <td>3283.796413</td>\n",
       "      <td>16305.559331</td>\n",
       "      <td>7907.309066</td>\n",
       "      <td>43343.056696</td>\n",
       "      <td>3009.527861</td>\n",
       "      <td>16608.372557</td>\n",
       "      <td>10743.675702</td>\n",
       "      <td>41717.493329</td>\n",
       "      <td>18395.736182</td>\n",
       "      <td>88646.709500</td>\n",
       "      <td>24488.703025</td>\n",
       "      <td>112461.214466</td>\n",
       "      <td>12337.392502</td>\n",
       "      <td>78037.220405</td>\n",
       "      <td>20047.902598</td>\n",
       "      <td>97448.278017</td>\n",
       "    </tr>\n",
       "    <tr>\n",
       "      <th>2020-09-21</th>\n",
       "      <td>6433.282917</td>\n",
       "      <td>44582.719726</td>\n",
       "      <td>3075.905373</td>\n",
       "      <td>18650.059549</td>\n",
       "      <td>7446.811751</td>\n",
       "      <td>52729.207612</td>\n",
       "      <td>2621.810431</td>\n",
       "      <td>19110.523534</td>\n",
       "      <td>10329.492361</td>\n",
       "      <td>49750.114576</td>\n",
       "      <td>14678.910284</td>\n",
       "      <td>92516.134481</td>\n",
       "      <td>25104.070627</td>\n",
       "      <td>139688.806743</td>\n",
       "      <td>10912.911267</td>\n",
       "      <td>82174.448685</td>\n",
       "      <td>19541.354802</td>\n",
       "      <td>100950.048478</td>\n",
       "    </tr>\n",
       "    <tr>\n",
       "      <th>2020-09-22</th>\n",
       "      <td>6583.834262</td>\n",
       "      <td>46825.252119</td>\n",
       "      <td>3104.743680</td>\n",
       "      <td>19377.891235</td>\n",
       "      <td>7515.380166</td>\n",
       "      <td>53468.220954</td>\n",
       "      <td>2682.828732</td>\n",
       "      <td>19198.667165</td>\n",
       "      <td>10507.419824</td>\n",
       "      <td>55932.923131</td>\n",
       "      <td>14502.460409</td>\n",
       "      <td>92580.865228</td>\n",
       "      <td>24226.114099</td>\n",
       "      <td>138988.478082</td>\n",
       "      <td>10494.122970</td>\n",
       "      <td>87436.828411</td>\n",
       "      <td>19188.525647</td>\n",
       "      <td>102614.712071</td>\n",
       "    </tr>\n",
       "    <tr>\n",
       "      <th>2020-09-23</th>\n",
       "      <td>6809.078372</td>\n",
       "      <td>49191.175024</td>\n",
       "      <td>3184.756955</td>\n",
       "      <td>20015.712488</td>\n",
       "      <td>7596.494895</td>\n",
       "      <td>57448.256781</td>\n",
       "      <td>2795.691600</td>\n",
       "      <td>20250.402602</td>\n",
       "      <td>10948.812326</td>\n",
       "      <td>56804.015316</td>\n",
       "      <td>15096.102371</td>\n",
       "      <td>94973.087161</td>\n",
       "      <td>25476.412653</td>\n",
       "      <td>140813.941296</td>\n",
       "      <td>10911.538226</td>\n",
       "      <td>89732.343465</td>\n",
       "      <td>20012.343350</td>\n",
       "      <td>103787.087587</td>\n",
       "    </tr>\n",
       "    <tr>\n",
       "      <th>2020-09-24</th>\n",
       "      <td>7088.332666</td>\n",
       "      <td>48728.029471</td>\n",
       "      <td>3063.570669</td>\n",
       "      <td>19490.597739</td>\n",
       "      <td>8358.369428</td>\n",
       "      <td>57983.813453</td>\n",
       "      <td>2741.197782</td>\n",
       "      <td>19734.888558</td>\n",
       "      <td>10902.712789</td>\n",
       "      <td>56913.295312</td>\n",
       "      <td>14626.843011</td>\n",
       "      <td>95787.821755</td>\n",
       "      <td>26190.935509</td>\n",
       "      <td>145230.023621</td>\n",
       "      <td>10882.953602</td>\n",
       "      <td>89890.327111</td>\n",
       "      <td>19695.204078</td>\n",
       "      <td>105404.155609</td>\n",
       "    </tr>\n",
       "    <tr>\n",
       "      <th>2020-09-25</th>\n",
       "      <td>7785.718147</td>\n",
       "      <td>49530.483568</td>\n",
       "      <td>3312.883668</td>\n",
       "      <td>21907.336728</td>\n",
       "      <td>9998.417456</td>\n",
       "      <td>61701.978767</td>\n",
       "      <td>2835.437103</td>\n",
       "      <td>21086.642611</td>\n",
       "      <td>12318.782419</td>\n",
       "      <td>60431.818152</td>\n",
       "      <td>16838.512792</td>\n",
       "      <td>99610.007366</td>\n",
       "      <td>28049.097894</td>\n",
       "      <td>154632.622480</td>\n",
       "      <td>12850.835094</td>\n",
       "      <td>91042.354578</td>\n",
       "      <td>21883.017831</td>\n",
       "      <td>107860.443614</td>\n",
       "    </tr>\n",
       "    <tr>\n",
       "      <th>2020-09-26</th>\n",
       "      <td>6186.067614</td>\n",
       "      <td>35393.647282</td>\n",
       "      <td>3495.607881</td>\n",
       "      <td>17710.115150</td>\n",
       "      <td>9120.862134</td>\n",
       "      <td>49302.694383</td>\n",
       "      <td>2901.920593</td>\n",
       "      <td>17385.342614</td>\n",
       "      <td>11148.871275</td>\n",
       "      <td>41911.242486</td>\n",
       "      <td>18200.552171</td>\n",
       "      <td>93398.443669</td>\n",
       "      <td>28516.488787</td>\n",
       "      <td>124680.706616</td>\n",
       "      <td>13388.655605</td>\n",
       "      <td>85065.661386</td>\n",
       "      <td>22254.595719</td>\n",
       "      <td>101613.116206</td>\n",
       "    </tr>\n",
       "    <tr>\n",
       "      <th>2020-09-27</th>\n",
       "      <td>5634.707788</td>\n",
       "      <td>37561.851808</td>\n",
       "      <td>3167.665834</td>\n",
       "      <td>17126.972105</td>\n",
       "      <td>7795.761482</td>\n",
       "      <td>42588.885111</td>\n",
       "      <td>2750.048050</td>\n",
       "      <td>17114.255482</td>\n",
       "      <td>10701.388375</td>\n",
       "      <td>40764.100517</td>\n",
       "      <td>18826.993486</td>\n",
       "      <td>95014.550497</td>\n",
       "      <td>25364.520902</td>\n",
       "      <td>114992.442675</td>\n",
       "      <td>12435.862886</td>\n",
       "      <td>77560.749872</td>\n",
       "      <td>20472.420572</td>\n",
       "      <td>97484.823913</td>\n",
       "    </tr>\n",
       "    <tr>\n",
       "      <th>2020-09-28</th>\n",
       "      <td>6950.816740</td>\n",
       "      <td>45027.590072</td>\n",
       "      <td>3118.233217</td>\n",
       "      <td>18412.707074</td>\n",
       "      <td>8450.481928</td>\n",
       "      <td>49474.855296</td>\n",
       "      <td>2626.343296</td>\n",
       "      <td>17898.822658</td>\n",
       "      <td>12026.584461</td>\n",
       "      <td>50288.729655</td>\n",
       "      <td>17324.047342</td>\n",
       "      <td>95267.603324</td>\n",
       "      <td>26840.808127</td>\n",
       "      <td>138474.170724</td>\n",
       "      <td>12911.672566</td>\n",
       "      <td>83951.612087</td>\n",
       "      <td>21026.928235</td>\n",
       "      <td>106003.179049</td>\n",
       "    </tr>\n",
       "    <tr>\n",
       "      <th>2020-09-29</th>\n",
       "      <td>7017.616966</td>\n",
       "      <td>44569.949363</td>\n",
       "      <td>3232.992849</td>\n",
       "      <td>19195.643873</td>\n",
       "      <td>8312.063332</td>\n",
       "      <td>49040.611598</td>\n",
       "      <td>2611.623766</td>\n",
       "      <td>18663.854328</td>\n",
       "      <td>11559.906729</td>\n",
       "      <td>51996.132990</td>\n",
       "      <td>16199.585754</td>\n",
       "      <td>93335.879299</td>\n",
       "      <td>25815.275318</td>\n",
       "      <td>138346.909074</td>\n",
       "      <td>12202.911833</td>\n",
       "      <td>86442.781638</td>\n",
       "      <td>20339.508117</td>\n",
       "      <td>106733.422848</td>\n",
       "    </tr>\n",
       "    <tr>\n",
       "      <th>2020-09-30</th>\n",
       "      <td>6946.039386</td>\n",
       "      <td>43770.038623</td>\n",
       "      <td>3174.035938</td>\n",
       "      <td>19204.337791</td>\n",
       "      <td>8823.199251</td>\n",
       "      <td>49654.641697</td>\n",
       "      <td>2603.379601</td>\n",
       "      <td>19342.062457</td>\n",
       "      <td>12074.372815</td>\n",
       "      <td>52564.545593</td>\n",
       "      <td>16335.155689</td>\n",
       "      <td>93342.625479</td>\n",
       "      <td>27556.885926</td>\n",
       "      <td>139005.730690</td>\n",
       "      <td>12854.903095</td>\n",
       "      <td>88254.819397</td>\n",
       "      <td>21663.964265</td>\n",
       "      <td>108327.834835</td>\n",
       "    </tr>\n",
       "    <tr>\n",
       "      <th>2020-10-01</th>\n",
       "      <td>7162.038511</td>\n",
       "      <td>47199.853258</td>\n",
       "      <td>3091.501162</td>\n",
       "      <td>18975.905035</td>\n",
       "      <td>9168.072971</td>\n",
       "      <td>52886.471592</td>\n",
       "      <td>2549.105819</td>\n",
       "      <td>18906.553083</td>\n",
       "      <td>12282.900806</td>\n",
       "      <td>54587.847931</td>\n",
       "      <td>16404.493071</td>\n",
       "      <td>95252.339299</td>\n",
       "      <td>27936.491296</td>\n",
       "      <td>143621.957698</td>\n",
       "      <td>12646.590815</td>\n",
       "      <td>89300.527718</td>\n",
       "      <td>20526.284273</td>\n",
       "      <td>107229.028386</td>\n",
       "    </tr>\n",
       "    <tr>\n",
       "      <th>2020-10-02</th>\n",
       "      <td>8267.416026</td>\n",
       "      <td>46799.065939</td>\n",
       "      <td>3497.645400</td>\n",
       "      <td>20611.520599</td>\n",
       "      <td>10822.752190</td>\n",
       "      <td>56590.249878</td>\n",
       "      <td>2994.811665</td>\n",
       "      <td>19968.587155</td>\n",
       "      <td>13395.837660</td>\n",
       "      <td>58524.579324</td>\n",
       "      <td>18769.189420</td>\n",
       "      <td>97648.613525</td>\n",
       "      <td>29468.071395</td>\n",
       "      <td>141324.312845</td>\n",
       "      <td>14202.095450</td>\n",
       "      <td>90403.594899</td>\n",
       "      <td>21891.399316</td>\n",
       "      <td>109750.903735</td>\n",
       "    </tr>\n",
       "    <tr>\n",
       "      <th>2020-10-03</th>\n",
       "      <td>6841.760765</td>\n",
       "      <td>35343.089847</td>\n",
       "      <td>3220.700104</td>\n",
       "      <td>18002.791167</td>\n",
       "      <td>10403.217741</td>\n",
       "      <td>45703.421299</td>\n",
       "      <td>2683.968299</td>\n",
       "      <td>18512.557420</td>\n",
       "      <td>12292.039052</td>\n",
       "      <td>40652.653557</td>\n",
       "      <td>20065.368426</td>\n",
       "      <td>94611.325134</td>\n",
       "      <td>30321.664527</td>\n",
       "      <td>125145.177471</td>\n",
       "      <td>14646.550135</td>\n",
       "      <td>85621.170477</td>\n",
       "      <td>22568.156190</td>\n",
       "      <td>102960.179582</td>\n",
       "    </tr>\n",
       "    <tr>\n",
       "      <th>2020-10-04</th>\n",
       "      <td>5602.839282</td>\n",
       "      <td>34369.422354</td>\n",
       "      <td>2855.057633</td>\n",
       "      <td>16765.726817</td>\n",
       "      <td>8020.585809</td>\n",
       "      <td>40158.242558</td>\n",
       "      <td>2427.845378</td>\n",
       "      <td>17010.995954</td>\n",
       "      <td>11533.744489</td>\n",
       "      <td>37902.981628</td>\n",
       "      <td>19326.636183</td>\n",
       "      <td>93605.037937</td>\n",
       "      <td>26315.724396</td>\n",
       "      <td>115368.373035</td>\n",
       "      <td>13415.389002</td>\n",
       "      <td>74257.939160</td>\n",
       "      <td>20799.603702</td>\n",
       "      <td>98498.530738</td>\n",
       "    </tr>\n",
       "    <tr>\n",
       "      <th>2020-10-05</th>\n",
       "      <td>6450.333365</td>\n",
       "      <td>47947.063401</td>\n",
       "      <td>3364.875175</td>\n",
       "      <td>19097.559891</td>\n",
       "      <td>7642.262633</td>\n",
       "      <td>52574.901832</td>\n",
       "      <td>2297.661167</td>\n",
       "      <td>18697.932069</td>\n",
       "      <td>11434.758877</td>\n",
       "      <td>52064.035085</td>\n",
       "      <td>15534.547792</td>\n",
       "      <td>94450.490864</td>\n",
       "      <td>24868.942468</td>\n",
       "      <td>133474.007281</td>\n",
       "      <td>11379.449152</td>\n",
       "      <td>85494.739152</td>\n",
       "      <td>18967.592333</td>\n",
       "      <td>104687.265320</td>\n",
       "    </tr>\n",
       "    <tr>\n",
       "      <th>2020-10-06</th>\n",
       "      <td>6497.446739</td>\n",
       "      <td>49178.803714</td>\n",
       "      <td>3299.218640</td>\n",
       "      <td>20019.473120</td>\n",
       "      <td>7686.443583</td>\n",
       "      <td>51967.067183</td>\n",
       "      <td>2326.230736</td>\n",
       "      <td>19608.186273</td>\n",
       "      <td>11099.375815</td>\n",
       "      <td>53329.669429</td>\n",
       "      <td>14689.460873</td>\n",
       "      <td>92837.900717</td>\n",
       "      <td>24383.640561</td>\n",
       "      <td>136227.459229</td>\n",
       "      <td>11181.283792</td>\n",
       "      <td>88007.320641</td>\n",
       "      <td>19150.950542</td>\n",
       "      <td>107961.236777</td>\n",
       "    </tr>\n",
       "    <tr>\n",
       "      <th>2020-10-07</th>\n",
       "      <td>5983.063885</td>\n",
       "      <td>43580.016077</td>\n",
       "      <td>3059.063491</td>\n",
       "      <td>18020.284850</td>\n",
       "      <td>7405.442375</td>\n",
       "      <td>49536.841699</td>\n",
       "      <td>2169.594248</td>\n",
       "      <td>18034.385027</td>\n",
       "      <td>10972.144778</td>\n",
       "      <td>51299.182064</td>\n",
       "      <td>13871.381126</td>\n",
       "      <td>87468.531832</td>\n",
       "      <td>23800.634434</td>\n",
       "      <td>128901.152167</td>\n",
       "      <td>10719.088304</td>\n",
       "      <td>83078.899760</td>\n",
       "      <td>17439.033564</td>\n",
       "      <td>101278.909851</td>\n",
       "    </tr>\n",
       "    <tr>\n",
       "      <th>2020-10-08</th>\n",
       "      <td>6860.474099</td>\n",
       "      <td>49332.210938</td>\n",
       "      <td>3215.974333</td>\n",
       "      <td>19285.986447</td>\n",
       "      <td>8231.409618</td>\n",
       "      <td>54611.111464</td>\n",
       "      <td>2363.482953</td>\n",
       "      <td>19126.352078</td>\n",
       "      <td>11495.435308</td>\n",
       "      <td>58638.949293</td>\n",
       "      <td>14970.832198</td>\n",
       "      <td>95670.455621</td>\n",
       "      <td>25598.523119</td>\n",
       "      <td>144713.176915</td>\n",
       "      <td>11354.806910</td>\n",
       "      <td>89186.809409</td>\n",
       "      <td>18948.524390</td>\n",
       "      <td>105501.681512</td>\n",
       "    </tr>\n",
       "    <tr>\n",
       "      <th>2020-10-09</th>\n",
       "      <td>7283.150513</td>\n",
       "      <td>48232.458273</td>\n",
       "      <td>3563.079490</td>\n",
       "      <td>21264.983558</td>\n",
       "      <td>9725.221091</td>\n",
       "      <td>58358.904160</td>\n",
       "      <td>2438.604858</td>\n",
       "      <td>21308.622825</td>\n",
       "      <td>13004.486511</td>\n",
       "      <td>58389.713819</td>\n",
       "      <td>16506.424812</td>\n",
       "      <td>98154.080900</td>\n",
       "      <td>26608.273204</td>\n",
       "      <td>146061.677083</td>\n",
       "      <td>13155.364394</td>\n",
       "      <td>90135.435055</td>\n",
       "      <td>21371.687452</td>\n",
       "      <td>110586.999409</td>\n",
       "    </tr>\n",
       "    <tr>\n",
       "      <th>2020-10-10</th>\n",
       "      <td>6392.314285</td>\n",
       "      <td>39817.019761</td>\n",
       "      <td>3312.645695</td>\n",
       "      <td>18264.252765</td>\n",
       "      <td>9904.616486</td>\n",
       "      <td>47778.214776</td>\n",
       "      <td>2318.721001</td>\n",
       "      <td>19027.678761</td>\n",
       "      <td>12475.073497</td>\n",
       "      <td>43146.075682</td>\n",
       "      <td>19699.256165</td>\n",
       "      <td>96228.232996</td>\n",
       "      <td>27601.179274</td>\n",
       "      <td>124029.779505</td>\n",
       "      <td>14359.711412</td>\n",
       "      <td>88997.972980</td>\n",
       "      <td>22381.331123</td>\n",
       "      <td>104774.144728</td>\n",
       "    </tr>\n",
       "  </tbody>\n",
       "</table>\n",
       "</div>"
      ],
      "text/plain": [
       "crossing    Brooklyn Battery_cash  Brooklyn Battery_ezpass  Cross Bay_cash  \\\n",
       "datetime                                                                     \n",
       "2020-09-06            5961.508733             35846.876225     3442.123603   \n",
       "2020-09-07            6444.277694             34127.478609     3165.422260   \n",
       "2020-09-08            6590.742174             47641.386546     3390.317046   \n",
       "2020-09-09            6605.371308             48514.947374     3152.800282   \n",
       "2020-09-10            7325.171364             49042.480607     3012.425355   \n",
       "2020-09-11            7534.105568             46091.456970     3741.458648   \n",
       "2020-09-12            6384.642438             34128.000895     3777.434691   \n",
       "2020-09-13            5730.016044             35461.033942     3100.872953   \n",
       "2020-09-14            6748.726652             43930.948069     3453.070765   \n",
       "2020-09-15            6671.477869             48375.241090     3598.857620   \n",
       "2020-09-16            6766.378588             48024.961942     3419.014964   \n",
       "2020-09-17            7492.006822             49443.902636     3173.824583   \n",
       "2020-09-18            7656.260784             48200.578381     3440.410532   \n",
       "2020-09-19            6309.414167             34870.104016     3327.965272   \n",
       "2020-09-20            5516.263753             34217.381936     3283.796413   \n",
       "2020-09-21            6433.282917             44582.719726     3075.905373   \n",
       "2020-09-22            6583.834262             46825.252119     3104.743680   \n",
       "2020-09-23            6809.078372             49191.175024     3184.756955   \n",
       "2020-09-24            7088.332666             48728.029471     3063.570669   \n",
       "2020-09-25            7785.718147             49530.483568     3312.883668   \n",
       "2020-09-26            6186.067614             35393.647282     3495.607881   \n",
       "2020-09-27            5634.707788             37561.851808     3167.665834   \n",
       "2020-09-28            6950.816740             45027.590072     3118.233217   \n",
       "2020-09-29            7017.616966             44569.949363     3232.992849   \n",
       "2020-09-30            6946.039386             43770.038623     3174.035938   \n",
       "2020-10-01            7162.038511             47199.853258     3091.501162   \n",
       "2020-10-02            8267.416026             46799.065939     3497.645400   \n",
       "2020-10-03            6841.760765             35343.089847     3220.700104   \n",
       "2020-10-04            5602.839282             34369.422354     2855.057633   \n",
       "2020-10-05            6450.333365             47947.063401     3364.875175   \n",
       "2020-10-06            6497.446739             49178.803714     3299.218640   \n",
       "2020-10-07            5983.063885             43580.016077     3059.063491   \n",
       "2020-10-08            6860.474099             49332.210938     3215.974333   \n",
       "2020-10-09            7283.150513             48232.458273     3563.079490   \n",
       "2020-10-10            6392.314285             39817.019761     3312.645695   \n",
       "\n",
       "crossing    Cross Bay_ezpass  Henry Hudson_cash  Henry Hudson_ezpass  \\\n",
       "datetime                                                               \n",
       "2020-09-06      18309.174085        8234.272315         47161.604531   \n",
       "2020-09-07      17321.356970        7054.248891         38298.879373   \n",
       "2020-09-08      19693.640532        7288.303421         51611.143431   \n",
       "2020-09-09      18931.829163        7650.778672         54868.751478   \n",
       "2020-09-10      19275.342588        8648.111550         56108.275633   \n",
       "2020-09-11      21775.017080        9715.315941         59386.086643   \n",
       "2020-09-12      19372.058532        9672.498041         47808.248076   \n",
       "2020-09-13      16482.849591        8092.743128         47137.187538   \n",
       "2020-09-14      19035.099994        7285.959783         52793.321701   \n",
       "2020-09-15      20433.446206        7305.612836         53287.452127   \n",
       "2020-09-16      19157.816382        7471.945471         55251.988605   \n",
       "2020-09-17      20179.992131        8759.705534         58114.812284   \n",
       "2020-09-18      21841.346140        9569.224169         57846.288734   \n",
       "2020-09-19      18412.305794        9325.463809         47543.828665   \n",
       "2020-09-20      16305.559331        7907.309066         43343.056696   \n",
       "2020-09-21      18650.059549        7446.811751         52729.207612   \n",
       "2020-09-22      19377.891235        7515.380166         53468.220954   \n",
       "2020-09-23      20015.712488        7596.494895         57448.256781   \n",
       "2020-09-24      19490.597739        8358.369428         57983.813453   \n",
       "2020-09-25      21907.336728        9998.417456         61701.978767   \n",
       "2020-09-26      17710.115150        9120.862134         49302.694383   \n",
       "2020-09-27      17126.972105        7795.761482         42588.885111   \n",
       "2020-09-28      18412.707074        8450.481928         49474.855296   \n",
       "2020-09-29      19195.643873        8312.063332         49040.611598   \n",
       "2020-09-30      19204.337791        8823.199251         49654.641697   \n",
       "2020-10-01      18975.905035        9168.072971         52886.471592   \n",
       "2020-10-02      20611.520599       10822.752190         56590.249878   \n",
       "2020-10-03      18002.791167       10403.217741         45703.421299   \n",
       "2020-10-04      16765.726817        8020.585809         40158.242558   \n",
       "2020-10-05      19097.559891        7642.262633         52574.901832   \n",
       "2020-10-06      20019.473120        7686.443583         51967.067183   \n",
       "2020-10-07      18020.284850        7405.442375         49536.841699   \n",
       "2020-10-08      19285.986447        8231.409618         54611.111464   \n",
       "2020-10-09      21264.983558        9725.221091         58358.904160   \n",
       "2020-10-10      18264.252765        9904.616486         47778.214776   \n",
       "\n",
       "crossing    Marine Parkway_cash  Marine Parkway_ezpass  Queens Midtown_cash  \\\n",
       "datetime                                                                      \n",
       "2020-09-06          3707.859061           20744.994471         10810.826693   \n",
       "2020-09-07          2558.150080           17758.875143         10738.001487   \n",
       "2020-09-08          2734.960423           19554.965803         11145.834033   \n",
       "2020-09-09          2886.204010           18799.017402         11151.775475   \n",
       "2020-09-10          2904.127973           19154.942084         11588.165063   \n",
       "2020-09-11          3193.803468           21972.004351         12665.684859   \n",
       "2020-09-12          3647.542775           20438.412592         11570.582781   \n",
       "2020-09-13          2717.331833           17121.219324         10956.831573   \n",
       "2020-09-14          3113.823613           19337.681477         10994.056288   \n",
       "2020-09-15          2999.407679           20691.538969         11074.208660   \n",
       "2020-09-16          2868.841150           19140.276102         11121.638684   \n",
       "2020-09-17          2961.970996           20061.479881         11715.119745   \n",
       "2020-09-18          3152.151334           21373.694205         12501.298350   \n",
       "2020-09-19          3071.596844           18785.996519         11512.656766   \n",
       "2020-09-20          3009.527861           16608.372557         10743.675702   \n",
       "2020-09-21          2621.810431           19110.523534         10329.492361   \n",
       "2020-09-22          2682.828732           19198.667165         10507.419824   \n",
       "2020-09-23          2795.691600           20250.402602         10948.812326   \n",
       "2020-09-24          2741.197782           19734.888558         10902.712789   \n",
       "2020-09-25          2835.437103           21086.642611         12318.782419   \n",
       "2020-09-26          2901.920593           17385.342614         11148.871275   \n",
       "2020-09-27          2750.048050           17114.255482         10701.388375   \n",
       "2020-09-28          2626.343296           17898.822658         12026.584461   \n",
       "2020-09-29          2611.623766           18663.854328         11559.906729   \n",
       "2020-09-30          2603.379601           19342.062457         12074.372815   \n",
       "2020-10-01          2549.105819           18906.553083         12282.900806   \n",
       "2020-10-02          2994.811665           19968.587155         13395.837660   \n",
       "2020-10-03          2683.968299           18512.557420         12292.039052   \n",
       "2020-10-04          2427.845378           17010.995954         11533.744489   \n",
       "2020-10-05          2297.661167           18697.932069         11434.758877   \n",
       "2020-10-06          2326.230736           19608.186273         11099.375815   \n",
       "2020-10-07          2169.594248           18034.385027         10972.144778   \n",
       "2020-10-08          2363.482953           19126.352078         11495.435308   \n",
       "2020-10-09          2438.604858           21308.622825         13004.486511   \n",
       "2020-10-10          2318.721001           19027.678761         12475.073497   \n",
       "\n",
       "crossing    Queens Midtown_ezpass  Throgs Neck_cash  Throgs Neck_ezpass  \\\n",
       "datetime                                                                  \n",
       "2020-09-06           45040.149900      19264.226951        99099.077761   \n",
       "2020-09-07           40547.387660      16145.376942        84009.819884   \n",
       "2020-09-08           55817.950679      15222.845376        90370.032110   \n",
       "2020-09-09           56357.572073      14899.216115        90778.457415   \n",
       "2020-09-10           58543.380058      15513.097222        93884.693263   \n",
       "2020-09-11           57875.322248      17058.575939        96697.641732   \n",
       "2020-09-12           42393.423432      19846.187492        94542.621469   \n",
       "2020-09-13           46084.857115      18261.697229        93779.478651   \n",
       "2020-09-14           51346.806790      15469.403521        91617.775899   \n",
       "2020-09-15           56392.423401      14802.792281        93063.379056   \n",
       "2020-09-16           56958.360845      15001.434683        92119.179026   \n",
       "2020-09-17           58905.429240      15210.631890        97227.635038   \n",
       "2020-09-18           59572.386464      16908.920928        98488.901736   \n",
       "2020-09-19           41286.091273      19117.057250        95638.904576   \n",
       "2020-09-20           41717.493329      18395.736182        88646.709500   \n",
       "2020-09-21           49750.114576      14678.910284        92516.134481   \n",
       "2020-09-22           55932.923131      14502.460409        92580.865228   \n",
       "2020-09-23           56804.015316      15096.102371        94973.087161   \n",
       "2020-09-24           56913.295312      14626.843011        95787.821755   \n",
       "2020-09-25           60431.818152      16838.512792        99610.007366   \n",
       "2020-09-26           41911.242486      18200.552171        93398.443669   \n",
       "2020-09-27           40764.100517      18826.993486        95014.550497   \n",
       "2020-09-28           50288.729655      17324.047342        95267.603324   \n",
       "2020-09-29           51996.132990      16199.585754        93335.879299   \n",
       "2020-09-30           52564.545593      16335.155689        93342.625479   \n",
       "2020-10-01           54587.847931      16404.493071        95252.339299   \n",
       "2020-10-02           58524.579324      18769.189420        97648.613525   \n",
       "2020-10-03           40652.653557      20065.368426        94611.325134   \n",
       "2020-10-04           37902.981628      19326.636183        93605.037937   \n",
       "2020-10-05           52064.035085      15534.547792        94450.490864   \n",
       "2020-10-06           53329.669429      14689.460873        92837.900717   \n",
       "2020-10-07           51299.182064      13871.381126        87468.531832   \n",
       "2020-10-08           58638.949293      14970.832198        95670.455621   \n",
       "2020-10-09           58389.713819      16506.424812        98154.080900   \n",
       "2020-10-10           43146.075682      19699.256165        96228.232996   \n",
       "\n",
       "crossing    Triboro_cash  Triboro_ezpass  Verrazano_cash  Verrazano_ezpass  \\\n",
       "datetime                                                                     \n",
       "2020-09-06  28180.716982   121742.104201    12688.895485      82485.490471   \n",
       "2020-09-07  24702.880006   121289.241440    11355.511213      76322.090183   \n",
       "2020-09-08  24800.048883   135550.867676    11078.306872      88407.870574   \n",
       "2020-09-09  24976.274721   132961.750668    10932.148055      87111.934439   \n",
       "2020-09-10  26131.104722   141148.906650    11430.707190      91642.986966   \n",
       "2020-09-11  26744.694216   149349.961015    12739.433299      91514.992390   \n",
       "2020-09-12  28651.996748   122055.769888    14109.185689      84271.525098   \n",
       "2020-09-13  25044.122090   117801.306842    12680.563033      81256.414735   \n",
       "2020-09-14  24480.931187   133571.600770    11249.619940      83859.504217   \n",
       "2020-09-15  24012.036328   133853.012330    10898.022253      90731.474131   \n",
       "2020-09-16  24814.642069   135652.635431    10809.634607      89282.476436   \n",
       "2020-09-17  26030.197642   146193.707899    11192.095204      93181.311787   \n",
       "2020-09-18  27234.851591   144835.261836    12416.504789      92676.251585   \n",
       "2020-09-19  28044.554966   119378.105911    13108.927531      83412.491420   \n",
       "2020-09-20  24488.703025   112461.214466    12337.392502      78037.220405   \n",
       "2020-09-21  25104.070627   139688.806743    10912.911267      82174.448685   \n",
       "2020-09-22  24226.114099   138988.478082    10494.122970      87436.828411   \n",
       "2020-09-23  25476.412653   140813.941296    10911.538226      89732.343465   \n",
       "2020-09-24  26190.935509   145230.023621    10882.953602      89890.327111   \n",
       "2020-09-25  28049.097894   154632.622480    12850.835094      91042.354578   \n",
       "2020-09-26  28516.488787   124680.706616    13388.655605      85065.661386   \n",
       "2020-09-27  25364.520902   114992.442675    12435.862886      77560.749872   \n",
       "2020-09-28  26840.808127   138474.170724    12911.672566      83951.612087   \n",
       "2020-09-29  25815.275318   138346.909074    12202.911833      86442.781638   \n",
       "2020-09-30  27556.885926   139005.730690    12854.903095      88254.819397   \n",
       "2020-10-01  27936.491296   143621.957698    12646.590815      89300.527718   \n",
       "2020-10-02  29468.071395   141324.312845    14202.095450      90403.594899   \n",
       "2020-10-03  30321.664527   125145.177471    14646.550135      85621.170477   \n",
       "2020-10-04  26315.724396   115368.373035    13415.389002      74257.939160   \n",
       "2020-10-05  24868.942468   133474.007281    11379.449152      85494.739152   \n",
       "2020-10-06  24383.640561   136227.459229    11181.283792      88007.320641   \n",
       "2020-10-07  23800.634434   128901.152167    10719.088304      83078.899760   \n",
       "2020-10-08  25598.523119   144713.176915    11354.806910      89186.809409   \n",
       "2020-10-09  26608.273204   146061.677083    13155.364394      90135.435055   \n",
       "2020-10-10  27601.179274   124029.779505    14359.711412      88997.972980   \n",
       "\n",
       "crossing    Whitestone_cash  Whitestone_ezpass  \n",
       "datetime                                        \n",
       "2020-09-06     22430.401637      105268.225308  \n",
       "2020-09-07     19424.449950       95190.455209  \n",
       "2020-09-08     19131.853928       99588.915982  \n",
       "2020-09-09     18828.264820      101493.911015  \n",
       "2020-09-10     20564.258002      107766.504732  \n",
       "2020-09-11     22667.129852      113773.738924  \n",
       "2020-09-12     23179.496130      102465.951304  \n",
       "2020-09-13     21435.846285      106056.685547  \n",
       "2020-09-14     19462.107307      102810.521437  \n",
       "2020-09-15     19656.304928      103933.276434  \n",
       "2020-09-16     19235.404665      106380.877029  \n",
       "2020-09-17     20029.977053      113373.350283  \n",
       "2020-09-18     21494.489087      113570.483551  \n",
       "2020-09-19     22365.390876       99385.162338  \n",
       "2020-09-20     20047.902598       97448.278017  \n",
       "2020-09-21     19541.354802      100950.048478  \n",
       "2020-09-22     19188.525647      102614.712071  \n",
       "2020-09-23     20012.343350      103787.087587  \n",
       "2020-09-24     19695.204078      105404.155609  \n",
       "2020-09-25     21883.017831      107860.443614  \n",
       "2020-09-26     22254.595719      101613.116206  \n",
       "2020-09-27     20472.420572       97484.823913  \n",
       "2020-09-28     21026.928235      106003.179049  \n",
       "2020-09-29     20339.508117      106733.422848  \n",
       "2020-09-30     21663.964265      108327.834835  \n",
       "2020-10-01     20526.284273      107229.028386  \n",
       "2020-10-02     21891.399316      109750.903735  \n",
       "2020-10-03     22568.156190      102960.179582  \n",
       "2020-10-04     20799.603702       98498.530738  \n",
       "2020-10-05     18967.592333      104687.265320  \n",
       "2020-10-06     19150.950542      107961.236777  \n",
       "2020-10-07     17439.033564      101278.909851  \n",
       "2020-10-08     18948.524390      105501.681512  \n",
       "2020-10-09     21371.687452      110586.999409  \n",
       "2020-10-10     22381.331123      104774.144728  "
      ]
     },
     "execution_count": 128,
     "metadata": {},
     "output_type": "execute_result"
    }
   ],
   "source": [
    "_lgbm_pivot_pred"
   ]
  },
  {
   "cell_type": "code",
   "execution_count": 131,
   "metadata": {},
   "outputs": [
    {
     "name": "stderr",
     "output_type": "stream",
     "text": [
      "100%|██████████| 18/18 [00:00<00:00, 5999.48it/s]\n"
     ]
    }
   ],
   "source": [
    "_lgbm_dollars = 0\n",
    "for crossing,rate in tqdm(crossing_rates.items()):\n",
    "    _lgbm_dollars += _lgbm_pivot_pred[crossing].sum() * rate"
   ]
  },
  {
   "cell_type": "code",
   "execution_count": 132,
   "metadata": {},
   "outputs": [
    {
     "data": {
      "text/plain": [
       "1172484.7978298068"
      ]
     },
     "execution_count": 132,
     "metadata": {},
     "output_type": "execute_result"
    }
   ],
   "source": [
    "_lgbm_dollars - _total_dollars"
   ]
  },
  {
   "cell_type": "code",
   "execution_count": 82,
   "metadata": {},
   "outputs": [
    {
     "data": {
      "text/plain": [
       "bridges         Brooklyn Battery_cashBrooklyn Battery_ezpassCr...\n",
       "dummy_MA7                                                 74391.5\n",
       "SARIMAX                                                   45896.3\n",
       "FB_prophet_1                                              40939.4\n",
       "LGBM                                                      46283.2\n",
       "dtype: object"
      ]
     },
     "metadata": {},
     "output_type": "display_data"
    },
    {
     "data": {
      "text/html": [
       "<div>\n",
       "<style scoped>\n",
       "    .dataframe tbody tr th:only-of-type {\n",
       "        vertical-align: middle;\n",
       "    }\n",
       "\n",
       "    .dataframe tbody tr th {\n",
       "        vertical-align: top;\n",
       "    }\n",
       "\n",
       "    .dataframe thead th {\n",
       "        text-align: right;\n",
       "    }\n",
       "</style>\n",
       "<table border=\"1\" class=\"dataframe\">\n",
       "  <thead>\n",
       "    <tr style=\"text-align: right;\">\n",
       "      <th></th>\n",
       "      <th>bridges</th>\n",
       "      <th>dummy_MA7</th>\n",
       "      <th>SARIMAX</th>\n",
       "      <th>FB_prophet_1</th>\n",
       "      <th>LGBM</th>\n",
       "    </tr>\n",
       "  </thead>\n",
       "  <tbody>\n",
       "    <tr>\n",
       "      <th>0</th>\n",
       "      <td>Brooklyn Battery_cash</td>\n",
       "      <td>897.963817</td>\n",
       "      <td>612.227203</td>\n",
       "      <td>618.120912</td>\n",
       "      <td>553.232739</td>\n",
       "    </tr>\n",
       "    <tr>\n",
       "      <th>1</th>\n",
       "      <td>Brooklyn Battery_ezpass</td>\n",
       "      <td>8555.505708</td>\n",
       "      <td>3230.593207</td>\n",
       "      <td>3355.836134</td>\n",
       "      <td>4072.185416</td>\n",
       "    </tr>\n",
       "    <tr>\n",
       "      <th>2</th>\n",
       "      <td>Cross Bay_cash</td>\n",
       "      <td>799.763228</td>\n",
       "      <td>552.047553</td>\n",
       "      <td>416.696658</td>\n",
       "      <td>406.114840</td>\n",
       "    </tr>\n",
       "    <tr>\n",
       "      <th>3</th>\n",
       "      <td>Cross Bay_ezpass</td>\n",
       "      <td>2891.665227</td>\n",
       "      <td>1760.772889</td>\n",
       "      <td>1380.337438</td>\n",
       "      <td>1285.584629</td>\n",
       "    </tr>\n",
       "    <tr>\n",
       "      <th>4</th>\n",
       "      <td>Henry Hudson_cash</td>\n",
       "      <td>1033.794866</td>\n",
       "      <td>615.152942</td>\n",
       "      <td>739.011878</td>\n",
       "      <td>586.071300</td>\n",
       "    </tr>\n",
       "    <tr>\n",
       "      <th>5</th>\n",
       "      <td>Henry Hudson_ezpass</td>\n",
       "      <td>6001.858192</td>\n",
       "      <td>4011.601010</td>\n",
       "      <td>2926.605642</td>\n",
       "      <td>3154.198591</td>\n",
       "    </tr>\n",
       "    <tr>\n",
       "      <th>6</th>\n",
       "      <td>Marine Parkway_cash</td>\n",
       "      <td>1211.033429</td>\n",
       "      <td>980.635087</td>\n",
       "      <td>587.413843</td>\n",
       "      <td>546.723609</td>\n",
       "    </tr>\n",
       "    <tr>\n",
       "      <th>7</th>\n",
       "      <td>Marine Parkway_ezpass</td>\n",
       "      <td>4535.955593</td>\n",
       "      <td>3085.176388</td>\n",
       "      <td>2518.548791</td>\n",
       "      <td>2043.620207</td>\n",
       "    </tr>\n",
       "    <tr>\n",
       "      <th>8</th>\n",
       "      <td>Queens Midtown_cash</td>\n",
       "      <td>1186.325490</td>\n",
       "      <td>1090.033137</td>\n",
       "      <td>1342.400382</td>\n",
       "      <td>844.472289</td>\n",
       "    </tr>\n",
       "    <tr>\n",
       "      <th>9</th>\n",
       "      <td>Queens Midtown_ezpass</td>\n",
       "      <td>8093.426751</td>\n",
       "      <td>5363.611894</td>\n",
       "      <td>5905.471540</td>\n",
       "      <td>3985.013492</td>\n",
       "    </tr>\n",
       "    <tr>\n",
       "      <th>10</th>\n",
       "      <td>Throgs Neck_cash</td>\n",
       "      <td>2484.605244</td>\n",
       "      <td>958.703167</td>\n",
       "      <td>808.416934</td>\n",
       "      <td>1046.580447</td>\n",
       "    </tr>\n",
       "    <tr>\n",
       "      <th>11</th>\n",
       "      <td>Throgs Neck_ezpass</td>\n",
       "      <td>6261.828596</td>\n",
       "      <td>3897.723486</td>\n",
       "      <td>4760.211434</td>\n",
       "      <td>6126.305941</td>\n",
       "    </tr>\n",
       "    <tr>\n",
       "      <th>12</th>\n",
       "      <td>Triboro_cash</td>\n",
       "      <td>2220.852549</td>\n",
       "      <td>1286.601196</td>\n",
       "      <td>1074.360597</td>\n",
       "      <td>2400.718357</td>\n",
       "    </tr>\n",
       "    <tr>\n",
       "      <th>13</th>\n",
       "      <td>Triboro_ezpass</td>\n",
       "      <td>10637.038737</td>\n",
       "      <td>7794.015125</td>\n",
       "      <td>4718.228227</td>\n",
       "      <td>6459.257301</td>\n",
       "    </tr>\n",
       "    <tr>\n",
       "      <th>14</th>\n",
       "      <td>Verrazano_cash</td>\n",
       "      <td>1358.699030</td>\n",
       "      <td>615.833265</td>\n",
       "      <td>799.565965</td>\n",
       "      <td>779.700422</td>\n",
       "    </tr>\n",
       "    <tr>\n",
       "      <th>15</th>\n",
       "      <td>Verrazano_ezpass</td>\n",
       "      <td>7031.470997</td>\n",
       "      <td>3904.164124</td>\n",
       "      <td>3609.562565</td>\n",
       "      <td>3559.373508</td>\n",
       "    </tr>\n",
       "    <tr>\n",
       "      <th>16</th>\n",
       "      <td>Whitestone_cash</td>\n",
       "      <td>2446.725820</td>\n",
       "      <td>1145.489963</td>\n",
       "      <td>1273.051729</td>\n",
       "      <td>2539.243578</td>\n",
       "    </tr>\n",
       "    <tr>\n",
       "      <th>17</th>\n",
       "      <td>Whitestone_ezpass</td>\n",
       "      <td>6743.001814</td>\n",
       "      <td>4991.880389</td>\n",
       "      <td>4105.511272</td>\n",
       "      <td>5894.817670</td>\n",
       "    </tr>\n",
       "  </tbody>\n",
       "</table>\n",
       "</div>"
      ],
      "text/plain": [
       "                    bridges     dummy_MA7      SARIMAX  FB_prophet_1  \\\n",
       "0     Brooklyn Battery_cash    897.963817   612.227203    618.120912   \n",
       "1   Brooklyn Battery_ezpass   8555.505708  3230.593207   3355.836134   \n",
       "2            Cross Bay_cash    799.763228   552.047553    416.696658   \n",
       "3          Cross Bay_ezpass   2891.665227  1760.772889   1380.337438   \n",
       "4         Henry Hudson_cash   1033.794866   615.152942    739.011878   \n",
       "5       Henry Hudson_ezpass   6001.858192  4011.601010   2926.605642   \n",
       "6       Marine Parkway_cash   1211.033429   980.635087    587.413843   \n",
       "7     Marine Parkway_ezpass   4535.955593  3085.176388   2518.548791   \n",
       "8       Queens Midtown_cash   1186.325490  1090.033137   1342.400382   \n",
       "9     Queens Midtown_ezpass   8093.426751  5363.611894   5905.471540   \n",
       "10         Throgs Neck_cash   2484.605244   958.703167    808.416934   \n",
       "11       Throgs Neck_ezpass   6261.828596  3897.723486   4760.211434   \n",
       "12             Triboro_cash   2220.852549  1286.601196   1074.360597   \n",
       "13           Triboro_ezpass  10637.038737  7794.015125   4718.228227   \n",
       "14           Verrazano_cash   1358.699030   615.833265    799.565965   \n",
       "15         Verrazano_ezpass   7031.470997  3904.164124   3609.562565   \n",
       "16          Whitestone_cash   2446.725820  1145.489963   1273.051729   \n",
       "17        Whitestone_ezpass   6743.001814  4991.880389   4105.511272   \n",
       "\n",
       "           LGBM  \n",
       "0    553.232739  \n",
       "1   4072.185416  \n",
       "2    406.114840  \n",
       "3   1285.584629  \n",
       "4    586.071300  \n",
       "5   3154.198591  \n",
       "6    546.723609  \n",
       "7   2043.620207  \n",
       "8    844.472289  \n",
       "9   3985.013492  \n",
       "10  1046.580447  \n",
       "11  6126.305941  \n",
       "12  2400.718357  \n",
       "13  6459.257301  \n",
       "14   779.700422  \n",
       "15  3559.373508  \n",
       "16  2539.243578  \n",
       "17  5894.817670  "
      ]
     },
     "execution_count": 82,
     "metadata": {},
     "output_type": "execute_result"
    }
   ],
   "source": [
    "_lgbm_rmse = []\n",
    "for i in bridges:\n",
    "    _lgbm_rmse.append(np.sqrt(mean_squared_error(test_set_pivot[i], _lgbm_pivot_pred[i])))\n",
    "_results_df['LGBM'] = _lgbm_rmse\n",
    "display(_results_df.sum(axis=0))\n",
    "_results_df"
   ]
  },
  {
   "cell_type": "code",
   "execution_count": 83,
   "metadata": {},
   "outputs": [
    {
     "data": {
      "text/plain": [
       "bridges         Brooklyn Battery_cashBrooklyn Battery_ezpassCr...\n",
       "dummy_MA7                                                 74391.5\n",
       "SARIMAX                                                   45896.3\n",
       "FB_prophet_1                                              40939.4\n",
       "LGBM                                                      46283.2\n",
       "dtype: object"
      ]
     },
     "execution_count": 83,
     "metadata": {},
     "output_type": "execute_result"
    }
   ],
   "source": [
    "_results_df.sum(axis=0)"
   ]
  },
  {
   "cell_type": "markdown",
   "metadata": {},
   "source": [
    "# Best Model Forward: SARIMAX\n",
    "LGBM previously performed the best out of the three.... things have changed but I will forecast using LGBM. <br>\n",
    "LGBM performed the best out of the three. On the next notebook, I will refit the model off the entire dataset and predict up to March-31-2021. <br>\n",
    "In addition, I'll change some of the phases on January-1-2021:\n",
    "1. Phase -1: Coronavirus is over, return back to normal\n",
    "2. Phase 4: Continue with Phase 4\n",
    "3. Phase 1: Lockdown and reopen on February-01-2021"
   ]
  },
  {
   "cell_type": "code",
   "execution_count": null,
   "metadata": {},
   "outputs": [],
   "source": []
  }
 ],
 "metadata": {
  "kernelspec": {
   "display_name": "Python 3",
   "language": "python",
   "name": "python3"
  },
  "language_info": {
   "codemirror_mode": {
    "name": "ipython",
    "version": 3
   },
   "file_extension": ".py",
   "mimetype": "text/x-python",
   "name": "python",
   "nbconvert_exporter": "python",
   "pygments_lexer": "ipython3",
   "version": "3.7.4"
  }
 },
 "nbformat": 4,
 "nbformat_minor": 4
}
