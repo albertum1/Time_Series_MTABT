{
 "cells": [
  {
   "cell_type": "markdown",
   "metadata": {},
   "source": [
    "# Model Notebook\n",
    "Feature Engineering:\n",
    " - Datetime extraction\n",
    " - Introduce Phases\n",
    " - Use predicted average daily temperature to help fit model.\n",
    "\n",
    "I have decided to implement 3 different models. The model that returns the best rmse gets to predict future.\n",
    "1. SARIMAX\n",
    "2. FBProphet\n",
    "3. LightGBM"
   ]
  },
  {
   "cell_type": "code",
   "execution_count": 1,
   "metadata": {},
   "outputs": [],
   "source": [
    "import datetime\n",
    "import pandas as pd\n",
    "import numpy as np\n",
    "import matplotlib.pyplot as plt\n",
    "import seaborn as sns\n",
    "%matplotlib inline\n",
    "import holidays\n",
    "\n",
    "# For SARIMAX\n",
    "from tqdm import tqdm\n",
    "from pmdarima import auto_arima\n",
    "from statsmodels.tsa.statespace.sarimax import SARIMAX\n",
    "import statsmodels.api as sm\n",
    "from sklearn.metrics import mean_squared_error\n",
    "from sklearn.preprocessing import OneHotEncoder, LabelEncoder\n",
    "\n",
    "# For FBProphet\n",
    "from fbprophet import Prophet\n",
    "\n",
    "# For LightGBM\n",
    "import lightgbm as lgb\n",
    "from sklearn.model_selection import train_test_split\n",
    "import optuna"
   ]
  },
  {
   "cell_type": "markdown",
   "metadata": {},
   "source": [
    "### Data Preprocessing\n",
    "The original dataset can be found from data.ny.gov and time ranges from 2010-2020. <br>\n",
    "https://data.ny.gov/Transportation/Hourly-Traffic-on-Metropolitan-Transportation-Auth/qzve-kjga <br>\n",
    "The counts are in hourly form and need to be resampled to Daily.\n",
    "In addition, the bridges('plaza_id') are coded numerically and need to be renamed. <br>\n",
    "Please note: I have combined Triboro Manhattan and Triboro Bronx into Triboro.\n",
    "\n",
    "On 2017, NYC finished installing cashless tolls. I will, therefore, use data from 2018 and on because data was collected differently prior to 2017."
   ]
  },
  {
   "cell_type": "code",
   "execution_count": 2,
   "metadata": {},
   "outputs": [],
   "source": [
    "def return_series(csv_path):\n",
    "    \"\"\"\n",
    "    \n",
    "    \"\"\"\n",
    "    \n",
    "    def parse(x):\n",
    "        return datetime.datetime.strptime(x, '%m/%d/%Y %H')\n",
    "    \n",
    "    df = pd.read_csv(csv_path, parse_dates=[['Date','Hour']], date_parser=parse)\n",
    "    df = df.loc[~df.duplicated()]\n",
    "    \n",
    "    conditions = [\n",
    "    df['Plaza ID'].eq(21) | df['Plaza ID'].eq(1),\n",
    "    df['Plaza ID'].eq(22) | df['Plaza ID'].eq(2),\n",
    "    df['Plaza ID'].eq(23) | df['Plaza ID'].eq(3),\n",
    "    df['Plaza ID'].eq(24) | df['Plaza ID'].eq(4),\n",
    "    df['Plaza ID'].eq(25) | df['Plaza ID'].eq(5),\n",
    "    df['Plaza ID'].eq(26) | df['Plaza ID'].eq(6),\n",
    "    df['Plaza ID'].eq(27) | df['Plaza ID'].eq(7),\n",
    "    df['Plaza ID'].eq(28) | df['Plaza ID'].eq(8),\n",
    "    df['Plaza ID'].eq(29) | df['Plaza ID'].eq(9),\n",
    "    df['Plaza ID'].eq(30) | df['Plaza ID'].eq(11)\n",
    "    ]\n",
    "    choices = [\n",
    "        'Triboro',\n",
    "        'Triboro',\n",
    "        'Whitestone',\n",
    "        'Henry Hudson',\n",
    "        'Marine Parkway',\n",
    "        'Cross Bay',\n",
    "        'Queens Midtown',\n",
    "        'Brooklyn Battery',\n",
    "        'Throgs Neck',\n",
    "        'Verrazano'\n",
    "    ]\n",
    "    df['plaza_id'] = np.select(conditions, choices, 0)\n",
    "    \n",
    "    df['total_count'] = df['# Vehicles - E-ZPass'] + df['# Vehicles - VToll']\n",
    "    \n",
    "    sub_df = df[['Date_Hour', 'plaza_id', 'total_count']]\n",
    "    sub_df.columns = ['datetime', 'plaza_id', 'total_count']\n",
    "    sub_df.set_index('datetime', inplace=True)\n",
    "    sub_df = sub_df.groupby('plaza_id')['total_count'].resample('1D').sum()\n",
    "    \n",
    "    return sub_df\n"
   ]
  },
  {
   "cell_type": "code",
   "execution_count": 3,
   "metadata": {},
   "outputs": [],
   "source": [
    "df = return_series('mta.csv')"
   ]
  },
  {
   "cell_type": "markdown",
   "metadata": {},
   "source": [
    "### 9 Toll Bridges in NYC\n",
    "\n",
    "There are some days when there were 0 crossings over bridges. (missing values). <br> For this project, I have decided to fill the missing values with the previous day count. <br>\n",
    "\n",
    "\n",
    "\n"
   ]
  },
  {
   "cell_type": "code",
   "execution_count": 4,
   "metadata": {},
   "outputs": [],
   "source": [
    "_df = df.unstack().T\n",
    "_df = _df['2018':].copy()\n",
    "for i in _df.columns:\n",
    "    _df[i] = _df[i].replace(to_replace=0, method='ffill')"
   ]
  },
  {
   "cell_type": "markdown",
   "metadata": {},
   "source": [
    "### Feature Engineering: Holidays\n",
    "Holidays will be an important feature in determining daily toll traffic. I created a list of all the holidays from 2018-2021."
   ]
  },
  {
   "cell_type": "code",
   "execution_count": 5,
   "metadata": {},
   "outputs": [],
   "source": [
    "holidays_2018_2020 = []\n",
    "for year in [2018, 2019, 2020, 2021]:\n",
    "    for date in holidays.UnitedStates(years=year).items():\n",
    "        holidays_2018_2020.append(date[0])\n",
    "        \n",
    "bridges = ['Brooklyn Battery', 'Cross Bay', 'Henry Hudson', 'Marine Parkway',\n",
    "       'Queens Midtown', 'Throgs Neck', 'Triboro', 'Verrazano', 'Whitestone']"
   ]
  },
  {
   "cell_type": "markdown",
   "metadata": {},
   "source": [
    "### Feature Engineering: Date Features\n",
    "From datetime, I extract the month, day of the week, year, weekend... etc. <br> In addition, I have included the 8 events that occurred in **2020**\n",
    "0. March 12 - Events with more than 500 people cancelled\n",
    "1. March 22 - NYS Pause Program begins, all non-essential workers must stay home\n",
    "2. April 16 - Governor Cuomo extendes the stay-at-home order and school closures to May 15\n",
    "3. May 15 - Governor Cuomo extends PAUSE to May 28\n",
    "4. June 8 - NYC begins Phase 1 opening\n",
    "5. June 22 - NYC begins Phase 2 opening\n",
    "6. July 7 - NYC begins Phase 3 opening\n",
    "7. July 19 - NYC begins Phase 4 opening\n",
    "\n",
    "The timeline was extracted from investopedia. <br>\n",
    "https://www.investopedia.com/historical-timeline-of-covid-19-in-new-york-city-5071986"
   ]
  },
  {
   "cell_type": "code",
   "execution_count": 6,
   "metadata": {},
   "outputs": [],
   "source": [
    "def date_features(_df):\n",
    "    _df['month'] = _df.index.month\n",
    "    _df['dayofweek'] = _df.index.dayofweek\n",
    "    _df['year'] = _df.index.year\n",
    "    _df['week'] = _df.index.isocalendar().week\n",
    "    _df['day'] = _df.index.day\n",
    "    _df['quarter'] = _df.index.quarter\n",
    "    _df['dayofyear'] = _df.index.dayofyear\n",
    "\n",
    "\n",
    "    conditions = [\n",
    "        (_df.index >= '2020-03-12') & (_df.index < '2020-03-22'),\n",
    "        (_df.index >= '2020-03-22') & (_df.index < '2020-04-16'),\n",
    "        (_df.index >= '2020-04-16') & (_df.index < '2020-05-15'),\n",
    "        (_df.index >= '2020-05-15') & (_df.index < '2020-06-08'),\n",
    "        (_df.index >= '2020-06-08') & (_df.index < '2020-06-22'),\n",
    "        (_df.index >= '2020-06-22') & (_df.index < '2020-07-06'),\n",
    "        (_df.index >= '2020-07-06') & (_df.index < '2020-07-19'),\n",
    "        (_df.index >= '2020-07-19')\n",
    "    ]\n",
    "\n",
    "    choices = [\n",
    "        0,\n",
    "        1,\n",
    "        2,\n",
    "        3,\n",
    "        4,\n",
    "        5,\n",
    "        6,\n",
    "        7,\n",
    "    ]\n",
    "\n",
    "    _df['Phase'] = np.select(conditions, choices, -1)\n",
    "    \n",
    "    _df['weekend'] = (_df.index.dayofweek>4).astype(int)\n",
    "    _df['holiday'] = np.where(_df.index.isin(holidays_2018_2020), 1, 0)\n",
    "    return _df\n",
    "\n"
   ]
  },
  {
   "cell_type": "code",
   "execution_count": 7,
   "metadata": {},
   "outputs": [
    {
     "name": "stdout",
     "output_type": "stream",
     "text": [
      "(1000, 19)\n"
     ]
    },
    {
     "data": {
      "text/html": [
       "<div>\n",
       "<style scoped>\n",
       "    .dataframe tbody tr th:only-of-type {\n",
       "        vertical-align: middle;\n",
       "    }\n",
       "\n",
       "    .dataframe tbody tr th {\n",
       "        vertical-align: top;\n",
       "    }\n",
       "\n",
       "    .dataframe thead th {\n",
       "        text-align: right;\n",
       "    }\n",
       "</style>\n",
       "<table border=\"1\" class=\"dataframe\">\n",
       "  <thead>\n",
       "    <tr style=\"text-align: right;\">\n",
       "      <th>plaza_id</th>\n",
       "      <th>Brooklyn Battery</th>\n",
       "      <th>Cross Bay</th>\n",
       "      <th>Henry Hudson</th>\n",
       "      <th>Marine Parkway</th>\n",
       "      <th>Queens Midtown</th>\n",
       "      <th>Throgs Neck</th>\n",
       "      <th>Triboro</th>\n",
       "      <th>Verrazano</th>\n",
       "      <th>Whitestone</th>\n",
       "      <th>month</th>\n",
       "      <th>dayofweek</th>\n",
       "      <th>year</th>\n",
       "      <th>week</th>\n",
       "      <th>day</th>\n",
       "      <th>quarter</th>\n",
       "      <th>dayofyear</th>\n",
       "      <th>Phase</th>\n",
       "      <th>weekend</th>\n",
       "      <th>holiday</th>\n",
       "    </tr>\n",
       "    <tr>\n",
       "      <th>datetime</th>\n",
       "      <th></th>\n",
       "      <th></th>\n",
       "      <th></th>\n",
       "      <th></th>\n",
       "      <th></th>\n",
       "      <th></th>\n",
       "      <th></th>\n",
       "      <th></th>\n",
       "      <th></th>\n",
       "      <th></th>\n",
       "      <th></th>\n",
       "      <th></th>\n",
       "      <th></th>\n",
       "      <th></th>\n",
       "      <th></th>\n",
       "      <th></th>\n",
       "      <th></th>\n",
       "      <th></th>\n",
       "      <th></th>\n",
       "    </tr>\n",
       "  </thead>\n",
       "  <tbody>\n",
       "    <tr>\n",
       "      <th>2018-01-01</th>\n",
       "      <td>29163</td>\n",
       "      <td>13705</td>\n",
       "      <td>46540</td>\n",
       "      <td>12118</td>\n",
       "      <td>54907</td>\n",
       "      <td>98346</td>\n",
       "      <td>140775</td>\n",
       "      <td>81923</td>\n",
       "      <td>109286</td>\n",
       "      <td>1</td>\n",
       "      <td>0</td>\n",
       "      <td>2018</td>\n",
       "      <td>1</td>\n",
       "      <td>1</td>\n",
       "      <td>1</td>\n",
       "      <td>1</td>\n",
       "      <td>-1</td>\n",
       "      <td>0</td>\n",
       "      <td>1</td>\n",
       "    </tr>\n",
       "    <tr>\n",
       "      <th>2018-01-02</th>\n",
       "      <td>47160</td>\n",
       "      <td>21875</td>\n",
       "      <td>60610</td>\n",
       "      <td>19887</td>\n",
       "      <td>67000</td>\n",
       "      <td>106264</td>\n",
       "      <td>164930</td>\n",
       "      <td>95649</td>\n",
       "      <td>117211</td>\n",
       "      <td>1</td>\n",
       "      <td>1</td>\n",
       "      <td>2018</td>\n",
       "      <td>1</td>\n",
       "      <td>2</td>\n",
       "      <td>1</td>\n",
       "      <td>2</td>\n",
       "      <td>-1</td>\n",
       "      <td>0</td>\n",
       "      <td>0</td>\n",
       "    </tr>\n",
       "    <tr>\n",
       "      <th>2018-01-03</th>\n",
       "      <td>54005</td>\n",
       "      <td>24607</td>\n",
       "      <td>67983</td>\n",
       "      <td>22067</td>\n",
       "      <td>71725</td>\n",
       "      <td>115952</td>\n",
       "      <td>175150</td>\n",
       "      <td>103506</td>\n",
       "      <td>123974</td>\n",
       "      <td>1</td>\n",
       "      <td>2</td>\n",
       "      <td>2018</td>\n",
       "      <td>1</td>\n",
       "      <td>3</td>\n",
       "      <td>1</td>\n",
       "      <td>3</td>\n",
       "      <td>-1</td>\n",
       "      <td>0</td>\n",
       "      <td>0</td>\n",
       "    </tr>\n",
       "    <tr>\n",
       "      <th>2018-01-04</th>\n",
       "      <td>20484</td>\n",
       "      <td>8303</td>\n",
       "      <td>14502</td>\n",
       "      <td>6167</td>\n",
       "      <td>26625</td>\n",
       "      <td>28406</td>\n",
       "      <td>64137</td>\n",
       "      <td>37820</td>\n",
       "      <td>38114</td>\n",
       "      <td>1</td>\n",
       "      <td>3</td>\n",
       "      <td>2018</td>\n",
       "      <td>1</td>\n",
       "      <td>4</td>\n",
       "      <td>1</td>\n",
       "      <td>4</td>\n",
       "      <td>-1</td>\n",
       "      <td>0</td>\n",
       "      <td>0</td>\n",
       "    </tr>\n",
       "    <tr>\n",
       "      <th>2018-01-05</th>\n",
       "      <td>38007</td>\n",
       "      <td>16839</td>\n",
       "      <td>49850</td>\n",
       "      <td>13929</td>\n",
       "      <td>55153</td>\n",
       "      <td>80477</td>\n",
       "      <td>135253</td>\n",
       "      <td>74375</td>\n",
       "      <td>91229</td>\n",
       "      <td>1</td>\n",
       "      <td>4</td>\n",
       "      <td>2018</td>\n",
       "      <td>1</td>\n",
       "      <td>5</td>\n",
       "      <td>1</td>\n",
       "      <td>5</td>\n",
       "      <td>-1</td>\n",
       "      <td>0</td>\n",
       "      <td>0</td>\n",
       "    </tr>\n",
       "  </tbody>\n",
       "</table>\n",
       "</div>"
      ],
      "text/plain": [
       "plaza_id    Brooklyn Battery  Cross Bay  Henry Hudson  Marine Parkway  \\\n",
       "datetime                                                                \n",
       "2018-01-01             29163      13705         46540           12118   \n",
       "2018-01-02             47160      21875         60610           19887   \n",
       "2018-01-03             54005      24607         67983           22067   \n",
       "2018-01-04             20484       8303         14502            6167   \n",
       "2018-01-05             38007      16839         49850           13929   \n",
       "\n",
       "plaza_id    Queens Midtown  Throgs Neck  Triboro  Verrazano  Whitestone  \\\n",
       "datetime                                                                  \n",
       "2018-01-01           54907        98346   140775      81923      109286   \n",
       "2018-01-02           67000       106264   164930      95649      117211   \n",
       "2018-01-03           71725       115952   175150     103506      123974   \n",
       "2018-01-04           26625        28406    64137      37820       38114   \n",
       "2018-01-05           55153        80477   135253      74375       91229   \n",
       "\n",
       "plaza_id    month  dayofweek  year  week  day  quarter  dayofyear  Phase  \\\n",
       "datetime                                                                   \n",
       "2018-01-01      1          0  2018     1    1        1          1     -1   \n",
       "2018-01-02      1          1  2018     1    2        1          2     -1   \n",
       "2018-01-03      1          2  2018     1    3        1          3     -1   \n",
       "2018-01-04      1          3  2018     1    4        1          4     -1   \n",
       "2018-01-05      1          4  2018     1    5        1          5     -1   \n",
       "\n",
       "plaza_id    weekend  holiday  \n",
       "datetime                      \n",
       "2018-01-01        0        1  \n",
       "2018-01-02        0        0  \n",
       "2018-01-03        0        0  \n",
       "2018-01-04        0        0  \n",
       "2018-01-05        0        0  "
      ]
     },
     "execution_count": 7,
     "metadata": {},
     "output_type": "execute_result"
    }
   ],
   "source": [
    "_df = date_features(_df)\n",
    "print(_df.shape)\n",
    "_df.head()"
   ]
  },
  {
   "cell_type": "markdown",
   "metadata": {},
   "source": [
    "### Feature Engineer: Average Daily Temperatures\n",
    "I will predict the average daily temperature from 2018 to current and use the y_hat values as a feature. The temperature data will train from 2010 to 2018.\n",
    "\n",
    "The dataset comes from https://w2.weather.gov/climate/xmacis.php?wfo=okx with JFK, NY selected.\n",
    "It ranges from 2010-2020. I will be only taking temp_average of each day.\n",
    "The dataset will be made applicable via kaggle.\n"
   ]
  },
  {
   "cell_type": "code",
   "execution_count": 8,
   "metadata": {},
   "outputs": [
    {
     "data": {
      "image/png": "[encoded data removed]",
      "text/plain": [
       "<Figure size 432x288 with 1 Axes>"
      ]
     },
     "metadata": {
      "needs_background": "light"
     },
     "output_type": "display_data"
    }
   ],
   "source": [
    "temperature = pd.read_csv('weather.csv', sep ='\\t', engine ='python')\n",
    "temperature['datetime'] = pd.to_datetime(temperature['datetime'])\n",
    "plt.plot(temperature['datetime'], temperature['temp_average'])\n",
    "plt.title('Average Daily Temperature for JFK, NY');\n",
    "plt.ylabel('in Farenheits');"
   ]
  },
  {
   "cell_type": "markdown",
   "metadata": {},
   "source": [
    "I'll do a quick forecasting on average daily temperature using FBProphet. <br>\n",
    "Training set was 2010-2017, Testing set: 2018-2020"
   ]
  },
  {
   "cell_type": "code",
   "execution_count": 9,
   "metadata": {},
   "outputs": [
    {
     "data": {
      "text/html": [
       "<div>\n",
       "<style scoped>\n",
       "    .dataframe tbody tr th:only-of-type {\n",
       "        vertical-align: middle;\n",
       "    }\n",
       "\n",
       "    .dataframe tbody tr th {\n",
       "        vertical-align: top;\n",
       "    }\n",
       "\n",
       "    .dataframe thead th {\n",
       "        text-align: right;\n",
       "    }\n",
       "</style>\n",
       "<table border=\"1\" class=\"dataframe\">\n",
       "  <thead>\n",
       "    <tr style=\"text-align: right;\">\n",
       "      <th></th>\n",
       "      <th>ds</th>\n",
       "      <th>y</th>\n",
       "    </tr>\n",
       "  </thead>\n",
       "  <tbody>\n",
       "    <tr>\n",
       "      <th>0</th>\n",
       "      <td>2010-01-01</td>\n",
       "      <td>36.5</td>\n",
       "    </tr>\n",
       "    <tr>\n",
       "      <th>1</th>\n",
       "      <td>2010-01-02</td>\n",
       "      <td>25.0</td>\n",
       "    </tr>\n",
       "    <tr>\n",
       "      <th>2</th>\n",
       "      <td>2010-01-03</td>\n",
       "      <td>21.0</td>\n",
       "    </tr>\n",
       "    <tr>\n",
       "      <th>3</th>\n",
       "      <td>2010-01-04</td>\n",
       "      <td>26.0</td>\n",
       "    </tr>\n",
       "    <tr>\n",
       "      <th>4</th>\n",
       "      <td>2010-01-05</td>\n",
       "      <td>26.5</td>\n",
       "    </tr>\n",
       "  </tbody>\n",
       "</table>\n",
       "</div>"
      ],
      "text/plain": [
       "          ds     y\n",
       "0 2010-01-01  36.5\n",
       "1 2010-01-02  25.0\n",
       "2 2010-01-03  21.0\n",
       "3 2010-01-04  26.0\n",
       "4 2010-01-05  26.5"
      ]
     },
     "execution_count": 9,
     "metadata": {},
     "output_type": "execute_result"
    }
   ],
   "source": [
    "_temperature = date_features(temperature.set_index('datetime')[['temp_average']])\n",
    "_fb_weather = _temperature.reset_index()[['datetime', 'temp_average']]\n",
    "_fb_weather.columns = ['ds', 'y']\n",
    "_fb_weather.head()"
   ]
  },
  {
   "cell_type": "code",
   "execution_count": 10,
   "metadata": {},
   "outputs": [
    {
     "data": {
      "text/plain": [
       "<fbprophet.forecaster.Prophet at 0x2bd547c8>"
      ]
     },
     "execution_count": 10,
     "metadata": {},
     "output_type": "execute_result"
    }
   ],
   "source": [
    "m = Prophet(\n",
    "           changepoint_prior_scale= 0.1,\n",
    "                      holidays_prior_scale = 0.1,\n",
    "                      n_changepoints = 300,\n",
    "                      seasonality_mode = 'additive',\n",
    "                      weekly_seasonality=True,\n",
    "                      daily_seasonality = True,\n",
    "                      yearly_seasonality = True,\n",
    "                      interval_width=0.95)\n",
    "m.fit(_fb_weather)"
   ]
  },
  {
   "cell_type": "code",
   "execution_count": 11,
   "metadata": {},
   "outputs": [],
   "source": [
    "future = m.make_future_dataframe(periods = 365*2)\n",
    "forecast = m.predict(future)"
   ]
  },
  {
   "cell_type": "code",
   "execution_count": 12,
   "metadata": {},
   "outputs": [
    {
     "data": {
      "image/png": "[encoded data removed]",
      "text/plain": [
       "<Figure size 720x432 with 1 Axes>"
      ]
     },
     "metadata": {},
     "output_type": "display_data"
    }
   ],
   "source": [
    "fig1 = m.plot(forecast)"
   ]
  },
  {
   "cell_type": "code",
   "execution_count": 13,
   "metadata": {},
   "outputs": [],
   "source": [
    "sliced_forecast = forecast.loc[forecast['ds'].isin(pd.date_range(start='2018-01-01', end='2020-09-26'))]\n",
    "sliced_forecast.reset_index(drop=True, inplace=True)"
   ]
  },
  {
   "cell_type": "code",
   "execution_count": 14,
   "metadata": {},
   "outputs": [
    {
     "data": {
      "text/html": [
       "<div>\n",
       "<style scoped>\n",
       "    .dataframe tbody tr th:only-of-type {\n",
       "        vertical-align: middle;\n",
       "    }\n",
       "\n",
       "    .dataframe tbody tr th {\n",
       "        vertical-align: top;\n",
       "    }\n",
       "\n",
       "    .dataframe thead th {\n",
       "        text-align: right;\n",
       "    }\n",
       "</style>\n",
       "<table border=\"1\" class=\"dataframe\">\n",
       "  <thead>\n",
       "    <tr style=\"text-align: right;\">\n",
       "      <th></th>\n",
       "      <th>temp_average</th>\n",
       "    </tr>\n",
       "    <tr>\n",
       "      <th>datetime</th>\n",
       "      <th></th>\n",
       "    </tr>\n",
       "  </thead>\n",
       "  <tbody>\n",
       "    <tr>\n",
       "      <th>2018-01-01</th>\n",
       "      <td>34.744700</td>\n",
       "    </tr>\n",
       "    <tr>\n",
       "      <th>2018-01-02</th>\n",
       "      <td>35.134029</td>\n",
       "    </tr>\n",
       "    <tr>\n",
       "      <th>2018-01-03</th>\n",
       "      <td>34.775099</td>\n",
       "    </tr>\n",
       "    <tr>\n",
       "      <th>2018-01-04</th>\n",
       "      <td>34.159110</td>\n",
       "    </tr>\n",
       "    <tr>\n",
       "      <th>2018-01-05</th>\n",
       "      <td>33.598794</td>\n",
       "    </tr>\n",
       "  </tbody>\n",
       "</table>\n",
       "</div>"
      ],
      "text/plain": [
       "            temp_average\n",
       "datetime                \n",
       "2018-01-01     34.744700\n",
       "2018-01-02     35.134029\n",
       "2018-01-03     34.775099\n",
       "2018-01-04     34.159110\n",
       "2018-01-05     33.598794"
      ]
     },
     "execution_count": 14,
     "metadata": {},
     "output_type": "execute_result"
    }
   ],
   "source": [
    "sliced_forecast = sliced_forecast[['ds', 'yhat']]\n",
    "sliced_forecast.columns = ['datetime', 'temp_average']\n",
    "sliced_forecast.set_index('datetime', inplace=True)\n",
    "sliced_forecast.head()"
   ]
  },
  {
   "cell_type": "code",
   "execution_count": 15,
   "metadata": {},
   "outputs": [],
   "source": [
    "_df['temp_average'] = sliced_forecast['temp_average']"
   ]
  },
  {
   "cell_type": "markdown",
   "metadata": {},
   "source": []
  },
  {
   "cell_type": "markdown",
   "metadata": {},
   "source": [
    "## Models"
   ]
  },
  {
   "cell_type": "markdown",
   "metadata": {},
   "source": [
    "### Dummy Regressor\n",
    "My baseline will be the average of the last 7 days for each bridge.\n",
    "The sum of the 9 rmse (for each bridge) will be my metric.\n",
    "I have chosen to use root mean squared error because it is more sensitive to larger errors than MAE(mean absolute error) or MAPE(mean absolute percentage error)"
   ]
  },
  {
   "cell_type": "code",
   "execution_count": 16,
   "metadata": {},
   "outputs": [],
   "source": [
    "dummy_MA7 = []\n",
    "for bridge in bridges:\n",
    "    tr_start,tr_end = '2018-01-01','2020-08-22'\n",
    "    te_start,te_end = '2020-08-23','2020-09-26'\n",
    "    tes = _df[te_start:te_end][bridge]\n",
    "    tra = _df[tr_start:tr_end][bridge]\n",
    "    _dummy = pd.DataFrame()\n",
    "    _dummy['datetime'] = pd.date_range(start='2020-08-23', end='2020-09-26')\n",
    "    _dummy.set_index('datetime', inplace=True)\n",
    "    _dummy[bridge] = tra.tail(7).mean()\n",
    "    \n",
    "    dummy_MA7.append(np.sqrt(mean_squared_error(tes,_dummy)))\n",
    "    "
   ]
  },
  {
   "cell_type": "code",
   "execution_count": 17,
   "metadata": {},
   "outputs": [
    {
     "data": {
      "text/html": [
       "<div>\n",
       "<style scoped>\n",
       "    .dataframe tbody tr th:only-of-type {\n",
       "        vertical-align: middle;\n",
       "    }\n",
       "\n",
       "    .dataframe tbody tr th {\n",
       "        vertical-align: top;\n",
       "    }\n",
       "\n",
       "    .dataframe thead th {\n",
       "        text-align: right;\n",
       "    }\n",
       "</style>\n",
       "<table border=\"1\" class=\"dataframe\">\n",
       "  <thead>\n",
       "    <tr style=\"text-align: right;\">\n",
       "      <th></th>\n",
       "      <th>bridges</th>\n",
       "      <th>dummy_MA7</th>\n",
       "    </tr>\n",
       "  </thead>\n",
       "  <tbody>\n",
       "    <tr>\n",
       "      <th>0</th>\n",
       "      <td>Brooklyn Battery</td>\n",
       "      <td>9689.766880</td>\n",
       "    </tr>\n",
       "    <tr>\n",
       "      <th>1</th>\n",
       "      <td>Cross Bay</td>\n",
       "      <td>3058.987092</td>\n",
       "    </tr>\n",
       "    <tr>\n",
       "      <th>2</th>\n",
       "      <td>Henry Hudson</td>\n",
       "      <td>7491.891404</td>\n",
       "    </tr>\n",
       "    <tr>\n",
       "      <th>3</th>\n",
       "      <td>Marine Parkway</td>\n",
       "      <td>4298.716057</td>\n",
       "    </tr>\n",
       "    <tr>\n",
       "      <th>4</th>\n",
       "      <td>Queens Midtown</td>\n",
       "      <td>9678.803759</td>\n",
       "    </tr>\n",
       "    <tr>\n",
       "      <th>5</th>\n",
       "      <td>Throgs Neck</td>\n",
       "      <td>7107.930655</td>\n",
       "    </tr>\n",
       "    <tr>\n",
       "      <th>6</th>\n",
       "      <td>Triboro</td>\n",
       "      <td>12989.973539</td>\n",
       "    </tr>\n",
       "    <tr>\n",
       "      <th>7</th>\n",
       "      <td>Verrazano</td>\n",
       "      <td>6814.856433</td>\n",
       "    </tr>\n",
       "    <tr>\n",
       "      <th>8</th>\n",
       "      <td>Whitestone</td>\n",
       "      <td>7821.773825</td>\n",
       "    </tr>\n",
       "  </tbody>\n",
       "</table>\n",
       "</div>"
      ],
      "text/plain": [
       "            bridges     dummy_MA7\n",
       "0  Brooklyn Battery   9689.766880\n",
       "1         Cross Bay   3058.987092\n",
       "2      Henry Hudson   7491.891404\n",
       "3    Marine Parkway   4298.716057\n",
       "4    Queens Midtown   9678.803759\n",
       "5       Throgs Neck   7107.930655\n",
       "6           Triboro  12989.973539\n",
       "7         Verrazano   6814.856433\n",
       "8        Whitestone   7821.773825"
      ]
     },
     "execution_count": 17,
     "metadata": {},
     "output_type": "execute_result"
    }
   ],
   "source": [
    "_results_df = pd.DataFrame()\n",
    "_results_df['bridges'] = bridges\n",
    "_results_df['dummy_MA7'] = dummy_MA7\n",
    "_results_df"
   ]
  },
  {
   "cell_type": "code",
   "execution_count": 18,
   "metadata": {},
   "outputs": [
    {
     "data": {
      "text/plain": [
       "bridges      Brooklyn BatteryCross BayHenry HudsonMarine Pa...\n",
       "dummy_MA7                                              68952.7\n",
       "dtype: object"
      ]
     },
     "execution_count": 18,
     "metadata": {},
     "output_type": "execute_result"
    }
   ],
   "source": [
    "_results_df.sum(axis=0)"
   ]
  },
  {
   "cell_type": "markdown",
   "metadata": {},
   "source": [
    "### SARIMAX\n",
    "I will use the features created from above as my independent exogenous variables. <br>\n",
    "the values (p,d,q)x(P,D,Q,m), and trend was found through grid searching. <br>\n",
    "\n",
    "I have used m=7 because the data points are daily."
   ]
  },
  {
   "cell_type": "markdown",
   "metadata": {},
   "source": [
    "### One Hot Encoder\n",
    "After all features have been created, I will need to dummify the categorical features for SARIMAX."
   ]
  },
  {
   "cell_type": "code",
   "execution_count": 19,
   "metadata": {},
   "outputs": [
    {
     "data": {
      "text/plain": [
       "(1000, 31)"
      ]
     },
     "execution_count": 19,
     "metadata": {},
     "output_type": "execute_result"
    }
   ],
   "source": [
    "ohe = OneHotEncoder(drop='first')\n",
    "categorical_columns = ['month', 'dayofweek', 'quarter', 'Phase']\n",
    "_df_ohe = ohe.fit_transform(_df[categorical_columns]).toarray()\n",
    "_df_ohe_df = pd.DataFrame(data = _df_ohe,\n",
    "                           index = _df.index,\n",
    "                          columns = ohe.get_feature_names(categorical_columns))\n",
    "\n",
    "_df_merged = _df.merge(_df_ohe_df, left_index=True, right_index=True)\n",
    "_df_ohe_df['weekend'] = _df['weekend']\n",
    "_df_ohe_df['holiday'] = _df['holiday']\n",
    "_df_ohe_df['temp_average'] = _df['temp_average']\n",
    "_df_ohe_df.shape"
   ]
  },
  {
   "cell_type": "code",
   "execution_count": 20,
   "metadata": {},
   "outputs": [],
   "source": [
    "def return_sarimax_rmse(bridge, _order, _seasonal_order, _trend):\n",
    "    \"\"\"\n",
    "    returns arima rmse\n",
    "    \"\"\"\n",
    "    tr_start,tr_end = '2018-01-01','2020-08-22'\n",
    "    te_start,te_end = '2020-08-23','2020-09-26'\n",
    "    tra = _df_merged[tr_start:tr_end][bridge]\n",
    "    tes = _df_merged[te_start:te_end][bridge]\n",
    "    exog_train = _df_ohe_df[tr_start:tr_end]\n",
    "    exog_test = _df_ohe_df[te_start:te_end]\n",
    "    \n",
    "    model_SARIMAX = SARIMAX(tra, order=_order, seasonal_order= _seasonal_order, exog = exog_train, trend = _trend,\n",
    "                        freq='D', enforce_stationarity=False, enforce_invertibility=False)\n",
    "    results = model_SARIMAX.fit(maxiter=1000)\n",
    "    \n",
    "    pred = results.predict(te_start,te_end, exog = exog_test)\n",
    "    return np.sqrt(mean_squared_error(tes,pred))"
   ]
  },
  {
   "cell_type": "markdown",
   "metadata": {},
   "source": [
    "### Grid Search\n",
    "I took this technique from machine learning mastery. It brute forces the combinations. <br>\n",
    "I have set m = 7 because this is daily data. <br>\n",
    "The selected params were (1,1,2)x(1,0,1,7) trend='n'\n"
   ]
  },
  {
   "cell_type": "code",
   "execution_count": 21,
   "metadata": {},
   "outputs": [],
   "source": [
    "# code was taken from machine learning mastery\n",
    "models = list()\n",
    "p_params = [0, 1, 2]\n",
    "d_params = [0, 1]\n",
    "q_params = [0, 1, 2]\n",
    "t_params = ['n','c','t','ct']\n",
    "P_params = [0, 1, 2]\n",
    "D_params = [0, 1]\n",
    "Q_params = [0, 1, 2]\n",
    "m_params = [7]\n",
    "# create config instances\n",
    "for p in p_params:\n",
    "    for d in d_params:\n",
    "        for q in q_params:\n",
    "            for t in t_params:\n",
    "                for P in P_params:\n",
    "                    for D in D_params:\n",
    "                        for Q in Q_params:\n",
    "                            for m in m_params:\n",
    "                                cfg = [(p,d,q), (P,D,Q,m), t]\n",
    "                                models.append(cfg)\n"
   ]
  },
  {
   "cell_type": "code",
   "execution_count": 22,
   "metadata": {},
   "outputs": [],
   "source": [
    "# # This grid search took around 40 hours. Please don't run this.\n",
    "# _grid_sarimax = []\n",
    "# for model in tqdm(models):\n",
    "#     _each_grid = []\n",
    "#     for i in bridges:\n",
    "#         _each_grid.append(return_sarimax_rmse(i, model[0], model[1], model[2]))\n",
    "#     print((sum(l7), model))\n",
    "#     _grid_sarimax.append((sum(l7), model))"
   ]
  },
  {
   "cell_type": "code",
   "execution_count": 25,
   "metadata": {},
   "outputs": [
    {
     "name": "stderr",
     "output_type": "stream",
     "text": [
      "100%|██████████| 9/9 [01:18<00:00,  8.71s/it]\n"
     ]
    }
   ],
   "source": [
    "# Please note, I fit a sarimax model for each of the 9 bridges and returned an rmse from the test set.\n",
    "# I should have 9 rmse (one for each bridge), the summation of the rmse will be the final metric.\n",
    "\n",
    "\n",
    "_sarimax_rmse = []\n",
    "for i in tqdm(bridges):\n",
    "    _sarimax_rmse.append(return_sarimax_rmse(i, (1,1,2), (1,0,1,7), 'n'))"
   ]
  },
  {
   "cell_type": "code",
   "execution_count": 26,
   "metadata": {},
   "outputs": [
    {
     "data": {
      "text/html": [
       "<div>\n",
       "<style scoped>\n",
       "    .dataframe tbody tr th:only-of-type {\n",
       "        vertical-align: middle;\n",
       "    }\n",
       "\n",
       "    .dataframe tbody tr th {\n",
       "        vertical-align: top;\n",
       "    }\n",
       "\n",
       "    .dataframe thead th {\n",
       "        text-align: right;\n",
       "    }\n",
       "</style>\n",
       "<table border=\"1\" class=\"dataframe\">\n",
       "  <thead>\n",
       "    <tr style=\"text-align: right;\">\n",
       "      <th></th>\n",
       "      <th>bridges</th>\n",
       "      <th>dummy_MA7</th>\n",
       "      <th>SARIMAX</th>\n",
       "    </tr>\n",
       "  </thead>\n",
       "  <tbody>\n",
       "    <tr>\n",
       "      <th>0</th>\n",
       "      <td>Brooklyn Battery</td>\n",
       "      <td>9689.766880</td>\n",
       "      <td>3800.422075</td>\n",
       "    </tr>\n",
       "    <tr>\n",
       "      <th>1</th>\n",
       "      <td>Cross Bay</td>\n",
       "      <td>3058.987092</td>\n",
       "      <td>3038.366098</td>\n",
       "    </tr>\n",
       "    <tr>\n",
       "      <th>2</th>\n",
       "      <td>Henry Hudson</td>\n",
       "      <td>7491.891404</td>\n",
       "      <td>4013.042613</td>\n",
       "    </tr>\n",
       "    <tr>\n",
       "      <th>3</th>\n",
       "      <td>Marine Parkway</td>\n",
       "      <td>4298.716057</td>\n",
       "      <td>4266.804149</td>\n",
       "    </tr>\n",
       "    <tr>\n",
       "      <th>4</th>\n",
       "      <td>Queens Midtown</td>\n",
       "      <td>9678.803759</td>\n",
       "      <td>3593.463138</td>\n",
       "    </tr>\n",
       "    <tr>\n",
       "      <th>5</th>\n",
       "      <td>Throgs Neck</td>\n",
       "      <td>7107.930655</td>\n",
       "      <td>7021.236084</td>\n",
       "    </tr>\n",
       "    <tr>\n",
       "      <th>6</th>\n",
       "      <td>Triboro</td>\n",
       "      <td>12989.973539</td>\n",
       "      <td>8760.379990</td>\n",
       "    </tr>\n",
       "    <tr>\n",
       "      <th>7</th>\n",
       "      <td>Verrazano</td>\n",
       "      <td>6814.856433</td>\n",
       "      <td>3236.013288</td>\n",
       "    </tr>\n",
       "    <tr>\n",
       "      <th>8</th>\n",
       "      <td>Whitestone</td>\n",
       "      <td>7821.773825</td>\n",
       "      <td>5738.769982</td>\n",
       "    </tr>\n",
       "  </tbody>\n",
       "</table>\n",
       "</div>"
      ],
      "text/plain": [
       "            bridges     dummy_MA7      SARIMAX\n",
       "0  Brooklyn Battery   9689.766880  3800.422075\n",
       "1         Cross Bay   3058.987092  3038.366098\n",
       "2      Henry Hudson   7491.891404  4013.042613\n",
       "3    Marine Parkway   4298.716057  4266.804149\n",
       "4    Queens Midtown   9678.803759  3593.463138\n",
       "5       Throgs Neck   7107.930655  7021.236084\n",
       "6           Triboro  12989.973539  8760.379990\n",
       "7         Verrazano   6814.856433  3236.013288\n",
       "8        Whitestone   7821.773825  5738.769982"
      ]
     },
     "execution_count": 26,
     "metadata": {},
     "output_type": "execute_result"
    }
   ],
   "source": [
    "_results_df['SARIMAX'] = _sarimax_rmse\n",
    "_results_df"
   ]
  },
  {
   "cell_type": "code",
   "execution_count": 27,
   "metadata": {},
   "outputs": [
    {
     "data": {
      "text/plain": [
       "bridges      Brooklyn BatteryCross BayHenry HudsonMarine Pa...\n",
       "dummy_MA7                                              68952.7\n",
       "SARIMAX                                                43468.5\n",
       "dtype: object"
      ]
     },
     "execution_count": 27,
     "metadata": {},
     "output_type": "execute_result"
    }
   ],
   "source": [
    "_results_df.sum(axis=0)"
   ]
  },
  {
   "cell_type": "markdown",
   "metadata": {},
   "source": [
    "### FBProphet\n",
    "After implement SARIMAX, I will now move on to FBProphet. <br>\n",
    "Please note, the FBProphet was not hyperturned"
   ]
  },
  {
   "cell_type": "code",
   "execution_count": 28,
   "metadata": {},
   "outputs": [],
   "source": [
    "def return_prophet_rmse(bridge):\n",
    "    tr_start,tr_end = '2018-01-01','2020-08-22'\n",
    "    te_start,te_end = '2020-08-23','2020-09-26'\n",
    "    tra = _df_merged[tr_start:tr_end][[bridge]]\n",
    "    tes = _df_merged[te_start:te_end][[bridge]]\n",
    "    _fb_exog = _df_merged[['month', 'dayofweek', 'quarter',\n",
    "           'Phase', 'weekend', 'holiday', 'temp_average']]\n",
    "\n",
    "    tra = tra.join(_fb_exog)\n",
    "    tes = tes.join(_fb_exog)\n",
    "\n",
    "\n",
    "    exog_train = _df_ohe_df[tr_start:tr_end]\n",
    "    exog_test = _df_ohe_df[te_start:te_end]\n",
    "    tra = tra.reset_index()\n",
    "    tra = tra.rename(columns = {bridge:'y', 'datetime': 'ds'})\n",
    "    tes = tes.reset_index()\n",
    "    tes = tes.rename(columns = {bridge:'y', 'datetime': 'ds'})\n",
    "\n",
    "\n",
    "    m = Prophet(\n",
    "           changepoint_prior_scale= 0.1,\n",
    "                      holidays_prior_scale = 0.1,\n",
    "                      n_changepoints = 300,\n",
    "                      seasonality_mode = 'additive',\n",
    "                      weekly_seasonality=True,\n",
    "                      daily_seasonality = True,\n",
    "                      yearly_seasonality = True,\n",
    "                      interval_width=0.95)\n",
    "    for i in _fb_exog.columns:\n",
    "        m.add_regressor(i)\n",
    "\n",
    "\n",
    "    m.fit(tra)\n",
    "    \n",
    "    # Please change the periods after changing the te_start and te_end. For this case i have made periods 35 because there are 35 days on the the test set.\n",
    "    future = m.make_future_dataframe(periods=35)\n",
    "    future.set_index('ds', inplace=True)\n",
    "    future = future.join(_fb_exog)\n",
    "    future.reset_index(inplace=True)\n",
    "    pred = m.predict(future[-35:])\n",
    "    return np.sqrt(mean_squared_error(tes['y'],pred['yhat']))"
   ]
  },
  {
   "cell_type": "code",
   "execution_count": 29,
   "metadata": {},
   "outputs": [
    {
     "name": "stderr",
     "output_type": "stream",
     "text": [
      "100%|██████████| 9/9 [04:50<00:00, 32.30s/it]\n"
     ]
    },
    {
     "data": {
      "text/html": [
       "<div>\n",
       "<style scoped>\n",
       "    .dataframe tbody tr th:only-of-type {\n",
       "        vertical-align: middle;\n",
       "    }\n",
       "\n",
       "    .dataframe tbody tr th {\n",
       "        vertical-align: top;\n",
       "    }\n",
       "\n",
       "    .dataframe thead th {\n",
       "        text-align: right;\n",
       "    }\n",
       "</style>\n",
       "<table border=\"1\" class=\"dataframe\">\n",
       "  <thead>\n",
       "    <tr style=\"text-align: right;\">\n",
       "      <th></th>\n",
       "      <th>bridges</th>\n",
       "      <th>dummy_MA7</th>\n",
       "      <th>SARIMAX</th>\n",
       "      <th>FB_prophet_1</th>\n",
       "    </tr>\n",
       "  </thead>\n",
       "  <tbody>\n",
       "    <tr>\n",
       "      <th>0</th>\n",
       "      <td>Brooklyn Battery</td>\n",
       "      <td>9689.766880</td>\n",
       "      <td>3800.422075</td>\n",
       "      <td>4146.735600</td>\n",
       "    </tr>\n",
       "    <tr>\n",
       "      <th>1</th>\n",
       "      <td>Cross Bay</td>\n",
       "      <td>3058.987092</td>\n",
       "      <td>3038.366098</td>\n",
       "      <td>2881.517478</td>\n",
       "    </tr>\n",
       "    <tr>\n",
       "      <th>2</th>\n",
       "      <td>Henry Hudson</td>\n",
       "      <td>7491.891404</td>\n",
       "      <td>4013.042613</td>\n",
       "      <td>3873.400612</td>\n",
       "    </tr>\n",
       "    <tr>\n",
       "      <th>3</th>\n",
       "      <td>Marine Parkway</td>\n",
       "      <td>4298.716057</td>\n",
       "      <td>4266.804149</td>\n",
       "      <td>4428.792730</td>\n",
       "    </tr>\n",
       "    <tr>\n",
       "      <th>4</th>\n",
       "      <td>Queens Midtown</td>\n",
       "      <td>9678.803759</td>\n",
       "      <td>3593.463138</td>\n",
       "      <td>9071.725197</td>\n",
       "    </tr>\n",
       "    <tr>\n",
       "      <th>5</th>\n",
       "      <td>Throgs Neck</td>\n",
       "      <td>7107.930655</td>\n",
       "      <td>7021.236084</td>\n",
       "      <td>5813.764461</td>\n",
       "    </tr>\n",
       "    <tr>\n",
       "      <th>6</th>\n",
       "      <td>Triboro</td>\n",
       "      <td>12989.973539</td>\n",
       "      <td>8760.379990</td>\n",
       "      <td>7645.789449</td>\n",
       "    </tr>\n",
       "    <tr>\n",
       "      <th>7</th>\n",
       "      <td>Verrazano</td>\n",
       "      <td>6814.856433</td>\n",
       "      <td>3236.013288</td>\n",
       "      <td>3338.660881</td>\n",
       "    </tr>\n",
       "    <tr>\n",
       "      <th>8</th>\n",
       "      <td>Whitestone</td>\n",
       "      <td>7821.773825</td>\n",
       "      <td>5738.769982</td>\n",
       "      <td>6497.563062</td>\n",
       "    </tr>\n",
       "  </tbody>\n",
       "</table>\n",
       "</div>"
      ],
      "text/plain": [
       "            bridges     dummy_MA7      SARIMAX  FB_prophet_1\n",
       "0  Brooklyn Battery   9689.766880  3800.422075   4146.735600\n",
       "1         Cross Bay   3058.987092  3038.366098   2881.517478\n",
       "2      Henry Hudson   7491.891404  4013.042613   3873.400612\n",
       "3    Marine Parkway   4298.716057  4266.804149   4428.792730\n",
       "4    Queens Midtown   9678.803759  3593.463138   9071.725197\n",
       "5       Throgs Neck   7107.930655  7021.236084   5813.764461\n",
       "6           Triboro  12989.973539  8760.379990   7645.789449\n",
       "7         Verrazano   6814.856433  3236.013288   3338.660881\n",
       "8        Whitestone   7821.773825  5738.769982   6497.563062"
      ]
     },
     "execution_count": 29,
     "metadata": {},
     "output_type": "execute_result"
    }
   ],
   "source": [
    "fb_prophet_1 = []\n",
    "for i in tqdm(bridges):\n",
    "    fb_prophet_1.append(return_prophet_rmse(i))\n",
    "    \n",
    "_results_df['FB_prophet_1'] = fb_prophet_1\n",
    "_results_df"
   ]
  },
  {
   "cell_type": "code",
   "execution_count": 30,
   "metadata": {},
   "outputs": [
    {
     "data": {
      "text/plain": [
       "bridges         Brooklyn BatteryCross BayHenry HudsonMarine Pa...\n",
       "dummy_MA7                                                 68952.7\n",
       "SARIMAX                                                   43468.5\n",
       "FB_prophet_1                                              47697.9\n",
       "dtype: object"
      ]
     },
     "execution_count": 30,
     "metadata": {},
     "output_type": "execute_result"
    }
   ],
   "source": [
    "_results_df.sum(axis=0)"
   ]
  },
  {
   "cell_type": "markdown",
   "metadata": {},
   "source": [
    "### LightGBM\n",
    "After using tuned SARIMAX and a more-or-less generic FBProphet, I thought it was a good opportunity to try changing the time series problem into a decision tree regression problem. Instead of having 9 separate models for each bridge, we can have 1 GBDT model. This is done by first melting all the columns and making the dataframe long. As I have created features in the SARIMAX and FBProphet models, I will do the same here."
   ]
  },
  {
   "cell_type": "code",
   "execution_count": 16,
   "metadata": {},
   "outputs": [],
   "source": [
    "_df = df.unstack().T\n",
    "_df = _df['2018':].copy()\n",
    "for i in _df.columns:\n",
    "    _df[i] = _df[i].replace(to_replace=0, method='ffill')\n",
    "_df.reset_index(inplace=True)"
   ]
  },
  {
   "cell_type": "code",
   "execution_count": 17,
   "metadata": {},
   "outputs": [],
   "source": [
    "# I need to make the dataframe from wide to long. This can be done through pandas melt.\n",
    "_df_melt = pd.melt(_df, id_vars=['datetime'], value_vars=['Brooklyn Battery', 'Cross Bay', 'Henry Hudson', 'Marine Parkway', \n",
    "                                                        'Queens Midtown', 'Throgs Neck', 'Triboro', 'Verrazano', 'Whitestone'])\n",
    "_df_melt.set_index('datetime', inplace=True)"
   ]
  },
  {
   "cell_type": "code",
   "execution_count": 18,
   "metadata": {},
   "outputs": [],
   "source": [
    "# LGBM doesn't take the string form in categorical values\n",
    "le = LabelEncoder()\n",
    "_df_melt['plaza_id'] = le.fit_transform(_df_melt['plaza_id'])"
   ]
  },
  {
   "cell_type": "code",
   "execution_count": 19,
   "metadata": {},
   "outputs": [],
   "source": [
    "_df_melt = date_features(_df_melt)\n",
    "\n",
    "_df_melt = _df_melt.join(sliced_forecast)\n",
    "# There are many instances where I'll set an index to datetime and reset it.\n",
    "# This is my fault for not making the data preprocessing functions take the same columns. For example: date_features takes index, while date_lag takes the column\n",
    "_df_melt.reset_index(inplace=True)"
   ]
  },
  {
   "cell_type": "code",
   "execution_count": 20,
   "metadata": {},
   "outputs": [
    {
     "data": {
      "text/html": [
       "<div>\n",
       "<style scoped>\n",
       "    .dataframe tbody tr th:only-of-type {\n",
       "        vertical-align: middle;\n",
       "    }\n",
       "\n",
       "    .dataframe tbody tr th {\n",
       "        vertical-align: top;\n",
       "    }\n",
       "\n",
       "    .dataframe thead th {\n",
       "        text-align: right;\n",
       "    }\n",
       "</style>\n",
       "<table border=\"1\" class=\"dataframe\">\n",
       "  <thead>\n",
       "    <tr style=\"text-align: right;\">\n",
       "      <th></th>\n",
       "      <th>datetime</th>\n",
       "      <th>plaza_id</th>\n",
       "      <th>value</th>\n",
       "      <th>month</th>\n",
       "      <th>dayofweek</th>\n",
       "      <th>year</th>\n",
       "      <th>week</th>\n",
       "      <th>day</th>\n",
       "      <th>quarter</th>\n",
       "      <th>dayofyear</th>\n",
       "      <th>Phase</th>\n",
       "      <th>weekend</th>\n",
       "      <th>holiday</th>\n",
       "      <th>temp_average</th>\n",
       "    </tr>\n",
       "  </thead>\n",
       "  <tbody>\n",
       "    <tr>\n",
       "      <th>8995</th>\n",
       "      <td>2020-09-26</td>\n",
       "      <td>4</td>\n",
       "      <td>NaN</td>\n",
       "      <td>9</td>\n",
       "      <td>5</td>\n",
       "      <td>2020</td>\n",
       "      <td>39</td>\n",
       "      <td>26</td>\n",
       "      <td>3</td>\n",
       "      <td>270</td>\n",
       "      <td>7</td>\n",
       "      <td>1</td>\n",
       "      <td>0</td>\n",
       "      <td>65.793937</td>\n",
       "    </tr>\n",
       "    <tr>\n",
       "      <th>8996</th>\n",
       "      <td>2020-09-26</td>\n",
       "      <td>5</td>\n",
       "      <td>NaN</td>\n",
       "      <td>9</td>\n",
       "      <td>5</td>\n",
       "      <td>2020</td>\n",
       "      <td>39</td>\n",
       "      <td>26</td>\n",
       "      <td>3</td>\n",
       "      <td>270</td>\n",
       "      <td>7</td>\n",
       "      <td>1</td>\n",
       "      <td>0</td>\n",
       "      <td>65.793937</td>\n",
       "    </tr>\n",
       "    <tr>\n",
       "      <th>8997</th>\n",
       "      <td>2020-09-26</td>\n",
       "      <td>6</td>\n",
       "      <td>NaN</td>\n",
       "      <td>9</td>\n",
       "      <td>5</td>\n",
       "      <td>2020</td>\n",
       "      <td>39</td>\n",
       "      <td>26</td>\n",
       "      <td>3</td>\n",
       "      <td>270</td>\n",
       "      <td>7</td>\n",
       "      <td>1</td>\n",
       "      <td>0</td>\n",
       "      <td>65.793937</td>\n",
       "    </tr>\n",
       "    <tr>\n",
       "      <th>8998</th>\n",
       "      <td>2020-09-26</td>\n",
       "      <td>7</td>\n",
       "      <td>NaN</td>\n",
       "      <td>9</td>\n",
       "      <td>5</td>\n",
       "      <td>2020</td>\n",
       "      <td>39</td>\n",
       "      <td>26</td>\n",
       "      <td>3</td>\n",
       "      <td>270</td>\n",
       "      <td>7</td>\n",
       "      <td>1</td>\n",
       "      <td>0</td>\n",
       "      <td>65.793937</td>\n",
       "    </tr>\n",
       "    <tr>\n",
       "      <th>8999</th>\n",
       "      <td>2020-09-26</td>\n",
       "      <td>8</td>\n",
       "      <td>NaN</td>\n",
       "      <td>9</td>\n",
       "      <td>5</td>\n",
       "      <td>2020</td>\n",
       "      <td>39</td>\n",
       "      <td>26</td>\n",
       "      <td>3</td>\n",
       "      <td>270</td>\n",
       "      <td>7</td>\n",
       "      <td>1</td>\n",
       "      <td>0</td>\n",
       "      <td>65.793937</td>\n",
       "    </tr>\n",
       "  </tbody>\n",
       "</table>\n",
       "</div>"
      ],
      "text/plain": [
       "       datetime  plaza_id  value  month  dayofweek  year  week  day  quarter  \\\n",
       "8995 2020-09-26         4    NaN      9          5  2020    39   26        3   \n",
       "8996 2020-09-26         5    NaN      9          5  2020    39   26        3   \n",
       "8997 2020-09-26         6    NaN      9          5  2020    39   26        3   \n",
       "8998 2020-09-26         7    NaN      9          5  2020    39   26        3   \n",
       "8999 2020-09-26         8    NaN      9          5  2020    39   26        3   \n",
       "\n",
       "      dayofyear  Phase  weekend  holiday  temp_average  \n",
       "8995        270      7        1        0     65.793937  \n",
       "8996        270      7        1        0     65.793937  \n",
       "8997        270      7        1        0     65.793937  \n",
       "8998        270      7        1        0     65.793937  \n",
       "8999        270      7        1        0     65.793937  "
      ]
     },
     "execution_count": 20,
     "metadata": {},
     "output_type": "execute_result"
    }
   ],
   "source": [
    "# Creating 3 sliced dataframes\n",
    "train_set = _df_melt.loc[_df_melt['datetime'] <= '2020-08-22'].copy(deep=True)\n",
    "test_set = _df_melt.loc[(_df_melt['datetime'] > '2020-08-22') & (_df_melt['datetime'] <= '2020-09-26')].copy(deep=True)\n",
    "pred_set = _df_melt.loc[(_df_melt['datetime'] > '2020-08-22')].copy(deep=True)\n",
    "pred_set['value'] = np.nan\n",
    "pred_set.tail()"
   ]
  },
  {
   "cell_type": "code",
   "execution_count": 21,
   "metadata": {},
   "outputs": [],
   "source": [
    "def date_lags(_df):\n",
    "    \"\"\"\n",
    "    creates lag 7 and lag 28 features from values.\n",
    "    creates ma7_lag7, ma7_lag28, ma28_lag7, ma28_lag28.\n",
    "    \n",
    "    \"\"\"\n",
    "    \n",
    "    _df['lag_7'] = _df[['plaza_id', 'value']].groupby('plaza_id')['value'].shift(7)\n",
    "    _df['lag_28'] = _df[['plaza_id', 'value']].groupby('plaza_id')['value'].shift(28)\n",
    "\n",
    "    \n",
    "    \n",
    "    _df['mean_lag7_roll7'] = _df[['plaza_id', 'lag_7']].groupby('plaza_id')['lag_7'].apply(lambda x: x.rolling(7).mean())\n",
    "    _df['mean_lag7_roll28'] = _df[['plaza_id', 'lag_7']].groupby('plaza_id')['lag_7'].apply(lambda x: x.rolling(28).mean())\n",
    "    _df['mean_lag28_roll7'] = _df[['plaza_id', 'lag_28']].groupby('plaza_id')['lag_28'].apply(lambda x: x.rolling(7).mean())\n",
    "    _df['mean_lag28_roll28'] = _df[['plaza_id', 'lag_28']].groupby('plaza_id')['lag_28'].apply(lambda x: x.rolling(28).mean())\n",
    "    _df['week'] = _df['week'].astype('int64')\n",
    "    \n",
    "    return _df"
   ]
  },
  {
   "cell_type": "code",
   "execution_count": 22,
   "metadata": {},
   "outputs": [
    {
     "data": {
      "text/html": [
       "<div>\n",
       "<style scoped>\n",
       "    .dataframe tbody tr th:only-of-type {\n",
       "        vertical-align: middle;\n",
       "    }\n",
       "\n",
       "    .dataframe tbody tr th {\n",
       "        vertical-align: top;\n",
       "    }\n",
       "\n",
       "    .dataframe thead th {\n",
       "        text-align: right;\n",
       "    }\n",
       "</style>\n",
       "<table border=\"1\" class=\"dataframe\">\n",
       "  <thead>\n",
       "    <tr style=\"text-align: right;\">\n",
       "      <th></th>\n",
       "      <th>datetime</th>\n",
       "      <th>plaza_id</th>\n",
       "      <th>value</th>\n",
       "      <th>month</th>\n",
       "      <th>dayofweek</th>\n",
       "      <th>year</th>\n",
       "      <th>week</th>\n",
       "      <th>day</th>\n",
       "      <th>quarter</th>\n",
       "      <th>dayofyear</th>\n",
       "      <th>Phase</th>\n",
       "      <th>weekend</th>\n",
       "      <th>holiday</th>\n",
       "      <th>temp_average</th>\n",
       "      <th>lag_7</th>\n",
       "      <th>lag_28</th>\n",
       "      <th>mean_lag7_roll7</th>\n",
       "      <th>mean_lag7_roll28</th>\n",
       "      <th>mean_lag28_roll7</th>\n",
       "      <th>mean_lag28_roll28</th>\n",
       "    </tr>\n",
       "  </thead>\n",
       "  <tbody>\n",
       "    <tr>\n",
       "      <th>8680</th>\n",
       "      <td>2020-08-22</td>\n",
       "      <td>4</td>\n",
       "      <td>54254</td>\n",
       "      <td>8</td>\n",
       "      <td>5</td>\n",
       "      <td>2020</td>\n",
       "      <td>34</td>\n",
       "      <td>22</td>\n",
       "      <td>3</td>\n",
       "      <td>235</td>\n",
       "      <td>7</td>\n",
       "      <td>1</td>\n",
       "      <td>0</td>\n",
       "      <td>75.33398</td>\n",
       "      <td>51273.0</td>\n",
       "      <td>49092.0</td>\n",
       "      <td>60339.857143</td>\n",
       "      <td>57472.714286</td>\n",
       "      <td>55335.714286</td>\n",
       "      <td>52549.535714</td>\n",
       "    </tr>\n",
       "    <tr>\n",
       "      <th>8681</th>\n",
       "      <td>2020-08-22</td>\n",
       "      <td>5</td>\n",
       "      <td>121123</td>\n",
       "      <td>8</td>\n",
       "      <td>5</td>\n",
       "      <td>2020</td>\n",
       "      <td>34</td>\n",
       "      <td>22</td>\n",
       "      <td>3</td>\n",
       "      <td>235</td>\n",
       "      <td>7</td>\n",
       "      <td>1</td>\n",
       "      <td>0</td>\n",
       "      <td>75.33398</td>\n",
       "      <td>119610.0</td>\n",
       "      <td>102764.0</td>\n",
       "      <td>107722.142857</td>\n",
       "      <td>104736.392857</td>\n",
       "      <td>105834.142857</td>\n",
       "      <td>104777.214286</td>\n",
       "    </tr>\n",
       "    <tr>\n",
       "      <th>8682</th>\n",
       "      <td>2020-08-22</td>\n",
       "      <td>6</td>\n",
       "      <td>151278</td>\n",
       "      <td>8</td>\n",
       "      <td>5</td>\n",
       "      <td>2020</td>\n",
       "      <td>34</td>\n",
       "      <td>22</td>\n",
       "      <td>3</td>\n",
       "      <td>235</td>\n",
       "      <td>7</td>\n",
       "      <td>1</td>\n",
       "      <td>0</td>\n",
       "      <td>75.33398</td>\n",
       "      <td>150398.0</td>\n",
       "      <td>149966.0</td>\n",
       "      <td>157007.714286</td>\n",
       "      <td>153342.750000</td>\n",
       "      <td>152022.000000</td>\n",
       "      <td>146932.928571</td>\n",
       "    </tr>\n",
       "    <tr>\n",
       "      <th>8683</th>\n",
       "      <td>2020-08-22</td>\n",
       "      <td>7</td>\n",
       "      <td>96748</td>\n",
       "      <td>8</td>\n",
       "      <td>5</td>\n",
       "      <td>2020</td>\n",
       "      <td>34</td>\n",
       "      <td>22</td>\n",
       "      <td>3</td>\n",
       "      <td>235</td>\n",
       "      <td>7</td>\n",
       "      <td>1</td>\n",
       "      <td>0</td>\n",
       "      <td>75.33398</td>\n",
       "      <td>97799.0</td>\n",
       "      <td>92065.0</td>\n",
       "      <td>98406.285714</td>\n",
       "      <td>94290.785714</td>\n",
       "      <td>92764.000000</td>\n",
       "      <td>91358.250000</td>\n",
       "    </tr>\n",
       "    <tr>\n",
       "      <th>8684</th>\n",
       "      <td>2020-08-22</td>\n",
       "      <td>8</td>\n",
       "      <td>128905</td>\n",
       "      <td>8</td>\n",
       "      <td>5</td>\n",
       "      <td>2020</td>\n",
       "      <td>34</td>\n",
       "      <td>22</td>\n",
       "      <td>3</td>\n",
       "      <td>235</td>\n",
       "      <td>7</td>\n",
       "      <td>1</td>\n",
       "      <td>0</td>\n",
       "      <td>75.33398</td>\n",
       "      <td>132275.0</td>\n",
       "      <td>129053.0</td>\n",
       "      <td>127259.428571</td>\n",
       "      <td>121441.714286</td>\n",
       "      <td>117457.714286</td>\n",
       "      <td>111727.500000</td>\n",
       "    </tr>\n",
       "  </tbody>\n",
       "</table>\n",
       "</div>"
      ],
      "text/plain": [
       "       datetime  plaza_id   value  month  dayofweek  year  week  day  quarter  \\\n",
       "8680 2020-08-22         4   54254      8          5  2020    34   22        3   \n",
       "8681 2020-08-22         5  121123      8          5  2020    34   22        3   \n",
       "8682 2020-08-22         6  151278      8          5  2020    34   22        3   \n",
       "8683 2020-08-22         7   96748      8          5  2020    34   22        3   \n",
       "8684 2020-08-22         8  128905      8          5  2020    34   22        3   \n",
       "\n",
       "      dayofyear  Phase  weekend  holiday  temp_average     lag_7    lag_28  \\\n",
       "8680        235      7        1        0      75.33398   51273.0   49092.0   \n",
       "8681        235      7        1        0      75.33398  119610.0  102764.0   \n",
       "8682        235      7        1        0      75.33398  150398.0  149966.0   \n",
       "8683        235      7        1        0      75.33398   97799.0   92065.0   \n",
       "8684        235      7        1        0      75.33398  132275.0  129053.0   \n",
       "\n",
       "      mean_lag7_roll7  mean_lag7_roll28  mean_lag28_roll7  mean_lag28_roll28  \n",
       "8680     60339.857143      57472.714286      55335.714286       52549.535714  \n",
       "8681    107722.142857     104736.392857     105834.142857      104777.214286  \n",
       "8682    157007.714286     153342.750000     152022.000000      146932.928571  \n",
       "8683     98406.285714      94290.785714      92764.000000       91358.250000  \n",
       "8684    127259.428571     121441.714286     117457.714286      111727.500000  "
      ]
     },
     "execution_count": 22,
     "metadata": {},
     "output_type": "execute_result"
    }
   ],
   "source": [
    "train_set = date_lags(train_set)\n",
    "train_set.tail()"
   ]
  },
  {
   "cell_type": "code",
   "execution_count": 23,
   "metadata": {},
   "outputs": [],
   "source": [
    "categorical_features = ['plaza_id', 'month', 'dayofweek', 'week', 'day', 'Phase', 'weekend', 'holiday']\n",
    "useless_cols = ['datetime', 'value', 'year']\n",
    "train_cols = [x for x in train_set.columns if x not in useless_cols]\n",
    "_X = train_set[train_cols]\n",
    "_y = train_set['value']"
   ]
  },
  {
   "cell_type": "code",
   "execution_count": 24,
   "metadata": {},
   "outputs": [],
   "source": [
    "# train test split\n",
    "X_train, X_valid, y_train, y_valid = train_test_split(_X, _y, random_state=42, test_size=0.2)"
   ]
  },
  {
   "cell_type": "code",
   "execution_count": 25,
   "metadata": {},
   "outputs": [],
   "source": [
    "train_data = lgb.Dataset(X_train, label = y_train, categorical_feature=categorical_features, free_raw_data=False)\n",
    "y_valid_data = lgb.Dataset(X_valid, label = y_valid, categorical_feature=categorical_features, free_raw_data=False) \n"
   ]
  },
  {
   "cell_type": "markdown",
   "metadata": {},
   "source": [
    "#### Optuna\n",
    "Optuna looks very similiarly to randomized Search CV. More importantly, it displays a progress bar and results paramter after each iteration. <br> I decided to use this to find the best parameters."
   ]
  },
  {
   "cell_type": "code",
   "execution_count": 26,
   "metadata": {},
   "outputs": [],
   "source": [
    "def objective(trial):\n",
    "    params = {\n",
    "        'objective': 'poisson',\n",
    "        'boosting': 'gbdt',\n",
    "        'max_depth': trial.suggest_int('max_depth', 18, 72),\n",
    "        'num_leaves': trial.suggest_int('num_leaves', 36, 156),\n",
    "        'metric' :'rmse',\n",
    "\n",
    "        'learning_rate' : 0.05,\n",
    "\n",
    "\n",
    "        'bagging_fraction' : trial.suggest_loguniform('bag_frac', 0.5, 0.9),\n",
    "        'feature_fraction': trial.suggest_loguniform('feat_frac', 0.5, 0.9),\n",
    "        'lambda_l1' : trial.suggest_loguniform('l1', 0.1, 0.9),\n",
    "        'lambda_l2' : trial.suggest_loguniform('l2', 0.1, 0.9),\n",
    "\n",
    "        'verbosity': 1}\n",
    "\n",
    "\n",
    "    m_lgb = lgb.train(params, train_data,num_boost_round=20000, valid_sets = y_valid_data, verbose_eval=100, early_stopping_rounds=500)\n",
    "    \n",
    "    train_roll = train_set.copy(deep=True)\n",
    "    try:\n",
    "        for i in tqdm(range(1,500)):\n",
    "            _to_pred = pred_set.loc[pred_set['datetime'] == (datetime.datetime(2020, 8, 22) + datetime.timedelta(days= i))].copy()\n",
    "            _first_concat = pd.concat([train_roll, _to_pred])\n",
    "            _first_concat.reset_index(inplace=True, drop=True)\n",
    "            _first_concat = date_lags(_first_concat)\n",
    "            _to_pred = _first_concat.loc[_first_concat['datetime'] == (datetime.datetime(2020, 8, 22) + datetime.timedelta(days= i))].copy()\n",
    "            _to_pred_feats = _to_pred[train_cols]\n",
    "            first_pred = m_lgb.predict(_to_pred_feats)\n",
    "            _to_pred['value'] = first_pred\n",
    "            train_roll = pd.concat([train_roll, _to_pred])\n",
    "    except:\n",
    "        print('end of loop')\n",
    "    \n",
    "    _lgbm_pred = train_roll.loc[train_roll['datetime'].isin(pd.date_range('2020-08-23', '2020-09-26'))][['datetime', 'plaza_id', 'value']]\n",
    "    _lgbm_pred['plaza_id'] = le.inverse_transform(_lgbm_pred['plaza_id'])\n",
    "    _lgbm_pivot_pred = _lgbm_pred.pivot(index='datetime', columns='plaza_id', values='value')\n",
    "    test_set_pivot = test_set.pivot(index='datetime', columns = 'plaza_id', values='value')\n",
    "    test_set_pivot.columns = bridges\n",
    "    \n",
    "        \n",
    "    _lgbm_rmse = []\n",
    "    for i in bridges:\n",
    "        _lgbm_rmse.append(np.sqrt(mean_squared_error(test_set_pivot[i], _lgbm_pivot_pred[i])))\n",
    "\n",
    "    \n",
    "    return sum(_lgbm_rmse)"
   ]
  },
  {
   "cell_type": "code",
   "execution_count": 27,
   "metadata": {},
   "outputs": [
    {
     "name": "stderr",
     "output_type": "stream",
     "text": [
      "C:\\Users\\albert\\Anaconda3\\lib\\site-packages\\lightgbm\\basic.py:1291: UserWarning:\n",
      "\n",
      "Using categorical_feature in Dataset.\n",
      "\n"
     ]
    },
    {
     "name": "stdout",
     "output_type": "stream",
     "text": [
      "Training until validation scores don't improve for 500 rounds\n",
      "[100]\tvalid_0's rmse: 10646.5\n",
      "[200]\tvalid_0's rmse: 8601.83\n",
      "[300]\tvalid_0's rmse: 7698.22\n",
      "[400]\tvalid_0's rmse: 7231.48\n",
      "[500]\tvalid_0's rmse: 7033.68\n",
      "[600]\tvalid_0's rmse: 6918.7\n",
      "[700]\tvalid_0's rmse: 6847.84\n",
      "[800]\tvalid_0's rmse: 6775.39\n",
      "[900]\tvalid_0's rmse: 6728.58\n",
      "[1000]\tvalid_0's rmse: 6711.57\n",
      "[1100]\tvalid_0's rmse: 6689.84\n",
      "[1200]\tvalid_0's rmse: 6679.67\n",
      "[1300]\tvalid_0's rmse: 6668.8\n",
      "[1400]\tvalid_0's rmse: 6654.97\n",
      "[1500]\tvalid_0's rmse: 6645.66\n",
      "[1600]\tvalid_0's rmse: 6641.95\n",
      "[1700]\tvalid_0's rmse: 6635.65\n",
      "[1800]\tvalid_0's rmse: 6629.47\n",
      "[1900]\tvalid_0's rmse: 6623.86\n",
      "[2000]\tvalid_0's rmse: 6618.33\n",
      "[2100]\tvalid_0's rmse: 6613\n",
      "[2200]\tvalid_0's rmse: 6611.58\n",
      "[2300]\tvalid_0's rmse: 6608.11\n",
      "[2400]\tvalid_0's rmse: 6605.13\n",
      "[2500]\tvalid_0's rmse: 6603.26\n",
      "[2600]\tvalid_0's rmse: 6602.4\n",
      "[2700]\tvalid_0's rmse: 6602.21\n",
      "[2800]\tvalid_0's rmse: 6602.02\n",
      "[2900]\tvalid_0's rmse: 6600.12\n",
      "[3000]\tvalid_0's rmse: 6599.42\n",
      "[3100]\tvalid_0's rmse: 6598.75\n",
      "[3200]\tvalid_0's rmse: 6597.01\n",
      "[3300]\tvalid_0's rmse: 6595.6\n",
      "[3400]\tvalid_0's rmse: 6596.24\n",
      "[3500]\tvalid_0's rmse: 6596.44\n",
      "[3600]\tvalid_0's rmse: 6595.43\n",
      "[3700]\tvalid_0's rmse: 6595.12\n",
      "[3800]\tvalid_0's rmse: 6595.25\n",
      "[3900]\tvalid_0's rmse: 6593.98\n",
      "[4000]\tvalid_0's rmse: 6594.03\n",
      "[4100]\tvalid_0's rmse: 6593.74\n",
      "[4200]\tvalid_0's rmse: 6593.98\n",
      "[4300]\tvalid_0's rmse: 6594.37\n",
      "[4400]\tvalid_0's rmse: 6594.08\n",
      "[4500]\tvalid_0's rmse: 6593.88\n",
      "Early stopping, best iteration is:\n",
      "[4081]\tvalid_0's rmse: 6593.65\n"
     ]
    },
    {
     "name": "stderr",
     "output_type": "stream",
     "text": [
      "  7%|▋         | 35/499 [00:02<00:37, 12.34it/s]\n"
     ]
    },
    {
     "name": "stdout",
     "output_type": "stream",
     "text": [
      "end of loop\n"
     ]
    },
    {
     "name": "stderr",
     "output_type": "stream",
     "text": [
      "[I 2020-09-29 15:48:41,955] Finished trial#0 with value: 46750.61357475498 with parameters: {'max_depth': 36, 'num_leaves': 75, 'bag_frac': 0.7232197517351747, 'feat_frac': 0.6021882728149366, 'l1': 0.4024736689593536, 'l2': 0.7743449888567435}. Best is trial#0 with value: 46750.61357475498.\n",
      "C:\\Users\\albert\\Anaconda3\\lib\\site-packages\\lightgbm\\basic.py:1291: UserWarning:\n",
      "\n",
      "Using categorical_feature in Dataset.\n",
      "\n"
     ]
    },
    {
     "name": "stdout",
     "output_type": "stream",
     "text": [
      "Training until validation scores don't improve for 500 rounds\n",
      "[100]\tvalid_0's rmse: 10518.6\n",
      "[200]\tvalid_0's rmse: 8583.94\n",
      "[300]\tvalid_0's rmse: 7759.93\n",
      "[400]\tvalid_0's rmse: 7302.73\n",
      "[500]\tvalid_0's rmse: 7079.82\n",
      "[600]\tvalid_0's rmse: 6964.14\n",
      "[700]\tvalid_0's rmse: 6929.46\n",
      "[800]\tvalid_0's rmse: 6913.33\n",
      "[900]\tvalid_0's rmse: 6898.84\n",
      "[1000]\tvalid_0's rmse: 6890.17\n",
      "[1100]\tvalid_0's rmse: 6878.39\n",
      "[1200]\tvalid_0's rmse: 6869.03\n",
      "[1300]\tvalid_0's rmse: 6862.07\n",
      "[1400]\tvalid_0's rmse: 6860.19\n",
      "[1500]\tvalid_0's rmse: 6855.5\n",
      "[1600]\tvalid_0's rmse: 6851.85\n",
      "[1700]\tvalid_0's rmse: 6851.74\n",
      "[1800]\tvalid_0's rmse: 6854.75\n",
      "[1900]\tvalid_0's rmse: 6852.55\n",
      "[2000]\tvalid_0's rmse: 6850.59\n",
      "[2100]\tvalid_0's rmse: 6848.07\n",
      "[2200]\tvalid_0's rmse: 6846.89\n",
      "[2300]\tvalid_0's rmse: 6846.49\n",
      "[2400]\tvalid_0's rmse: 6847.04\n",
      "[2500]\tvalid_0's rmse: 6847.39\n",
      "[2600]\tvalid_0's rmse: 6848.04\n",
      "Early stopping, best iteration is:\n",
      "[2153]\tvalid_0's rmse: 6846.09\n"
     ]
    },
    {
     "name": "stderr",
     "output_type": "stream",
     "text": [
      "  7%|▋         | 35/499 [00:03<00:51,  9.04it/s]\n"
     ]
    },
    {
     "name": "stdout",
     "output_type": "stream",
     "text": [
      "end of loop\n"
     ]
    },
    {
     "name": "stderr",
     "output_type": "stream",
     "text": [
      "[I 2020-09-29 16:16:17,199] Finished trial#1 with value: 46269.87004531504 with parameters: {'max_depth': 43, 'num_leaves': 107, 'bag_frac': 0.7080884403030241, 'feat_frac': 0.8612233205855038, 'l1': 0.8949693427791138, 'l2': 0.49320872093435386}. Best is trial#1 with value: 46269.87004531504.\n",
      "C:\\Users\\albert\\Anaconda3\\lib\\site-packages\\lightgbm\\basic.py:1291: UserWarning:\n",
      "\n",
      "Using categorical_feature in Dataset.\n",
      "\n"
     ]
    },
    {
     "name": "stdout",
     "output_type": "stream",
     "text": [
      "Training until validation scores don't improve for 500 rounds\n",
      "[100]\tvalid_0's rmse: 10467.9\n",
      "[200]\tvalid_0's rmse: 8520.18\n",
      "[300]\tvalid_0's rmse: 7601.26\n",
      "[400]\tvalid_0's rmse: 7053.04\n",
      "[500]\tvalid_0's rmse: 6828.15\n",
      "[600]\tvalid_0's rmse: 6717.43\n",
      "[700]\tvalid_0's rmse: 6647.6\n",
      "[800]\tvalid_0's rmse: 6620.5\n",
      "[900]\tvalid_0's rmse: 6588.68\n",
      "[1000]\tvalid_0's rmse: 6563.77\n",
      "[1100]\tvalid_0's rmse: 6552.63\n",
      "[1200]\tvalid_0's rmse: 6549.11\n",
      "[1300]\tvalid_0's rmse: 6540.08\n",
      "[1400]\tvalid_0's rmse: 6534.4\n",
      "[1500]\tvalid_0's rmse: 6524.3\n",
      "[1600]\tvalid_0's rmse: 6513.51\n",
      "[1700]\tvalid_0's rmse: 6505.96\n",
      "[1800]\tvalid_0's rmse: 6497.26\n",
      "[1900]\tvalid_0's rmse: 6494.27\n",
      "[2000]\tvalid_0's rmse: 6488.56\n",
      "[2100]\tvalid_0's rmse: 6485.8\n",
      "[2200]\tvalid_0's rmse: 6485.27\n",
      "[2300]\tvalid_0's rmse: 6481.5\n",
      "[2400]\tvalid_0's rmse: 6479.02\n",
      "[2500]\tvalid_0's rmse: 6476.22\n",
      "[2600]\tvalid_0's rmse: 6473.07\n",
      "[2700]\tvalid_0's rmse: 6470.92\n",
      "[2800]\tvalid_0's rmse: 6470.54\n",
      "[2900]\tvalid_0's rmse: 6470.89\n",
      "[3000]\tvalid_0's rmse: 6468.61\n",
      "[3100]\tvalid_0's rmse: 6468.76\n",
      "[3200]\tvalid_0's rmse: 6468.5\n",
      "[3300]\tvalid_0's rmse: 6467.49\n",
      "[3400]\tvalid_0's rmse: 6467.37\n",
      "[3500]\tvalid_0's rmse: 6467.2\n",
      "[3600]\tvalid_0's rmse: 6466.69\n",
      "[3700]\tvalid_0's rmse: 6466.43\n",
      "[3800]\tvalid_0's rmse: 6465.22\n",
      "[3900]\tvalid_0's rmse: 6464.9\n",
      "[4000]\tvalid_0's rmse: 6464.69\n",
      "[4100]\tvalid_0's rmse: 6464.25\n",
      "[4200]\tvalid_0's rmse: 6463.5\n",
      "[4300]\tvalid_0's rmse: 6463.83\n",
      "[4400]\tvalid_0's rmse: 6463.35\n",
      "[4500]\tvalid_0's rmse: 6463.49\n",
      "[4600]\tvalid_0's rmse: 6463.13\n",
      "[4700]\tvalid_0's rmse: 6462.96\n",
      "[4800]\tvalid_0's rmse: 6463.11\n",
      "[4900]\tvalid_0's rmse: 6463.03\n",
      "[5000]\tvalid_0's rmse: 6463.06\n",
      "[5100]\tvalid_0's rmse: 6462.8\n",
      "[5200]\tvalid_0's rmse: 6463.03\n",
      "Early stopping, best iteration is:\n",
      "[4765]\tvalid_0's rmse: 6462.74\n"
     ]
    },
    {
     "name": "stderr",
     "output_type": "stream",
     "text": [
      "  7%|▋         | 35/499 [00:02<00:31, 14.80it/s]\n"
     ]
    },
    {
     "name": "stdout",
     "output_type": "stream",
     "text": [
      "end of loop\n"
     ]
    },
    {
     "name": "stderr",
     "output_type": "stream",
     "text": [
      "[I 2020-09-29 16:43:38,477] Finished trial#2 with value: 45947.5933178221 with parameters: {'max_depth': 33, 'num_leaves': 68, 'bag_frac': 0.8098311432680175, 'feat_frac': 0.7563082990538508, 'l1': 0.4224710081280403, 'l2': 0.17515496038236522}. Best is trial#2 with value: 45947.5933178221.\n",
      "C:\\Users\\albert\\Anaconda3\\lib\\site-packages\\lightgbm\\basic.py:1291: UserWarning:\n",
      "\n",
      "Using categorical_feature in Dataset.\n",
      "\n"
     ]
    },
    {
     "name": "stdout",
     "output_type": "stream",
     "text": [
      "Training until validation scores don't improve for 500 rounds\n",
      "[100]\tvalid_0's rmse: 10489.1\n",
      "[200]\tvalid_0's rmse: 8582.09\n",
      "[300]\tvalid_0's rmse: 7710\n",
      "[400]\tvalid_0's rmse: 7185.42\n",
      "[500]\tvalid_0's rmse: 6948.37\n",
      "[600]\tvalid_0's rmse: 6835\n",
      "[700]\tvalid_0's rmse: 6793.12\n",
      "[800]\tvalid_0's rmse: 6756.52\n",
      "[900]\tvalid_0's rmse: 6728.25\n",
      "[1000]\tvalid_0's rmse: 6699.92\n",
      "[1100]\tvalid_0's rmse: 6683.79\n",
      "[1200]\tvalid_0's rmse: 6674.66\n",
      "[1300]\tvalid_0's rmse: 6664.16\n",
      "[1400]\tvalid_0's rmse: 6653.9\n",
      "[1500]\tvalid_0's rmse: 6644.46\n",
      "[1600]\tvalid_0's rmse: 6638.7\n",
      "[1700]\tvalid_0's rmse: 6634.86\n",
      "[1800]\tvalid_0's rmse: 6629.94\n",
      "[1900]\tvalid_0's rmse: 6621.37\n",
      "[2000]\tvalid_0's rmse: 6615.77\n",
      "[2100]\tvalid_0's rmse: 6613.61\n",
      "[2200]\tvalid_0's rmse: 6611.3\n",
      "[2300]\tvalid_0's rmse: 6608.56\n",
      "[2400]\tvalid_0's rmse: 6605.97\n",
      "[2500]\tvalid_0's rmse: 6607.27\n",
      "[2600]\tvalid_0's rmse: 6606.16\n",
      "[2700]\tvalid_0's rmse: 6604.81\n",
      "[2800]\tvalid_0's rmse: 6604.33\n",
      "[2900]\tvalid_0's rmse: 6604.26\n",
      "[3000]\tvalid_0's rmse: 6602.7\n",
      "[3100]\tvalid_0's rmse: 6602.21\n",
      "[3200]\tvalid_0's rmse: 6601.44\n",
      "[3300]\tvalid_0's rmse: 6601.11\n",
      "[3400]\tvalid_0's rmse: 6600.81\n",
      "[3500]\tvalid_0's rmse: 6600.38\n",
      "[3600]\tvalid_0's rmse: 6600.09\n",
      "[3700]\tvalid_0's rmse: 6600.81\n",
      "[3800]\tvalid_0's rmse: 6601.02\n",
      "[3900]\tvalid_0's rmse: 6601.01\n",
      "[4000]\tvalid_0's rmse: 6600.76\n",
      "Early stopping, best iteration is:\n",
      "[3580]\tvalid_0's rmse: 6599.84\n"
     ]
    },
    {
     "name": "stderr",
     "output_type": "stream",
     "text": [
      "  7%|▋         | 35/499 [00:02<00:29, 15.68it/s]\n"
     ]
    },
    {
     "name": "stdout",
     "output_type": "stream",
     "text": [
      "end of loop\n"
     ]
    },
    {
     "name": "stderr",
     "output_type": "stream",
     "text": [
      "[I 2020-09-29 17:09:54,051] Finished trial#3 with value: 47156.234797002304 with parameters: {'max_depth': 50, 'num_leaves': 80, 'bag_frac': 0.6975618089964164, 'feat_frac': 0.7843896619802669, 'l1': 0.256428173726052, 'l2': 0.5226220332923518}. Best is trial#2 with value: 45947.5933178221.\n",
      "C:\\Users\\albert\\Anaconda3\\lib\\site-packages\\lightgbm\\basic.py:1291: UserWarning:\n",
      "\n",
      "Using categorical_feature in Dataset.\n",
      "\n"
     ]
    },
    {
     "name": "stdout",
     "output_type": "stream",
     "text": [
      "Training until validation scores don't improve for 500 rounds\n",
      "[100]\tvalid_0's rmse: 10592.8\n",
      "[200]\tvalid_0's rmse: 8601.17\n",
      "[300]\tvalid_0's rmse: 7619.95\n",
      "[400]\tvalid_0's rmse: 7088.63\n",
      "[500]\tvalid_0's rmse: 6755.03\n",
      "[600]\tvalid_0's rmse: 6595.67\n",
      "[700]\tvalid_0's rmse: 6505.29\n",
      "[800]\tvalid_0's rmse: 6451.91\n",
      "[900]\tvalid_0's rmse: 6396.83\n",
      "[1000]\tvalid_0's rmse: 6368.37\n",
      "[1100]\tvalid_0's rmse: 6322.96\n",
      "[1200]\tvalid_0's rmse: 6300.3\n",
      "[1300]\tvalid_0's rmse: 6279.51\n",
      "[1400]\tvalid_0's rmse: 6267.15\n",
      "[1500]\tvalid_0's rmse: 6258.64\n",
      "[1600]\tvalid_0's rmse: 6239.81\n",
      "[1700]\tvalid_0's rmse: 6223.7\n",
      "[1800]\tvalid_0's rmse: 6218.68\n",
      "[1900]\tvalid_0's rmse: 6215.25\n",
      "[2000]\tvalid_0's rmse: 6211.71\n",
      "[2100]\tvalid_0's rmse: 6206.7\n",
      "[2200]\tvalid_0's rmse: 6202.42\n",
      "[2300]\tvalid_0's rmse: 6196.64\n",
      "[2400]\tvalid_0's rmse: 6195.2\n",
      "[2500]\tvalid_0's rmse: 6189.4\n",
      "[2600]\tvalid_0's rmse: 6184.54\n",
      "[2700]\tvalid_0's rmse: 6181.39\n",
      "[2800]\tvalid_0's rmse: 6177.01\n",
      "[2900]\tvalid_0's rmse: 6175.23\n",
      "[3000]\tvalid_0's rmse: 6174.21\n",
      "[3100]\tvalid_0's rmse: 6173.02\n",
      "[3200]\tvalid_0's rmse: 6172.03\n",
      "[3300]\tvalid_0's rmse: 6170.29\n",
      "[3400]\tvalid_0's rmse: 6169.97\n",
      "[3500]\tvalid_0's rmse: 6168.44\n",
      "[3600]\tvalid_0's rmse: 6167.74\n",
      "[3700]\tvalid_0's rmse: 6167.8\n",
      "[3800]\tvalid_0's rmse: 6166.3\n",
      "[3900]\tvalid_0's rmse: 6165.5\n",
      "[4000]\tvalid_0's rmse: 6164.98\n",
      "[4100]\tvalid_0's rmse: 6164.57\n",
      "[4200]\tvalid_0's rmse: 6164.35\n",
      "[4300]\tvalid_0's rmse: 6164.15\n",
      "[4400]\tvalid_0's rmse: 6164.84\n",
      "[4500]\tvalid_0's rmse: 6164.43\n",
      "[4600]\tvalid_0's rmse: 6164.37\n",
      "[4700]\tvalid_0's rmse: 6164.28\n",
      "[4800]\tvalid_0's rmse: 6164.4\n",
      "[4900]\tvalid_0's rmse: 6164.36\n",
      "Early stopping, best iteration is:\n",
      "[4459]\tvalid_0's rmse: 6163.97\n"
     ]
    },
    {
     "name": "stderr",
     "output_type": "stream",
     "text": [
      "  7%|▋         | 35/499 [00:02<00:35, 13.08it/s]\n"
     ]
    },
    {
     "name": "stdout",
     "output_type": "stream",
     "text": [
      "end of loop\n"
     ]
    },
    {
     "name": "stderr",
     "output_type": "stream",
     "text": [
      "[I 2020-09-29 17:28:52,983] Finished trial#4 with value: 46707.6696010252 with parameters: {'max_depth': 29, 'num_leaves': 51, 'bag_frac': 0.5242518116794137, 'feat_frac': 0.8666870716719366, 'l1': 0.6455822336936666, 'l2': 0.5186254229389071}. Best is trial#2 with value: 45947.5933178221.\n",
      "C:\\Users\\albert\\Anaconda3\\lib\\site-packages\\lightgbm\\basic.py:1291: UserWarning:\n",
      "\n",
      "Using categorical_feature in Dataset.\n",
      "\n"
     ]
    },
    {
     "name": "stdout",
     "output_type": "stream",
     "text": [
      "Training until validation scores don't improve for 500 rounds\n",
      "[100]\tvalid_0's rmse: 10451.6\n",
      "[200]\tvalid_0's rmse: 8551.11\n",
      "[300]\tvalid_0's rmse: 7647.08\n",
      "[400]\tvalid_0's rmse: 7169.89\n",
      "[500]\tvalid_0's rmse: 6924.28\n",
      "[600]\tvalid_0's rmse: 6776.7\n",
      "[700]\tvalid_0's rmse: 6717.33\n",
      "[800]\tvalid_0's rmse: 6666.16\n",
      "[900]\tvalid_0's rmse: 6643.72\n",
      "[1000]\tvalid_0's rmse: 6646.87\n",
      "[1100]\tvalid_0's rmse: 6651.03\n",
      "[1200]\tvalid_0's rmse: 6644.57\n",
      "[1300]\tvalid_0's rmse: 6641.14\n",
      "[1400]\tvalid_0's rmse: 6639.69\n",
      "[1500]\tvalid_0's rmse: 6636.4\n",
      "[1600]\tvalid_0's rmse: 6633.3\n",
      "[1700]\tvalid_0's rmse: 6633.6\n",
      "[1800]\tvalid_0's rmse: 6633.76\n",
      "[1900]\tvalid_0's rmse: 6632.5\n",
      "[2000]\tvalid_0's rmse: 6630.98\n",
      "[2100]\tvalid_0's rmse: 6628.31\n",
      "[2200]\tvalid_0's rmse: 6626.14\n",
      "[2300]\tvalid_0's rmse: 6625.96\n",
      "[2400]\tvalid_0's rmse: 6626.7\n",
      "[2500]\tvalid_0's rmse: 6626.3\n",
      "[2600]\tvalid_0's rmse: 6627.27\n",
      "[2700]\tvalid_0's rmse: 6626.31\n",
      "Early stopping, best iteration is:\n",
      "[2281]\tvalid_0's rmse: 6625.45\n"
     ]
    },
    {
     "name": "stderr",
     "output_type": "stream",
     "text": [
      "  7%|▋         | 35/499 [00:02<00:27, 17.11it/s]\n"
     ]
    },
    {
     "name": "stdout",
     "output_type": "stream",
     "text": [
      "end of loop\n"
     ]
    },
    {
     "name": "stderr",
     "output_type": "stream",
     "text": [
      "[I 2020-09-29 17:40:39,652] Finished trial#5 with value: 46459.78789847644 with parameters: {'max_depth': 53, 'num_leaves': 105, 'bag_frac': 0.6524040024331761, 'feat_frac': 0.7718941298194901, 'l1': 0.12012593240189062, 'l2': 0.13459920397343084}. Best is trial#2 with value: 45947.5933178221.\n",
      "C:\\Users\\albert\\Anaconda3\\lib\\site-packages\\lightgbm\\basic.py:1291: UserWarning:\n",
      "\n",
      "Using categorical_feature in Dataset.\n",
      "\n"
     ]
    },
    {
     "name": "stdout",
     "output_type": "stream",
     "text": [
      "Training until validation scores don't improve for 500 rounds\n",
      "[100]\tvalid_0's rmse: 10693.3\n",
      "[200]\tvalid_0's rmse: 8624.43\n",
      "[300]\tvalid_0's rmse: 7779.46\n",
      "[400]\tvalid_0's rmse: 7195.21\n",
      "[500]\tvalid_0's rmse: 7001.4\n",
      "[600]\tvalid_0's rmse: 6834.14\n",
      "[700]\tvalid_0's rmse: 6714.48\n",
      "[800]\tvalid_0's rmse: 6634.42\n",
      "[900]\tvalid_0's rmse: 6549.29\n",
      "[1000]\tvalid_0's rmse: 6507.06\n",
      "[1100]\tvalid_0's rmse: 6452.22\n",
      "[1200]\tvalid_0's rmse: 6412.35\n",
      "[1300]\tvalid_0's rmse: 6387\n",
      "[1400]\tvalid_0's rmse: 6364.47\n",
      "[1500]\tvalid_0's rmse: 6348.48\n",
      "[1600]\tvalid_0's rmse: 6326.59\n",
      "[1700]\tvalid_0's rmse: 6308.1\n",
      "[1800]\tvalid_0's rmse: 6293.61\n",
      "[1900]\tvalid_0's rmse: 6273.8\n",
      "[2000]\tvalid_0's rmse: 6262.98\n",
      "[2100]\tvalid_0's rmse: 6253.99\n",
      "[2200]\tvalid_0's rmse: 6240.92\n",
      "[2300]\tvalid_0's rmse: 6233.66\n",
      "[2400]\tvalid_0's rmse: 6228.45\n",
      "[2500]\tvalid_0's rmse: 6223.28\n",
      "[2600]\tvalid_0's rmse: 6215.55\n",
      "[2700]\tvalid_0's rmse: 6210.68\n",
      "[2800]\tvalid_0's rmse: 6202.12\n",
      "[2900]\tvalid_0's rmse: 6195.78\n",
      "[3000]\tvalid_0's rmse: 6190.33\n",
      "[3100]\tvalid_0's rmse: 6188.01\n",
      "[3200]\tvalid_0's rmse: 6184.7\n",
      "[3300]\tvalid_0's rmse: 6179.84\n",
      "[3400]\tvalid_0's rmse: 6179.19\n",
      "[3500]\tvalid_0's rmse: 6175.98\n",
      "[3600]\tvalid_0's rmse: 6173.2\n",
      "[3700]\tvalid_0's rmse: 6171.11\n",
      "[3800]\tvalid_0's rmse: 6169.16\n",
      "[3900]\tvalid_0's rmse: 6167.88\n",
      "[4000]\tvalid_0's rmse: 6166.47\n",
      "[4100]\tvalid_0's rmse: 6166.67\n",
      "[4200]\tvalid_0's rmse: 6165.56\n",
      "[4300]\tvalid_0's rmse: 6165.24\n",
      "[4400]\tvalid_0's rmse: 6164.2\n",
      "[4500]\tvalid_0's rmse: 6162.7\n",
      "[4600]\tvalid_0's rmse: 6161.71\n",
      "[4700]\tvalid_0's rmse: 6160.71\n",
      "[4800]\tvalid_0's rmse: 6159.62\n",
      "[4900]\tvalid_0's rmse: 6159.21\n",
      "[5000]\tvalid_0's rmse: 6158.44\n",
      "[5100]\tvalid_0's rmse: 6158.1\n",
      "[5200]\tvalid_0's rmse: 6158.13\n",
      "[5300]\tvalid_0's rmse: 6157.32\n",
      "[5400]\tvalid_0's rmse: 6156.64\n",
      "[5500]\tvalid_0's rmse: 6156.15\n",
      "[5600]\tvalid_0's rmse: 6156.39\n",
      "[5700]\tvalid_0's rmse: 6156.44\n",
      "[5800]\tvalid_0's rmse: 6156.27\n",
      "[5900]\tvalid_0's rmse: 6155.61\n",
      "[6000]\tvalid_0's rmse: 6155\n",
      "[6100]\tvalid_0's rmse: 6154.69\n",
      "[6200]\tvalid_0's rmse: 6154.32\n",
      "[6300]\tvalid_0's rmse: 6154.5\n",
      "[6400]\tvalid_0's rmse: 6154.21\n",
      "[6500]\tvalid_0's rmse: 6154\n",
      "[6600]\tvalid_0's rmse: 6154.11\n",
      "[6700]\tvalid_0's rmse: 6154.34\n",
      "[6800]\tvalid_0's rmse: 6154.14\n",
      "[6900]\tvalid_0's rmse: 6154.26\n",
      "[7000]\tvalid_0's rmse: 6153.92\n",
      "[7100]\tvalid_0's rmse: 6153.99\n",
      "[7200]\tvalid_0's rmse: 6153.94\n",
      "[7300]\tvalid_0's rmse: 6153.74\n",
      "[7400]\tvalid_0's rmse: 6153.69\n",
      "[7500]\tvalid_0's rmse: 6154.11\n",
      "[7600]\tvalid_0's rmse: 6154.28\n",
      "[7700]\tvalid_0's rmse: 6154.61\n",
      "[7800]\tvalid_0's rmse: 6155.05\n",
      "Early stopping, best iteration is:\n",
      "[7338]\tvalid_0's rmse: 6153.52\n"
     ]
    },
    {
     "name": "stderr",
     "output_type": "stream",
     "text": [
      "  7%|▋         | 35/499 [00:02<00:34, 13.53it/s]\n"
     ]
    },
    {
     "name": "stdout",
     "output_type": "stream",
     "text": [
      "end of loop\n"
     ]
    },
    {
     "name": "stderr",
     "output_type": "stream",
     "text": [
      "[I 2020-09-29 17:57:03,059] Finished trial#6 with value: 46334.56896672725 with parameters: {'max_depth': 40, 'num_leaves': 44, 'bag_frac': 0.5895383752008552, 'feat_frac': 0.6948780687259952, 'l1': 0.23599798926805998, 'l2': 0.14428048110568303}. Best is trial#2 with value: 45947.5933178221.\n",
      "C:\\Users\\albert\\Anaconda3\\lib\\site-packages\\lightgbm\\basic.py:1291: UserWarning:\n",
      "\n",
      "Using categorical_feature in Dataset.\n",
      "\n"
     ]
    },
    {
     "name": "stdout",
     "output_type": "stream",
     "text": [
      "Training until validation scores don't improve for 500 rounds\n",
      "[100]\tvalid_0's rmse: 10820\n",
      "[200]\tvalid_0's rmse: 8759.61\n",
      "[300]\tvalid_0's rmse: 7908.41\n",
      "[400]\tvalid_0's rmse: 7397.29\n",
      "[500]\tvalid_0's rmse: 7135.07\n",
      "[600]\tvalid_0's rmse: 6962.32\n",
      "[700]\tvalid_0's rmse: 6806.95\n",
      "[800]\tvalid_0's rmse: 6674.2\n",
      "[900]\tvalid_0's rmse: 6574.19\n",
      "[1000]\tvalid_0's rmse: 6498.67\n",
      "[1100]\tvalid_0's rmse: 6443.2\n",
      "[1200]\tvalid_0's rmse: 6396.23\n",
      "[1300]\tvalid_0's rmse: 6364.24\n",
      "[1400]\tvalid_0's rmse: 6334.32\n",
      "[1500]\tvalid_0's rmse: 6303.06\n",
      "[1600]\tvalid_0's rmse: 6270.98\n",
      "[1700]\tvalid_0's rmse: 6250.52\n",
      "[1800]\tvalid_0's rmse: 6242.57\n",
      "[1900]\tvalid_0's rmse: 6233.94\n",
      "[2000]\tvalid_0's rmse: 6228.55\n",
      "[2100]\tvalid_0's rmse: 6216.33\n",
      "[2200]\tvalid_0's rmse: 6210.57\n",
      "[2300]\tvalid_0's rmse: 6195.5\n",
      "[2400]\tvalid_0's rmse: 6182.16\n",
      "[2500]\tvalid_0's rmse: 6168.75\n",
      "[2600]\tvalid_0's rmse: 6162.81\n",
      "[2700]\tvalid_0's rmse: 6155.47\n",
      "[2800]\tvalid_0's rmse: 6148.45\n",
      "[2900]\tvalid_0's rmse: 6144.11\n",
      "[3000]\tvalid_0's rmse: 6137.05\n",
      "[3100]\tvalid_0's rmse: 6132.3\n",
      "[3200]\tvalid_0's rmse: 6125.21\n",
      "[3300]\tvalid_0's rmse: 6119.45\n",
      "[3400]\tvalid_0's rmse: 6115.89\n",
      "[3500]\tvalid_0's rmse: 6111.91\n",
      "[3600]\tvalid_0's rmse: 6109.62\n",
      "[3700]\tvalid_0's rmse: 6107.56\n",
      "[3800]\tvalid_0's rmse: 6102.54\n",
      "[3900]\tvalid_0's rmse: 6101.99\n",
      "[4000]\tvalid_0's rmse: 6098.96\n",
      "[4100]\tvalid_0's rmse: 6095.68\n",
      "[4200]\tvalid_0's rmse: 6093.74\n",
      "[4300]\tvalid_0's rmse: 6091.79\n",
      "[4400]\tvalid_0's rmse: 6090.29\n",
      "[4500]\tvalid_0's rmse: 6089.42\n",
      "[4600]\tvalid_0's rmse: 6089.18\n",
      "[4700]\tvalid_0's rmse: 6088.56\n",
      "[4800]\tvalid_0's rmse: 6086.99\n",
      "[4900]\tvalid_0's rmse: 6085.43\n",
      "[5000]\tvalid_0's rmse: 6084.01\n",
      "[5100]\tvalid_0's rmse: 6083.02\n",
      "[5200]\tvalid_0's rmse: 6082.32\n",
      "[5300]\tvalid_0's rmse: 6082.98\n",
      "[5400]\tvalid_0's rmse: 6081.43\n",
      "[5500]\tvalid_0's rmse: 6079.54\n",
      "[5600]\tvalid_0's rmse: 6079.17\n",
      "[5700]\tvalid_0's rmse: 6079.19\n",
      "[5800]\tvalid_0's rmse: 6078.8\n",
      "[5900]\tvalid_0's rmse: 6078.32\n",
      "[6000]\tvalid_0's rmse: 6077.34\n",
      "[6100]\tvalid_0's rmse: 6075.92\n",
      "[6200]\tvalid_0's rmse: 6075.23\n",
      "[6300]\tvalid_0's rmse: 6075.16\n",
      "[6400]\tvalid_0's rmse: 6074.97\n",
      "[6500]\tvalid_0's rmse: 6074.05\n",
      "[6600]\tvalid_0's rmse: 6073.62\n",
      "[6700]\tvalid_0's rmse: 6073.52\n",
      "[6800]\tvalid_0's rmse: 6073.28\n",
      "[6900]\tvalid_0's rmse: 6073.74\n",
      "[7000]\tvalid_0's rmse: 6073.69\n",
      "[7100]\tvalid_0's rmse: 6074.17\n",
      "[7200]\tvalid_0's rmse: 6073.46\n",
      "[7300]\tvalid_0's rmse: 6072.98\n",
      "[7400]\tvalid_0's rmse: 6072.93\n",
      "[7500]\tvalid_0's rmse: 6073.23\n",
      "[7600]\tvalid_0's rmse: 6073.13\n",
      "[7700]\tvalid_0's rmse: 6072.19\n",
      "[7800]\tvalid_0's rmse: 6072.18\n",
      "[7900]\tvalid_0's rmse: 6071.99\n",
      "[8000]\tvalid_0's rmse: 6071.91\n",
      "[8100]\tvalid_0's rmse: 6071.87\n",
      "[8200]\tvalid_0's rmse: 6071.35\n",
      "[8300]\tvalid_0's rmse: 6070.85\n",
      "[8400]\tvalid_0's rmse: 6071\n",
      "[8500]\tvalid_0's rmse: 6071.01\n",
      "[8600]\tvalid_0's rmse: 6071.56\n",
      "[8700]\tvalid_0's rmse: 6071.59\n",
      "Early stopping, best iteration is:\n",
      "[8295]\tvalid_0's rmse: 6070.8\n"
     ]
    },
    {
     "name": "stderr",
     "output_type": "stream",
     "text": [
      "  7%|▋         | 35/499 [00:02<00:30, 15.28it/s]\n"
     ]
    },
    {
     "name": "stdout",
     "output_type": "stream",
     "text": [
      "end of loop\n"
     ]
    },
    {
     "name": "stderr",
     "output_type": "stream",
     "text": [
      "[I 2020-09-29 18:08:33,896] Finished trial#7 with value: 46542.85547828103 with parameters: {'max_depth': 29, 'num_leaves': 38, 'bag_frac': 0.6745643809543624, 'feat_frac': 0.5368446907838239, 'l1': 0.5372415870609178, 'l2': 0.6203154129031031}. Best is trial#2 with value: 45947.5933178221.\n",
      "C:\\Users\\albert\\Anaconda3\\lib\\site-packages\\lightgbm\\basic.py:1291: UserWarning:\n",
      "\n",
      "Using categorical_feature in Dataset.\n",
      "\n"
     ]
    },
    {
     "name": "stdout",
     "output_type": "stream",
     "text": [
      "Training until validation scores don't improve for 500 rounds\n",
      "[100]\tvalid_0's rmse: 10655.3\n",
      "[200]\tvalid_0's rmse: 8593.46\n",
      "[300]\tvalid_0's rmse: 7735.61\n",
      "[400]\tvalid_0's rmse: 7184.29\n",
      "[500]\tvalid_0's rmse: 6976.49\n",
      "[600]\tvalid_0's rmse: 6843.42\n",
      "[700]\tvalid_0's rmse: 6731.3\n",
      "[800]\tvalid_0's rmse: 6667.94\n",
      "[900]\tvalid_0's rmse: 6613.23\n",
      "[1000]\tvalid_0's rmse: 6565.2\n",
      "[1100]\tvalid_0's rmse: 6526.97\n",
      "[1200]\tvalid_0's rmse: 6494.14\n",
      "[1300]\tvalid_0's rmse: 6469.65\n",
      "[1400]\tvalid_0's rmse: 6454.79\n",
      "[1500]\tvalid_0's rmse: 6436.78\n",
      "[1600]\tvalid_0's rmse: 6427.6\n",
      "[1700]\tvalid_0's rmse: 6413.34\n",
      "[1800]\tvalid_0's rmse: 6400.06\n",
      "[1900]\tvalid_0's rmse: 6389.83\n",
      "[2000]\tvalid_0's rmse: 6384.49\n",
      "[2100]\tvalid_0's rmse: 6378.05\n",
      "[2200]\tvalid_0's rmse: 6371.96\n",
      "[2300]\tvalid_0's rmse: 6369.93\n",
      "[2400]\tvalid_0's rmse: 6368.07\n",
      "[2500]\tvalid_0's rmse: 6363.97\n",
      "[2600]\tvalid_0's rmse: 6360.22\n",
      "[2700]\tvalid_0's rmse: 6357.18\n",
      "[2800]\tvalid_0's rmse: 6355.16\n",
      "[2900]\tvalid_0's rmse: 6353.67\n",
      "[3000]\tvalid_0's rmse: 6352.7\n",
      "[3100]\tvalid_0's rmse: 6350.49\n",
      "[3200]\tvalid_0's rmse: 6350.28\n",
      "[3300]\tvalid_0's rmse: 6348.68\n",
      "[3400]\tvalid_0's rmse: 6346.62\n",
      "[3500]\tvalid_0's rmse: 6343.77\n",
      "[3600]\tvalid_0's rmse: 6342.79\n",
      "[3700]\tvalid_0's rmse: 6342.31\n",
      "[3800]\tvalid_0's rmse: 6340.73\n",
      "[3900]\tvalid_0's rmse: 6340.93\n",
      "[4000]\tvalid_0's rmse: 6341.88\n",
      "[4100]\tvalid_0's rmse: 6341.7\n",
      "[4200]\tvalid_0's rmse: 6340.41\n",
      "[4300]\tvalid_0's rmse: 6340.33\n",
      "Early stopping, best iteration is:\n",
      "[3813]\tvalid_0's rmse: 6340.08\n"
     ]
    },
    {
     "name": "stderr",
     "output_type": "stream",
     "text": [
      "  7%|▋         | 35/499 [00:02<00:30, 15.32it/s]\n"
     ]
    },
    {
     "name": "stdout",
     "output_type": "stream",
     "text": [
      "end of loop\n"
     ]
    },
    {
     "name": "stderr",
     "output_type": "stream",
     "text": [
      "[I 2020-09-29 18:22:20,753] Finished trial#8 with value: 47621.90502714941 with parameters: {'max_depth': 22, 'num_leaves': 67, 'bag_frac': 0.5514715379782097, 'feat_frac': 0.5508861701779489, 'l1': 0.14748881588340906, 'l2': 0.6012503786073146}. Best is trial#2 with value: 45947.5933178221.\n",
      "C:\\Users\\albert\\Anaconda3\\lib\\site-packages\\lightgbm\\basic.py:1291: UserWarning:\n",
      "\n",
      "Using categorical_feature in Dataset.\n",
      "\n"
     ]
    },
    {
     "name": "stdout",
     "output_type": "stream",
     "text": [
      "Training until validation scores don't improve for 500 rounds\n",
      "[100]\tvalid_0's rmse: 10537.5\n",
      "[200]\tvalid_0's rmse: 8590.09\n",
      "[300]\tvalid_0's rmse: 7653.94\n",
      "[400]\tvalid_0's rmse: 7170.98\n",
      "[500]\tvalid_0's rmse: 6917.83\n",
      "[600]\tvalid_0's rmse: 6792.12\n",
      "[700]\tvalid_0's rmse: 6728.85\n",
      "[800]\tvalid_0's rmse: 6681.86\n",
      "[900]\tvalid_0's rmse: 6644.65\n",
      "[1000]\tvalid_0's rmse: 6611.09\n",
      "[1100]\tvalid_0's rmse: 6593.74\n",
      "[1200]\tvalid_0's rmse: 6578.63\n",
      "[1300]\tvalid_0's rmse: 6559.57\n",
      "[1400]\tvalid_0's rmse: 6545.27\n",
      "[1500]\tvalid_0's rmse: 6541.09\n",
      "[1600]\tvalid_0's rmse: 6538.49\n",
      "[1700]\tvalid_0's rmse: 6530.68\n",
      "[1800]\tvalid_0's rmse: 6526.92\n",
      "[1900]\tvalid_0's rmse: 6522.85\n",
      "[2000]\tvalid_0's rmse: 6517.38\n",
      "[2100]\tvalid_0's rmse: 6513.12\n",
      "[2200]\tvalid_0's rmse: 6512.01\n",
      "[2300]\tvalid_0's rmse: 6508.06\n",
      "[2400]\tvalid_0's rmse: 6506.18\n",
      "[2500]\tvalid_0's rmse: 6504.48\n",
      "[2600]\tvalid_0's rmse: 6505.04\n",
      "[2700]\tvalid_0's rmse: 6504.27\n",
      "[2800]\tvalid_0's rmse: 6504.53\n",
      "[2900]\tvalid_0's rmse: 6504.04\n",
      "[3000]\tvalid_0's rmse: 6503.02\n",
      "[3100]\tvalid_0's rmse: 6502.95\n",
      "[3200]\tvalid_0's rmse: 6501.85\n",
      "[3300]\tvalid_0's rmse: 6501.4\n",
      "[3400]\tvalid_0's rmse: 6501.31\n",
      "[3500]\tvalid_0's rmse: 6500.59\n",
      "[3600]\tvalid_0's rmse: 6500.56\n",
      "[3700]\tvalid_0's rmse: 6500.03\n",
      "[3800]\tvalid_0's rmse: 6499.61\n",
      "[3900]\tvalid_0's rmse: 6499.56\n",
      "[4000]\tvalid_0's rmse: 6499.6\n",
      "[4100]\tvalid_0's rmse: 6499.84\n",
      "[4200]\tvalid_0's rmse: 6500.06\n",
      "[4300]\tvalid_0's rmse: 6500.31\n",
      "[4400]\tvalid_0's rmse: 6500.09\n",
      "Early stopping, best iteration is:\n",
      "[3960]\tvalid_0's rmse: 6499.19\n"
     ]
    },
    {
     "name": "stderr",
     "output_type": "stream",
     "text": [
      "  7%|▋         | 35/499 [00:02<00:30, 15.10it/s]\n"
     ]
    },
    {
     "name": "stdout",
     "output_type": "stream",
     "text": [
      "end of loop\n"
     ]
    },
    {
     "name": "stderr",
     "output_type": "stream",
     "text": [
      "[I 2020-09-29 18:38:01,225] Finished trial#9 with value: 47246.738634251036 with parameters: {'max_depth': 40, 'num_leaves': 75, 'bag_frac': 0.6600332052220024, 'feat_frac': 0.6850620389032489, 'l1': 0.25226455044140306, 'l2': 0.4337157578315819}. Best is trial#2 with value: 45947.5933178221.\n",
      "C:\\Users\\albert\\Anaconda3\\lib\\site-packages\\lightgbm\\basic.py:1291: UserWarning:\n",
      "\n",
      "Using categorical_feature in Dataset.\n",
      "\n"
     ]
    },
    {
     "name": "stdout",
     "output_type": "stream",
     "text": [
      "Training until validation scores don't improve for 500 rounds\n",
      "[100]\tvalid_0's rmse: 10453.4\n",
      "[200]\tvalid_0's rmse: 8548.5\n",
      "[300]\tvalid_0's rmse: 7642.98\n",
      "[400]\tvalid_0's rmse: 7170.58\n",
      "[500]\tvalid_0's rmse: 6936.97\n",
      "[600]\tvalid_0's rmse: 6797.42\n",
      "[700]\tvalid_0's rmse: 6722.22\n",
      "[800]\tvalid_0's rmse: 6674.73\n",
      "[900]\tvalid_0's rmse: 6642.48\n",
      "[1000]\tvalid_0's rmse: 6618.74\n",
      "[1100]\tvalid_0's rmse: 6598.79\n",
      "[1200]\tvalid_0's rmse: 6598.07\n",
      "[1300]\tvalid_0's rmse: 6591.62\n",
      "[1400]\tvalid_0's rmse: 6586.98\n",
      "[1500]\tvalid_0's rmse: 6580\n",
      "[1600]\tvalid_0's rmse: 6576.22\n",
      "[1700]\tvalid_0's rmse: 6568.63\n",
      "[1800]\tvalid_0's rmse: 6565.15\n",
      "[1900]\tvalid_0's rmse: 6561.39\n",
      "[2000]\tvalid_0's rmse: 6558.37\n",
      "[2100]\tvalid_0's rmse: 6555.78\n",
      "[2200]\tvalid_0's rmse: 6554.5\n",
      "[2300]\tvalid_0's rmse: 6551.53\n",
      "[2400]\tvalid_0's rmse: 6551.53\n",
      "[2500]\tvalid_0's rmse: 6550.27\n",
      "[2600]\tvalid_0's rmse: 6550.88\n",
      "[2700]\tvalid_0's rmse: 6551.01\n",
      "[2800]\tvalid_0's rmse: 6550.29\n",
      "[2900]\tvalid_0's rmse: 6550.3\n",
      "[3000]\tvalid_0's rmse: 6550.07\n",
      "[3100]\tvalid_0's rmse: 6550.04\n",
      "[3200]\tvalid_0's rmse: 6549.47\n",
      "[3300]\tvalid_0's rmse: 6549.13\n",
      "[3400]\tvalid_0's rmse: 6548.65\n",
      "[3500]\tvalid_0's rmse: 6548.44\n",
      "[3600]\tvalid_0's rmse: 6548.05\n",
      "[3700]\tvalid_0's rmse: 6547.83\n",
      "[3800]\tvalid_0's rmse: 6548.14\n",
      "[3900]\tvalid_0's rmse: 6548.15\n",
      "[4000]\tvalid_0's rmse: 6548.82\n",
      "[4100]\tvalid_0's rmse: 6549.24\n",
      "[4200]\tvalid_0's rmse: 6549.28\n",
      "Early stopping, best iteration is:\n",
      "[3719]\tvalid_0's rmse: 6547.62\n"
     ]
    },
    {
     "name": "stderr",
     "output_type": "stream",
     "text": [
      "  7%|▋         | 35/499 [00:02<00:32, 14.13it/s]\n"
     ]
    },
    {
     "name": "stdout",
     "output_type": "stream",
     "text": [
      "end of loop\n"
     ]
    },
    {
     "name": "stderr",
     "output_type": "stream",
     "text": [
      "[I 2020-09-29 19:15:00,495] Finished trial#10 with value: 46352.431798090125 with parameters: {'max_depth': 18, 'num_leaves': 90, 'bag_frac': 0.8925890532453652, 'feat_frac': 0.7615214338421629, 'l1': 0.4024354331297755, 'l2': 0.2265585447016795}. Best is trial#2 with value: 45947.5933178221.\n",
      "C:\\Users\\albert\\Anaconda3\\lib\\site-packages\\lightgbm\\basic.py:1291: UserWarning:\n",
      "\n",
      "Using categorical_feature in Dataset.\n",
      "\n"
     ]
    },
    {
     "name": "stdout",
     "output_type": "stream",
     "text": [
      "Training until validation scores don't improve for 500 rounds\n",
      "[100]\tvalid_0's rmse: 10557.7\n",
      "[200]\tvalid_0's rmse: 8606.18\n",
      "[300]\tvalid_0's rmse: 7650.5\n",
      "[400]\tvalid_0's rmse: 7010.67\n",
      "[500]\tvalid_0's rmse: 6738.76\n",
      "[600]\tvalid_0's rmse: 6644.13\n",
      "[700]\tvalid_0's rmse: 6576.1\n",
      "[800]\tvalid_0's rmse: 6529.89\n",
      "[900]\tvalid_0's rmse: 6483.32\n",
      "[1000]\tvalid_0's rmse: 6448.68\n",
      "[1100]\tvalid_0's rmse: 6413.28\n",
      "[1200]\tvalid_0's rmse: 6391.83\n",
      "[1300]\tvalid_0's rmse: 6373.4\n",
      "[1400]\tvalid_0's rmse: 6363.1\n",
      "[1500]\tvalid_0's rmse: 6348.37\n",
      "[1600]\tvalid_0's rmse: 6343.27\n",
      "[1700]\tvalid_0's rmse: 6336.87\n",
      "[1800]\tvalid_0's rmse: 6332.19\n",
      "[1900]\tvalid_0's rmse: 6323.46\n",
      "[2000]\tvalid_0's rmse: 6321\n",
      "[2100]\tvalid_0's rmse: 6314.47\n",
      "[2200]\tvalid_0's rmse: 6311.33\n",
      "[2300]\tvalid_0's rmse: 6309.72\n",
      "[2400]\tvalid_0's rmse: 6307.64\n",
      "[2500]\tvalid_0's rmse: 6306.56\n",
      "[2600]\tvalid_0's rmse: 6304.66\n",
      "[2700]\tvalid_0's rmse: 6304.56\n",
      "[2800]\tvalid_0's rmse: 6304.22\n",
      "[2900]\tvalid_0's rmse: 6303.96\n",
      "[3000]\tvalid_0's rmse: 6302.61\n",
      "[3100]\tvalid_0's rmse: 6303.69\n",
      "[3200]\tvalid_0's rmse: 6303.25\n",
      "[3300]\tvalid_0's rmse: 6302.87\n",
      "[3400]\tvalid_0's rmse: 6302.43\n",
      "[3500]\tvalid_0's rmse: 6302.93\n",
      "[3600]\tvalid_0's rmse: 6302.03\n",
      "[3700]\tvalid_0's rmse: 6301.7\n",
      "[3800]\tvalid_0's rmse: 6301.95\n",
      "[3900]\tvalid_0's rmse: 6301.8\n",
      "[4000]\tvalid_0's rmse: 6301.81\n",
      "[4100]\tvalid_0's rmse: 6301.99\n",
      "[4200]\tvalid_0's rmse: 6302\n",
      "Early stopping, best iteration is:\n",
      "[3762]\tvalid_0's rmse: 6301.41\n"
     ]
    },
    {
     "name": "stderr",
     "output_type": "stream",
     "text": [
      "  7%|▋         | 35/499 [00:02<00:29, 15.58it/s]\n"
     ]
    },
    {
     "name": "stdout",
     "output_type": "stream",
     "text": [
      "end of loop\n"
     ]
    },
    {
     "name": "stderr",
     "output_type": "stream",
     "text": [
      "[I 2020-09-29 19:28:02,160] Finished trial#11 with value: 46354.76586578369 with parameters: {'max_depth': 46, 'num_leaves': 57, 'bag_frac': 0.8255706520615894, 'feat_frac': 0.8951490345023545, 'l1': 0.7697393258192771, 'l2': 0.26880912047210626}. Best is trial#2 with value: 45947.5933178221.\n",
      "C:\\Users\\albert\\Anaconda3\\lib\\site-packages\\lightgbm\\basic.py:1291: UserWarning:\n",
      "\n",
      "Using categorical_feature in Dataset.\n",
      "\n"
     ]
    },
    {
     "name": "stdout",
     "output_type": "stream",
     "text": [
      "Training until validation scores don't improve for 500 rounds\n",
      "[100]\tvalid_0's rmse: 10484.9\n",
      "[200]\tvalid_0's rmse: 8609.59\n",
      "[300]\tvalid_0's rmse: 7755.04\n",
      "[400]\tvalid_0's rmse: 7220.16\n",
      "[500]\tvalid_0's rmse: 6995.49\n",
      "[600]\tvalid_0's rmse: 6866.92\n",
      "[700]\tvalid_0's rmse: 6815.06\n",
      "[800]\tvalid_0's rmse: 6781.08\n",
      "[900]\tvalid_0's rmse: 6763.78\n",
      "[1000]\tvalid_0's rmse: 6752.71\n",
      "[1100]\tvalid_0's rmse: 6756.14\n",
      "[1200]\tvalid_0's rmse: 6753.51\n"
     ]
    },
    {
     "ename": "KeyboardInterrupt",
     "evalue": "",
     "output_type": "error",
     "traceback": [
      "\u001b[1;31m---------------------------------------------------------------------------\u001b[0m",
      "\u001b[1;31mKeyboardInterrupt\u001b[0m                         Traceback (most recent call last)",
      "\u001b[1;32m<ipython-input-27-cdfce3b40f9c>\u001b[0m in \u001b[0;36m<module>\u001b[1;34m\u001b[0m\n\u001b[0;32m      1\u001b[0m \u001b[1;31m# 100 trials: this can take a while, feel free to interrupt at any time\u001b[0m\u001b[1;33m\u001b[0m\u001b[1;33m\u001b[0m\u001b[1;33m\u001b[0m\u001b[0m\n\u001b[0;32m      2\u001b[0m \u001b[0mstudy\u001b[0m \u001b[1;33m=\u001b[0m \u001b[0moptuna\u001b[0m\u001b[1;33m.\u001b[0m\u001b[0mcreate_study\u001b[0m\u001b[1;33m(\u001b[0m\u001b[1;33m)\u001b[0m\u001b[1;33m\u001b[0m\u001b[1;33m\u001b[0m\u001b[0m\n\u001b[1;32m----> 3\u001b[1;33m \u001b[0mstudy\u001b[0m\u001b[1;33m.\u001b[0m\u001b[0moptimize\u001b[0m\u001b[1;33m(\u001b[0m\u001b[0mobjective\u001b[0m\u001b[1;33m,\u001b[0m \u001b[0mn_trials\u001b[0m\u001b[1;33m=\u001b[0m\u001b[1;36m100\u001b[0m\u001b[1;33m)\u001b[0m\u001b[1;33m\u001b[0m\u001b[1;33m\u001b[0m\u001b[0m\n\u001b[0m",
      "\u001b[1;32m~\\Anaconda3\\lib\\site-packages\\optuna\\study.py\u001b[0m in \u001b[0;36moptimize\u001b[1;34m(self, func, n_trials, timeout, n_jobs, catch, callbacks, gc_after_trial, show_progress_bar)\u001b[0m\n\u001b[0;32m    329\u001b[0m             \u001b[1;32mif\u001b[0m \u001b[0mn_jobs\u001b[0m \u001b[1;33m==\u001b[0m \u001b[1;36m1\u001b[0m\u001b[1;33m:\u001b[0m\u001b[1;33m\u001b[0m\u001b[1;33m\u001b[0m\u001b[0m\n\u001b[0;32m    330\u001b[0m                 self._optimize_sequential(\n\u001b[1;32m--> 331\u001b[1;33m                     \u001b[0mfunc\u001b[0m\u001b[1;33m,\u001b[0m \u001b[0mn_trials\u001b[0m\u001b[1;33m,\u001b[0m \u001b[0mtimeout\u001b[0m\u001b[1;33m,\u001b[0m \u001b[0mcatch\u001b[0m\u001b[1;33m,\u001b[0m \u001b[0mcallbacks\u001b[0m\u001b[1;33m,\u001b[0m \u001b[0mgc_after_trial\u001b[0m\u001b[1;33m,\u001b[0m \u001b[1;32mNone\u001b[0m\u001b[1;33m\u001b[0m\u001b[1;33m\u001b[0m\u001b[0m\n\u001b[0m\u001b[0;32m    332\u001b[0m                 )\n\u001b[0;32m    333\u001b[0m             \u001b[1;32melse\u001b[0m\u001b[1;33m:\u001b[0m\u001b[1;33m\u001b[0m\u001b[1;33m\u001b[0m\u001b[0m\n",
      "\u001b[1;32m~\\Anaconda3\\lib\\site-packages\\optuna\\study.py\u001b[0m in \u001b[0;36m_optimize_sequential\u001b[1;34m(self, func, n_trials, timeout, catch, callbacks, gc_after_trial, time_start)\u001b[0m\n\u001b[0;32m    624\u001b[0m                     \u001b[1;32mbreak\u001b[0m\u001b[1;33m\u001b[0m\u001b[1;33m\u001b[0m\u001b[0m\n\u001b[0;32m    625\u001b[0m \u001b[1;33m\u001b[0m\u001b[0m\n\u001b[1;32m--> 626\u001b[1;33m             \u001b[0mself\u001b[0m\u001b[1;33m.\u001b[0m\u001b[0m_run_trial_and_callbacks\u001b[0m\u001b[1;33m(\u001b[0m\u001b[0mfunc\u001b[0m\u001b[1;33m,\u001b[0m \u001b[0mcatch\u001b[0m\u001b[1;33m,\u001b[0m \u001b[0mcallbacks\u001b[0m\u001b[1;33m,\u001b[0m \u001b[0mgc_after_trial\u001b[0m\u001b[1;33m)\u001b[0m\u001b[1;33m\u001b[0m\u001b[1;33m\u001b[0m\u001b[0m\n\u001b[0m\u001b[0;32m    627\u001b[0m \u001b[1;33m\u001b[0m\u001b[0m\n\u001b[0;32m    628\u001b[0m             \u001b[0mself\u001b[0m\u001b[1;33m.\u001b[0m\u001b[0m_progress_bar\u001b[0m\u001b[1;33m.\u001b[0m\u001b[0mupdate\u001b[0m\u001b[1;33m(\u001b[0m\u001b[1;33m(\u001b[0m\u001b[0mdatetime\u001b[0m\u001b[1;33m.\u001b[0m\u001b[0mdatetime\u001b[0m\u001b[1;33m.\u001b[0m\u001b[0mnow\u001b[0m\u001b[1;33m(\u001b[0m\u001b[1;33m)\u001b[0m \u001b[1;33m-\u001b[0m \u001b[0mtime_start\u001b[0m\u001b[1;33m)\u001b[0m\u001b[1;33m.\u001b[0m\u001b[0mtotal_seconds\u001b[0m\u001b[1;33m(\u001b[0m\u001b[1;33m)\u001b[0m\u001b[1;33m)\u001b[0m\u001b[1;33m\u001b[0m\u001b[1;33m\u001b[0m\u001b[0m\n",
      "\u001b[1;32m~\\Anaconda3\\lib\\site-packages\\optuna\\study.py\u001b[0m in \u001b[0;36m_run_trial_and_callbacks\u001b[1;34m(self, func, catch, callbacks, gc_after_trial)\u001b[0m\n\u001b[0;32m    654\u001b[0m         \u001b[1;31m# type: (...) -> None\u001b[0m\u001b[1;33m\u001b[0m\u001b[1;33m\u001b[0m\u001b[1;33m\u001b[0m\u001b[0m\n\u001b[0;32m    655\u001b[0m \u001b[1;33m\u001b[0m\u001b[0m\n\u001b[1;32m--> 656\u001b[1;33m         \u001b[0mtrial\u001b[0m \u001b[1;33m=\u001b[0m \u001b[0mself\u001b[0m\u001b[1;33m.\u001b[0m\u001b[0m_run_trial\u001b[0m\u001b[1;33m(\u001b[0m\u001b[0mfunc\u001b[0m\u001b[1;33m,\u001b[0m \u001b[0mcatch\u001b[0m\u001b[1;33m,\u001b[0m \u001b[0mgc_after_trial\u001b[0m\u001b[1;33m)\u001b[0m\u001b[1;33m\u001b[0m\u001b[1;33m\u001b[0m\u001b[0m\n\u001b[0m\u001b[0;32m    657\u001b[0m         \u001b[1;32mif\u001b[0m \u001b[0mcallbacks\u001b[0m \u001b[1;32mis\u001b[0m \u001b[1;32mnot\u001b[0m \u001b[1;32mNone\u001b[0m\u001b[1;33m:\u001b[0m\u001b[1;33m\u001b[0m\u001b[1;33m\u001b[0m\u001b[0m\n\u001b[0;32m    658\u001b[0m             \u001b[0mfrozen_trial\u001b[0m \u001b[1;33m=\u001b[0m \u001b[0mself\u001b[0m\u001b[1;33m.\u001b[0m\u001b[0m_storage\u001b[0m\u001b[1;33m.\u001b[0m\u001b[0mget_trial\u001b[0m\u001b[1;33m(\u001b[0m\u001b[0mtrial\u001b[0m\u001b[1;33m.\u001b[0m\u001b[0m_trial_id\u001b[0m\u001b[1;33m)\u001b[0m\u001b[1;33m\u001b[0m\u001b[1;33m\u001b[0m\u001b[0m\n",
      "\u001b[1;32m~\\Anaconda3\\lib\\site-packages\\optuna\\study.py\u001b[0m in \u001b[0;36m_run_trial\u001b[1;34m(self, func, catch, gc_after_trial)\u001b[0m\n\u001b[0;32m    675\u001b[0m \u001b[1;33m\u001b[0m\u001b[0m\n\u001b[0;32m    676\u001b[0m         \u001b[1;32mtry\u001b[0m\u001b[1;33m:\u001b[0m\u001b[1;33m\u001b[0m\u001b[1;33m\u001b[0m\u001b[0m\n\u001b[1;32m--> 677\u001b[1;33m             \u001b[0mresult\u001b[0m \u001b[1;33m=\u001b[0m \u001b[0mfunc\u001b[0m\u001b[1;33m(\u001b[0m\u001b[0mtrial\u001b[0m\u001b[1;33m)\u001b[0m\u001b[1;33m\u001b[0m\u001b[1;33m\u001b[0m\u001b[0m\n\u001b[0m\u001b[0;32m    678\u001b[0m         \u001b[1;32mexcept\u001b[0m \u001b[0mexceptions\u001b[0m\u001b[1;33m.\u001b[0m\u001b[0mTrialPruned\u001b[0m \u001b[1;32mas\u001b[0m \u001b[0me\u001b[0m\u001b[1;33m:\u001b[0m\u001b[1;33m\u001b[0m\u001b[1;33m\u001b[0m\u001b[0m\n\u001b[0;32m    679\u001b[0m             message = \"Setting status of trial#{} as {}. {}\".format(\n",
      "\u001b[1;32m<ipython-input-26-18cd6b864fc5>\u001b[0m in \u001b[0;36mobjective\u001b[1;34m(trial)\u001b[0m\n\u001b[0;32m     18\u001b[0m \u001b[1;33m\u001b[0m\u001b[0m\n\u001b[0;32m     19\u001b[0m \u001b[1;33m\u001b[0m\u001b[0m\n\u001b[1;32m---> 20\u001b[1;33m     \u001b[0mm_lgb\u001b[0m \u001b[1;33m=\u001b[0m \u001b[0mlgb\u001b[0m\u001b[1;33m.\u001b[0m\u001b[0mtrain\u001b[0m\u001b[1;33m(\u001b[0m\u001b[0mparams\u001b[0m\u001b[1;33m,\u001b[0m \u001b[0mtrain_data\u001b[0m\u001b[1;33m,\u001b[0m\u001b[0mnum_boost_round\u001b[0m\u001b[1;33m=\u001b[0m\u001b[1;36m20000\u001b[0m\u001b[1;33m,\u001b[0m \u001b[0mvalid_sets\u001b[0m \u001b[1;33m=\u001b[0m \u001b[0my_valid_data\u001b[0m\u001b[1;33m,\u001b[0m \u001b[0mverbose_eval\u001b[0m\u001b[1;33m=\u001b[0m\u001b[1;36m100\u001b[0m\u001b[1;33m,\u001b[0m \u001b[0mearly_stopping_rounds\u001b[0m\u001b[1;33m=\u001b[0m\u001b[1;36m500\u001b[0m\u001b[1;33m)\u001b[0m\u001b[1;33m\u001b[0m\u001b[1;33m\u001b[0m\u001b[0m\n\u001b[0m\u001b[0;32m     21\u001b[0m \u001b[1;33m\u001b[0m\u001b[0m\n\u001b[0;32m     22\u001b[0m     \u001b[0mtrain_roll\u001b[0m \u001b[1;33m=\u001b[0m \u001b[0mtrain_set\u001b[0m\u001b[1;33m.\u001b[0m\u001b[0mcopy\u001b[0m\u001b[1;33m(\u001b[0m\u001b[0mdeep\u001b[0m\u001b[1;33m=\u001b[0m\u001b[1;32mTrue\u001b[0m\u001b[1;33m)\u001b[0m\u001b[1;33m\u001b[0m\u001b[1;33m\u001b[0m\u001b[0m\n",
      "\u001b[1;32m~\\Anaconda3\\lib\\site-packages\\lightgbm\\engine.py\u001b[0m in \u001b[0;36mtrain\u001b[1;34m(params, train_set, num_boost_round, valid_sets, valid_names, fobj, feval, init_model, feature_name, categorical_feature, early_stopping_rounds, evals_result, verbose_eval, learning_rates, keep_training_booster, callbacks)\u001b[0m\n\u001b[0;32m    254\u001b[0m             \u001b[1;32mif\u001b[0m \u001b[0mis_valid_contain_train\u001b[0m\u001b[1;33m:\u001b[0m\u001b[1;33m\u001b[0m\u001b[1;33m\u001b[0m\u001b[0m\n\u001b[0;32m    255\u001b[0m                 \u001b[0mevaluation_result_list\u001b[0m\u001b[1;33m.\u001b[0m\u001b[0mextend\u001b[0m\u001b[1;33m(\u001b[0m\u001b[0mbooster\u001b[0m\u001b[1;33m.\u001b[0m\u001b[0meval_train\u001b[0m\u001b[1;33m(\u001b[0m\u001b[0mfeval\u001b[0m\u001b[1;33m)\u001b[0m\u001b[1;33m)\u001b[0m\u001b[1;33m\u001b[0m\u001b[1;33m\u001b[0m\u001b[0m\n\u001b[1;32m--> 256\u001b[1;33m             \u001b[0mevaluation_result_list\u001b[0m\u001b[1;33m.\u001b[0m\u001b[0mextend\u001b[0m\u001b[1;33m(\u001b[0m\u001b[0mbooster\u001b[0m\u001b[1;33m.\u001b[0m\u001b[0meval_valid\u001b[0m\u001b[1;33m(\u001b[0m\u001b[0mfeval\u001b[0m\u001b[1;33m)\u001b[0m\u001b[1;33m)\u001b[0m\u001b[1;33m\u001b[0m\u001b[1;33m\u001b[0m\u001b[0m\n\u001b[0m\u001b[0;32m    257\u001b[0m         \u001b[1;32mtry\u001b[0m\u001b[1;33m:\u001b[0m\u001b[1;33m\u001b[0m\u001b[1;33m\u001b[0m\u001b[0m\n\u001b[0;32m    258\u001b[0m             \u001b[1;32mfor\u001b[0m \u001b[0mcb\u001b[0m \u001b[1;32min\u001b[0m \u001b[0mcallbacks_after_iter\u001b[0m\u001b[1;33m:\u001b[0m\u001b[1;33m\u001b[0m\u001b[1;33m\u001b[0m\u001b[0m\n",
      "\u001b[1;32m~\\Anaconda3\\lib\\site-packages\\lightgbm\\basic.py\u001b[0m in \u001b[0;36meval_valid\u001b[1;34m(self, feval)\u001b[0m\n\u001b[0;32m   2185\u001b[0m             \u001b[0mList\u001b[0m \u001b[1;32mwith\u001b[0m \u001b[0mevaluation\u001b[0m \u001b[0mresults\u001b[0m\u001b[1;33m.\u001b[0m\u001b[1;33m\u001b[0m\u001b[1;33m\u001b[0m\u001b[0m\n\u001b[0;32m   2186\u001b[0m         \"\"\"\n\u001b[1;32m-> 2187\u001b[1;33m         return [item for i in range_(1, self.__num_dataset)\n\u001b[0m\u001b[0;32m   2188\u001b[0m                 for item in self.__inner_eval(self.name_valid_sets[i - 1], i, feval)]\n\u001b[0;32m   2189\u001b[0m \u001b[1;33m\u001b[0m\u001b[0m\n",
      "\u001b[1;32m~\\Anaconda3\\lib\\site-packages\\lightgbm\\basic.py\u001b[0m in \u001b[0;36m<listcomp>\u001b[1;34m(.0)\u001b[0m\n\u001b[0;32m   2186\u001b[0m         \"\"\"\n\u001b[0;32m   2187\u001b[0m         return [item for i in range_(1, self.__num_dataset)\n\u001b[1;32m-> 2188\u001b[1;33m                 for item in self.__inner_eval(self.name_valid_sets[i - 1], i, feval)]\n\u001b[0m\u001b[0;32m   2189\u001b[0m \u001b[1;33m\u001b[0m\u001b[0m\n\u001b[0;32m   2190\u001b[0m     \u001b[1;32mdef\u001b[0m \u001b[0msave_model\u001b[0m\u001b[1;33m(\u001b[0m\u001b[0mself\u001b[0m\u001b[1;33m,\u001b[0m \u001b[0mfilename\u001b[0m\u001b[1;33m,\u001b[0m \u001b[0mnum_iteration\u001b[0m\u001b[1;33m=\u001b[0m\u001b[1;32mNone\u001b[0m\u001b[1;33m,\u001b[0m \u001b[0mstart_iteration\u001b[0m\u001b[1;33m=\u001b[0m\u001b[1;36m0\u001b[0m\u001b[1;33m)\u001b[0m\u001b[1;33m:\u001b[0m\u001b[1;33m\u001b[0m\u001b[1;33m\u001b[0m\u001b[0m\n",
      "\u001b[1;32m~\\Anaconda3\\lib\\site-packages\\lightgbm\\basic.py\u001b[0m in \u001b[0;36m__inner_eval\u001b[1;34m(self, data_name, data_idx, feval)\u001b[0m\n\u001b[0;32m   2645\u001b[0m                 \u001b[0mctypes\u001b[0m\u001b[1;33m.\u001b[0m\u001b[0mc_int\u001b[0m\u001b[1;33m(\u001b[0m\u001b[0mdata_idx\u001b[0m\u001b[1;33m)\u001b[0m\u001b[1;33m,\u001b[0m\u001b[1;33m\u001b[0m\u001b[1;33m\u001b[0m\u001b[0m\n\u001b[0;32m   2646\u001b[0m                 \u001b[0mctypes\u001b[0m\u001b[1;33m.\u001b[0m\u001b[0mbyref\u001b[0m\u001b[1;33m(\u001b[0m\u001b[0mtmp_out_len\u001b[0m\u001b[1;33m)\u001b[0m\u001b[1;33m,\u001b[0m\u001b[1;33m\u001b[0m\u001b[1;33m\u001b[0m\u001b[0m\n\u001b[1;32m-> 2647\u001b[1;33m                 result.ctypes.data_as(ctypes.POINTER(ctypes.c_double))))\n\u001b[0m\u001b[0;32m   2648\u001b[0m             \u001b[1;32mif\u001b[0m \u001b[0mtmp_out_len\u001b[0m\u001b[1;33m.\u001b[0m\u001b[0mvalue\u001b[0m \u001b[1;33m!=\u001b[0m \u001b[0mself\u001b[0m\u001b[1;33m.\u001b[0m\u001b[0m__num_inner_eval\u001b[0m\u001b[1;33m:\u001b[0m\u001b[1;33m\u001b[0m\u001b[1;33m\u001b[0m\u001b[0m\n\u001b[0;32m   2649\u001b[0m                 \u001b[1;32mraise\u001b[0m \u001b[0mValueError\u001b[0m\u001b[1;33m(\u001b[0m\u001b[1;34m\"Wrong length of eval results\"\u001b[0m\u001b[1;33m)\u001b[0m\u001b[1;33m\u001b[0m\u001b[1;33m\u001b[0m\u001b[0m\n",
      "\u001b[1;31mKeyboardInterrupt\u001b[0m: "
     ]
    }
   ],
   "source": [
    "# 100 trials: this can take a while, feel free to interrupt at any time\n",
    "study = optuna.create_study()\n",
    "study.optimize(objective, n_trials=100)"
   ]
  },
  {
   "cell_type": "code",
   "execution_count": 43,
   "metadata": {},
   "outputs": [],
   "source": [
    "params = {\n",
    "    'objective': 'poisson',\n",
    "    'boosting': 'gbdt',\n",
    "    'max_depth': 38,\n",
    "    'num_leaves': 83,\n",
    "    'metric' :'rmse',\n",
    "    'learning_rate' : 0.05,\n",
    "\n",
    "    'bagging_fraction' : 0.5163386620025411,\n",
    "    'feature_fraction': 0.8282029364551513,\n",
    "    'lambda_l1' : 0.32608335857159515,\n",
    "    'lambda_l2' : 0.47993551029860304,\n",
    "    'verbosity': 1\n",
    "\n",
    "}\n",
    "# params taken from optuna\n",
    "# {'max_depth': 38, 'num_leaves': 83, 'bag_frac': 0.5163386620025411, 'feat_frac': 0.8282029364551513, 'l1': 0.32608335857159515, 'l2': 0.47993551029860304}"
   ]
  },
  {
   "cell_type": "code",
   "execution_count": 44,
   "metadata": {},
   "outputs": [
    {
     "name": "stderr",
     "output_type": "stream",
     "text": [
      "C:\\Users\\albert\\Anaconda3\\lib\\site-packages\\lightgbm\\basic.py:1291: UserWarning:\n",
      "\n",
      "Using categorical_feature in Dataset.\n",
      "\n"
     ]
    },
    {
     "name": "stdout",
     "output_type": "stream",
     "text": [
      "Training until validation scores don't improve for 500 rounds\n",
      "[100]\tvalid_0's rmse: 10553.7\n",
      "[200]\tvalid_0's rmse: 8615.48\n",
      "[300]\tvalid_0's rmse: 7708.89\n",
      "[400]\tvalid_0's rmse: 7222.14\n",
      "[500]\tvalid_0's rmse: 7002.11\n",
      "[600]\tvalid_0's rmse: 6886.82\n",
      "[700]\tvalid_0's rmse: 6820\n",
      "[800]\tvalid_0's rmse: 6782.45\n",
      "[900]\tvalid_0's rmse: 6757.08\n",
      "[1000]\tvalid_0's rmse: 6718.79\n",
      "[1100]\tvalid_0's rmse: 6701.09\n",
      "[1200]\tvalid_0's rmse: 6686.42\n",
      "[1300]\tvalid_0's rmse: 6677.65\n",
      "[1400]\tvalid_0's rmse: 6676.29\n",
      "[1500]\tvalid_0's rmse: 6675.4\n",
      "[1600]\tvalid_0's rmse: 6672.27\n",
      "[1700]\tvalid_0's rmse: 6667.06\n",
      "[1800]\tvalid_0's rmse: 6664.68\n",
      "[1900]\tvalid_0's rmse: 6664.75\n",
      "[2000]\tvalid_0's rmse: 6662.29\n",
      "[2100]\tvalid_0's rmse: 6660.42\n",
      "[2200]\tvalid_0's rmse: 6660.02\n",
      "[2300]\tvalid_0's rmse: 6661.52\n",
      "[2400]\tvalid_0's rmse: 6660.73\n",
      "[2500]\tvalid_0's rmse: 6660.89\n",
      "[2600]\tvalid_0's rmse: 6660.2\n",
      "[2700]\tvalid_0's rmse: 6660.23\n",
      "Early stopping, best iteration is:\n",
      "[2228]\tvalid_0's rmse: 6659.55\n"
     ]
    }
   ],
   "source": [
    "m_lgb = lgb.train(params, train_data,num_boost_round=20000, valid_sets = y_valid_data, verbose_eval=100, early_stopping_rounds=500)"
   ]
  },
  {
   "cell_type": "code",
   "execution_count": 45,
   "metadata": {},
   "outputs": [
    {
     "data": {
      "text/plain": [
       "<matplotlib.axes._subplots.AxesSubplot at 0x523b9c8>"
      ]
     },
     "execution_count": 45,
     "metadata": {},
     "output_type": "execute_result"
    },
    {
     "data": {
      "image/png": "[encoded data removed]",
      "text/plain": [
       "<Figure size 432x288 with 1 Axes>"
      ]
     },
     "metadata": {
      "needs_background": "light"
     },
     "output_type": "display_data"
    }
   ],
   "source": [
    "lgb.plot_importance(m_lgb)"
   ]
  },
  {
   "cell_type": "code",
   "execution_count": 46,
   "metadata": {},
   "outputs": [
    {
     "name": "stderr",
     "output_type": "stream",
     "text": [
      "  7%|▋         | 35/499 [00:02<00:28, 16.21it/s]\n"
     ]
    },
    {
     "name": "stdout",
     "output_type": "stream",
     "text": [
      "end of loop\n"
     ]
    }
   ],
   "source": [
    "train_roll = train_set.copy(deep=True)\n",
    "try:\n",
    "    for i in tqdm(range(1,500)):\n",
    "        _to_pred = pred_set.loc[pred_set['datetime'] == (datetime.datetime(2020, 8, 22) + datetime.timedelta(days= i))].copy()\n",
    "        _first_concat = pd.concat([train_roll, _to_pred])\n",
    "        _first_concat.reset_index(inplace=True, drop=True)\n",
    "        _first_concat = date_lags(_first_concat)\n",
    "        _to_pred = _first_concat.loc[_first_concat['datetime'] == (datetime.datetime(2020, 8, 22) + datetime.timedelta(days= i))].copy()\n",
    "        _to_pred_feats = _to_pred[train_cols]\n",
    "        first_pred = m_lgb.predict(_to_pred_feats)\n",
    "        _to_pred['value'] = first_pred\n",
    "        train_roll = pd.concat([train_roll, _to_pred])\n",
    "except:\n",
    "    print('end of loop')"
   ]
  },
  {
   "cell_type": "code",
   "execution_count": 47,
   "metadata": {},
   "outputs": [],
   "source": [
    "_lgbm_pred = train_roll.loc[train_roll['datetime'].isin(pd.date_range('2020-08-23', '2020-09-26'))][['datetime', 'plaza_id', 'value']]\n",
    "# _lgbm_pred\n",
    "_lgbm_pred['plaza_id'] = le.inverse_transform(_lgbm_pred['plaza_id'])\n",
    "_lgbm_pivot_pred = _lgbm_pred.pivot(index='datetime', columns='plaza_id', values='value')\n",
    "test_set_pivot = test_set.pivot(index='datetime', columns = 'plaza_id', values='value')\n",
    "test_set_pivot.columns = bridges"
   ]
  },
  {
   "cell_type": "code",
   "execution_count": 48,
   "metadata": {},
   "outputs": [
    {
     "data": {
      "text/plain": [
       "bridges         Brooklyn BatteryCross BayHenry HudsonMarine Pa...\n",
       "dummy_MA7                                                 68952.7\n",
       "SARIMAX                                                   43468.5\n",
       "FB_prophet_1                                              47697.9\n",
       "LGBM                                                      44943.7\n",
       "dtype: object"
      ]
     },
     "metadata": {},
     "output_type": "display_data"
    },
    {
     "data": {
      "text/html": [
       "<div>\n",
       "<style scoped>\n",
       "    .dataframe tbody tr th:only-of-type {\n",
       "        vertical-align: middle;\n",
       "    }\n",
       "\n",
       "    .dataframe tbody tr th {\n",
       "        vertical-align: top;\n",
       "    }\n",
       "\n",
       "    .dataframe thead th {\n",
       "        text-align: right;\n",
       "    }\n",
       "</style>\n",
       "<table border=\"1\" class=\"dataframe\">\n",
       "  <thead>\n",
       "    <tr style=\"text-align: right;\">\n",
       "      <th></th>\n",
       "      <th>bridges</th>\n",
       "      <th>dummy_MA7</th>\n",
       "      <th>SARIMAX</th>\n",
       "      <th>FB_prophet_1</th>\n",
       "      <th>LGBM</th>\n",
       "    </tr>\n",
       "  </thead>\n",
       "  <tbody>\n",
       "    <tr>\n",
       "      <th>0</th>\n",
       "      <td>Brooklyn Battery</td>\n",
       "      <td>9689.766880</td>\n",
       "      <td>3800.422075</td>\n",
       "      <td>4146.735600</td>\n",
       "      <td>3909.244097</td>\n",
       "    </tr>\n",
       "    <tr>\n",
       "      <th>1</th>\n",
       "      <td>Cross Bay</td>\n",
       "      <td>3058.987092</td>\n",
       "      <td>3038.366098</td>\n",
       "      <td>2881.517478</td>\n",
       "      <td>3008.644669</td>\n",
       "    </tr>\n",
       "    <tr>\n",
       "      <th>2</th>\n",
       "      <td>Henry Hudson</td>\n",
       "      <td>7491.891404</td>\n",
       "      <td>4013.042613</td>\n",
       "      <td>3873.400612</td>\n",
       "      <td>3942.044990</td>\n",
       "    </tr>\n",
       "    <tr>\n",
       "      <th>3</th>\n",
       "      <td>Marine Parkway</td>\n",
       "      <td>4298.716057</td>\n",
       "      <td>4266.804149</td>\n",
       "      <td>4428.792730</td>\n",
       "      <td>3942.005070</td>\n",
       "    </tr>\n",
       "    <tr>\n",
       "      <th>4</th>\n",
       "      <td>Queens Midtown</td>\n",
       "      <td>9678.803759</td>\n",
       "      <td>3593.463138</td>\n",
       "      <td>9071.725197</td>\n",
       "      <td>4129.801764</td>\n",
       "    </tr>\n",
       "    <tr>\n",
       "      <th>5</th>\n",
       "      <td>Throgs Neck</td>\n",
       "      <td>7107.930655</td>\n",
       "      <td>7021.236084</td>\n",
       "      <td>5813.764461</td>\n",
       "      <td>7693.743703</td>\n",
       "    </tr>\n",
       "    <tr>\n",
       "      <th>6</th>\n",
       "      <td>Triboro</td>\n",
       "      <td>12989.973539</td>\n",
       "      <td>8760.379990</td>\n",
       "      <td>7645.789449</td>\n",
       "      <td>7657.774863</td>\n",
       "    </tr>\n",
       "    <tr>\n",
       "      <th>7</th>\n",
       "      <td>Verrazano</td>\n",
       "      <td>6814.856433</td>\n",
       "      <td>3236.013288</td>\n",
       "      <td>3338.660881</td>\n",
       "      <td>4430.386676</td>\n",
       "    </tr>\n",
       "    <tr>\n",
       "      <th>8</th>\n",
       "      <td>Whitestone</td>\n",
       "      <td>7821.773825</td>\n",
       "      <td>5738.769982</td>\n",
       "      <td>6497.563062</td>\n",
       "      <td>6230.082334</td>\n",
       "    </tr>\n",
       "  </tbody>\n",
       "</table>\n",
       "</div>"
      ],
      "text/plain": [
       "            bridges     dummy_MA7      SARIMAX  FB_prophet_1         LGBM\n",
       "0  Brooklyn Battery   9689.766880  3800.422075   4146.735600  3909.244097\n",
       "1         Cross Bay   3058.987092  3038.366098   2881.517478  3008.644669\n",
       "2      Henry Hudson   7491.891404  4013.042613   3873.400612  3942.044990\n",
       "3    Marine Parkway   4298.716057  4266.804149   4428.792730  3942.005070\n",
       "4    Queens Midtown   9678.803759  3593.463138   9071.725197  4129.801764\n",
       "5       Throgs Neck   7107.930655  7021.236084   5813.764461  7693.743703\n",
       "6           Triboro  12989.973539  8760.379990   7645.789449  7657.774863\n",
       "7         Verrazano   6814.856433  3236.013288   3338.660881  4430.386676\n",
       "8        Whitestone   7821.773825  5738.769982   6497.563062  6230.082334"
      ]
     },
     "execution_count": 48,
     "metadata": {},
     "output_type": "execute_result"
    }
   ],
   "source": [
    "_lgbm_rmse = []\n",
    "for i in bridges:\n",
    "    _lgbm_rmse.append(np.sqrt(mean_squared_error(test_set_pivot[i], _lgbm_pivot_pred[i])))\n",
    "_results_df['LGBM'] = _lgbm_rmse\n",
    "display(_results_df.sum(axis=0))\n",
    "_results_df"
   ]
  },
  {
   "cell_type": "code",
   "execution_count": 49,
   "metadata": {},
   "outputs": [
    {
     "data": {
      "text/plain": [
       "bridges         Brooklyn BatteryCross BayHenry HudsonMarine Pa...\n",
       "dummy_MA7                                                 68952.7\n",
       "SARIMAX                                                   43468.5\n",
       "FB_prophet_1                                              47697.9\n",
       "LGBM                                                      44943.7\n",
       "dtype: object"
      ]
     },
     "execution_count": 49,
     "metadata": {},
     "output_type": "execute_result"
    }
   ],
   "source": [
    "_results_df.sum(axis=0)"
   ]
  },
  {
   "cell_type": "markdown",
   "metadata": {},
   "source": [
    "# Best Model Forward: LGBM\n",
    "LGBM performed the best out of the three. On the next notebook, I will refit the model off the entire dataset and predict up to March-31-2021. <br>\n",
    "In addition, I'll change some of the phases on January-1-2021:\n",
    "1. Phase -1: Coronavirus is over, return back to normal\n",
    "2. Phase 4: Continue with Phase 4\n",
    "3. Phase 1: Lockdown and reopen on February-01-2021"
   ]
  },
  {
   "cell_type": "code",
   "execution_count": null,
   "metadata": {},
   "outputs": [],
   "source": []
  }
 ],
 "metadata": {
  "kernelspec": {
   "display_name": "Python 3",
   "language": "python",
   "name": "python3"
  },
  "language_info": {
   "codemirror_mode": {
    "name": "ipython",
    "version": 3
   },
   "file_extension": ".py",
   "mimetype": "text/x-python",
   "name": "python",
   "nbconvert_exporter": "python",
   "pygments_lexer": "ipython3",
   "version": "3.7.4"
  }
 },
 "nbformat": 4,
 "nbformat_minor": 4
}
